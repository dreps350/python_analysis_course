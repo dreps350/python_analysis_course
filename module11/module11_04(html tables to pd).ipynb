{
 "cells": [
  {
   "cell_type": "markdown",
   "metadata": {},
   "source": [
    "# ПОСТАНОВКА ЗАДАЧИ\n",
    "При работе с web-страницами было бы здорово получать содержимое их таблиц в виде датафрейма. Рассмотрим страницу Центрального банка РФ. Поскольку она может со временем измениться, то мы будем брать ее HTML-код из файла cbr.html. Тогда вы точно сможете повторить все действия данного блока.\n",
    "\n",
    "Наша задача будет состоять в том, чтобы получить одну из таблиц виджетов в виде датафрейма. Например, таблицу цен на драгоценные металлы.\n",
    "<img src=\"./module11_files/m8_step13.png\" alt=\"альтернативный текст\">"
   ]
  },
  {
   "cell_type": "markdown",
   "metadata": {},
   "source": [
    "# ПРОСТОЙ ВАРИАНТ РЕШЕНИЯ\n",
    "Метод read_html умеет автоматически находить на HTML-странице таблицы и возвращать их списком из датафреймов:"
   ]
  },
  {
   "cell_type": "code",
   "execution_count": 2,
   "metadata": {},
   "outputs": [],
   "source": [
    "from bs4 import BeautifulSoup\n",
    "import requests\n",
    "import pandas as pd\n",
    "\n",
    "url = 'http://www.cbr.ru'\n",
    "\n",
    "r = requests.get(url)"
   ]
  },
  {
   "cell_type": "markdown",
   "metadata": {},
   "source": [
    "Таблица драгоценных металлов оказалась четвертой по счету:"
   ]
  },
  {
   "cell_type": "code",
   "execution_count": 4,
   "metadata": {},
   "outputs": [
    {
     "data": {
      "text/html": [
       "<div>\n",
       "<style scoped>\n",
       "    .dataframe tbody tr th:only-of-type {\n",
       "        vertical-align: middle;\n",
       "    }\n",
       "\n",
       "    .dataframe tbody tr th {\n",
       "        vertical-align: top;\n",
       "    }\n",
       "\n",
       "    .dataframe thead th {\n",
       "        text-align: right;\n",
       "    }\n",
       "</style>\n",
       "<table border=\"1\" class=\"dataframe\">\n",
       "  <thead>\n",
       "    <tr style=\"text-align: right;\">\n",
       "      <th></th>\n",
       "      <th>0</th>\n",
       "      <th>1</th>\n",
       "    </tr>\n",
       "  </thead>\n",
       "  <tbody>\n",
       "    <tr>\n",
       "      <th>0</th>\n",
       "      <td>рублей за грамм</td>\n",
       "      <td>07.12.2018</td>\n",
       "    </tr>\n",
       "    <tr>\n",
       "      <th>1</th>\n",
       "      <td>Золото Au</td>\n",
       "      <td>↓2 653,01</td>\n",
       "    </tr>\n",
       "    <tr>\n",
       "      <th>2</th>\n",
       "      <td>Серебро Ag</td>\n",
       "      <td>↓31,07</td>\n",
       "    </tr>\n",
       "    <tr>\n",
       "      <th>3</th>\n",
       "      <td>Платина Pt</td>\n",
       "      <td>↓1 697,22</td>\n",
       "    </tr>\n",
       "    <tr>\n",
       "      <th>4</th>\n",
       "      <td>Палладий Pd</td>\n",
       "      <td>↓2 619,86</td>\n",
       "    </tr>\n",
       "  </tbody>\n",
       "</table>\n",
       "</div>"
      ],
      "text/plain": [
       "                 0           1\n",
       "0  рублей за грамм  07.12.2018\n",
       "1        Золото Au   ↓2 653,01\n",
       "2       Серебро Ag      ↓31,07\n",
       "3       Платина Pt   ↓1 697,22\n",
       "4      Палладий Pd   ↓2 619,86"
      ]
     },
     "execution_count": 4,
     "metadata": {},
     "output_type": "execute_result"
    }
   ],
   "source": [
    "pd.read_html(url)[3]"
   ]
  },
  {
   "cell_type": "markdown",
   "metadata": {},
   "source": [
    "Если этого не происходит или вы не уверены в том, что порядок таблице на странице неизменен, то можно вручную найти нужную таблицу на странице. Этому случаю посвящены следующие шаги."
   ]
  },
  {
   "cell_type": "markdown",
   "metadata": {},
   "source": [
    "# ПОЛУЧАЕМ КОД СТРАНИЦЫ\n",
    "Импортируем необходимые для этой задачи библиотеки:"
   ]
  },
  {
   "cell_type": "code",
   "execution_count": 7,
   "metadata": {},
   "outputs": [],
   "source": [
    "soup = BeautifulSoup(r.text, 'html.parser')"
   ]
  },
  {
   "cell_type": "markdown",
   "metadata": {},
   "source": [
    "# ИЩЕМ ВИДЖЕТ НА СТРАНИЦЕ\n",
    "Как и раньше нажимаем 'Исследовать элемент' в меню браузера на виджете с драгоценными металлами:\n",
    "<img src=\"./module11_files/m8_step14.png\" alt=\"альтернативный текст\">\n",
    "В сохраненной версии страницы виджету соответствует следующий код:\n",
    "<img src=\"./module11_files/m8_step15.png\" alt=\"альтернативный текст\">\n"
   ]
  },
  {
   "cell_type": "markdown",
   "metadata": {},
   "source": [
    "Нам необходимо добраться до кода таблицы, который начинается с тэга <table\\>. Таблиц на странице много, поэтому детально указываем путь к таблице виджета драгоценных металлов:"
   ]
  },
  {
   "cell_type": "code",
   "execution_count": 8,
   "metadata": {},
   "outputs": [],
   "source": [
    "data = (soup.find(class_='widget type_table name_metal opened')\n",
    "            .find(class_='content')\n",
    "            .find('table'))"
   ]
  },
  {
   "cell_type": "markdown",
   "metadata": {},
   "source": [
    "# ПЕРЕВОДИМ ТАБЛИЦУ В ДАТАФРЕЙМ\n",
    "Сейчас наша таблица записана в HTML-коде:"
   ]
  },
  {
   "cell_type": "code",
   "execution_count": 11,
   "metadata": {},
   "outputs": [
    {
     "data": {
      "text/plain": [
       "<table>\n",
       "<tbody>\n",
       "<tr>\n",
       "<th class=\"title\">рублей за грамм</th>\n",
       "<th>07.12.2018</th>\n",
       "</tr>\n",
       "<tr>\n",
       "<td class=\"title\">\n",
       "                      Золото <ins>Au</ins>\n",
       "</td>\n",
       "<td>\n",
       "<div class=\"w_data_wrap\"><i class=\"down\" title=\"- 2,7900\">↓</i><span class=\"nowrap\">2 653,01</span></div>\n",
       "</td>\n",
       "</tr>\n",
       "<tr>\n",
       "<td class=\"title\">\n",
       "                      Серебро <ins>Ag</ins>\n",
       "</td>\n",
       "<td>\n",
       "<div class=\"w_data_wrap\"><i class=\"down\" title=\"- 0,1800\">↓</i><span class=\"nowrap\">31,07</span></div>\n",
       "</td>\n",
       "</tr>\n",
       "<tr>\n",
       "<td class=\"title\">\n",
       "                      Платина <ins>Pt</ins>\n",
       "</td>\n",
       "<td>\n",
       "<div class=\"w_data_wrap\"><i class=\"down\" title=\"- 15,0900\">↓</i><span class=\"nowrap\">1 697,22</span></div>\n",
       "</td>\n",
       "</tr>\n",
       "<tr>\n",
       "<td class=\"title\">\n",
       "                      Палладий <ins>Pd</ins>\n",
       "</td>\n",
       "<td>\n",
       "<div class=\"w_data_wrap\"><i class=\"down\" title=\"- 63,5500\">↓</i><span class=\"nowrap\">2 619,86</span></div>\n",
       "</td>\n",
       "</tr>\n",
       "</tbody>\n",
       "</table>"
      ]
     },
     "execution_count": 11,
     "metadata": {},
     "output_type": "execute_result"
    }
   ],
   "source": [
    "data"
   ]
  },
  {
   "cell_type": "markdown",
   "metadata": {},
   "source": [
    "Для перевода ее в датафрейм используем метод read_html. Метод возвращает список датафреймов. В нашем случае датафрейм будет только один, поэтому сразу берем первый элемент:"
   ]
  },
  {
   "cell_type": "code",
   "execution_count": 12,
   "metadata": {},
   "outputs": [
    {
     "data": {
      "text/html": [
       "<div>\n",
       "<style scoped>\n",
       "    .dataframe tbody tr th:only-of-type {\n",
       "        vertical-align: middle;\n",
       "    }\n",
       "\n",
       "    .dataframe tbody tr th {\n",
       "        vertical-align: top;\n",
       "    }\n",
       "\n",
       "    .dataframe thead th {\n",
       "        text-align: right;\n",
       "    }\n",
       "</style>\n",
       "<table border=\"1\" class=\"dataframe\">\n",
       "  <thead>\n",
       "    <tr style=\"text-align: right;\">\n",
       "      <th></th>\n",
       "      <th>0</th>\n",
       "      <th>1</th>\n",
       "    </tr>\n",
       "  </thead>\n",
       "  <tbody>\n",
       "    <tr>\n",
       "      <th>0</th>\n",
       "      <td>рублей за грамм</td>\n",
       "      <td>07.12.2018</td>\n",
       "    </tr>\n",
       "    <tr>\n",
       "      <th>1</th>\n",
       "      <td>Золото Au</td>\n",
       "      <td>↓2 653,01</td>\n",
       "    </tr>\n",
       "    <tr>\n",
       "      <th>2</th>\n",
       "      <td>Серебро Ag</td>\n",
       "      <td>↓31,07</td>\n",
       "    </tr>\n",
       "    <tr>\n",
       "      <th>3</th>\n",
       "      <td>Платина Pt</td>\n",
       "      <td>↓1 697,22</td>\n",
       "    </tr>\n",
       "    <tr>\n",
       "      <th>4</th>\n",
       "      <td>Палладий Pd</td>\n",
       "      <td>↓2 619,86</td>\n",
       "    </tr>\n",
       "  </tbody>\n",
       "</table>\n",
       "</div>"
      ],
      "text/plain": [
       "                 0           1\n",
       "0  рублей за грамм  07.12.2018\n",
       "1        Золото Au   ↓2 653,01\n",
       "2       Серебро Ag      ↓31,07\n",
       "3       Платина Pt   ↓1 697,22\n",
       "4      Палладий Pd   ↓2 619,86"
      ]
     },
     "execution_count": 12,
     "metadata": {},
     "output_type": "execute_result"
    }
   ],
   "source": [
    "df = pd.read_html(str(data))[0]\n",
    "df"
   ]
  }
 ],
 "metadata": {
  "kernelspec": {
   "display_name": "Python 3",
   "language": "python",
   "name": "python3"
  },
  "language_info": {
   "codemirror_mode": {
    "name": "ipython",
    "version": 3
   },
   "file_extension": ".py",
   "mimetype": "text/x-python",
   "name": "python",
   "nbconvert_exporter": "python",
   "pygments_lexer": "ipython3",
   "version": "3.6.5"
  }
 },
 "nbformat": 4,
 "nbformat_minor": 2
}
