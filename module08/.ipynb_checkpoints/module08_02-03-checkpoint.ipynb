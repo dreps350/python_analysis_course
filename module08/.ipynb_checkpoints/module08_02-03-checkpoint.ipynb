{
 "cells": [
  {
   "cell_type": "markdown",
   "metadata": {},
   "source": [
    "# БИБЛИОТЕКА DATETIME\n",
    "В этом занятии мы познакомимся с библиотеками, которые позволяют относительно просто работать с любыми форматами дат и времени.\n",
    "\n",
    "В этом блоке мы будет работать с файлом data.tsv. В нем есть столбец date. Возьмем для примера первое значение в этом столбце:"
   ]
  },
  {
   "cell_type": "code",
   "execution_count": 1,
   "metadata": {},
   "outputs": [],
   "source": [
    "date_string = '05.10.2016  23:18'"
   ]
  },
  {
   "cell_type": "markdown",
   "metadata": {},
   "source": [
    "Сейчас переменная date_string является просто строкой."
   ]
  },
  {
   "cell_type": "markdown",
   "metadata": {},
   "source": [
    "На текущем занятии мы будем использовать из этой библиотеки следующие модули: datetime для распознавания формата дат и timedelta для прибавления к текущей дате определенный временной интервал. Нам придется вызывать эти модули следующим образом: datetime.datetime и datetime.timedelta , что достаточно громоздко. Чтобы сделать код более читабельным давайте импортируем эти модули следующим образом:"
   ]
  },
  {
   "cell_type": "code",
   "execution_count": 2,
   "metadata": {},
   "outputs": [],
   "source": [
    "from datetime import datetime, timedelta"
   ]
  },
  {
   "cell_type": "markdown",
   "metadata": {},
   "source": [
    "# ФОРМАТЫ ДАТЫ И ВРЕМЕНИ\n",
    "Чтобы перевести переменную date_string в формат даты и времени необходимо указать в каком формате записана наша переменная. Допустим, что в этом примере цифры значат следующее:\n",
    "\n",
    "05 - день\n",
    "\n",
    "10 - месяц\n",
    "\n",
    "2016 - год\n",
    "\n",
    "23 - часы\n",
    "\n",
    "18 - минуты\n",
    "\n",
    "В Python для каждого формата даты и времени есть свое обозначение. Например, чтобы указать формат 'часы в формате от 0 до 24', надо на странице https://docs.python.org/3/library/datetime.html в таблице форматов (она в конце страницы) найти соответствующее обозначение - 'Hour (24-hour clock) as a zero-padded decimal number', т. е. %H.\n",
    "\n",
    "В этой таблице есть много форматов. Даже на случаи обозначения дней недели как Sun, Mon (первая строка таблицы) и использование AM и PM.\n",
    "\n",
    "Давайте расшифруем формат переменной date_string. Для этого используется метод strptime, который переводит переменную типа строка во переменную типа дата и время.\n",
    "\n",
    "В качестве первого аргумента ставим строковую переменную (date_string), потом указываем формат (при указании формата обязательно учитываем все точки и двоеточия):"
   ]
  },
  {
   "cell_type": "code",
   "execution_count": 3,
   "metadata": {},
   "outputs": [
    {
     "data": {
      "text/plain": [
       "datetime.datetime(2016, 10, 5, 23, 18)"
      ]
     },
     "execution_count": 3,
     "metadata": {},
     "output_type": "execute_result"
    }
   ],
   "source": [
    "datetime.strptime( date_string, '%d.%m.%Y %H:%M' )"
   ]
  },
  {
   "cell_type": "code",
   "execution_count": 4,
   "metadata": {},
   "outputs": [
    {
     "data": {
      "text/plain": [
       "datetime.datetime"
      ]
     },
     "execution_count": 4,
     "metadata": {},
     "output_type": "execute_result"
    }
   ],
   "source": [
    "date_datetime = datetime.strptime( date_string, '%d.%m.%Y %H:%M' )\n",
    "\n",
    "type( date_datetime )"
   ]
  },
  {
   "cell_type": "code",
   "execution_count": 5,
   "metadata": {},
   "outputs": [
    {
     "data": {
      "text/plain": [
       "2016"
      ]
     },
     "execution_count": 5,
     "metadata": {},
     "output_type": "execute_result"
    }
   ],
   "source": [
    "date_datetime.year # если хотим сгруппировать статистику покупок по году"
   ]
  },
  {
   "cell_type": "code",
   "execution_count": 6,
   "metadata": {},
   "outputs": [
    {
     "data": {
      "text/plain": [
       "23"
      ]
     },
     "execution_count": 6,
     "metadata": {},
     "output_type": "execute_result"
    }
   ],
   "source": [
    "date_datetime.hour # если строим отчет активности покупок по часам"
   ]
  },
  {
   "cell_type": "markdown",
   "metadata": {},
   "source": [
    "# ПРИБАВЛЕНИЕ ДНЕЙ\n",
    "Необходимость прибавлять временной интервал к дате очень часто встречается в самых разнообразных задачах. Например, при заборе данных из внешних источников с помощью API для каждого дня отдельно (для увеличения точности выгрузки).\n",
    "\n",
    "Допустим у нас есть дата начала выгрузки startDate. Необходимо прибавить к этой дате день. Воспользуемся модулем timedelta."
   ]
  },
  {
   "cell_type": "code",
   "execution_count": 7,
   "metadata": {},
   "outputs": [],
   "source": [
    "startDate = '2017-01-01'"
   ]
  },
  {
   "cell_type": "code",
   "execution_count": 9,
   "metadata": {},
   "outputs": [],
   "source": [
    "startDate_datetime = datetime.strptime(startDate, '%Y-%m-%d')"
   ]
  },
  {
   "cell_type": "code",
   "execution_count": 10,
   "metadata": {},
   "outputs": [
    {
     "data": {
      "text/plain": [
       "datetime.datetime(2017, 1, 2, 0, 0)"
      ]
     },
     "execution_count": 10,
     "metadata": {},
     "output_type": "execute_result"
    }
   ],
   "source": [
    "startDate_datetime + timedelta(days=1)"
   ]
  },
  {
   "cell_type": "code",
   "execution_count": 12,
   "metadata": {},
   "outputs": [
    {
     "data": {
      "text/plain": [
       "datetime.datetime(2016, 12, 25, 0, 0)"
      ]
     },
     "execution_count": 12,
     "metadata": {},
     "output_type": "execute_result"
    }
   ],
   "source": [
    "startDate_datetime + timedelta(days=-7)"
   ]
  },
  {
   "cell_type": "markdown",
   "metadata": {},
   "source": [
    "# ПРИБАВЛЕНИЕ ВРЕМЕНИ\n",
    "Для увеличения даты и времени на определенное количество часов или минут просто меняем название параметра. Попробуем добавить к дате выгрузки 1 час:"
   ]
  },
  {
   "cell_type": "code",
   "execution_count": 13,
   "metadata": {},
   "outputs": [
    {
     "data": {
      "text/plain": [
       "datetime.datetime(2017, 1, 1, 1, 0)"
      ]
     },
     "execution_count": 13,
     "metadata": {},
     "output_type": "execute_result"
    }
   ],
   "source": [
    "startDate_datetime += timedelta( hours = 1 )\n",
    "\n",
    "startDate_datetime"
   ]
  },
  {
   "cell_type": "markdown",
   "metadata": {},
   "source": [
    "# Упражнение\n",
    "(1 возможный балл)\n",
    "Возьмите дату из прошлого шага 'May 9 2017 9:00AM', переведите в формат datetime и прибавьте к ней час с помощью timedelta.\n",
    "\n",
    "Какой результат будет на экране в формате datetime? Ответ должен иметь вид datetime.datetime(...)"
   ]
  },
  {
   "cell_type": "code",
   "execution_count": 38,
   "metadata": {},
   "outputs": [],
   "source": [
    "date1 = datetime.strptime('May 9 2017 09:00AM', '%B %d %Y %I:%M%p')\n",
    "# datetime.strptime('May 9 2017', '%B %d %Y')\n",
    "# datetime.strptime('May 9', '%B %w')"
   ]
  },
  {
   "cell_type": "code",
   "execution_count": 40,
   "metadata": {},
   "outputs": [
    {
     "data": {
      "text/plain": [
       "datetime.datetime(2017, 5, 9, 10, 0)"
      ]
     },
     "execution_count": 40,
     "metadata": {},
     "output_type": "execute_result"
    }
   ],
   "source": [
    "date1 + timedelta(hours=1)"
   ]
  },
  {
   "cell_type": "markdown",
   "metadata": {},
   "source": [
    "# ПЕРЕВОД DATETIME В СТРОКУ\n",
    "После вычислений с датами можно легко вернуть результат обратно в строку. Для этого воспользуемся методом strftime, указав в качестве аргумента желаемый формат:"
   ]
  },
  {
   "cell_type": "code",
   "execution_count": 41,
   "metadata": {},
   "outputs": [
    {
     "data": {
      "text/plain": [
       "'2017-01-01 01:00:00'"
      ]
     },
     "execution_count": 41,
     "metadata": {},
     "output_type": "execute_result"
    }
   ],
   "source": [
    "startDate_datetime.strftime( '%Y-%m-%d %H:%M:%S' )"
   ]
  },
  {
   "cell_type": "code",
   "execution_count": 42,
   "metadata": {},
   "outputs": [
    {
     "data": {
      "text/plain": [
       "'2017-05-09'"
      ]
     },
     "execution_count": 42,
     "metadata": {},
     "output_type": "execute_result"
    }
   ],
   "source": [
    "date1.strftime('%Y-%m-%d')"
   ]
  },
  {
   "cell_type": "code",
   "execution_count": null,
   "metadata": {},
   "outputs": [],
   "source": []
  }
 ],
 "metadata": {
  "kernelspec": {
   "display_name": "Python 3",
   "language": "python",
   "name": "python3"
  },
  "language_info": {
   "codemirror_mode": {
    "name": "ipython",
    "version": 3
   },
   "file_extension": ".py",
   "mimetype": "text/x-python",
   "name": "python",
   "nbconvert_exporter": "python",
   "pygments_lexer": "ipython3",
   "version": "3.6.5"
  }
 },
 "nbformat": 4,
 "nbformat_minor": 2
}
