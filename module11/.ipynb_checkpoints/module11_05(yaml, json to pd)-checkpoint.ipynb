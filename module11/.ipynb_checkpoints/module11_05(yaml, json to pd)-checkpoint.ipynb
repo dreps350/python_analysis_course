{
 "cells": [
  {
   "cell_type": "markdown",
   "metadata": {},
   "source": [
    "# АВТОРИЗАЦИЯ В API\n",
    "Перед тем как познакомиться с API ВКонтакте необходимо пройти авторизацию, т. к. многие методы требуют сервисного токена. Также мы познакомимся с форматом файлов YAML, который позволяет удобно работать с параметрами скрипта и паролями.\n",
    "\n",
    "Авторизация применяется практически во всех API, чтобы отдавать данные только их владельцу или контролировать количество запросов в единицу времени. Сервисный токен для нашей задачи создается вместе с новым приложением. Приложение мы делать, конечно, не будем. Оно нужно только для получения токена, чтобы сделать необходимые выгрузки.\n",
    "\n",
    "Зайдите на страницу https://vk.com/editapp?act=create, чтобы создать приложение (вы должны быть авторизованы ВКонтакте). Дайте приложению любое название и оставьте значение платформы \"Standalone-приложение\".\n",
    "\n",
    "После подтверждения создания приложения в приложении ВК или по СМС зайдите в настройки:\n",
    "\n",
    "\n",
    "\n",
    "Нужный нам токен лежит в поле \"Сервисный ключ доступа\"."
   ]
  },
  {
   "cell_type": "markdown",
   "metadata": {},
   "source": [
    "# ФОРМАТ YAML\n",
    "Теперь необходимо передавать этот ключ с каждым запросом с методом wall.get. Возникает проблема: как хранить этот ключ. Просто записать его в переменную в коде не лучшая идея.\n",
    "\n",
    "Это относится вообще к любым токенам, паролям, ключам и другой чувствительной информации по крайней мере по двум причинам:\n",
    "\n",
    "При отправке кому-либо файла с кодом или сохранении в другом месте ваш ключ может быть доступен другому человеку. Еще хуже, если вы случайно сохраните его на общем сетевом диске или открытом репозитории на Github.\n",
    "Ключ, который продолжительное время виден на вашем экране (пока вы пишете код), также не добавляет безопасности вашему приложению.\n",
    "Для частичного решения этих проблем, а также хранения внешних переменных вне кода, был разработан формат YAML. \n",
    "\n",
    "Он позволяет записывать ваши переменные и их значения в файл, а затем импортировать их в код в JSON-формате. Это гораздо удобнее, чем читать обычный файл построчно и доставать из него нужные вам строки. Также в YAML-файлах можно оставлять комментарии к параметрам.\n",
    "\n",
    "Т. е. его отличие YAML-формата от обычного текстового файла в том, что Python (и другие языки программирования) может распознавать его содержимое как словарь."
   ]
  },
  {
   "cell_type": "code",
   "execution_count": 12,
   "metadata": {},
   "outputs": [],
   "source": [
    "from yaml import load, dump\n",
    "from bs4 import BeautifulSoup\n",
    "import requests"
   ]
  },
  {
   "cell_type": "code",
   "execution_count": 8,
   "metadata": {},
   "outputs": [],
   "source": [
    "f = open('./module11_files/config_example.yaml', 'r', encoding='utf-8')\n",
    "config = load(f)\n",
    "f.close()"
   ]
  },
  {
   "cell_type": "code",
   "execution_count": 3,
   "metadata": {},
   "outputs": [
    {
     "name": "stdout",
     "output_type": "stream",
     "text": [
      "{'access_token': 'g6434uqghoq374gh3qh38ry24orh24h3rjg03q', 'mysql': {'host': '10.0.108.8', 'port': 3306, 'database': 'scoring', 'user': 'defaultuser', 'password': 'passw@rd'}, 'cities': ['Москва', 'Санкт-Петербург', 'Волгоград', 'Новороссийск', 'Тула', 'Мурманск', 'Смоленск', 'Севастополь', 'Одесса', 'Киев', 'Керчь', 'Минск']}\n"
     ]
    }
   ],
   "source": [
    "print(config)"
   ]
  },
  {
   "cell_type": "markdown",
   "metadata": {},
   "source": [
    "В нем для примера содержится пример ключ-значение для хранения единичного значения. Для импорта токена с код достаточно написать:"
   ]
  },
  {
   "cell_type": "code",
   "execution_count": 4,
   "metadata": {},
   "outputs": [
    {
     "data": {
      "text/plain": [
       "'g6434uqghoq374gh3qh38ry24orh24h3rjg03q'"
      ]
     },
     "execution_count": 4,
     "metadata": {},
     "output_type": "execute_result"
    }
   ],
   "source": [
    "token = config['access_token']\n",
    "token"
   ]
  },
  {
   "cell_type": "markdown",
   "metadata": {},
   "source": [
    "Второй пример - хранение конфигураций подключения к базе данных в виде словаря. Параметры импортируются аналогично:"
   ]
  },
  {
   "cell_type": "code",
   "execution_count": 6,
   "metadata": {},
   "outputs": [
    {
     "data": {
      "text/plain": [
       "'10.0.108.8'"
      ]
     },
     "execution_count": 6,
     "metadata": {},
     "output_type": "execute_result"
    }
   ],
   "source": [
    "database_host = config['mysql']['host']\n",
    "database_host"
   ]
  },
  {
   "cell_type": "markdown",
   "metadata": {},
   "source": [
    "Третий пример - хранение списка значений в виде обычного листа:"
   ]
  },
  {
   "cell_type": "code",
   "execution_count": 7,
   "metadata": {},
   "outputs": [
    {
     "name": "stdout",
     "output_type": "stream",
     "text": [
      "['Москва', 'Санкт-Петербург', 'Волгоград', 'Новороссийск', 'Тула', 'Мурманск', 'Смоленск', 'Севастополь', 'Одесса', 'Киев', 'Керчь', 'Минск']\n"
     ]
    }
   ],
   "source": [
    "print(config['cities'])"
   ]
  },
  {
   "cell_type": "markdown",
   "metadata": {},
   "source": [
    "# СОЗДАЙТЕ КЛЮЧ ДОСТУПА\n",
    "Создайте файл config.yaml и запишите в него сервисный токен вашего приложения ВКонтакте. Используйте ключ 'access_token' как в примере, далее в коде мы будем использовать такое обозначение."
   ]
  },
  {
   "cell_type": "code",
   "execution_count": 11,
   "metadata": {},
   "outputs": [],
   "source": [
    "with open('./module11_files/config.yaml', 'w', encoding='utf-8') as f:\n",
    "    data = {'access_token': '8e6bc4568e6bc4568e6bc4567d8e0c9be188e6b8e6bc456d262bc5ce618161076adb05e'}\n",
    "    dump(data, f)"
   ]
  },
  {
   "cell_type": "markdown",
   "metadata": {},
   "source": [
    "# ОСНОВНЫЕ ПОНЯТИЯ API\n",
    "\n",
    "\n",
    "В прошлом блоке мы рассматривали получение данных сайтов из HTML-страниц, что во многих случаях довольно неудобно. К счастью, многие системы имеют специальный интерфейс для забора данных программным способом с помощью API.\n",
    "\n",
    "API (application programming interface) - набор методов и параметров, которые позволяют отдавать структурированную информацию по запросу.\n",
    "\n",
    "В этом блоке мы изучим работу API ВКонтакте на открытых данных – это один из самых простых API.\n",
    "\n",
    "В итоге мы научимся получать данные для статистических отчетов произвольной группы, например:\n",
    "\n",
    "соотношение мужчин и женщин в группе;\n",
    "статистика географии пользователей;\n",
    "другие данные для аналитики групп конкурентов.\n",
    "Но сначала рассмотрим работу API на простом примере, на основе которого работают многие системы. \n",
    "\n",
    "Перейдите по следующей ссылке в браузере, подставив сервисный токен из прошлого шага:\n",
    "https://api.vk.com/method/users.get?user_id=1&v=5.52&access_token=token"
   ]
  },
  {
   "cell_type": "code",
   "execution_count": 14,
   "metadata": {},
   "outputs": [],
   "source": [
    "with open('./module11_files/config.yaml', 'r', encoding='utf-8') as f:\n",
    "    token = load(f)['access_token']\n",
    "url = 'https://api.vk.com/method/users.get?user_id=1&v=5.52&access_token={}'.format(token)\n",
    "r = requests.get(url)"
   ]
  },
  {
   "cell_type": "code",
   "execution_count": 15,
   "metadata": {},
   "outputs": [
    {
     "data": {
      "text/plain": [
       "{'response': [{'id': 1, 'first_name': 'Pavel', 'last_name': 'Durov'}]}"
      ]
     },
     "execution_count": 15,
     "metadata": {},
     "output_type": "execute_result"
    }
   ],
   "source": [
    "r.json()"
   ]
  },
  {
   "cell_type": "markdown",
   "metadata": {},
   "source": [
    "Сейчас мы сделали GET-запрос к API ВКонтакте, который состоит из следующих частей:\n",
    "\n",
    "https://api.vk.com/method - домен и URL запроса API. Обычно не меняется\n",
    "users.get - название метода, который отдает определенный отчет. В нашем случае это метод для получения информации о пользователе\n",
    "user_id и v - параметры запроса: идентификатор пользователя, о котором хотим получить информацию, и номер версии API\n",
    "Данный метод не требует авторизации в системе, поскольку эти данные являются открытыми.\n",
    "\n",
    "Однако, очень часто запросы к API требуют авторизационного токена, о них мы поговорим позже. Токен выдается только тем пользователям, которые имеют право просматривать определенные данные. Например, показания счетчиков Яндекс.Метрики вашего проекта.\n",
    "\n",
    "На все остальные запросы без корректного токена система отвечает отказом.\n",
    "\n",
    "Если мы посмотрим документацию метода users.get, то в ней описаны множество других параметров, которые можно получить о пользователе: дата рождения, пол, родной город и другие.\n",
    "\n",
    "Т. е. все то, что мы видим на странице пользователя в интерфейсе или приложении ВКонтакте (конечно, если пользователь их указал). Добавим к запросу дату рождения и пол (согласно документации эти параметры надо перечислять в поле fields):\n",
    "https://api.vk.com/method/users.get?user_id=1&v=5.52&fields=sex,bdate&access_token=token"
   ]
  },
  {
   "cell_type": "code",
   "execution_count": 17,
   "metadata": {},
   "outputs": [
    {
     "data": {
      "text/plain": [
       "{'response': [{'id': 1,\n",
       "   'first_name': 'Pavel',\n",
       "   'last_name': 'Durov',\n",
       "   'sex': 2,\n",
       "   'bdate': '10.10.1984',\n",
       "   'country': {'id': 1, 'title': 'Russia'}}]}"
      ]
     },
     "execution_count": 17,
     "metadata": {},
     "output_type": "execute_result"
    }
   ],
   "source": [
    "url = 'https://api.vk.com/method/users.get?user_id=1&v=5.52&fields=sex,bdate,country&access_token={}'.format(token)\n",
    "requests.get(url).json()"
   ]
  },
  {
   "cell_type": "markdown",
   "metadata": {},
   "source": [
    "# Запросы к API из кода\n",
    "Мы делали все запросы в браузере. Давайте реализуем аналогичные запросы в коде.\n",
    "Теперь помимо URL запроса (https://api.vk.com...) нам надо указывать его параметры (user_id, fields и другие). Создадим для этого словарь params:"
   ]
  },
  {
   "cell_type": "code",
   "execution_count": 21,
   "metadata": {},
   "outputs": [],
   "source": [
    "url = 'https://api.vk.com/method/users.get'\n",
    "params = {\n",
    "    'user_id': 1,\n",
    "    'v': 5.52,\n",
    "    'fields': 'sex,bdate,country',\n",
    "    'access_token': token\n",
    "}"
   ]
  },
  {
   "cell_type": "code",
   "execution_count": 27,
   "metadata": {},
   "outputs": [],
   "source": [
    "r = requests.get(url, params=params)"
   ]
  },
  {
   "cell_type": "markdown",
   "metadata": {},
   "source": [
    "Мы получили ответ в формате JSON. Этот формат представляет из себя набор вложенных словарей и листов, к которым очень удобно обращаться при обработке ответа. JSON применяется в подавляющем большинстве систем с API, т. к. намного проще и удобнее, чем его предшественник - формат XML.\n",
    "\n",
    "Для улучшения читаемости можно воспользоваться библиотекой pprint. Она сильно помогает читать JSON-формат для больших ответов."
   ]
  },
  {
   "cell_type": "code",
   "execution_count": 28,
   "metadata": {},
   "outputs": [
    {
     "name": "stdout",
     "output_type": "stream",
     "text": [
      "{'response': [{'bdate': '10.10.1984',\n",
      "               'country': {'id': 1, 'title': 'Russia'},\n",
      "               'first_name': 'Pavel',\n",
      "               'id': 1,\n",
      "               'last_name': 'Durov',\n",
      "               'sex': 2}]}\n"
     ]
    }
   ],
   "source": [
    "from pprint import pprint\n",
    "\n",
    "data = r.json()\n",
    "\n",
    "pprint(data)"
   ]
  },
  {
   "cell_type": "markdown",
   "metadata": {},
   "source": [
    "Получим из этого запроса дату рождения. Для этого надо сначала обратиться к ключу response:"
   ]
  },
  {
   "cell_type": "code",
   "execution_count": 30,
   "metadata": {},
   "outputs": [
    {
     "data": {
      "text/plain": [
       "'10.10.1984'"
      ]
     },
     "execution_count": 30,
     "metadata": {},
     "output_type": "execute_result"
    }
   ],
   "source": [
    "data['response'][0]['bdate']"
   ]
  },
  {
   "cell_type": "markdown",
   "metadata": {},
   "source": [
    "# Упражнение\n",
    "(1 возможный балл)\n",
    "Имеется набор ID пользователей users. Необходимо посчитать какую долю этих пользователей составляют женщины. Не учитывайте пользователей, у которых пол не указан. Пример формата ответа: 0.35.\n",
    "\n",
    "users = [1, 2, 3, 4, 5, 6, 7, 8, 9, 10]\n",
    "\n",
    "Ниже в качестве подсказки приведены первые шаги в решении задачи. Но сначала попробуйте справиться сами, так интереснее!"
   ]
  },
  {
   "cell_type": "code",
   "execution_count": 33,
   "metadata": {},
   "outputs": [],
   "source": [
    "import pandas as pd\n",
    "from pandas.io.json import json_normalize"
   ]
  },
  {
   "cell_type": "code",
   "execution_count": 41,
   "metadata": {},
   "outputs": [
    {
     "name": "stderr",
     "output_type": "stream",
     "text": [
      "F:\\Anaconda\\lib\\site-packages\\ipykernel_launcher.py:15: FutureWarning: Sorting because non-concatenation axis is not aligned. A future version\n",
      "of pandas will change to not sort by default.\n",
      "\n",
      "To accept the future behavior, pass 'sort=True'.\n",
      "\n",
      "To retain the current behavior and silence the warning, pass sort=False\n",
      "\n",
      "  from ipykernel import kernelapp as app\n"
     ]
    }
   ],
   "source": [
    "url = 'https://api.vk.com/method/users.get'\n",
    "params = {\n",
    "#     'user_id': 1,\n",
    "    'v': 5.52,\n",
    "    'fields': 'sex,bdate,country',\n",
    "    'access_token': token\n",
    "}\n",
    "\n",
    "users = [1, 2, 3, 4, 5, 6, 7, 8, 9, 10]\n",
    "df = pd.DataFrame()\n",
    "\n",
    "for user in users:\n",
    "    params['user_id'] = user\n",
    "    data = requests.get(url, params=params).json()\n",
    "    df = pd.concat([df, json_normalize(data['response'])])"
   ]
  },
  {
   "cell_type": "code",
   "execution_count": 63,
   "metadata": {},
   "outputs": [
    {
     "data": {
      "text/html": [
       "<div>\n",
       "<style scoped>\n",
       "    .dataframe tbody tr th:only-of-type {\n",
       "        vertical-align: middle;\n",
       "    }\n",
       "\n",
       "    .dataframe tbody tr th {\n",
       "        vertical-align: top;\n",
       "    }\n",
       "\n",
       "    .dataframe thead th {\n",
       "        text-align: right;\n",
       "    }\n",
       "</style>\n",
       "<table border=\"1\" class=\"dataframe\">\n",
       "  <thead>\n",
       "    <tr style=\"text-align: right;\">\n",
       "      <th></th>\n",
       "      <th>index</th>\n",
       "      <th>bdate</th>\n",
       "      <th>country.id</th>\n",
       "      <th>country.title</th>\n",
       "      <th>deactivated</th>\n",
       "      <th>first_name</th>\n",
       "      <th>id</th>\n",
       "      <th>last_name</th>\n",
       "      <th>sex</th>\n",
       "    </tr>\n",
       "  </thead>\n",
       "  <tbody>\n",
       "    <tr>\n",
       "      <th>0</th>\n",
       "      <td>0</td>\n",
       "      <td>10.10.1984</td>\n",
       "      <td>1.0</td>\n",
       "      <td>Russia</td>\n",
       "      <td>NaN</td>\n",
       "      <td>Pavel</td>\n",
       "      <td>1</td>\n",
       "      <td>Durov</td>\n",
       "      <td>2</td>\n",
       "    </tr>\n",
       "    <tr>\n",
       "      <th>1</th>\n",
       "      <td>0</td>\n",
       "      <td>NaN</td>\n",
       "      <td>NaN</td>\n",
       "      <td>NaN</td>\n",
       "      <td>NaN</td>\n",
       "      <td>Alexandra</td>\n",
       "      <td>2</td>\n",
       "      <td>Vladimirova</td>\n",
       "      <td>1</td>\n",
       "    </tr>\n",
       "    <tr>\n",
       "      <th>2</th>\n",
       "      <td>0</td>\n",
       "      <td>NaN</td>\n",
       "      <td>NaN</td>\n",
       "      <td>NaN</td>\n",
       "      <td>deleted</td>\n",
       "      <td>DELETED</td>\n",
       "      <td>3</td>\n",
       "      <td></td>\n",
       "      <td>0</td>\n",
       "    </tr>\n",
       "    <tr>\n",
       "      <th>3</th>\n",
       "      <td>0</td>\n",
       "      <td>NaN</td>\n",
       "      <td>NaN</td>\n",
       "      <td>NaN</td>\n",
       "      <td>deleted</td>\n",
       "      <td>DELETED</td>\n",
       "      <td>4</td>\n",
       "      <td></td>\n",
       "      <td>0</td>\n",
       "    </tr>\n",
       "    <tr>\n",
       "      <th>4</th>\n",
       "      <td>0</td>\n",
       "      <td>18.11</td>\n",
       "      <td>1.0</td>\n",
       "      <td>Russia</td>\n",
       "      <td>NaN</td>\n",
       "      <td>Ilya</td>\n",
       "      <td>5</td>\n",
       "      <td>Perekopsky</td>\n",
       "      <td>2</td>\n",
       "    </tr>\n",
       "    <tr>\n",
       "      <th>5</th>\n",
       "      <td>0</td>\n",
       "      <td>NaN</td>\n",
       "      <td>1.0</td>\n",
       "      <td>Russia</td>\n",
       "      <td>NaN</td>\n",
       "      <td>Nikolay</td>\n",
       "      <td>6</td>\n",
       "      <td>Durov</td>\n",
       "      <td>2</td>\n",
       "    </tr>\n",
       "    <tr>\n",
       "      <th>6</th>\n",
       "      <td>0</td>\n",
       "      <td>NaN</td>\n",
       "      <td>49.0</td>\n",
       "      <td>United Kingdom</td>\n",
       "      <td>NaN</td>\n",
       "      <td>Alexey</td>\n",
       "      <td>7</td>\n",
       "      <td>Kobylyansky</td>\n",
       "      <td>2</td>\n",
       "    </tr>\n",
       "    <tr>\n",
       "      <th>7</th>\n",
       "      <td>0</td>\n",
       "      <td>NaN</td>\n",
       "      <td>2.0</td>\n",
       "      <td>Ukraine</td>\n",
       "      <td>NaN</td>\n",
       "      <td>Aki</td>\n",
       "      <td>8</td>\n",
       "      <td>Sepiashvili</td>\n",
       "      <td>2</td>\n",
       "    </tr>\n",
       "    <tr>\n",
       "      <th>8</th>\n",
       "      <td>0</td>\n",
       "      <td>NaN</td>\n",
       "      <td>1.0</td>\n",
       "      <td>Russia</td>\n",
       "      <td>NaN</td>\n",
       "      <td>Nastya</td>\n",
       "      <td>9</td>\n",
       "      <td>Vasilyeva</td>\n",
       "      <td>1</td>\n",
       "    </tr>\n",
       "    <tr>\n",
       "      <th>9</th>\n",
       "      <td>0</td>\n",
       "      <td>NaN</td>\n",
       "      <td>1.0</td>\n",
       "      <td>Russia</td>\n",
       "      <td>NaN</td>\n",
       "      <td>Alexander</td>\n",
       "      <td>10</td>\n",
       "      <td>Kuznetsov</td>\n",
       "      <td>2</td>\n",
       "    </tr>\n",
       "  </tbody>\n",
       "</table>\n",
       "</div>"
      ],
      "text/plain": [
       "   index       bdate  country.id   country.title deactivated first_name  id  \\\n",
       "0      0  10.10.1984         1.0          Russia         NaN      Pavel   1   \n",
       "1      0         NaN         NaN             NaN         NaN  Alexandra   2   \n",
       "2      0         NaN         NaN             NaN     deleted    DELETED   3   \n",
       "3      0         NaN         NaN             NaN     deleted    DELETED   4   \n",
       "4      0       18.11         1.0          Russia         NaN       Ilya   5   \n",
       "5      0         NaN         1.0          Russia         NaN    Nikolay   6   \n",
       "6      0         NaN        49.0  United Kingdom         NaN     Alexey   7   \n",
       "7      0         NaN         2.0         Ukraine         NaN        Aki   8   \n",
       "8      0         NaN         1.0          Russia         NaN     Nastya   9   \n",
       "9      0         NaN         1.0          Russia         NaN  Alexander  10   \n",
       "\n",
       "     last_name  sex  \n",
       "0        Durov    2  \n",
       "1  Vladimirova    1  \n",
       "2                 0  \n",
       "3                 0  \n",
       "4   Perekopsky    2  \n",
       "5        Durov    2  \n",
       "6  Kobylyansky    2  \n",
       "7  Sepiashvili    2  \n",
       "8    Vasilyeva    1  \n",
       "9    Kuznetsov    2  "
      ]
     },
     "execution_count": 63,
     "metadata": {},
     "output_type": "execute_result"
    }
   ],
   "source": [
    "df.reset_index()"
   ]
  },
  {
   "cell_type": "code",
   "execution_count": 61,
   "metadata": {},
   "outputs": [
    {
     "data": {
      "text/plain": [
       "0.25"
      ]
     },
     "execution_count": 61,
     "metadata": {},
     "output_type": "execute_result"
    }
   ],
   "source": [
    "df[df['sex']==1]['sex'].count() / df[df['sex'] != 0]['sex'].count()"
   ]
  },
  {
   "cell_type": "markdown",
   "metadata": {},
   "source": [
    "# НАЧАЛО РЕШЕНИЯ\n",
    "Начнем с цикла запросов к API ВКонтакте:\n",
    "```python\n",
    "for user in users:\n",
    "\n",
    "    params = {\n",
    "\n",
    "        'user_id': user,\n",
    "\n",
    "        'v': 5.52,\n",
    "\n",
    "        'fields': 'sex,bdate',\n",
    "\n",
    "        'access_token': token\n",
    "\n",
    "    }\n",
    "\n",
    "    \n",
    "\n",
    "    r = requests.get(url, params = params)\n",
    "\n",
    "    print(r.json())\n",
    "```\n",
    "Результат:\n",
    "\n",
    "{'response': [{'id': 1, 'first_name': 'Павел', 'last_name': 'Дуров', 'sex': 2, 'bdate': '10.10.1984'}]}\n",
    "\n",
    "{'response': [{'id': 2, 'first_name': 'Александра', 'last_name': 'Владимирова', 'sex': 1, 'hidden': 1}]}\n",
    "\n",
    "{'response': [{'id': 3, 'first_name': 'DELETED', 'last_name': '', 'deactivated': 'deleted', 'sex': 0}]}\n",
    "\n",
    "{'response': [{'id': 4, 'first_name': 'DELETED', 'last_name': '', 'deactivated': 'deleted', 'sex': 0}]}\n",
    "\n",
    "{'response': [{'id': 5, 'first_name': 'Илья', 'last_name': 'Перекопский', 'sex': 2, 'bdate': '18.11'}]}\n",
    "\n",
    "{'response': [{'id': 6, 'first_name': 'Николай', 'last_name': 'Дуров', 'sex': 2, 'hidden': 1}]}\n",
    "\n",
    "{'response': [{'id': 7, 'first_name': 'Алексей', 'last_name': 'Кобылянский', 'sex': 2, 'hidden': 1}]}\n",
    "\n",
    "{'response': [{'id': 8, 'first_name': 'Аки', 'last_name': 'Сепиашвили', 'sex': 2}]}\n",
    "\n",
    "{'response': [{'id': 9, 'first_name': 'Настя', 'last_name': 'Васильева', 'sex': 1}]}\n",
    "\n",
    "{'response': [{'id': 10, 'first_name': 'Александр', 'last_name': 'Кузнецов', 'sex': 2}]}\n",
    "\n",
    "Вам необходимо дописать алгоритм, чтобы посчитать долю пользователей с sex = 1 среди всех пользователей со значением sex 1 или 2."
   ]
  },
  {
   "cell_type": "code",
   "execution_count": null,
   "metadata": {},
   "outputs": [],
   "source": []
  }
 ],
 "metadata": {
  "kernelspec": {
   "display_name": "Python 3",
   "language": "python",
   "name": "python3"
  },
  "language_info": {
   "codemirror_mode": {
    "name": "ipython",
    "version": 3
   },
   "file_extension": ".py",
   "mimetype": "text/x-python",
   "name": "python",
   "nbconvert_exporter": "python",
   "pygments_lexer": "ipython3",
   "version": "3.6.5"
  }
 },
 "nbformat": 4,
 "nbformat_minor": 2
}
