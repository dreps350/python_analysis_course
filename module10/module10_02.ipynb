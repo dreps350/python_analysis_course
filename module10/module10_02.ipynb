{
 "cells": [
  {
   "cell_type": "markdown",
   "metadata": {},
   "source": [
    "# Описание кейса для объединения таблиц\n",
    "На данном занятии мы будем использовать данные о покупках из файла, сгруппированные по источнику, каналу и дате. А также аналогичный файл по визитам на сайт, часть из которых привела к покупке.\n",
    "\n",
    "Файл с визитами по источникам (visits_by_source.txt) \n",
    "\n",
    "Файл с покупками по источникам (orders_by_source.txt)\n",
    "\n",
    "Наша задача - посчитать конверсию из визитов в покупки в разрезе по источникам трафика.\n",
    "\n",
    "Т. е. для каждой пары значений source и medium нам нужно взять количество визитов и покупок и совместить их в одной таблице. Для тех, кто знаком с SQL, это аналог операции JOIN. На первом шаге нам понадобится самый простой случай объединения этих файлов по одному столбцу (источнику).\n",
    "\n",
    "visits_by_source.txt - в первом столбце стоит источник трафика, во втором - сумма визитов\n",
    "\n",
    "burgerclub 1197\n",
    "\n",
    "city-magazine 528\n",
    "\n",
    "facebook 3144\n",
    "\n",
    "...\n",
    "\n",
    "orders_by_source.txt - в первом столбце стоит источник трафика, во втором - количество покупок, в третьем - суммарная стоимость покупок\n",
    "\n",
    "burgerclub 10 185\n",
    "\n",
    "city-magazine 5 81\n",
    "\n",
    "direct 5 88\n",
    "\n",
    "...\n",
    "\n",
    "Важное замечание - сейчас наши файлы очень малы и объединить их легко можно даже в Excel. В реальной жизни такие файлы намного больше, поэтому мы представим, что решаем более сложную задачу со следующими условиями:\n",
    "\n",
    "1. Файл visits_by_source.txt может быть любого размера (мы обрабатываем его построчно). Представим, что это выгрузка из базы данных на 50Гб или может поток данных в виде транзакций из базы данных.\n",
    "\n",
    "То есть мы считаем файл условно \"бесконечным\".\n",
    "\n",
    "2. Второй файл orders_by_source.txt помещается в оперативную память компьютера. Однако, в памяти мы можем обрабатывать довольно большие файлы. Например, файл в 1 гигабайт свободно помещается в память даже не особо мощного ноутбука. \n",
    "\n",
    "То есть файл большой, но помещается в оперативную память."
   ]
  },
  {
   "cell_type": "markdown",
   "metadata": {},
   "source": [
    "# Функция поиска по файлу покупок\n",
    "Наша задача будет состоять в следующем: нужно написать функцию, на вход которой будем подавать очередную строчку из файла visits_by_source.txt. В ответ должны получать количество покупок из файла orders_by_source.txt, которое соответствует этой строчке. Т. е. в самом простом случае в файле orders_by_source.txt надо найти строчку с таким же источником и вернуть значение из второго столбца.\n",
    "\n",
    "Начнем писать такую функцию:"
   ]
  },
  {
   "cell_type": "code",
   "execution_count": 1,
   "metadata": {},
   "outputs": [],
   "source": [
    "def searchForLine(source):\n",
    "\n",
    "    \"\"\"\n",
    "    Функция по названию источника source ищет соответствующую строку в файле orders_by_source.txt.\n",
    "    Возвращает количество покупок, соответствующее источнику source. Если источник не найден, то возвращает 0\n",
    "   \n",
    "\n",
    "    Пример\n",
    "    searchForLine('burgerclub')\n",
    "    10   \n",
    "\n",
    "    searchForLine('source_123')\n",
    "    0\n",
    "    \"\"\"\n",
    "    pass"
   ]
  },
  {
   "cell_type": "markdown",
   "metadata": {},
   "source": [
    "Для получения определенного значения по названию источника отлично подойдет словарь.\n",
    "\n",
    "Можно было, например, поместить наши пары значений в набор листов и пробегать все его значения. Но это будет очень долго в случае больших файлов. К тому же если источника в файле покупок нет, то \"проход\" по этому листу будет впустую.\n",
    "\n",
    "Словарь позволит гораздо быстрее найти в файле покупок нужный источник.\n",
    "\n",
    "Давайте переведем наш файл с покупками orders_by_source.txt к словарю. Назовем его orders_dict и начнем писать цикл:"
   ]
  },
  {
   "cell_type": "code",
   "execution_count": 9,
   "metadata": {},
   "outputs": [],
   "source": [
    "orders_dict = {}\n",
    "\n",
    "with open('./module10_files/orders_by_source.txt', 'r') as f:\n",
    "    for line in f:\n",
    "        line = line.strip().split('\\t')\n",
    "#         print(line)\n",
    "        orders_dict[line[0]] = line[1]"
   ]
  },
  {
   "cell_type": "code",
   "execution_count": 10,
   "metadata": {},
   "outputs": [
    {
     "name": "stdout",
     "output_type": "stream",
     "text": [
      "68\n"
     ]
    }
   ],
   "source": [
    "print(orders_dict['promo'])"
   ]
  },
  {
   "cell_type": "markdown",
   "metadata": {},
   "source": [
    "# Объединение таблиц\n",
    "Теперь мы можем использовать наш словарь в функции поиска количества покупок. Для более удобного использования будем передавать словарь как аргумент функции searchForLine:"
   ]
  },
  {
   "cell_type": "code",
   "execution_count": 11,
   "metadata": {},
   "outputs": [],
   "source": [
    "def searchForLine(source, orders_dict):\n",
    "    \"\"\"\n",
    "    Функция по названию источника source ищет соответствующую строку в файле orders_by_source.txt.\n",
    "    Возвращает количество покупок, соответствующее источнику source. Если источник не найден, то возвращает 0   \n",
    "\n",
    "    Пример\n",
    "\n",
    "    searchForLine('burgerclub')\n",
    "    1197\n",
    "   \n",
    "    searchForLine('source_123')\n",
    "    0\n",
    "    \"\"\"\n",
    "   \n",
    "    if source in orders_dict:\n",
    "        return int(orders_dict[source])   \n",
    "    else:\n",
    "        return 0"
   ]
  },
  {
   "cell_type": "code",
   "execution_count": 12,
   "metadata": {},
   "outputs": [
    {
     "data": {
      "text/plain": [
       "10"
      ]
     },
     "execution_count": 12,
     "metadata": {},
     "output_type": "execute_result"
    }
   ],
   "source": [
    "searchForLine('burgerclub', orders_dict)"
   ]
  },
  {
   "cell_type": "code",
   "execution_count": 13,
   "metadata": {},
   "outputs": [
    {
     "data": {
      "text/plain": [
       "0"
      ]
     },
     "execution_count": 13,
     "metadata": {},
     "output_type": "execute_result"
    }
   ],
   "source": [
    "searchForLine('source_123', orders_dict)"
   ]
  },
  {
   "cell_type": "markdown",
   "metadata": {},
   "source": [
    "# Упражнение\n",
    "(1 возможный балл)\n",
    "Напишите цикл, в котором в каждую строчку файла visits_by_source.txt подставляется соответствующее количество покупок orders. Т. е. цикл заканчивается следующей строкой:\n",
    "```python\n",
    "print(source, visits, orders, orders / visits)\n",
    "```"
   ]
  },
  {
   "cell_type": "code",
   "execution_count": 16,
   "metadata": {},
   "outputs": [
    {
     "name": "stdout",
     "output_type": "stream",
     "text": [
      "burgerclub 1197 10 0.00835421888053467\n",
      "city-magazine 528 5 0.00946969696969697\n",
      "facebook 3144 5 0.0015903307888040711\n",
      "food-delivery 1184 10 0.008445945945945946\n",
      "foody 421 3 0.007125890736342043\n",
      "google 10961 77 0.007024906486634432\n",
      "newsletter 637 5 0.007849293563579277\n",
      "promo 7405 68 0.009182984469952735\n",
      "vk 256 2 0.0078125\n",
      "yandex 11757 104 0.008845793995066768\n",
      "direct 2156 5 0.002319109461966605\n"
     ]
    }
   ],
   "source": [
    "with open('./module10_files/visits_by_source.txt', 'r') as visits:\n",
    "    for line in visits:\n",
    "        source, visits = line.strip().split('\\t')\n",
    "        orders = orders_dict[source]\n",
    "        print(source, visits, orders, int(orders) / int(visits))"
   ]
  },
  {
   "cell_type": "markdown",
   "metadata": {},
   "source": [
    "# Запись результатов в файл\n",
    "Т. к. файл visits_by_source.txt может быть очень большим, то выводить результаты на экран не особо практично.\n",
    "\n",
    "Давайте запишем результат в файл.\n",
    "\n",
    "Для этого мы будем \"открывать\" файл joined_by_source.txt с параметром 'w' вместо 'r'. При каждом таком \"открытии\" файл joined_by_source.txt будет создаваться заново (т. е. если он существовал ранее, то все его содержимое будет удалено).\n",
    "\n",
    "Один файл (visits_by_source.txt) у нас уже открыт как переменная f. Соответственно, при открытии файла joined_by_source.txt надо давать ему другое имя (например, f_joined). И вместо функции print пишем команду записи в файл f_joined.write(...).\n",
    "\n",
    "Обратите внимание, что при записи строки в файл надо указывать символ переноса строки \\n в конце каждой строчки. Иначе все строки будут записаны как одна:"
   ]
  },
  {
   "cell_type": "code",
   "execution_count": 33,
   "metadata": {},
   "outputs": [],
   "source": [
    "with open('./module10_files/joined_by_source.txt', 'w') as f_joined:\n",
    "    with open('./module10_files/visits_by_source.txt', 'r') as f:\n",
    "        f_joined.write('{}\\t{}\\t{}\\t{}\\n'.format('source', 'visits', 'orders', 'conversion'))\n",
    "        for line in f:\n",
    "            line = line.strip().split('\\t')\n",
    "            source = line[0]\n",
    "            visits = int(line[1])\n",
    "            orders = searchForLine( source, orders_dict )\n",
    "            f_joined.write('{}\\t{}\\t{}\\t{}\\n'.format(source, visits, orders, orders/visits))"
   ]
  },
  {
   "cell_type": "code",
   "execution_count": 29,
   "metadata": {},
   "outputs": [],
   "source": [
    "import pandas as pd"
   ]
  },
  {
   "cell_type": "code",
   "execution_count": 34,
   "metadata": {},
   "outputs": [
    {
     "data": {
      "text/plain": [
       "0.007092788299865774"
      ]
     },
     "execution_count": 34,
     "metadata": {},
     "output_type": "execute_result"
    }
   ],
   "source": [
    "pd.read_csv('./module10_files/joined_by_source.txt', sep='\\t')['conversion'].mean()"
   ]
  },
  {
   "cell_type": "code",
   "execution_count": null,
   "metadata": {},
   "outputs": [],
   "source": []
  }
 ],
 "metadata": {
  "kernelspec": {
   "display_name": "Python 3",
   "language": "python",
   "name": "python3"
  },
  "language_info": {
   "codemirror_mode": {
    "name": "ipython",
    "version": 3
   },
   "file_extension": ".py",
   "mimetype": "text/x-python",
   "name": "python",
   "nbconvert_exporter": "python",
   "pygments_lexer": "ipython3",
   "version": "3.6.5"
  }
 },
 "nbformat": 4,
 "nbformat_minor": 2
}
