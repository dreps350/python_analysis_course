{
 "cells": [
  {
   "cell_type": "markdown",
   "metadata": {},
   "source": [
    "# ВЕБ-ЗАПРОСЫ\n",
    "Сначала разберемся как получить информацию с внешнего сервиса. Для этого есть много библиотек, самой распространенной является requests. Импортируем ее и отправим запрос к сервису:"
   ]
  },
  {
   "cell_type": "code",
   "execution_count": 1,
   "metadata": {},
   "outputs": [],
   "source": [
    "import requests\n",
    "\n",
    "r = requests.get('https://www.cbr-xml-daily.ru/daily_json.js')"
   ]
  },
  {
   "cell_type": "code",
   "execution_count": 2,
   "metadata": {},
   "outputs": [
    {
     "name": "stdout",
     "output_type": "stream",
     "text": [
      "<Response [200]>\n"
     ]
    }
   ],
   "source": [
    "print(r)"
   ]
  },
  {
   "cell_type": "markdown",
   "metadata": {},
   "source": [
    "Мы получили объект ответа, который содержит всю нужную нам информацию. По умолчанию на экран выводится HTTP-код ответа 200. Это означает, что запрос был корректным и сервер отдал нам нужную информацию. Более подробную информацию о кодах состояния HTTP можно прочитать по ссылке.\n",
    "\n",
    "Код ответа в виде числа можно получить с помощью метода status_code:"
   ]
  },
  {
   "cell_type": "code",
   "execution_count": 3,
   "metadata": {},
   "outputs": [
    {
     "name": "stdout",
     "output_type": "stream",
     "text": [
      "200\n"
     ]
    }
   ],
   "source": [
    "print(r.status_code)"
   ]
  },
  {
   "cell_type": "markdown",
   "metadata": {},
   "source": [
    "# СОДЕРЖИМОЕ ОТВЕТА\n",
    "Нужная нам информация содержится в тексте ответа сервера. Можно получить ее с помощью метода text:"
   ]
  },
  {
   "cell_type": "code",
   "execution_count": 4,
   "metadata": {},
   "outputs": [
    {
     "name": "stdout",
     "output_type": "stream",
     "text": [
      "{\n",
      "    \"Date\": \"2018-12-07T11:30:00+03:00\",\n",
      "    \"PreviousDate\": \"2018-12-06T11:30:00+03:00\",\n",
      "    \"PreviousURL\": \"\\/\\/www.cbr-xml-daily.ru\\/archive\\/2018\\/12\\/06\\/daily_json.js\",\n",
      "    \"Timestamp\": \"2018-12-06T21:00:00+03:00\",\n",
      "    \"Valute\": {\n",
      "        \"AUD\": {\n",
      "            \"ID\": \"R01010\",\n",
      "            \"NumCode\": \"036\",\n",
      "            \"CharCode\": \"AUD\",\n",
      "            \"Nominal\": 1,\n",
      "            \"Name\": \"Австралийский доллар\",\n",
      "            \"Value\": 48.2247,\n",
      "            \"Previous\": 48.7416\n",
      "        },\n",
      "        \"AZN\": {\n",
      "            \"ID\": \"R01020A\",\n",
      "            \"NumCode\": \"944\",\n",
      "            \"CharCode\": \"AZN\",\n",
      "            \"Nominal\": 1,\n",
      "            \"Name\": \"Азербайджанский манат\",\n",
      "            \"Value\": 39.3385,\n",
      "            \"Previous\": 39.3894\n",
      "        },\n",
      "        \"GBP\": {\n",
      "            \"ID\": \"R01035\",\n",
      "            \"NumCode\": \"826\",\n",
      "            \"CharCode\": \"GBP\",\n",
      "            \"Nominal\": 1,\n",
      "            \"Name\": \"Фунт стерлингов Соединенного королевства\",\n",
      "            \"Value\": 84.8036,\n",
      "            \"Previous\": 84.9469\n",
      "        },\n",
      "        \"AMD\": {\n",
      "            \"ID\": \"R01060\",\n",
      "            \"NumCode\": \"051\",\n",
      "            \"CharCode\": \"AMD\",\n",
      "            \"Nominal\": 100,\n",
      "            \"Name\": \"Армянских драмов\",\n",
      "            \"Value\": 13.7717,\n",
      "            \"Previous\": 13.7896\n",
      "        },\n",
      "        \"BYN\": {\n",
      "            \"ID\": \"R01090B\",\n",
      "            \"NumCode\": \"933\",\n",
      "            \"CharCode\": \"BYN\",\n",
      "            \"Nominal\": 1,\n",
      "            \"Name\": \"Белорусский рубль\",\n",
      "            \"Value\": 31.2838,\n",
      "            \"Previous\": 31.3141\n",
      "        },\n",
      "        \"BGN\": {\n",
      "            \"ID\": \"R01100\",\n",
      "            \"NumCode\": \"975\",\n",
      "            \"CharCode\": \"BGN\",\n",
      "            \"Nominal\": 1,\n",
      "            \"Name\": \"Болгарский лев\",\n",
      "            \"Value\": 38.646,\n",
      "            \"Previous\": 38.7095\n",
      "        },\n",
      "        \"BRL\": {\n",
      "            \"ID\": \"R01115\",\n",
      "            \"NumCode\": \"986\",\n",
      "            \"CharCode\": \"BRL\",\n",
      "            \"Nominal\": 1,\n",
      "            \"Name\": \"Бразильский реал\",\n",
      "            \"Value\": 17.2511,\n",
      "            \"Previous\": 17.3457\n",
      "        },\n",
      "        \"HUF\": {\n",
      "            \"ID\": \"R01135\",\n",
      "            \"NumCode\": \"348\",\n",
      "            \"CharCode\": \"HUF\",\n",
      "            \"Nominal\": 100,\n",
      "            \"Name\": \"Венгерских форинтов\",\n",
      "            \"Value\": 23.3512,\n",
      "            \"Previous\": 23.397\n",
      "        },\n",
      "        \"HKD\": {\n",
      "            \"ID\": \"R01200\",\n",
      "            \"NumCode\": \"344\",\n",
      "            \"CharCode\": \"HKD\",\n",
      "            \"Nominal\": 10,\n",
      "            \"Name\": \"Гонконгских долларов\",\n",
      "            \"Value\": 85.3947,\n",
      "            \"Previous\": 85.5613\n",
      "        },\n",
      "        \"DKK\": {\n",
      "            \"ID\": \"R01215\",\n",
      "            \"NumCode\": \"208\",\n",
      "            \"CharCode\": \"DKK\",\n",
      "            \"Nominal\": 1,\n",
      "            \"Name\": \"Датская крона\",\n",
      "            \"Value\": 10.1274,\n",
      "            \"Previous\": 10.1442\n",
      "        },\n",
      "        \"USD\": {\n",
      "            \"ID\": \"R01235\",\n",
      "            \"NumCode\": \"840\",\n",
      "            \"CharCode\": \"USD\",\n",
      "            \"Nominal\": 1,\n",
      "            \"Name\": \"Доллар США\",\n",
      "            \"Value\": 66.7377,\n",
      "            \"Previous\": 66.8242\n",
      "        },\n",
      "        \"EUR\": {\n",
      "            \"ID\": \"R01239\",\n",
      "            \"NumCode\": \"978\",\n",
      "            \"CharCode\": \"EUR\",\n",
      "            \"Nominal\": 1,\n",
      "            \"Name\": \"Евро\",\n",
      "            \"Value\": 75.6071,\n",
      "            \"Previous\": 75.7051\n",
      "        },\n",
      "        \"INR\": {\n",
      "            \"ID\": \"R01270\",\n",
      "            \"NumCode\": \"356\",\n",
      "            \"CharCode\": \"INR\",\n",
      "            \"Nominal\": 100,\n",
      "            \"Name\": \"Индийских рупий\",\n",
      "            \"Value\": 94.0299,\n",
      "            \"Previous\": 94.7391\n",
      "        },\n",
      "        \"KZT\": {\n",
      "            \"ID\": \"R01335\",\n",
      "            \"NumCode\": \"398\",\n",
      "            \"CharCode\": \"KZT\",\n",
      "            \"Nominal\": 100,\n",
      "            \"Name\": \"Казахстанских тенге\",\n",
      "            \"Value\": 18.0017,\n",
      "            \"Previous\": 18.0032\n",
      "        },\n",
      "        \"CAD\": {\n",
      "            \"ID\": \"R01350\",\n",
      "            \"NumCode\": \"124\",\n",
      "            \"CharCode\": \"CAD\",\n",
      "            \"Nominal\": 1,\n",
      "            \"Name\": \"Канадский доллар\",\n",
      "            \"Value\": 49.7226,\n",
      "            \"Previous\": 50.3043\n",
      "        },\n",
      "        \"KGS\": {\n",
      "            \"ID\": \"R01370\",\n",
      "            \"NumCode\": \"417\",\n",
      "            \"CharCode\": \"KGS\",\n",
      "            \"Nominal\": 100,\n",
      "            \"Name\": \"Киргизских сомов\",\n",
      "            \"Value\": 95.5443,\n",
      "            \"Previous\": 95.7367\n",
      "        },\n",
      "        \"CNY\": {\n",
      "            \"ID\": \"R01375\",\n",
      "            \"NumCode\": \"156\",\n",
      "            \"CharCode\": \"CNY\",\n",
      "            \"Nominal\": 10,\n",
      "            \"Name\": \"Китайских юаней\",\n",
      "            \"Value\": 96.9419,\n",
      "            \"Previous\": 97.3319\n",
      "        },\n",
      "        \"MDL\": {\n",
      "            \"ID\": \"R01500\",\n",
      "            \"NumCode\": \"498\",\n",
      "            \"CharCode\": \"MDL\",\n",
      "            \"Nominal\": 10,\n",
      "            \"Name\": \"Молдавских леев\",\n",
      "            \"Value\": 38.7447,\n",
      "            \"Previous\": 38.9305\n",
      "        },\n",
      "        \"NOK\": {\n",
      "            \"ID\": \"R01535\",\n",
      "            \"NumCode\": \"578\",\n",
      "            \"CharCode\": \"NOK\",\n",
      "            \"Nominal\": 10,\n",
      "            \"Name\": \"Норвежских крон\",\n",
      "            \"Value\": 78.1124,\n",
      "            \"Previous\": 78.3411\n",
      "        },\n",
      "        \"PLN\": {\n",
      "            \"ID\": \"R01565\",\n",
      "            \"NumCode\": \"985\",\n",
      "            \"CharCode\": \"PLN\",\n",
      "            \"Nominal\": 1,\n",
      "            \"Name\": \"Польский злотый\",\n",
      "            \"Value\": 17.6224,\n",
      "            \"Previous\": 17.6835\n",
      "        },\n",
      "        \"RON\": {\n",
      "            \"ID\": \"R01585F\",\n",
      "            \"NumCode\": \"946\",\n",
      "            \"CharCode\": \"RON\",\n",
      "            \"Nominal\": 1,\n",
      "            \"Name\": \"Румынский лей\",\n",
      "            \"Value\": 16.2379,\n",
      "            \"Previous\": 16.2716\n",
      "        },\n",
      "        \"XDR\": {\n",
      "            \"ID\": \"R01589\",\n",
      "            \"NumCode\": \"960\",\n",
      "            \"CharCode\": \"XDR\",\n",
      "            \"Nominal\": 1,\n",
      "            \"Name\": \"СДР (специальные права заимствования)\",\n",
      "            \"Value\": 92.4404,\n",
      "            \"Previous\": 92.7199\n",
      "        },\n",
      "        \"SGD\": {\n",
      "            \"ID\": \"R01625\",\n",
      "            \"NumCode\": \"702\",\n",
      "            \"CharCode\": \"SGD\",\n",
      "            \"Nominal\": 1,\n",
      "            \"Name\": \"Сингапурский доллар\",\n",
      "            \"Value\": 48.6994,\n",
      "            \"Previous\": 48.8588\n",
      "        },\n",
      "        \"TJS\": {\n",
      "            \"ID\": \"R01670\",\n",
      "            \"NumCode\": \"972\",\n",
      "            \"CharCode\": \"TJS\",\n",
      "            \"Nominal\": 10,\n",
      "            \"Name\": \"Таджикских сомони\",\n",
      "            \"Value\": 70.8468,\n",
      "            \"Previous\": 70.9386\n",
      "        },\n",
      "        \"TRY\": {\n",
      "            \"ID\": \"R01700J\",\n",
      "            \"NumCode\": \"949\",\n",
      "            \"CharCode\": \"TRY\",\n",
      "            \"Nominal\": 1,\n",
      "            \"Name\": \"Турецкая лира\",\n",
      "            \"Value\": 12.4511,\n",
      "            \"Previous\": 12.404\n",
      "        },\n",
      "        \"TMT\": {\n",
      "            \"ID\": \"R01710A\",\n",
      "            \"NumCode\": \"934\",\n",
      "            \"CharCode\": \"TMT\",\n",
      "            \"Nominal\": 1,\n",
      "            \"Name\": \"Новый туркменский манат\",\n",
      "            \"Value\": 19.0952,\n",
      "            \"Previous\": 19.1199\n",
      "        },\n",
      "        \"UZS\": {\n",
      "            \"ID\": \"R01717\",\n",
      "            \"NumCode\": \"860\",\n",
      "            \"CharCode\": \"UZS\",\n",
      "            \"Nominal\": 10000,\n",
      "            \"Name\": \"Узбекских сумов\",\n",
      "            \"Value\": 80.2637,\n",
      "            \"Previous\": 80.3678\n",
      "        },\n",
      "        \"UAH\": {\n",
      "            \"ID\": \"R01720\",\n",
      "            \"NumCode\": \"980\",\n",
      "            \"CharCode\": \"UAH\",\n",
      "            \"Nominal\": 10,\n",
      "            \"Name\": \"Украинских гривен\",\n",
      "            \"Value\": 23.9109,\n",
      "            \"Previous\": 23.8941\n",
      "        },\n",
      "        \"CZK\": {\n",
      "            \"ID\": \"R01760\",\n",
      "            \"NumCode\": \"203\",\n",
      "            \"CharCode\": \"CZK\",\n",
      "            \"Nominal\": 10,\n",
      "            \"Name\": \"Чешских крон\",\n",
      "            \"Value\": 29.189,\n",
      "            \"Previous\": 29.2268\n",
      "        },\n",
      "        \"SEK\": {\n",
      "            \"ID\": \"R01770\",\n",
      "            \"NumCode\": \"752\",\n",
      "            \"CharCode\": \"SEK\",\n",
      "            \"Nominal\": 10,\n",
      "            \"Name\": \"Шведских крон\",\n",
      "            \"Value\": 74.1596,\n",
      "            \"Previous\": 73.9615\n",
      "        },\n",
      "        \"CHF\": {\n",
      "            \"ID\": \"R01775\",\n",
      "            \"NumCode\": \"756\",\n",
      "            \"CharCode\": \"CHF\",\n",
      "            \"Nominal\": 1,\n",
      "            \"Name\": \"Швейцарский франк\",\n",
      "            \"Value\": 66.8246,\n",
      "            \"Previous\": 66.8509\n",
      "        },\n",
      "        \"ZAR\": {\n",
      "            \"ID\": \"R01810\",\n",
      "            \"NumCode\": \"710\",\n",
      "            \"CharCode\": \"ZAR\",\n",
      "            \"Nominal\": 10,\n",
      "            \"Name\": \"Южноафриканских рэндов\",\n",
      "            \"Value\": 48.0573,\n",
      "            \"Previous\": 48.476\n",
      "        },\n",
      "        \"KRW\": {\n",
      "            \"ID\": \"R01815\",\n",
      "            \"NumCode\": \"410\",\n",
      "            \"CharCode\": \"KRW\",\n",
      "            \"Nominal\": 1000,\n",
      "            \"Name\": \"Вон Республики Корея\",\n",
      "            \"Value\": 59.6591,\n",
      "            \"Previous\": 60.0068\n",
      "        },\n",
      "        \"JPY\": {\n",
      "            \"ID\": \"R01820\",\n",
      "            \"NumCode\": \"392\",\n",
      "            \"CharCode\": \"JPY\",\n",
      "            \"Nominal\": 100,\n",
      "            \"Name\": \"Японских иен\",\n",
      "            \"Value\": 59.0468,\n",
      "            \"Previous\": 59.1181\n",
      "        }\n",
      "    }\n",
      "}\n"
     ]
    }
   ],
   "source": [
    "print(r.text)"
   ]
  },
  {
   "cell_type": "markdown",
   "metadata": {},
   "source": [
    "Однако, работать с ответом сервера в виде строки крайне неудобно. Гораздо проще вызвать метод json(), который сразу преобразует строку в словарь:"
   ]
  },
  {
   "cell_type": "code",
   "execution_count": 5,
   "metadata": {},
   "outputs": [],
   "source": [
    "data = r.json()"
   ]
  },
  {
   "cell_type": "code",
   "execution_count": 6,
   "metadata": {
    "collapsed": true
   },
   "outputs": [
    {
     "data": {
      "text/plain": [
       "{'Date': '2018-12-07T11:30:00+03:00',\n",
       " 'PreviousDate': '2018-12-06T11:30:00+03:00',\n",
       " 'PreviousURL': '//www.cbr-xml-daily.ru/archive/2018/12/06/daily_json.js',\n",
       " 'Timestamp': '2018-12-06T21:00:00+03:00',\n",
       " 'Valute': {'AUD': {'ID': 'R01010',\n",
       "   'NumCode': '036',\n",
       "   'CharCode': 'AUD',\n",
       "   'Nominal': 1,\n",
       "   'Name': 'Австралийский доллар',\n",
       "   'Value': 48.2247,\n",
       "   'Previous': 48.7416},\n",
       "  'AZN': {'ID': 'R01020A',\n",
       "   'NumCode': '944',\n",
       "   'CharCode': 'AZN',\n",
       "   'Nominal': 1,\n",
       "   'Name': 'Азербайджанский манат',\n",
       "   'Value': 39.3385,\n",
       "   'Previous': 39.3894},\n",
       "  'GBP': {'ID': 'R01035',\n",
       "   'NumCode': '826',\n",
       "   'CharCode': 'GBP',\n",
       "   'Nominal': 1,\n",
       "   'Name': 'Фунт стерлингов Соединенного королевства',\n",
       "   'Value': 84.8036,\n",
       "   'Previous': 84.9469},\n",
       "  'AMD': {'ID': 'R01060',\n",
       "   'NumCode': '051',\n",
       "   'CharCode': 'AMD',\n",
       "   'Nominal': 100,\n",
       "   'Name': 'Армянских драмов',\n",
       "   'Value': 13.7717,\n",
       "   'Previous': 13.7896},\n",
       "  'BYN': {'ID': 'R01090B',\n",
       "   'NumCode': '933',\n",
       "   'CharCode': 'BYN',\n",
       "   'Nominal': 1,\n",
       "   'Name': 'Белорусский рубль',\n",
       "   'Value': 31.2838,\n",
       "   'Previous': 31.3141},\n",
       "  'BGN': {'ID': 'R01100',\n",
       "   'NumCode': '975',\n",
       "   'CharCode': 'BGN',\n",
       "   'Nominal': 1,\n",
       "   'Name': 'Болгарский лев',\n",
       "   'Value': 38.646,\n",
       "   'Previous': 38.7095},\n",
       "  'BRL': {'ID': 'R01115',\n",
       "   'NumCode': '986',\n",
       "   'CharCode': 'BRL',\n",
       "   'Nominal': 1,\n",
       "   'Name': 'Бразильский реал',\n",
       "   'Value': 17.2511,\n",
       "   'Previous': 17.3457},\n",
       "  'HUF': {'ID': 'R01135',\n",
       "   'NumCode': '348',\n",
       "   'CharCode': 'HUF',\n",
       "   'Nominal': 100,\n",
       "   'Name': 'Венгерских форинтов',\n",
       "   'Value': 23.3512,\n",
       "   'Previous': 23.397},\n",
       "  'HKD': {'ID': 'R01200',\n",
       "   'NumCode': '344',\n",
       "   'CharCode': 'HKD',\n",
       "   'Nominal': 10,\n",
       "   'Name': 'Гонконгских долларов',\n",
       "   'Value': 85.3947,\n",
       "   'Previous': 85.5613},\n",
       "  'DKK': {'ID': 'R01215',\n",
       "   'NumCode': '208',\n",
       "   'CharCode': 'DKK',\n",
       "   'Nominal': 1,\n",
       "   'Name': 'Датская крона',\n",
       "   'Value': 10.1274,\n",
       "   'Previous': 10.1442},\n",
       "  'USD': {'ID': 'R01235',\n",
       "   'NumCode': '840',\n",
       "   'CharCode': 'USD',\n",
       "   'Nominal': 1,\n",
       "   'Name': 'Доллар США',\n",
       "   'Value': 66.7377,\n",
       "   'Previous': 66.8242},\n",
       "  'EUR': {'ID': 'R01239',\n",
       "   'NumCode': '978',\n",
       "   'CharCode': 'EUR',\n",
       "   'Nominal': 1,\n",
       "   'Name': 'Евро',\n",
       "   'Value': 75.6071,\n",
       "   'Previous': 75.7051},\n",
       "  'INR': {'ID': 'R01270',\n",
       "   'NumCode': '356',\n",
       "   'CharCode': 'INR',\n",
       "   'Nominal': 100,\n",
       "   'Name': 'Индийских рупий',\n",
       "   'Value': 94.0299,\n",
       "   'Previous': 94.7391},\n",
       "  'KZT': {'ID': 'R01335',\n",
       "   'NumCode': '398',\n",
       "   'CharCode': 'KZT',\n",
       "   'Nominal': 100,\n",
       "   'Name': 'Казахстанских тенге',\n",
       "   'Value': 18.0017,\n",
       "   'Previous': 18.0032},\n",
       "  'CAD': {'ID': 'R01350',\n",
       "   'NumCode': '124',\n",
       "   'CharCode': 'CAD',\n",
       "   'Nominal': 1,\n",
       "   'Name': 'Канадский доллар',\n",
       "   'Value': 49.7226,\n",
       "   'Previous': 50.3043},\n",
       "  'KGS': {'ID': 'R01370',\n",
       "   'NumCode': '417',\n",
       "   'CharCode': 'KGS',\n",
       "   'Nominal': 100,\n",
       "   'Name': 'Киргизских сомов',\n",
       "   'Value': 95.5443,\n",
       "   'Previous': 95.7367},\n",
       "  'CNY': {'ID': 'R01375',\n",
       "   'NumCode': '156',\n",
       "   'CharCode': 'CNY',\n",
       "   'Nominal': 10,\n",
       "   'Name': 'Китайских юаней',\n",
       "   'Value': 96.9419,\n",
       "   'Previous': 97.3319},\n",
       "  'MDL': {'ID': 'R01500',\n",
       "   'NumCode': '498',\n",
       "   'CharCode': 'MDL',\n",
       "   'Nominal': 10,\n",
       "   'Name': 'Молдавских леев',\n",
       "   'Value': 38.7447,\n",
       "   'Previous': 38.9305},\n",
       "  'NOK': {'ID': 'R01535',\n",
       "   'NumCode': '578',\n",
       "   'CharCode': 'NOK',\n",
       "   'Nominal': 10,\n",
       "   'Name': 'Норвежских крон',\n",
       "   'Value': 78.1124,\n",
       "   'Previous': 78.3411},\n",
       "  'PLN': {'ID': 'R01565',\n",
       "   'NumCode': '985',\n",
       "   'CharCode': 'PLN',\n",
       "   'Nominal': 1,\n",
       "   'Name': 'Польский злотый',\n",
       "   'Value': 17.6224,\n",
       "   'Previous': 17.6835},\n",
       "  'RON': {'ID': 'R01585F',\n",
       "   'NumCode': '946',\n",
       "   'CharCode': 'RON',\n",
       "   'Nominal': 1,\n",
       "   'Name': 'Румынский лей',\n",
       "   'Value': 16.2379,\n",
       "   'Previous': 16.2716},\n",
       "  'XDR': {'ID': 'R01589',\n",
       "   'NumCode': '960',\n",
       "   'CharCode': 'XDR',\n",
       "   'Nominal': 1,\n",
       "   'Name': 'СДР (специальные права заимствования)',\n",
       "   'Value': 92.4404,\n",
       "   'Previous': 92.7199},\n",
       "  'SGD': {'ID': 'R01625',\n",
       "   'NumCode': '702',\n",
       "   'CharCode': 'SGD',\n",
       "   'Nominal': 1,\n",
       "   'Name': 'Сингапурский доллар',\n",
       "   'Value': 48.6994,\n",
       "   'Previous': 48.8588},\n",
       "  'TJS': {'ID': 'R01670',\n",
       "   'NumCode': '972',\n",
       "   'CharCode': 'TJS',\n",
       "   'Nominal': 10,\n",
       "   'Name': 'Таджикских сомони',\n",
       "   'Value': 70.8468,\n",
       "   'Previous': 70.9386},\n",
       "  'TRY': {'ID': 'R01700J',\n",
       "   'NumCode': '949',\n",
       "   'CharCode': 'TRY',\n",
       "   'Nominal': 1,\n",
       "   'Name': 'Турецкая лира',\n",
       "   'Value': 12.4511,\n",
       "   'Previous': 12.404},\n",
       "  'TMT': {'ID': 'R01710A',\n",
       "   'NumCode': '934',\n",
       "   'CharCode': 'TMT',\n",
       "   'Nominal': 1,\n",
       "   'Name': 'Новый туркменский манат',\n",
       "   'Value': 19.0952,\n",
       "   'Previous': 19.1199},\n",
       "  'UZS': {'ID': 'R01717',\n",
       "   'NumCode': '860',\n",
       "   'CharCode': 'UZS',\n",
       "   'Nominal': 10000,\n",
       "   'Name': 'Узбекских сумов',\n",
       "   'Value': 80.2637,\n",
       "   'Previous': 80.3678},\n",
       "  'UAH': {'ID': 'R01720',\n",
       "   'NumCode': '980',\n",
       "   'CharCode': 'UAH',\n",
       "   'Nominal': 10,\n",
       "   'Name': 'Украинских гривен',\n",
       "   'Value': 23.9109,\n",
       "   'Previous': 23.8941},\n",
       "  'CZK': {'ID': 'R01760',\n",
       "   'NumCode': '203',\n",
       "   'CharCode': 'CZK',\n",
       "   'Nominal': 10,\n",
       "   'Name': 'Чешских крон',\n",
       "   'Value': 29.189,\n",
       "   'Previous': 29.2268},\n",
       "  'SEK': {'ID': 'R01770',\n",
       "   'NumCode': '752',\n",
       "   'CharCode': 'SEK',\n",
       "   'Nominal': 10,\n",
       "   'Name': 'Шведских крон',\n",
       "   'Value': 74.1596,\n",
       "   'Previous': 73.9615},\n",
       "  'CHF': {'ID': 'R01775',\n",
       "   'NumCode': '756',\n",
       "   'CharCode': 'CHF',\n",
       "   'Nominal': 1,\n",
       "   'Name': 'Швейцарский франк',\n",
       "   'Value': 66.8246,\n",
       "   'Previous': 66.8509},\n",
       "  'ZAR': {'ID': 'R01810',\n",
       "   'NumCode': '710',\n",
       "   'CharCode': 'ZAR',\n",
       "   'Nominal': 10,\n",
       "   'Name': 'Южноафриканских рэндов',\n",
       "   'Value': 48.0573,\n",
       "   'Previous': 48.476},\n",
       "  'KRW': {'ID': 'R01815',\n",
       "   'NumCode': '410',\n",
       "   'CharCode': 'KRW',\n",
       "   'Nominal': 1000,\n",
       "   'Name': 'Вон Республики Корея',\n",
       "   'Value': 59.6591,\n",
       "   'Previous': 60.0068},\n",
       "  'JPY': {'ID': 'R01820',\n",
       "   'NumCode': '392',\n",
       "   'CharCode': 'JPY',\n",
       "   'Nominal': 100,\n",
       "   'Name': 'Японских иен',\n",
       "   'Value': 59.0468,\n",
       "   'Previous': 59.1181}}}"
      ]
     },
     "execution_count": 6,
     "metadata": {},
     "output_type": "execute_result"
    }
   ],
   "source": [
    "data"
   ]
  },
  {
   "cell_type": "markdown",
   "metadata": {},
   "source": [
    "# ИЗВЛЕКАЕМ НУЖНЫЕ ДАННЫЕ\n",
    "Теперь очень просто извлечь данные о курсах валют из ответа сервера. Для этого достаточно обратиться к ключу словаря 'Valute':"
   ]
  },
  {
   "cell_type": "code",
   "execution_count": 9,
   "metadata": {},
   "outputs": [
    {
     "data": {
      "text/plain": [
       "'R01270'"
      ]
     },
     "execution_count": 9,
     "metadata": {},
     "output_type": "execute_result"
    }
   ],
   "source": [
    "data['Valute']['INR']['ID']"
   ]
  },
  {
   "cell_type": "markdown",
   "metadata": {},
   "source": [
    "# ОФОРМЛЯЕМ ФУНКЦИЮ\n",
    "Давайте оформим наши вычисления в отдельную фукнцию, которой будет удобно пользоваться. На вход она должна принимать два параметра:\n",
    "\n",
    "1. Название валюты currency. Например, 'EUR' или 'USD'.\n",
    "\n",
    "2. Формат ответа format. При значении 'full' будем отдавать все что знаем о валюте. Например, для currency = 'USD':\n",
    "```python\n",
    "{'CharCode': 'USD',\n",
    "\n",
    "   'ID': 'R01235',\n",
    "\n",
    "   'Name': 'Доллар США',\n",
    "\n",
    "   'Nominal': 1,\n",
    "\n",
    "   'NumCode': '840',\n",
    "\n",
    "   'Previous': 68.2505,\n",
    "\n",
    "   'Value': 69.0286}\n",
    "```\n",
    "\n",
    "А при значении format = 'value' только значение ключа 'Value', т. е. курс: 69.0286.\n",
    "\n",
    "Оформим наши требования в коде:"
   ]
  },
  {
   "cell_type": "code",
   "execution_count": 10,
   "metadata": {},
   "outputs": [],
   "source": [
    "def exchange_rates(currency, format='full'):\n",
    "\n",
    "    response = requests.get('https://www.cbr-xml-daily.ru/daily_json.js').json()['Valute']\n",
    "    data = response[currency]    \n",
    "\n",
    "    if format == 'full':\n",
    "        return data    \n",
    "\n",
    "    elif format == 'value':\n",
    "        return data['Value']"
   ]
  },
  {
   "cell_type": "code",
   "execution_count": 12,
   "metadata": {},
   "outputs": [
    {
     "data": {
      "text/plain": [
       "66.7377"
      ]
     },
     "execution_count": 12,
     "metadata": {},
     "output_type": "execute_result"
    }
   ],
   "source": [
    "exchange_rates('USD', 'value')"
   ]
  },
  {
   "cell_type": "markdown",
   "metadata": {},
   "source": [
    "# НЕКОРРЕКТНАЯ ВАЛЮТА\n",
    "Перед тем как потестировать нашу функцию добавим еще одну проверку: если пользователь ввел несуществующую валюту, то надо вернуть предупреждение. Аналогичную проверку добавим и для формата:"
   ]
  },
  {
   "cell_type": "code",
   "execution_count": 13,
   "metadata": {},
   "outputs": [],
   "source": [
    "def exchange_rates(currency, format='full'):\n",
    "\n",
    "    response = requests.get('https://www.cbr-xml-daily.ru/daily_json.js').json()['Valute']\n",
    "    \n",
    "    if currency in response:\n",
    "        data = response[currency]   \n",
    "\n",
    "    else:\n",
    "        return 'Unknown currency!'    \n",
    "\n",
    "    if format == 'full':\n",
    "        return data    \n",
    "\n",
    "    elif format == 'value':\n",
    "        return data['Value']    \n",
    "\n",
    "    else:\n",
    "        return 'Unknown format!'"
   ]
  },
  {
   "cell_type": "markdown",
   "metadata": {},
   "source": [
    "Теперь проверим корректность работы:\n",
    "\n",
    "1. Валюта корректна, формат  'full':"
   ]
  },
  {
   "cell_type": "code",
   "execution_count": 14,
   "metadata": {},
   "outputs": [
    {
     "data": {
      "text/plain": [
       "{'ID': 'R01235',\n",
       " 'NumCode': '840',\n",
       " 'CharCode': 'USD',\n",
       " 'Nominal': 1,\n",
       " 'Name': 'Доллар США',\n",
       " 'Value': 66.7377,\n",
       " 'Previous': 66.8242}"
      ]
     },
     "execution_count": 14,
     "metadata": {},
     "output_type": "execute_result"
    }
   ],
   "source": [
    "exchange_rates(currency='USD')"
   ]
  },
  {
   "cell_type": "code",
   "execution_count": 15,
   "metadata": {},
   "outputs": [
    {
     "data": {
      "text/plain": [
       "75.6071"
      ]
     },
     "execution_count": 15,
     "metadata": {},
     "output_type": "execute_result"
    }
   ],
   "source": [
    "exchange_rates('EUR', 'value')"
   ]
  },
  {
   "cell_type": "code",
   "execution_count": 16,
   "metadata": {},
   "outputs": [
    {
     "data": {
      "text/plain": [
       "'Unknown currency!'"
      ]
     },
     "execution_count": 16,
     "metadata": {},
     "output_type": "execute_result"
    }
   ],
   "source": [
    "exchange_rates('EUR/USD')"
   ]
  },
  {
   "cell_type": "code",
   "execution_count": 17,
   "metadata": {},
   "outputs": [
    {
     "data": {
      "text/plain": [
       "'Unknown format!'"
      ]
     },
     "execution_count": 17,
     "metadata": {},
     "output_type": "execute_result"
    }
   ],
   "source": [
    "exchange_rates('EUR', '12345')"
   ]
  },
  {
   "cell_type": "markdown",
   "metadata": {},
   "source": [
    "# Проверочное задание\n",
    "(1 балл из 1)\n",
    "Проверочное задание\n",
    "\n",
    "Напишите функцию, которая по ID валюты возвращает ее название на русском языке. Например, для кода 'R01700J' это 'Турецкая лира'.\n",
    "\n",
    "Какое значение должна вернуть функция для ID валюты 'R01565'?"
   ]
  },
  {
   "cell_type": "code",
   "execution_count": 28,
   "metadata": {},
   "outputs": [],
   "source": [
    "def currency_name(valute_id):\n",
    "    r = requests.get('https://www.cbr-xml-daily.ru/daily_json.js').json()['Valute']\n",
    "    for key in r:\n",
    "        if r[key]['ID'] == valute_id:\n",
    "            return r[key]['Name']\n",
    "    return 'Valute was not found'"
   ]
  },
  {
   "cell_type": "code",
   "execution_count": 31,
   "metadata": {},
   "outputs": [
    {
     "data": {
      "text/plain": [
       "'Польский злотый'"
      ]
     },
     "execution_count": 31,
     "metadata": {},
     "output_type": "execute_result"
    }
   ],
   "source": [
    "currency_name('R01565')"
   ]
  },
  {
   "cell_type": "markdown",
   "metadata": {},
   "source": []
  }
 ],
 "metadata": {
  "kernelspec": {
   "display_name": "Python 3",
   "language": "python",
   "name": "python3"
  },
  "language_info": {
   "codemirror_mode": {
    "name": "ipython",
    "version": 3
   },
   "file_extension": ".py",
   "mimetype": "text/x-python",
   "name": "python",
   "nbconvert_exporter": "python",
   "pygments_lexer": "ipython3",
   "version": "3.6.5"
  }
 },
 "nbformat": 4,
 "nbformat_minor": 2
}
