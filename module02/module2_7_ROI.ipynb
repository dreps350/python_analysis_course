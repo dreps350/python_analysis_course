{
 "cells": [
  {
   "cell_type": "markdown",
   "metadata": {},
   "source": [
    "# ФОРМУЛИРОВКА ЗАДАЧИ"
   ]
  },
  {
   "cell_type": "markdown",
   "metadata": {},
   "source": [
    "Используем файл data_no_header.txt\n",
    "\n",
    "Итак, мы готовы перейти к решению основной задачи этого модуля - подсчету ROI. Сформулируем задачу.\n",
    "\n",
    "Для статистики покупок в файле data.txt необходимо посчитать какую прибыль нам принес каждый заказ и каждый канал. Имеется набор условий по подсчету расходов:\n",
    "\n",
    "С партнерами канала cpa-partners мы делимся долей выручки. Т. е. к расходам в столбце cost надо прибавлять определенный процент от столбца amount_paid. Каждый канал cpa-partners имеет свой размер комиссии:\n",
    "\n",
    "    - burgerclub 30%\n",
    "\n",
    "    - food-delivery 25%\n",
    "\n",
    "У канала cpc-partners схема попроще - фиксированная стоимость с каждого заказа:\n",
    "\n",
    "    - city-magazine 7 рублей\n",
    "\n",
    "    - foody 9 рублей\n",
    "\n",
    "У остальных каналов считаем расходы за период фиксированными. Условно 1000 рублей на все заказы. Т. е. надо равномерно распределить эти расходы на каждый заказ на все каналы, кроме cpa-partners или cpc-partners.\n",
    "\n",
    "В итоге для каждого типа канала (назовем их CPA, CPC и Fixed) необходимо посчитать показатель ROI (return on investment). Т. е. отношение прибыли (amount_paid - cost) к расходам cost"
   ]
  },
  {
   "cell_type": "markdown",
   "metadata": {},
   "source": [
    "## ПОДГОТОВКА ДАННЫХ\n",
    "Заведем словари, в которых будут содержаться комиссии трех типов"
   ]
  },
  {
   "cell_type": "code",
   "execution_count": 1,
   "metadata": {},
   "outputs": [],
   "source": [
    "cpa_commission = {\n",
    "    'burgerclub': 0.3,\n",
    "    'food-delivery': 0.25\n",
    "}\n",
    "\n",
    "cpc_commission = {\n",
    "    'city-magazine': 7,\n",
    "    'foody': 9\n",
    "}"
   ]
  },
  {
   "cell_type": "markdown",
   "metadata": {},
   "source": [
    "В файле 266 заказов из остальных каналов, поэтому можно рассчитать фиксированную стоимость для этого случая как 1000 / 266. Примем значение равным 4 рублям."
   ]
  },
  {
   "cell_type": "code",
   "execution_count": 2,
   "metadata": {},
   "outputs": [],
   "source": [
    "fixed_commission = 4"
   ]
  },
  {
   "cell_type": "markdown",
   "metadata": {},
   "source": [
    "## УПРАЖНЕНИЕ \"НА ПОДУМАТЬ\"\n",
    "В подобных задачах прежде чем писать код лучше заранее набросать небольшой план. Например, написать основные шаги, по которым вы будете строить алгоритм. Т. к. в условии прописан набор правил, то надо учитывать, что в будущем эти правила могут измениться или пополниться новыми. Скорее всего для обработки правил лучше написать отдельную функцию, чтобы при любых изменениях ее можно было быстро проверить.\n",
    "\n",
    "Какие еще шаги алгоритма вы можете предусмотреть, исходя из собственного опыта?"
   ]
  },
  {
   "cell_type": "markdown",
   "metadata": {},
   "source": [
    "## ОПРЕДЕЛЕНИЕ КОМИССИИ ПО ИСТОЧНИКУ\n",
    "В предыдущем упражнении вы продумали первые шаги (если нет, то крайне советуем это сделать перед прочтением нашего решения задачи). Теперь обратите внимание, какие шаги предлагаем мы. \n",
    "\n",
    "Файл data_no_header.txt\n",
    "\n",
    "Напишем функцию, которая по названию источника source и сумме заказа будет возвращать значение комиссии.\n",
    "```python"
   ]
  },
  {
   "cell_type": "code",
   "execution_count": 3,
   "metadata": {},
   "outputs": [],
   "source": [
    "def costs_classification( amount_paid, source ):\n",
    "    \"\"\"\n",
    "    Функция по названию канала source возвращает размер комиссии.\n",
    "    Размеры комиссий берутся из словарей cpa_commission, cpc_commission и значения fixed_commission\n",
    "    \"\"\"\n",
    "    # если источник source входит в словарь cpa_commission, то возвращаем долю от выручки\n",
    "    if source in cpa_commission:\n",
    "        return amount_paid * cpa_commission[ source ]\n",
    "    # в случае партнеров CPC стоимость расходов постоянная\n",
    "    if source in cpc_commission:\n",
    "        return cpc_commission[ source ]\n",
    "    # если ни один случай не подходит, то возвращаем фиксированную стоимость fixed_commission\n",
    "    return fixed_commission"
   ]
  },
  {
   "cell_type": "markdown",
   "metadata": {},
   "source": [
    "Протестируем как работает. В качестве выручки возьмем 10 рублей"
   ]
  },
  {
   "cell_type": "code",
   "execution_count": 4,
   "metadata": {},
   "outputs": [
    {
     "data": {
      "text/plain": [
       "3.0"
      ]
     },
     "execution_count": 4,
     "metadata": {},
     "output_type": "execute_result"
    }
   ],
   "source": [
    "costs_classification( 10, 'burgerclub' ) # 30% от 10 рублей"
   ]
  },
  {
   "cell_type": "markdown",
   "metadata": {},
   "source": [
    "Результат:\n",
    "```python\n",
    "3.0\n",
    "```"
   ]
  },
  {
   "cell_type": "code",
   "execution_count": 5,
   "metadata": {},
   "outputs": [
    {
     "data": {
      "text/plain": [
       "9"
      ]
     },
     "execution_count": 5,
     "metadata": {},
     "output_type": "execute_result"
    }
   ],
   "source": [
    "costs_classification( 10, 'foody' ) # фиксированная сумма в 9 рублей"
   ]
  },
  {
   "cell_type": "markdown",
   "metadata": {},
   "source": [
    "Результат:\n",
    "```python\n",
    "9\n",
    "```"
   ]
  },
  {
   "cell_type": "markdown",
   "metadata": {},
   "source": [
    "## ПОДСЧЕТ РАСХОДА ДЛЯ СТРОКИ\n",
    "Похоже все верно. Теперь можем построить функцию, которая для данной строчки line считает расходы. Т. к. нам нужен показатель ROI, то давайте на выходе функция будет возвращать еще и доход. Чтобы по этим двум значениям при проходе в цикле сразу считать ROI.\n",
    "\n",
    "Для расчета суммарного расхода необходимо взять сумму из столбца cost и прибавить комиссию, которая вычисляет функция costs_classification. Наша строка имеет вид:"
   ]
  },
  {
   "cell_type": "code",
   "execution_count": 6,
   "metadata": {},
   "outputs": [],
   "source": [
    "line = ['40443', '05.10.2016 23:18', '1010', '0,000925926', 'seo', 'google', '0', '6243', '20,20']"
   ]
  },
  {
   "cell_type": "markdown",
   "metadata": {},
   "source": [
    "Сначала выделим из строки название источника, расход (столбец cost) и выручку (столбец amount_paid)"
   ]
  },
  {
   "cell_type": "markdown",
   "metadata": {},
   "source": [
    "##### Функция для выбора нужных полей"
   ]
  },
  {
   "cell_type": "code",
   "execution_count": 7,
   "metadata": {},
   "outputs": [],
   "source": [
    "def expense_and_income( line ):\n",
    "    \"\"\"\n",
    "    Функция для строки line возвращает итоговый расход и доход\n",
    "    \"\"\"\n",
    "    source = line[5]\n",
    "    amount_paid = float(line[-1].replace(',', '.'))\n",
    "    cost = float(line[6].replace(',', '.'))\n",
    "    return source, cost, amount_paid"
   ]
  },
  {
   "cell_type": "markdown",
   "metadata": {},
   "source": [
    "Проверим корректность работы"
   ]
  },
  {
   "cell_type": "code",
   "execution_count": 8,
   "metadata": {},
   "outputs": [
    {
     "data": {
      "text/plain": [
       "('google', 0.0, 20.2)"
      ]
     },
     "execution_count": 8,
     "metadata": {},
     "output_type": "execute_result"
    }
   ],
   "source": [
    "expense_and_income( line )"
   ]
  },
  {
   "cell_type": "markdown",
   "metadata": {},
   "source": [
    "Теперь добавим к расчету комиссию партнера. Используем для этого уже проверенную функцию costs_classification"
   ]
  },
  {
   "cell_type": "code",
   "execution_count": 9,
   "metadata": {},
   "outputs": [],
   "source": [
    "def expense_and_income( line ):\n",
    "    \"\"\"\n",
    "    Функция для строки line возвращает итоговый расход и доход\n",
    "    \"\"\"\n",
    "    source = line[5]\n",
    "    amount_paid = float(line[-1].replace(',', '.'))\n",
    "    cost = float(line[6].replace(',', '.'))\n",
    "    partner_comission = costs_classification(amount_paid, source)\n",
    "    return source, cost, amount_paid, partner_comission"
   ]
  },
  {
   "cell_type": "code",
   "execution_count": 10,
   "metadata": {},
   "outputs": [
    {
     "data": {
      "text/plain": [
       "('google', 0.0, 20.2, 4)"
      ]
     },
     "execution_count": 10,
     "metadata": {},
     "output_type": "execute_result"
    }
   ],
   "source": [
    "expense_and_income(line)"
   ]
  },
  {
   "cell_type": "markdown",
   "metadata": {},
   "source": [
    "## СЧИТАЕМ ROI\n",
    "Осталось прибавить сумму partner_comission к расходам cost и потестировать корректность работы нашей функции"
   ]
  },
  {
   "cell_type": "code",
   "execution_count": 11,
   "metadata": {},
   "outputs": [],
   "source": [
    "def expense_and_income( line ):\n",
    "    \"\"\"\n",
    "    Функция для строки line возвращает итоговый расход и доход\n",
    "    \"\"\"\n",
    "    source = line[5]\n",
    "    amount_paid = float( line[-1].replace( ',', '.' ) )\n",
    "    cost = float( line[6].replace( ',', '.' ) )\n",
    "    partner_comission = costs_classification( amount_paid, source )\n",
    "    return source, cost + partner_comission, amount_paid"
   ]
  },
  {
   "cell_type": "markdown",
   "metadata": {},
   "source": [
    "Можно провести тесты\n",
    "\n",
    "должны получить расходы 20.2 * 0.3 + 1 = 7.06"
   ]
  },
  {
   "cell_type": "code",
   "execution_count": 12,
   "metadata": {},
   "outputs": [
    {
     "data": {
      "text/plain": [
       "('burgerclub', 7.06, 20.2)"
      ]
     },
     "execution_count": 12,
     "metadata": {},
     "output_type": "execute_result"
    }
   ],
   "source": [
    "expense_and_income( ['40443', '05.10.2016 23:18', '1010', '0,000925926', 'seo', 'burgerclub', '1', '6243', '20,20'] )"
   ]
  },
  {
   "cell_type": "markdown",
   "metadata": {},
   "source": [
    "Теперь прогоним через функцию весь файл и запишем результат в словарь roi_stats"
   ]
  },
  {
   "cell_type": "code",
   "execution_count": 13,
   "metadata": {},
   "outputs": [],
   "source": [
    "roi_stats = {}\n",
    "\n",
    "with open('./module_2_files/data_no_header.txt', 'r') as f:\n",
    "    for line in f:\n",
    "        line = line.strip().split('\\t')\n",
    "        source, cost, income = expense_and_income( line )\n",
    "        if source in roi_stats:\n",
    "            roi_stats[source]['cost'] += cost\n",
    "            roi_stats[source]['income'] += income\n",
    "        else:\n",
    "            roi_stats[source] = {}\n",
    "            roi_stats[source]['cost'] = cost\n",
    "            roi_stats[source]['income'] = income"
   ]
  },
  {
   "cell_type": "code",
   "execution_count": 14,
   "metadata": {},
   "outputs": [
    {
     "data": {
      "text/plain": [
       "{'google': {'cost': 314.9, 'income': 1318.8000000000002},\n",
       " 'yandex': {'cost': 423.36999999999983, 'income': 1818.1999999999998},\n",
       " 'promo': {'cost': 272.0, 'income': 1180.8},\n",
       " 'burgerclub': {'cost': 70.276, 'income': 185.39999999999998},\n",
       " 'food-delivery': {'cost': 67.68, 'income': 173.40000000000003},\n",
       " 'city-magazine': {'cost': 35.85, 'income': 81.0},\n",
       " 'foody': {'cost': 27.299999999999997, 'income': 66.0},\n",
       " 'newsletter': {'cost': 20.0, 'income': 98.20000000000002},\n",
       " 'facebook': {'cost': 20.0, 'income': 90.60000000000001},\n",
       " 'direct': {'cost': 20.0, 'income': 88.4},\n",
       " 'vk': {'cost': 8.0, 'income': 29.0}}"
      ]
     },
     "execution_count": 14,
     "metadata": {},
     "output_type": "execute_result"
    }
   ],
   "source": [
    "roi_stats"
   ]
  },
  {
   "cell_type": "markdown",
   "metadata": {},
   "source": [
    "# ДОБАВЛЯЕМ РАСЧЕТ ПО ФОРМУЛЕ\n",
    "Для каждого источника в словаре roi_stats есть значение расходов (cost) и дохода (income). Заведем новую ячейку и добавим еще один ключ с расчетом ROI:"
   ]
  },
  {
   "cell_type": "code",
   "execution_count": 15,
   "metadata": {},
   "outputs": [],
   "source": [
    "for source, data in roi_stats.items():\n",
    "    data['roi'] = (data['income'] - data['cost']) / data['cost']"
   ]
  },
  {
   "cell_type": "markdown",
   "metadata": {},
   "source": [
    "Итоговый результат:"
   ]
  },
  {
   "cell_type": "code",
   "execution_count": 19,
   "metadata": {},
   "outputs": [
    {
     "name": "stdout",
     "output_type": "stream",
     "text": [
      "google\t\t3.19\n",
      "yandex\t\t3.29\n",
      "promo\t\t3.34\n",
      "burgerclub\t\t1.64\n",
      "food-delivery\t\t1.56\n",
      "city-magazine\t\t1.26\n",
      "foody\t\t1.42\n",
      "newsletter\t\t3.91\n",
      "facebook\t\t3.53\n",
      "direct\t\t3.42\n",
      "vk\t\t2.62\n"
     ]
    }
   ],
   "source": [
    "for source, data in roi_stats.items():\n",
    "    print('{}\\t\\t{:.2f}'.format(source, data['roi']))"
   ]
  },
  {
   "cell_type": "code",
   "execution_count": 20,
   "metadata": {},
   "outputs": [
    {
     "data": {
      "text/plain": [
       "{'google': {'cost': 314.9,\n",
       "  'income': 1318.8000000000002,\n",
       "  'roi': 3.1879961892664346},\n",
       " 'yandex': {'cost': 423.36999999999983,\n",
       "  'income': 1818.1999999999998,\n",
       "  'roi': 3.2945886576753205},\n",
       " 'promo': {'cost': 272.0, 'income': 1180.8, 'roi': 3.341176470588235},\n",
       " 'burgerclub': {'cost': 70.276,\n",
       "  'income': 185.39999999999998,\n",
       "  'roi': 1.6381695031020547},\n",
       " 'food-delivery': {'cost': 67.68,\n",
       "  'income': 173.40000000000003,\n",
       "  'roi': 1.5620567375886527},\n",
       " 'city-magazine': {'cost': 35.85, 'income': 81.0, 'roi': 1.2594142259414225},\n",
       " 'foody': {'cost': 27.299999999999997,\n",
       "  'income': 66.0,\n",
       "  'roi': 1.4175824175824179},\n",
       " 'newsletter': {'cost': 20.0,\n",
       "  'income': 98.20000000000002,\n",
       "  'roi': 3.910000000000001},\n",
       " 'facebook': {'cost': 20.0,\n",
       "  'income': 90.60000000000001,\n",
       "  'roi': 3.5300000000000002},\n",
       " 'direct': {'cost': 20.0, 'income': 88.4, 'roi': 3.4200000000000004},\n",
       " 'vk': {'cost': 8.0, 'income': 29.0, 'roi': 2.625}}"
      ]
     },
     "execution_count": 20,
     "metadata": {},
     "output_type": "execute_result"
    }
   ],
   "source": [
    "roi_stats"
   ]
  },
  {
   "cell_type": "code",
   "execution_count": null,
   "metadata": {},
   "outputs": [],
   "source": []
  }
 ],
 "metadata": {
  "kernelspec": {
   "display_name": "Python 3",
   "language": "python",
   "name": "python3"
  },
  "language_info": {
   "codemirror_mode": {
    "name": "ipython",
    "version": 3
   },
   "file_extension": ".py",
   "mimetype": "text/x-python",
   "name": "python",
   "nbconvert_exporter": "python",
   "pygments_lexer": "ipython3",
   "version": "3.6.5"
  }
 },
 "nbformat": 4,
 "nbformat_minor": 2
}
