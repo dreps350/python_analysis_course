{
 "cells": [
  {
   "cell_type": "code",
   "execution_count": 10,
   "metadata": {},
   "outputs": [],
   "source": [
    "import requests\n",
    "import time"
   ]
  },
  {
   "cell_type": "code",
   "execution_count": 7,
   "metadata": {},
   "outputs": [],
   "source": [
    "def make_r(url, timeout=5):\n",
    "    try:\n",
    "        r = requests.get(url, timeout=timeout)\n",
    "        \n",
    "    except requests.ConnectionError:\n",
    "        print('Service is not available')"
   ]
  },
  {
   "cell_type": "code",
   "execution_count": 8,
   "metadata": {},
   "outputs": [],
   "source": [
    "urls = ['http://sports.ru:8080', \n",
    "        'https://ya.ru', \n",
    "        'http://google.com:443', \n",
    "        'https://championat.com:443', \n",
    "        'https://ya.ru:81']"
   ]
  },
  {
   "cell_type": "code",
   "execution_count": 9,
   "metadata": {},
   "outputs": [
    {
     "name": "stdout",
     "output_type": "stream",
     "text": [
      "Service is not available\n",
      "Service is not available\n",
      "Service is not available\n"
     ]
    }
   ],
   "source": [
    "for url in urls:\n",
    "    make_r(url)"
   ]
  },
  {
   "cell_type": "markdown",
   "metadata": {},
   "source": [
    "# Алгоритм экспоненциальной выдержки запросов к API\n",
    "Давайте напишем такой алгоритм:\n",
    "\n",
    "1. Делаем цикл с фиксированным количеством шагов (например, 5). Номер шага пишем в переменную n\n",
    "\n",
    "2. В каждом шаге цикла отправляем запрос к сервису и ждем ответ с фиксированным лимитом времени ответа\n",
    "\n",
    "3. Если сервис не отвечает, то ждем 2 ** n секунд (2 в степени n, т. е. 1, 2, 4, 8, 16 итд секунд)\n",
    "\n",
    "4. В случае отсутствия ответа после всех попыток возвращаем ответ 0"
   ]
  },
  {
   "cell_type": "code",
   "execution_count": 15,
   "metadata": {},
   "outputs": [],
   "source": [
    "def knocking(url, n_exp_retries=5):\n",
    "    \"\"\"Возвращает ответ с экспоненциальной задержкой:\n",
    "    код ответа если ответ получен,\n",
    "    иначе - 0\"\"\"\n",
    "    \n",
    "    for i in range(n_exp_retries):\n",
    "        delay = 2**i\n",
    "        try:\n",
    "            r = requests.get(url, timeout=delay)\n",
    "            return r\n",
    "        except requests.ConnectionError:\n",
    "            if i != n_exp_retries-1:\n",
    "                print(f\"Retrying in {delay} seconds...\")\n",
    "                time.sleep(delay)\n",
    "            \n",
    "    return 0"
   ]
  },
  {
   "cell_type": "code",
   "execution_count": 16,
   "metadata": {},
   "outputs": [
    {
     "name": "stdout",
     "output_type": "stream",
     "text": [
      "Retrying in 1 seconds...\n",
      "Retrying in 2 seconds...\n",
      "Retrying in 4 seconds...\n",
      "Retrying in 8 seconds...\n",
      "Wall time: 46 s\n"
     ]
    },
    {
     "data": {
      "text/plain": [
       "0"
      ]
     },
     "execution_count": 16,
     "metadata": {},
     "output_type": "execute_result"
    }
   ],
   "source": [
    "%%time\n",
    "\n",
    "knocking(urls[-1])"
   ]
  },
  {
   "cell_type": "code",
   "execution_count": null,
   "metadata": {},
   "outputs": [],
   "source": []
  }
 ],
 "metadata": {
  "kernelspec": {
   "display_name": "Python 3",
   "language": "python",
   "name": "python3"
  },
  "language_info": {
   "codemirror_mode": {
    "name": "ipython",
    "version": 3
   },
   "file_extension": ".py",
   "mimetype": "text/x-python",
   "name": "python",
   "nbconvert_exporter": "python",
   "pygments_lexer": "ipython3",
   "version": "3.6.5"
  }
 },
 "nbformat": 4,
 "nbformat_minor": 2
}
