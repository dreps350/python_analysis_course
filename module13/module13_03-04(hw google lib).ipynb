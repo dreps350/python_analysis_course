{
 "cells": [
  {
   "cell_type": "markdown",
   "metadata": {},
   "source": [
    "# Обновление токена\n",
    "На данном шаге мы научимся получать отчеты Google Analytics простыми веб-запросами. А в следующих блоках воспользуемся официальной библиотекой от Google. Использование веб-запросов напрямую (без использования библиотеки Google) позволит вам в случае необходимости расширить возможности готовых решений. Например, мы используем свою библиотеку для получения отчетов Google Analytics с расширенными возможностями:\n",
    "\n",
    "- быстрый вызов в одну строчку\n",
    "- простое добавление готовых отчетов любой сложности\n",
    "- легкое использование на серверах и компьютерах коллег, в том числе через proxy-сервер\n",
    "- выгрузка данных за любой период по дням (для уменьшения сэмплирования GA)\n",
    "- выгрузка больших таблиц\n",
    "- соблюдение лимитов\n",
    "- реагирование на ошибки сети или временную недоступность сервиса\n",
    "\n",
    "Как вы помните из прошлого блока, токен для запросов к API Google Analytics обычно выдается на 1 час. После этого его надо обновить. Давайте посмотрим как это сделать. Сначала задаем в скрипте параметры нашего приложения, которые импортируем из файла client_secret.json:"
   ]
  },
  {
   "cell_type": "code",
   "execution_count": 1,
   "metadata": {},
   "outputs": [],
   "source": [
    "import json\n",
    "import requests\n",
    "from datetime import datetime, timedelta\n",
    "from pprint import pprint"
   ]
  },
  {
   "cell_type": "code",
   "execution_count": 26,
   "metadata": {},
   "outputs": [],
   "source": [
    "with open('./analytics.dat', 'r') as f:\n",
    "    config = json.load(f)\n",
    "\n",
    "params_update = {\n",
    "    'client_id': config['client_id'],\n",
    "    'client_secret': config['client_secret'],\n",
    "    'refresh_token': config['refresh_token']\n",
    "}"
   ]
  },
  {
   "cell_type": "code",
   "execution_count": 27,
   "metadata": {},
   "outputs": [],
   "source": [
    "def update_token(**kwargs):\n",
    "    \"\"\"Обновление токена для запросов к API. Возвращает токен\"\"\"\n",
    "    url_token = 'https://accounts.google.com/o/oauth2/token'\n",
    "\n",
    "    kwargs['grant_type'] = 'refresh_token'\n",
    "\n",
    "    r = requests.post(url_token, data=kwargs)   \n",
    "\n",
    "    print('Токен выдан до {}'.format(datetime.today() + timedelta( hours = 1 )))\n",
    "    \n",
    "#     return r.json()\n",
    "    return r.json()['access_token']"
   ]
  },
  {
   "cell_type": "code",
   "execution_count": 28,
   "metadata": {},
   "outputs": [
    {
     "name": "stdout",
     "output_type": "stream",
     "text": [
      "Токен выдан до 2018-12-20 00:01:10.804443\n"
     ]
    }
   ],
   "source": [
    "token = update_token(**params_update)"
   ]
  },
  {
   "cell_type": "code",
   "execution_count": 29,
   "metadata": {},
   "outputs": [
    {
     "data": {
      "text/plain": [
       "'ya29.Glt3Bta9q3OnBPrfoflmw8U6Mew5cJpID-J3aX-bd27Ssi8RklCHe1hfCJa5wSW3ZSTBtwVwuJq2_oQ2dlpiCFH2Gt0u1wfdYLCcBYKfGk5JDjf5E7FsSl2DagEi'"
      ]
     },
     "execution_count": 29,
     "metadata": {},
     "output_type": "execute_result"
    }
   ],
   "source": [
    "token"
   ]
  },
  {
   "cell_type": "markdown",
   "metadata": {},
   "source": [
    "# Получение отчета\n",
    "Получим теперь простой отчет Google Analytics, отправляя соответствующий запрос. Список нужных измерений и метрик можно найти на странице https://developers.google.com/analytics/devguides/reporting/core/dimsmets\n",
    "\n",
    "Рассмотрим простой отчет: получим количество визитов и просмотров сайта по дням за определенный период. Задаем параметры запроса:"
   ]
  },
  {
   "cell_type": "code",
   "execution_count": 30,
   "metadata": {},
   "outputs": [
    {
     "name": "stdout",
     "output_type": "stream",
     "text": [
      "{'reports': [{'columnHeader': {'dimensions': ['ga:date'],\n",
      "                               'metricHeader': {'metricHeaderEntries': [{'name': 'ga:sessions',\n",
      "                                                                         'type': 'INTEGER'},\n",
      "                                                                        {'name': 'ga:pageviews',\n",
      "                                                                         'type': 'INTEGER'}]}},\n",
      "              'data': {'isDataGolden': True,\n",
      "                       'maximums': [{'values': ['137', '194']}],\n",
      "                       'minimums': [{'values': ['71', '89']}],\n",
      "                       'rowCount': 7,\n",
      "                       'rows': [{'dimensions': ['20180101'],\n",
      "                                 'metrics': [{'values': ['71', '89']}]},\n",
      "                                {'dimensions': ['20180102'],\n",
      "                                 'metrics': [{'values': ['77', '106']}]},\n",
      "                                {'dimensions': ['20180103'],\n",
      "                                 'metrics': [{'values': ['137', '194']}]},\n",
      "                                {'dimensions': ['20180104'],\n",
      "                                 'metrics': [{'values': ['125', '151']}]},\n",
      "                                {'dimensions': ['20180105'],\n",
      "                                 'metrics': [{'values': ['119', '171']}]},\n",
      "                                {'dimensions': ['20180106'],\n",
      "                                 'metrics': [{'values': ['110', '161']}]},\n",
      "                                {'dimensions': ['20180107'],\n",
      "                                 'metrics': [{'values': ['125', '165']}]}],\n",
      "                       'totals': [{'values': ['764', '1037']}]}}]}\n"
     ]
    }
   ],
   "source": [
    "url = 'https://analyticsreporting.googleapis.com/v4/reports:batchGet'\n",
    "\n",
    "profile_id = '71639180'\n",
    "start_date = '2018-01-01'\n",
    "end_date = '2018-01-07'\n",
    "metrics = [{'expression': 'ga:sessions'}, {'expression': 'ga:pageviews'}]\n",
    "dimensions = [{'name': 'ga:date'}]\n",
    "\n",
    "params = {\n",
    "    \"reportRequests\": [\n",
    "        {\n",
    "            'viewId': profile_id,\n",
    "            'dateRanges': [{ 'startDate': start_date, 'endDate': end_date}],\n",
    "            'metrics': metrics,\n",
    "            'dimensions': dimensions\n",
    "        } \n",
    "    ]\n",
    "}\n",
    "# Для \"прикрепления\" авторизационного токена к запросу используем заголовки:\n",
    "headers = {'Authorization': 'Bearer ' + token}\n",
    "\n",
    "# Для получения отчета отправляем POST-запрос:\n",
    "r = requests.post( url, json = params, headers = headers )\n",
    "\n",
    "# Смотрим что получили в ответ:\n",
    "pprint(r.json())"
   ]
  },
  {
   "cell_type": "markdown",
   "metadata": {},
   "source": [
    "Упражнение\n",
    "(1 балл из 1)\n",
    "Посчитайте сумму сессий в этом отчете\n",
    "\n",
    "\n",
    "764\n",
    " верно\n",
    " "
   ]
  },
  {
   "cell_type": "code",
   "execution_count": 34,
   "metadata": {},
   "outputs": [
    {
     "name": "stdout",
     "output_type": "stream",
     "text": [
      "{'dimensions': ['20180101'], 'metrics': [{'values': ['71', '89']}]}\n",
      "{'dimensions': ['20180102'], 'metrics': [{'values': ['77', '106']}]}\n",
      "{'dimensions': ['20180103'], 'metrics': [{'values': ['137', '194']}]}\n",
      "{'dimensions': ['20180104'], 'metrics': [{'values': ['125', '151']}]}\n",
      "{'dimensions': ['20180105'], 'metrics': [{'values': ['119', '171']}]}\n",
      "{'dimensions': ['20180106'], 'metrics': [{'values': ['110', '161']}]}\n",
      "{'dimensions': ['20180107'], 'metrics': [{'values': ['125', '165']}]}\n"
     ]
    }
   ],
   "source": [
    "sessions_sum = 0\n",
    "\n",
    "for line in r.json()['reports'][0]['data']['rows']:\n",
    "    print(line)\n",
    "    sessions_sum += int(line['metrics'][0]['values'][0])"
   ]
  },
  {
   "cell_type": "code",
   "execution_count": 36,
   "metadata": {},
   "outputs": [
    {
     "data": {
      "text/plain": [
       "764"
      ]
     },
     "execution_count": 36,
     "metadata": {},
     "output_type": "execute_result"
    }
   ],
   "source": [
    "sessions_sum"
   ]
  },
  {
   "cell_type": "markdown",
   "metadata": {},
   "source": [
    "# Официальная библиотека Google\n",
    "Когда мы установили библиотеку google-api-python-client, то, помимо авторизации, получили набор методов для получения отчетов с помощью API. Давайте с помощью нее построим отчет для мониторинга нагрузки на сайт по минутам:\n",
    "\n",
    "Импортируем необходимые библиотеки:"
   ]
  },
  {
   "cell_type": "code",
   "execution_count": 37,
   "metadata": {},
   "outputs": [],
   "source": [
    "from oauth2client import file\n",
    "from apiclient.discovery import build\n",
    "import httplib2"
   ]
  },
  {
   "cell_type": "code",
   "execution_count": 38,
   "metadata": {},
   "outputs": [],
   "source": [
    "# Указываем, что используем API Google Analytics:\n",
    "\n",
    "api_name = 'analytics'\n",
    "api_version = 'v3'\n",
    "\n",
    "# Загружаем файл analytics.dat, в котором лежат ключи нашего приложения и refresh_token:\n",
    "\n",
    "storage = file.Storage(api_name + '.dat')\n",
    "credentials = storage.get()\n",
    "\n",
    "# Формируем объект service, с помощью которого будем получать отчеты:\n",
    "\n",
    "http = credentials.authorize(http=httplib2.Http())\n",
    "service = build(api_name, api_version, http=http)\n",
    "\n",
    "# Указываем профиль представления учебного проекта, из которого выгружаем данные:\n",
    "\n",
    "profile_id = '71639180'"
   ]
  },
  {
   "cell_type": "markdown",
   "metadata": {},
   "source": [
    "\n",
    "Получаем отчет - указываем необходимые параметры запроса:\n",
    "\n",
    "- ids - номер представления\n",
    "- start_date - начальная дата выгрузки\n",
    "- end_date - конечная дата выгрузки\n",
    "- metrics - список метрик (столбцов) отчета\n",
    "- dimensions - список измерений (что стоит в строках) отчета\n",
    "- sort - по какому столбцу необходимо сортировать отчет\n",
    "- filters - фильтры отчета (в нашем случае берем трафик из поисковиков)\n",
    "- start_index - с какой строчки таблицы начинать выгрузку (в API Яндекс.Метрики это был параметр offset)\n",
    "- max_results - сколько строчек вернуть в таблице (аналог limit в Яндекс.Метрике). В текущий момент максимально значение 1000 за один запрос"
   ]
  },
  {
   "cell_type": "markdown",
   "metadata": {},
   "source": [
    "# Обработка отчета\n",
    "Итак, отправляем запрос и смотрим что получилось"
   ]
  },
  {
   "cell_type": "code",
   "execution_count": 39,
   "metadata": {},
   "outputs": [],
   "source": [
    "data = service.data().ga().get(\n",
    "    ids='ga:' + profile_id,\n",
    "    start_date='2018-02-12',\n",
    "    end_date='2018-02-18',\n",
    "    metrics='ga:visits',\n",
    "    dimensions='ga:dateHourMinute',\n",
    "    sort='-ga:visits',\n",
    "    filters='ga:medium==organic',\n",
    "    start_index='1',\n",
    "    max_results='25')\\\n",
    ".execute()"
   ]
  },
  {
   "cell_type": "code",
   "execution_count": 40,
   "metadata": {},
   "outputs": [
    {
     "data": {
      "text/plain": [
       "{'kind': 'analytics#gaData',\n",
       " 'id': 'https://www.googleapis.com/analytics/v3/data/ga?ids=ga:71639180&dimensions=ga:dateHourMinute&metrics=ga:visits&sort=-ga:visits&filters=ga:medium%3D%3Dorganic&start-date=2018-02-12&end-date=2018-02-18&start-index=1&max-results=25',\n",
       " 'query': {'start-date': '2018-02-12',\n",
       "  'end-date': '2018-02-18',\n",
       "  'ids': 'ga:71639180',\n",
       "  'dimensions': 'ga:dateHourMinute',\n",
       "  'metrics': ['ga:visits'],\n",
       "  'sort': ['-ga:visits'],\n",
       "  'filters': 'ga:medium==organic',\n",
       "  'start-index': 1,\n",
       "  'max-results': 25},\n",
       " 'itemsPerPage': 25,\n",
       " 'totalResults': 2049,\n",
       " 'selfLink': 'https://www.googleapis.com/analytics/v3/data/ga?ids=ga:71639180&dimensions=ga:dateHourMinute&metrics=ga:visits&sort=-ga:visits&filters=ga:medium%3D%3Dorganic&start-date=2018-02-12&end-date=2018-02-18&start-index=1&max-results=25',\n",
       " 'nextLink': 'https://www.googleapis.com/analytics/v3/data/ga?ids=ga:71639180&dimensions=ga:dateHourMinute&metrics=ga:visits&sort=-ga:visits&filters=ga:medium%3D%3Dorganic&start-date=2018-02-12&end-date=2018-02-18&start-index=26&max-results=25',\n",
       " 'profileInfo': {'profileId': '71639180',\n",
       "  'accountId': '40356496',\n",
       "  'webPropertyId': 'UA-40356496-1',\n",
       "  'internalWebPropertyId': '69526380',\n",
       "  'profileName': 'Все данные по веб-сайту',\n",
       "  'tableId': 'ga:71639180'},\n",
       " 'containsSampledData': False,\n",
       " 'columnHeaders': [{'name': 'ga:dateHourMinute',\n",
       "   'columnType': 'DIMENSION',\n",
       "   'dataType': 'STRING'},\n",
       "  {'name': 'ga:visits', 'columnType': 'METRIC', 'dataType': 'INTEGER'}],\n",
       " 'totalsForAllResults': {'ga:visits': '1617'},\n",
       " 'rows': [['201802151309', '4'],\n",
       "  ['201802161811', '4'],\n",
       "  ['201802121822', '3'],\n",
       "  ['201802131346', '3'],\n",
       "  ['201802131415', '3'],\n",
       "  ['201802141633', '3'],\n",
       "  ['201802142155', '3'],\n",
       "  ['201802161601', '3'],\n",
       "  ['201802171434', '3'],\n",
       "  ['201802171947', '3'],\n",
       "  ['201802181933', '3'],\n",
       "  ['201802120827', '2'],\n",
       "  ['201802121015', '2'],\n",
       "  ['201802121459', '2'],\n",
       "  ['201802121735', '2'],\n",
       "  ['201802121742', '2'],\n",
       "  ['201802121749', '2'],\n",
       "  ['201802121811', '2'],\n",
       "  ['201802121857', '2'],\n",
       "  ['201802122001', '2'],\n",
       "  ['201802122022', '2'],\n",
       "  ['201802122049', '2'],\n",
       "  ['201802122057', '2'],\n",
       "  ['201802122058', '2'],\n",
       "  ['201802122123', '2']]}"
      ]
     },
     "execution_count": 40,
     "metadata": {},
     "output_type": "execute_result"
    }
   ],
   "source": [
    "data"
   ]
  },
  {
   "cell_type": "code",
   "execution_count": 41,
   "metadata": {},
   "outputs": [],
   "source": [
    "result = data['rows']"
   ]
  },
  {
   "cell_type": "markdown",
   "metadata": {},
   "source": [
    "# Упражнение\n",
    "(1 возможный балл)\n",
    "Переменная result представляет собой набор листов.\n",
    "\n",
    "Посчитайте сумму визитов, которые содержатся в листе result"
   ]
  },
  {
   "cell_type": "code",
   "execution_count": 48,
   "metadata": {},
   "outputs": [
    {
     "data": {
      "text/plain": [
       "63"
      ]
     },
     "execution_count": 48,
     "metadata": {},
     "output_type": "execute_result"
    }
   ],
   "source": [
    "sum([int(line[1]) for line in result])"
   ]
  },
  {
   "cell_type": "markdown",
   "metadata": {},
   "source": [
    "# Домашнее задание\n",
    "Выгрузите все строки отчета из предыдущего шага за 12-18 февраля 2018 года. Посчитайте сумму визитов в этом отчете. В качестве основы алгоритма можете использовать следующий цикл запросов. Вам необходимо дописать функцию report, которая по значению start_index и max_results возвращает очередную порцию строк отчета:"
   ]
  },
  {
   "cell_type": "code",
   "execution_count": 74,
   "metadata": {},
   "outputs": [],
   "source": [
    "def report(start_index, max_results):\n",
    "    params_hw = {\n",
    "    'ids': 'ga:' + profile_id,\n",
    "    'start_date': '2018-02-12',\n",
    "    'end_date': '2018-02-18',\n",
    "    'metrics': 'ga:visits',\n",
    "    'dimensions': 'ga:dateHourMinute',\n",
    "    'sort': '-ga:visits',\n",
    "    'filters': 'ga:medium==organic',\n",
    "    'start_index': start_index,\n",
    "    'max_results': max_results\n",
    "}\n",
    "    data = service.data().ga().get(**params_hw).execute()\n",
    "    \n",
    "    if 'rows' in data:\n",
    "        return data['rows']\n",
    "    \n",
    "    return False"
   ]
  },
  {
   "cell_type": "code",
   "execution_count": 75,
   "metadata": {
    "scrolled": true
   },
   "outputs": [
    {
     "name": "stdout",
     "output_type": "stream",
     "text": [
      "Начинаю выгрузку для start_index = 1\n",
      "Начинаю выгрузку для start_index = 501\n",
      "Начинаю выгрузку для start_index = 1001\n",
      "Начинаю выгрузку для start_index = 1501\n",
      "Начинаю выгрузку для start_index = 2001\n",
      "Начинаю выгрузку для start_index = 2501\n",
      "Out of data\n"
     ]
    }
   ],
   "source": [
    "start_index = 1\n",
    "max_results = 500\n",
    "results = []\n",
    "\n",
    "while True:\n",
    "    print('Начинаю выгрузку для start_index = {}'.format(start_index))\n",
    "    data = report(start_index, max_results)\n",
    "    \n",
    "    if data:   \n",
    "        results += data   \n",
    "        start_index += max_results\n",
    "    else:\n",
    "        print('Out of data')\n",
    "        break"
   ]
  },
  {
   "cell_type": "markdown",
   "metadata": {},
   "source": [
    "# Онлайн-проверка\n",
    "(1 балл из 1)\n",
    "Введите получившуюся сумму визитов"
   ]
  },
  {
   "cell_type": "code",
   "execution_count": 76,
   "metadata": {},
   "outputs": [
    {
     "data": {
      "text/plain": [
       "1617"
      ]
     },
     "execution_count": 76,
     "metadata": {},
     "output_type": "execute_result"
    }
   ],
   "source": [
    "sum([int(line[1]) for line in results])"
   ]
  }
 ],
 "metadata": {
  "kernelspec": {
   "display_name": "Python 3",
   "language": "python",
   "name": "python3"
  },
  "language_info": {
   "codemirror_mode": {
    "name": "ipython",
    "version": 3
   },
   "file_extension": ".py",
   "mimetype": "text/x-python",
   "name": "python",
   "nbconvert_exporter": "python",
   "pygments_lexer": "ipython3",
   "version": "3.6.5"
  }
 },
 "nbformat": 4,
 "nbformat_minor": 2
}
