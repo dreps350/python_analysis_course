{
 "cells": [
  {
   "cell_type": "code",
   "execution_count": 8,
   "metadata": {},
   "outputs": [],
   "source": [
    "from pymystem3 import Mystem"
   ]
  },
  {
   "cell_type": "code",
   "execution_count": 9,
   "metadata": {},
   "outputs": [
    {
     "name": "stderr",
     "output_type": "stream",
     "text": [
      "Installing mystem to C:\\Users\\Дима/.local/bin\\mystem.exe from http://download.cdn.yandex.net/mystem/mystem-3.1-win-64bit.zip\n"
     ]
    }
   ],
   "source": [
    "m = Mystem()"
   ]
  },
  {
   "cell_type": "code",
   "execution_count": null,
   "metadata": {},
   "outputs": [],
   "source": [
    "path_to_file = './module16_files/keywords.txt'"
   ]
  },
  {
   "cell_type": "code",
   "execution_count": 10,
   "metadata": {},
   "outputs": [
    {
     "name": "stdout",
     "output_type": "stream",
     "text": [
      "вк вк\n",
      "\n",
      "одноклассники одноклассник\n",
      "\n",
      "порно порно\n",
      "\n",
      "ютуб ютуб\n",
      "\n",
      "вконтакте вконтакте\n",
      "\n",
      "одноклассники моя страница одноклассник мой страница\n",
      "\n",
      "майл майл\n",
      "\n",
      "авито авито\n",
      "\n",
      "переводчик переводчик\n",
      "\n",
      "яндекс яндекс\n",
      "\n",
      "сбербанк онлайн сбербанк онлайн\n",
      "\n",
      "mail mail\n",
      "\n"
     ]
    }
   ],
   "source": [
    "i = 0\n",
    "\n",
    "with open(path_to_file, encoding='utf-8') as f:\n",
    "    for line in f:\n",
    "        line = line.strip().split('\\t')\n",
    "        word, wordCount = line\n",
    "        lemmas = m.lemmatize(word)\n",
    "        print(word, ''.join(lemmas))\n",
    "        if i > 10:\n",
    "            break\n",
    "        i += 1"
   ]
  },
  {
   "cell_type": "code",
   "execution_count": 14,
   "metadata": {},
   "outputs": [],
   "source": [
    "barm_lemm = Mystem()"
   ]
  },
  {
   "cell_type": "code",
   "execution_count": 21,
   "metadata": {},
   "outputs": [
    {
     "name": "stdout",
     "output_type": "stream",
     "text": [
      "варкаться. хливкий шорька\n",
      "\n",
      "пыряться по нав,\n",
      "\n",
      "и хрюкотать зелюк,\n",
      "\n",
      "как мюмзик в мов.\n",
      "\n",
      "\n"
     ]
    }
   ],
   "source": [
    "path_to_file = './module16_files/Бармаглот.txt'\n",
    "\n",
    "i = 0\n",
    "\n",
    "with open(path_to_file, encoding='utf-8') as f:\n",
    "    for line in f:\n",
    "        line = line.strip()\n",
    "        lemmas = barm_lemm.lemmatize(line)\n",
    "        print(''.join(lemmas))\n",
    "        if i > 3:\n",
    "            break\n",
    "        i += 1"
   ]
  },
  {
   "cell_type": "markdown",
   "metadata": {},
   "source": [
    "# Упражнение\n",
    "(1 балл из 1)\n",
    "Часто вам будут попадаться слова, которые не входят в список словарных. Например, жаргонные или принятые в отрасли слова. Для приведения этих слов к единому виду можно использовать библиотеку Pymystem. У Льюиса Кэррола есть стихотворение \"Бармаглот\", в котором много несуществующих слов. Проверьте справится ли с лемматизацией строчки из этого стихотворения библиотека Pymystem?\n",
    "\n",
    "Получите лемму строчки 'и хрюкотали зелюки как мюмзики в мове'. При выводе результата используйте конструкцию print( ''.join( ... ) )"
   ]
  },
  {
   "cell_type": "markdown",
   "metadata": {},
   "source": [
    "# Библиотека NLTK\n",
    "Для более быстрой обработки текста рассмотрим библиотеку NLTK (Natural Language Toolkit), которая по умолчанию уже установлена в Anaconda. Библиотека умеет работать со многими языками, а также имеет встроенный список стоп слов, который мы используем в ближайшей задаче. Работает быстрее Pymystem и проводит процедуру стемминга, т. е. процесс нахождения основы слова.\n",
    "\n",
    "Давайте выведем на экран аналогичные пары слов из нашего файла, но с использованием NLTK:"
   ]
  },
  {
   "cell_type": "code",
   "execution_count": 25,
   "metadata": {},
   "outputs": [],
   "source": [
    "from nltk.stem import SnowballStemmer"
   ]
  },
  {
   "cell_type": "code",
   "execution_count": 26,
   "metadata": {},
   "outputs": [],
   "source": [
    "path_to_file = './module16_files/keywords.txt'"
   ]
  },
  {
   "cell_type": "code",
   "execution_count": 29,
   "metadata": {},
   "outputs": [
    {
     "name": "stdout",
     "output_type": "stream",
     "text": [
      "вк вк\n",
      "одноклассники одноклассник\n",
      "порно порн\n",
      "ютуб ютуб\n",
      "вконтакте вконтакт\n",
      "одноклассники моя страница одноклассники моя страниц\n",
      "майл майл\n",
      "авито авит\n",
      "переводчик переводчик\n",
      "яндекс яндекс\n",
      "сбербанк онлайн сбербанк онлайн\n",
      "mail ma\n"
     ]
    }
   ],
   "source": [
    "sbs = SnowballStemmer('russian')\n",
    "i = 0\n",
    "\n",
    "with open(path_to_file, 'r', encoding = 'utf-8' ) as f:\n",
    "    for line in f:\n",
    "        line = line.strip().split('\\t')          \n",
    "        stem = sbs.stem(line[0])\n",
    "        print(line[0], ''.join(stem)) \n",
    "        if i > 10:\n",
    "            break       \n",
    "        i += 1"
   ]
  },
  {
   "cell_type": "markdown",
   "metadata": {},
   "source": [
    "# Библиотека Pymorphy\n",
    "Наконец, рассмотрим самый \"продвинутый\" вариант разбора слов - морфологический анализатор pymorphy. Процесс установки аналогичен:"
   ]
  },
  {
   "cell_type": "code",
   "execution_count": 30,
   "metadata": {},
   "outputs": [
    {
     "data": {
      "text/plain": [
       "[Parse(word='стали', tag=OpencorporaTag('VERB,perf,intr plur,past,indc'), normal_form='стать', score=0.984662, methods_stack=((<DictionaryAnalyzer>, 'стали', 904, 4),)),\n",
       " Parse(word='стали', tag=OpencorporaTag('NOUN,inan,femn sing,gent'), normal_form='сталь', score=0.003067, methods_stack=((<DictionaryAnalyzer>, 'стали', 13, 1),)),\n",
       " Parse(word='стали', tag=OpencorporaTag('NOUN,inan,femn sing,datv'), normal_form='сталь', score=0.003067, methods_stack=((<DictionaryAnalyzer>, 'стали', 13, 2),)),\n",
       " Parse(word='стали', tag=OpencorporaTag('NOUN,inan,femn sing,loct'), normal_form='сталь', score=0.003067, methods_stack=((<DictionaryAnalyzer>, 'стали', 13, 5),)),\n",
       " Parse(word='стали', tag=OpencorporaTag('NOUN,inan,femn plur,nomn'), normal_form='сталь', score=0.003067, methods_stack=((<DictionaryAnalyzer>, 'стали', 13, 6),)),\n",
       " Parse(word='стали', tag=OpencorporaTag('NOUN,inan,femn plur,accs'), normal_form='сталь', score=0.003067, methods_stack=((<DictionaryAnalyzer>, 'стали', 13, 9),))]"
      ]
     },
     "execution_count": 30,
     "metadata": {},
     "output_type": "execute_result"
    }
   ],
   "source": [
    "import pymorphy2\n",
    "\n",
    "morph = pymorphy2.MorphAnalyzer()\n",
    "\n",
    "# Рассмотрим принцип ее работы на примере морфологического анализа слова 'стали':\n",
    "\n",
    "morph.parse('стали')"
   ]
  },
  {
   "cell_type": "markdown",
   "metadata": {},
   "source": [
    "Библиотека производит анализ слова и выдает его возможные атрибуты (обратите внимание, что на выходе получился лист из нескольких элементов Parse). Например, первый элемент с параметром score=0.984662 указывается на то, что слово 'стали' скорее всего является глаголом (от слова 'стать'). Тэги в элементе tag указывают на так называемые граммемы, характеризующие данное слово - множественное или единственное число, настоящее или прошедшее время итд. Остальные элементы результата указывают, что слово 'стали' может быть существительным (от слова 'сталь').\n",
    "\n",
    "Применим аналогичный разбор к первым 5 словам нашего файла:"
   ]
  },
  {
   "cell_type": "code",
   "execution_count": 32,
   "metadata": {},
   "outputs": [
    {
     "name": "stdout",
     "output_type": "stream",
     "text": [
      "вк вк\n",
      "одноклассники одноклассник\n",
      "порно порно\n",
      "ютуб ютуба\n",
      "вконтакте вконтакте\n",
      "одноклассники моя страница одноклассники моя страница\n",
      "майл майла\n"
     ]
    }
   ],
   "source": [
    "i = 0\n",
    "\n",
    "with open(path_to_file, 'r', encoding = 'utf-8' ) as f:\n",
    "    for line in f:\n",
    "        line = line.strip().split('\\t')\n",
    "        word = line[0]\n",
    "        morph_analyze = morph.parse(word)\n",
    "        print(word, morph_analyze[0].normal_form) \n",
    "        if i > 5:\n",
    "            break       \n",
    "        i += 1"
   ]
  },
  {
   "cell_type": "markdown",
   "metadata": {},
   "source": [
    "# Упражнение (без проверки)\n",
    "Дан текст:"
   ]
  },
  {
   "cell_type": "code",
   "execution_count": 33,
   "metadata": {},
   "outputs": [],
   "source": [
    "words = 'Крымский отель Mriya Resort & Spa признали лучшим в мире курортным комплексом для отдыха по версии престижной международной премии World Travel Awards'"
   ]
  },
  {
   "cell_type": "markdown",
   "metadata": {},
   "source": [
    "Необходимо вывести на экран существительные в этом тексте.\n",
    "\n",
    "Подсказка. После получения разбора слова (можно сделать по аналогии с кодом в занятии в переменной morph_analyze) проверить результат на \"признак\" существительного можно с помощью кода:"
   ]
  },
  {
   "cell_type": "code",
   "execution_count": 35,
   "metadata": {},
   "outputs": [
    {
     "name": "stdout",
     "output_type": "stream",
     "text": [
      "отель\n",
      "мире\n",
      "комплексом\n",
      "отдыха\n",
      "версии\n",
      "премии\n"
     ]
    }
   ],
   "source": [
    "for word in words.split():\n",
    "    morph_analyze = morph.parse(word)\n",
    "    if 'NOUN' in morph_analyze[0].tag:\n",
    "        print(word)"
   ]
  },
  {
   "cell_type": "code",
   "execution_count": null,
   "metadata": {},
   "outputs": [],
   "source": []
  }
 ],
 "metadata": {
  "kernelspec": {
   "display_name": "Python 3",
   "language": "python",
   "name": "python3"
  },
  "language_info": {
   "codemirror_mode": {
    "name": "ipython",
    "version": 3
   },
   "file_extension": ".py",
   "mimetype": "text/x-python",
   "name": "python",
   "nbconvert_exporter": "python",
   "pygments_lexer": "ipython3",
   "version": "3.6.5"
  }
 },
 "nbformat": 4,
 "nbformat_minor": 2
}
