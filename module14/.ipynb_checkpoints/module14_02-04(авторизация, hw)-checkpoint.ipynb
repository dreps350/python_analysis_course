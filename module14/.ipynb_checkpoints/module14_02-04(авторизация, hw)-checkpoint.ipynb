{
 "cells": [
  {
   "cell_type": "markdown",
   "metadata": {},
   "source": [
    "# API Google Sheets\n",
    "Для работы с Google Sheets сначала необходимо пройти процедуру авторизации с помощью Google Developers Console.\n",
    "\n",
    "Она аналогична той, что мы делали в прошлом модуле для API Google Analytics.\n",
    "\n",
    "В этот раз все должно пройти проще. Итак, заходим в консоль разработчика https://console.developers.google.com. В ней должен остаться доступ к Google Analytics Reporting API с прошлого модуля (но в данном модуле он нам не пригодится). Нажимаем на \"Включить API и сервисы\":"
   ]
  },
  {
   "cell_type": "markdown",
   "metadata": {},
   "source": [
    "# Запрос токенов\n",
    "Создайте jupyter notebook в той же папке, куда вы сохранили файл с индентификаторами client_secret_grants.json.\n",
    "\n",
    "Начинаем как обычно с импорта необходимых библиотек (те же, что мы использовали для авторизации Google Analytics):"
   ]
  },
  {
   "cell_type": "code",
   "execution_count": 1,
   "metadata": {},
   "outputs": [],
   "source": [
    "import httplib2\n",
    "import argparse\n",
    "from apiclient import discovery\n",
    "from oauth2client import client\n",
    "from oauth2client import tools\n",
    "from oauth2client.file import Storage\n",
    "\n",
    "import pandas as pd\n",
    "import numpy as np"
   ]
  },
  {
   "cell_type": "markdown",
   "metadata": {},
   "source": [
    "Задаем основные параметры приложения, от имени которого будем делать запросы к Google Sheets API:"
   ]
  },
  {
   "cell_type": "code",
   "execution_count": 2,
   "metadata": {},
   "outputs": [],
   "source": [
    "# разрешения на просмотр и редактирование\n",
    "\n",
    "SCOPES = 'https://www.googleapis.com/auth/spreadsheets'\n",
    "\n",
    "# название файла с индентификаторами\n",
    "\n",
    "CLIENT_SECRET_FILE = './module14_files/client_secret_grants.json'\n",
    "\n",
    "# Название приложения для нашего онлайн-отчета (можно использовать любое)\n",
    "\n",
    "APPLICATION_NAME = 'Google Sheets API Report'\n",
    "\n",
    "# название файла, в который после процедуры авторизации будут записаны токены (сейчас его еще не должно быть в папке)\n",
    "\n",
    "# для Google Analytics этот файл назывался 'analytics.dat', но в разработчики Google Sheets API выбрали другое название\n",
    "\n",
    "# чтобы вам при необходимости было проще ориентироваться в документации Google API мы сохранили такую же систему обозначений\n",
    "\n",
    "credential_path = 'sheets.googleapis.com-report.json'"
   ]
  },
  {
   "cell_type": "markdown",
   "metadata": {},
   "source": [
    "Проходим процесс авторизации для работы с Google Sheets в первый раз:\n",
    "\n",
    "В открывшемся окне выбираем нужный аккаунт (если у вас их несколько)\n",
    "Даем вашему приложению разрешение на \"Просмотр и изменение электронных таблиц на Google Диске\"\n",
    "Процесс должен завершиться со служебным сообщением \"The authentication flow has completed\""
   ]
  },
  {
   "cell_type": "code",
   "execution_count": 3,
   "metadata": {},
   "outputs": [],
   "source": [
    "store = Storage(credential_path)\n",
    "credentials = store.get()\n",
    "parser = argparse.ArgumentParser(formatter_class=argparse.RawDescriptionHelpFormatter, parents=[tools.argparser])\n",
    "\n",
    "flags = parser.parse_args([])\n",
    "\n",
    "if not credentials or credentials.invalid:\n",
    "    flow = client.flow_from_clientsecrets(CLIENT_SECRET_FILE, SCOPES)\n",
    "    flow.user_agent = APPLICATION_NAME\n",
    "    \n",
    "    if flags:\n",
    "        credentials = tools.run_flow(flow, store, flags)\n",
    "        \n",
    "    print('Storing credentials to ' + credential_path)"
   ]
  },
  {
   "cell_type": "markdown",
   "metadata": {},
   "source": [
    "В вашей папке должен появиться файл \"sheets.googleapis.com-report.json\", в котором содержится токен access_token для запросов к API Google Sheets и refresh_token для его обновления.\n",
    "\n",
    "Формируем объект service, с помощью которого мы будем читать и записывать данные Google Sheets:"
   ]
  },
  {
   "cell_type": "code",
   "execution_count": 4,
   "metadata": {},
   "outputs": [],
   "source": [
    "http = credentials.authorize(httplib2.Http())\n",
    "\n",
    "discoveryUrl = ('https://sheets.googleapis.com/$discovery/rest?version=v4')\n",
    "\n",
    "service = discovery.build('sheets', 'v4', http = http, discoveryServiceUrl = discoveryUrl)"
   ]
  },
  {
   "cell_type": "markdown",
   "metadata": {},
   "source": [
    "# Чтение данных из Google Sheets\n",
    "На данном шаге мы научимся считывать данные из Google-таблиц.\n",
    "\n",
    "Этот алгоритм может сильно упростить вам многие задачи обработки данных, т. к. вы и ваши коллеги можете обновлять необходимые словари, зависимости и другие таблицы онлайн. К тому же в Google Sheets можно распределять доступы на чтение и редактирование таблиц.\n",
    "\n",
    "Давайте разберем это на примере ведения отчетности маркетинговых кампаний.\n",
    "\n",
    "Допустим, на ваш сайт приходит трафик от нескольких партнеров (назовем их СМИ2, РБК и Infox). У каждого партнера в ссылках на ваш сайт имеется свой набор UTM-меток.\n",
    "\n",
    "Справочная информация: под UTM-меткой подразумевается принятая в маркетинге система обозначений параметров ссылок, которые автоматически распознаются многими системами веб-аналитики как название источника и канала. Пример ссылки с UTM-метками:\n",
    "\n",
    "https://my-site.ru/?utm_source=infox&utm_medium=cpc\n",
    "\n",
    "Вам необходимо составить отчет по количеству визитов, продаж и прочим метрикам в разбивке по партнерам СМИ2, РБК и Infox.\n",
    "\n",
    "Проблема в том, что названия UTM-меток могут меняться (обычно так и случается в реальной жизни). Конечно, можно договориться о том, что вам при любом обновлении будут присылать обновленный список названий UTM-меток. Скорее всего работать это не будет.\n",
    "\n",
    "Более простым вариантом является ведение онлайн-таблицы, в которой будут отмечаться эти изменения.\n",
    "\n",
    "Обычно такие таблицы в том или ином виде ведутся (иногда, правда, в Excel). Перенести их в Google Sheets обычно не составляет организационных проблем.\n",
    "\n",
    "В итоге если вам составят обновляемую таблицу с UTM-метками, то вы (и ваш скрипт) всегда сможете узнать какой набор UTM-меток соответствует какому партнеру:\n",
    "<img src='./module14_files/m9_b2_labels_step1.png'>"
   ]
  },
  {
   "cell_type": "markdown",
   "metadata": {},
   "source": [
    "#### Шаг 1.\n",
    "\n",
    "Создайте в своем аккаунте Google Sheets (https://docs.google.com/spreadsheets) новую таблицу (например, с названием \"Словарь меток\"). Скопируйте из файла Labels.xlsx таблицу словаря меток в созданную таблицу:\n",
    "\n",
    "Файл labels.xlsx\n",
    "\n",
    "#### Шаг 2. \n",
    "\n",
    "Для того, чтобы автоматически прочитать ее содержимое, нам понадобятся два параметра:\n",
    "\n",
    "1. ID книги Google Sheets. Для ее получения скопируйте адрес страницы, на которой расположена ваша таблица словаря меток.\n",
    "\n",
    "URL должен иметь вид https://docs.google.com/spreadsheets/d/4P57_g3hfhrihuqf-2f49t7ghwifwtyr-4UB45/edit#gid=12345\n",
    "\n",
    "Нужным ID книги является идентификатор между \"d/\" и \"/edit\". Т. е. в данном примере это \"4P57_g3hfhrihuqf-2f49t7ghwifwtyr-4UB45\". Запишем его в переменную spreadsheetId:"
   ]
  },
  {
   "cell_type": "code",
   "execution_count": 5,
   "metadata": {},
   "outputs": [],
   "source": [
    "spreadSheetId = '1XlUS0O1TILVXPfMPrWt4q36_32ofxAGyv-8aw9AvvGk'"
   ]
  },
  {
   "cell_type": "markdown",
   "metadata": {},
   "source": [
    "2. Для чтения данных нам также необходимо указать название листа (если их несколько) и диапазон.\n",
    "\n",
    "Например, в данном модуле у нас будет 2 листа: текущий можно назвать \"partners dict\", а также мы сделаем онлайн-отчет на листе \"daily_metrics\".\n",
    "\n",
    "Сама таблица помещается в диапазон A1:C5. Поскольку этот список в будущем может вырасти, то возьмем с запасом до строки 10:"
   ]
  },
  {
   "cell_type": "code",
   "execution_count": 6,
   "metadata": {},
   "outputs": [],
   "source": [
    "rangeName = 'partners_dict!A1:C10'"
   ]
  },
  {
   "cell_type": "markdown",
   "metadata": {},
   "source": [
    "Все готово, делаем запрос к API. Результат записываем в переменную values:"
   ]
  },
  {
   "cell_type": "code",
   "execution_count": 7,
   "metadata": {},
   "outputs": [],
   "source": [
    "result = (service.spreadsheets().values()\n",
    "          .get(spreadsheetId=spreadSheetId, \n",
    "               range=rangeName)\n",
    "          .execute())\n",
    "\n",
    "values = result.get('values', [])"
   ]
  },
  {
   "cell_type": "code",
   "execution_count": 8,
   "metadata": {},
   "outputs": [
    {
     "name": "stdout",
     "output_type": "stream",
     "text": [
      "[['Партнер', 'utm_source', 'utm_medium'], ['СМИ2', 'smi2', 'cpm'], ['РБК', 'rbc', 'cpc'], ['Infox', 'infox', 'cpc'], ['Infox', 'infox-action', 'cpa']]\n"
     ]
    }
   ],
   "source": [
    "print(values)"
   ]
  },
  {
   "cell_type": "markdown",
   "metadata": {},
   "source": [
    "Запрос автоматически убрал из ответа пустые строки. Теперь лист values можно использовать как словарь для вашей отчетности по партнерам."
   ]
  },
  {
   "cell_type": "markdown",
   "metadata": {},
   "source": [
    "# Упражнение (подсказки есть ниже)\n",
    "(1 возможный балл)\n",
    "В файле metrika_data.txt (ссылка на него ниже в рекомендациях) имеется отчет Яндекс.Метрики по UTM-меткам. Объедините его с листом values и посчитайте сумму продаж (столбец Sales) для партнера Infox.\n",
    "\n",
    "Какая сумма продаж получается у партнера Infox?"
   ]
  },
  {
   "cell_type": "code",
   "execution_count": 9,
   "metadata": {},
   "outputs": [],
   "source": [
    "metrika_data = pd.read_csv('./module14_files/metrika_data.txt', sep='\\t')\n",
    "\n",
    "partners_data = pd.DataFrame(values[1:], columns=values[0])"
   ]
  },
  {
   "cell_type": "code",
   "execution_count": 10,
   "metadata": {},
   "outputs": [
    {
     "data": {
      "text/html": [
       "<div>\n",
       "<style scoped>\n",
       "    .dataframe tbody tr th:only-of-type {\n",
       "        vertical-align: middle;\n",
       "    }\n",
       "\n",
       "    .dataframe tbody tr th {\n",
       "        vertical-align: top;\n",
       "    }\n",
       "\n",
       "    .dataframe thead th {\n",
       "        text-align: right;\n",
       "    }\n",
       "</style>\n",
       "<table border=\"1\" class=\"dataframe\">\n",
       "  <thead>\n",
       "    <tr style=\"text-align: right;\">\n",
       "      <th></th>\n",
       "      <th>utm_source</th>\n",
       "      <th>utm_medium</th>\n",
       "      <th>sales</th>\n",
       "    </tr>\n",
       "  </thead>\n",
       "  <tbody>\n",
       "    <tr>\n",
       "      <th>0</th>\n",
       "      <td>infox</td>\n",
       "      <td>cpc</td>\n",
       "      <td>1534</td>\n",
       "    </tr>\n",
       "    <tr>\n",
       "      <th>1</th>\n",
       "      <td>smi2</td>\n",
       "      <td>cpm</td>\n",
       "      <td>1495</td>\n",
       "    </tr>\n",
       "    <tr>\n",
       "      <th>2</th>\n",
       "      <td>infox-action</td>\n",
       "      <td>cpa</td>\n",
       "      <td>735</td>\n",
       "    </tr>\n",
       "    <tr>\n",
       "      <th>3</th>\n",
       "      <td>rbc</td>\n",
       "      <td>cpc</td>\n",
       "      <td>59</td>\n",
       "    </tr>\n",
       "  </tbody>\n",
       "</table>\n",
       "</div>"
      ],
      "text/plain": [
       "     utm_source utm_medium  sales\n",
       "0         infox        cpc   1534\n",
       "1          smi2        cpm   1495\n",
       "2  infox-action        cpa    735\n",
       "3           rbc        cpc     59"
      ]
     },
     "execution_count": 10,
     "metadata": {},
     "output_type": "execute_result"
    }
   ],
   "source": [
    "metrika_data"
   ]
  },
  {
   "cell_type": "code",
   "execution_count": 11,
   "metadata": {},
   "outputs": [
    {
     "data": {
      "text/html": [
       "<div>\n",
       "<style scoped>\n",
       "    .dataframe tbody tr th:only-of-type {\n",
       "        vertical-align: middle;\n",
       "    }\n",
       "\n",
       "    .dataframe tbody tr th {\n",
       "        vertical-align: top;\n",
       "    }\n",
       "\n",
       "    .dataframe thead th {\n",
       "        text-align: right;\n",
       "    }\n",
       "</style>\n",
       "<table border=\"1\" class=\"dataframe\">\n",
       "  <thead>\n",
       "    <tr style=\"text-align: right;\">\n",
       "      <th></th>\n",
       "      <th>Партнер</th>\n",
       "      <th>utm_source</th>\n",
       "      <th>utm_medium</th>\n",
       "    </tr>\n",
       "  </thead>\n",
       "  <tbody>\n",
       "    <tr>\n",
       "      <th>0</th>\n",
       "      <td>СМИ2</td>\n",
       "      <td>smi2</td>\n",
       "      <td>cpm</td>\n",
       "    </tr>\n",
       "    <tr>\n",
       "      <th>1</th>\n",
       "      <td>РБК</td>\n",
       "      <td>rbc</td>\n",
       "      <td>cpc</td>\n",
       "    </tr>\n",
       "    <tr>\n",
       "      <th>2</th>\n",
       "      <td>Infox</td>\n",
       "      <td>infox</td>\n",
       "      <td>cpc</td>\n",
       "    </tr>\n",
       "    <tr>\n",
       "      <th>3</th>\n",
       "      <td>Infox</td>\n",
       "      <td>infox-action</td>\n",
       "      <td>cpa</td>\n",
       "    </tr>\n",
       "  </tbody>\n",
       "</table>\n",
       "</div>"
      ],
      "text/plain": [
       "  Партнер    utm_source utm_medium\n",
       "0    СМИ2          smi2        cpm\n",
       "1     РБК           rbc        cpc\n",
       "2   Infox         infox        cpc\n",
       "3   Infox  infox-action        cpa"
      ]
     },
     "execution_count": 11,
     "metadata": {},
     "output_type": "execute_result"
    }
   ],
   "source": [
    "partners_data"
   ]
  },
  {
   "cell_type": "code",
   "execution_count": 12,
   "metadata": {},
   "outputs": [
    {
     "data": {
      "text/plain": [
       "Партнер\n",
       "Infox    2269\n",
       "РБК        59\n",
       "СМИ2     1495\n",
       "Name: sales, dtype: int64"
      ]
     },
     "execution_count": 12,
     "metadata": {},
     "output_type": "execute_result"
    }
   ],
   "source": [
    "partners_data.merge(metrika_data, on='utm_source').groupby('Партнер')['sales'].sum()"
   ]
  },
  {
   "cell_type": "markdown",
   "metadata": {},
   "source": [
    "# Подготовка отчета\n",
    "Теперь у нас все готово, чтобы сделать полноценную отчетность в Google Sheets, данные в которой будут обновляться полностью автоматически. Давайте в этом шаге рассмотрим следующую задачу: необходимо составить ежедневный мониторинг основных метрик сайта из Яндекс.Метрики за последние 14 дней. Т. е. получить в Google Sheets следующий отчет:\n",
    "<img src='./module14_files/m9_b2_write_step1.png'>\n",
    "Яндекс.Метрика взята для примера. На месте этого мониторинга может быть любой отчет или результат ваших вычислений.\n",
    "\n",
    "\n",
    "Сначала в таблице Googlesheets из прошлых шагов \"Словарь меток\" добавим новый лист daily_metrics и сразу наметим столбцы будущего отчета:\n",
    "<img src='./module14_files/m9_b2_write_step2.png'>\n",
    "\n",
    "Подготовимся к импорту данных из Яндекс.Метрики: в файл config.yaml пишем токен для запросов к API. В файле params.yaml в строку с spreadsheet_id необходимо вставить ID вашей книги. В файле report_params.yaml записываются параметры отчетов, которые мы хотим визуализировать:\n",
    "\n",
    "Файл report_params.yaml\n",
    "\n",
    "- dau - служебное название отчета. Если вы захотите добавить еще один отчет, то сделайте копию этого названия со всем параметрами под ним\n",
    "- dimensions и metrics - измерения и метрики, которые будем отправлять в запросе к API Яндекс.Метрики\n",
    "- sort - метрика, по которой будем сортировать отчет. В нашем случае это дата отчета\n",
    "- days_ago - за какой период выгружаем отчет. В нашем варианте - за последние 14 дней\n",
    "- spreadsheet_id - ID книги в Google Sheets, где расположен отчет (подставьте ID своей книги)\n",
    "- range_name - название листа отчета (daily_metrics), диапазон столбцов, в которых будет располагаться выгрузка (с A по E)\n",
    "\n",
    "Далее импортируем те же методы и функции, которые использовали при работе с API Яндекс.Метрики:"
   ]
  },
  {
   "cell_type": "code",
   "execution_count": 13,
   "metadata": {},
   "outputs": [],
   "source": [
    "from yaml import load\n",
    "from datetime import datetime, timedelta\n",
    "import requests\n",
    "from pprint import pprint"
   ]
  },
  {
   "cell_type": "code",
   "execution_count": 14,
   "metadata": {},
   "outputs": [],
   "source": [
    "# Импортируем токен для запросов к API:\n",
    "\n",
    "with open('../module12/module12_files/yandex_config.yaml', 'r', encoding='utf-8') as f:\n",
    "    token = load(f)['access_token']\n",
    "\n",
    "# Импортируем параметры работы скрипта из report_params.yaml:\n",
    "\n",
    "with open('./module14_files/report_params.yaml', 'r') as f:\n",
    "    params = load(f)\n",
    "\n",
    "API_URL = 'https://api-metrika.yandex.ru/stat/v1/data'\n",
    "startDate = (datetime.now() - timedelta(days = params['reports']['dau']['days_ago'])).strftime('%Y-%m-%d')\n",
    "endDate = (datetime.now() - timedelta(days = 1)).strftime('%Y-%m-%d')\n",
    "dimensions = params['reports']['dau']['dimensions']\n",
    "metrics = params['reports']['dau']['metrics']\n",
    "sortby = params['reports']['dau']['sort']\n",
    "counter = params['metrika counter']"
   ]
  },
  {
   "cell_type": "markdown",
   "metadata": {},
   "source": [
    "# Важен порядок передачи параметров!!!"
   ]
  },
  {
   "cell_type": "code",
   "execution_count": 15,
   "metadata": {},
   "outputs": [],
   "source": [
    "yandex_api_params = {\n",
    "    'date1': startDate,\n",
    "    'date2': endDate,\n",
    "    'dimensions': dimensions,\n",
    "    'metrics': metrics,\n",
    "    'id': counter,\n",
    "    'sort': sortby,\n",
    "    'oauth_token': token,\n",
    "    'accuracy': 1\n",
    "}"
   ]
  },
  {
   "cell_type": "code",
   "execution_count": 16,
   "metadata": {},
   "outputs": [],
   "source": [
    "# Используем функции для запроса и обработки ответа API из прошлых модулей:\n",
    "\n",
    "def make_request(url, **kwargs):\n",
    "    \n",
    "    \"\"\"Запрос к API Яндекс.Метрики. Возвращает JSON ответа\"\"\"\n",
    "\n",
    "    return requests.get(url, params=kwargs).json()\n",
    "\n",
    "def json_handler(data):\n",
    "\n",
    "    \"\"\"Преобразование ответа из JSON в список\"\"\"\n",
    "\n",
    "    report = []\n",
    "    \n",
    "    if 'data' in data:\n",
    "        for line in data['data']:\n",
    "            dimensions_list = [x['name'] for x in line['dimensions']]\n",
    "            metrics_list = line['metrics']\n",
    "            report.append( dimensions_list + metrics_list )  \n",
    "            \n",
    "        return report\n",
    "    \n",
    "    print('Error: {}'.format(data['message']))\n",
    "    return data"
   ]
  },
  {
   "cell_type": "code",
   "execution_count": 18,
   "metadata": {},
   "outputs": [],
   "source": [
    "# Делаем запрос к Яндекс.Метрике:\n",
    "\n",
    "response = make_request(API_URL, **yandex_api_params)\n",
    "data = json_handler(response)"
   ]
  },
  {
   "cell_type": "code",
   "execution_count": 19,
   "metadata": {},
   "outputs": [
    {
     "data": {
      "text/plain": [
       "[['2018-12-06', 152.0, 141.0, 213.0, 15.13157895],\n",
       " ['2018-12-07', 181.0, 159.0, 326.0, 17.12707182],\n",
       " ['2018-12-08', 157.0, 142.0, 256.0, 14.64968153],\n",
       " ['2018-12-09', 137.0, 129.0, 207.0, 13.13868613],\n",
       " ['2018-12-10', 158.0, 142.0, 243.0, 12.65822785],\n",
       " ['2018-12-11', 144.0, 131.0, 232.0, 22.22222222],\n",
       " ['2018-12-12', 136.0, 127.0, 191.0, 10.29411765],\n",
       " ['2018-12-13', 186.0, 171.0, 271.0, 23.65591398],\n",
       " ['2018-12-14', 150.0, 132.0, 225.0, 18.0],\n",
       " ['2018-12-15', 166.0, 155.0, 260.0, 12.65060241],\n",
       " ['2018-12-16', 143.0, 139.0, 201.0, 16.08391608],\n",
       " ['2018-12-17', 158.0, 150.0, 239.0, 14.55696203],\n",
       " ['2018-12-18', 151.0, 136.0, 261.0, 11.9205298],\n",
       " ['2018-12-19', 123.0, 118.0, 169.0, 13.82113821]]"
      ]
     },
     "execution_count": 19,
     "metadata": {},
     "output_type": "execute_result"
    }
   ],
   "source": [
    "data"
   ]
  },
  {
   "cell_type": "markdown",
   "metadata": {},
   "source": [
    "# Запись данных в Google Sheets\n",
    "Данные получили, осталось отправить их в Google Sheets. Сначала сформируем название диапазона (daily_metrics!A2:E15), в который отправим данные Метрики:"
   ]
  },
  {
   "cell_type": "code",
   "execution_count": 24,
   "metadata": {},
   "outputs": [
    {
     "name": "stdout",
     "output_type": "stream",
     "text": [
      "daily_metrics!A2:E15\n"
     ]
    }
   ],
   "source": [
    "range_data = params['reports']['dau']['range_name']\n",
    "spreadsheet_id = params['reports']['dau']['spreadsheet_id']\n",
    "\n",
    "range_name = '{}!{}{}:{}{}'.format(range_data['list'], range_data['start'], 2, range_data['end'], len(data) + 1)\n",
    "\n",
    "# Проверяем верен ли диапазон:\n",
    "\n",
    "print(range_name)"
   ]
  },
  {
   "cell_type": "code",
   "execution_count": 21,
   "metadata": {},
   "outputs": [
    {
     "name": "stdout",
     "output_type": "stream",
     "text": [
      "{'values': [['2018-12-06', 152.0, 141.0, 213.0, 15.13157895],\n",
      "            ['2018-12-07', 181.0, 159.0, 326.0, 17.12707182],\n",
      "            ['2018-12-08', 157.0, 142.0, 256.0, 14.64968153],\n",
      "            ['2018-12-09', 137.0, 129.0, 207.0, 13.13868613],\n",
      "            ['2018-12-10', 158.0, 142.0, 243.0, 12.65822785],\n",
      "            ['2018-12-11', 144.0, 131.0, 232.0, 22.22222222],\n",
      "            ['2018-12-12', 136.0, 127.0, 191.0, 10.29411765],\n",
      "            ['2018-12-13', 186.0, 171.0, 271.0, 23.65591398],\n",
      "            ['2018-12-14', 150.0, 132.0, 225.0, 18.0],\n",
      "            ['2018-12-15', 166.0, 155.0, 260.0, 12.65060241],\n",
      "            ['2018-12-16', 143.0, 139.0, 201.0, 16.08391608],\n",
      "            ['2018-12-17', 158.0, 150.0, 239.0, 14.55696203],\n",
      "            ['2018-12-18', 151.0, 136.0, 261.0, 11.9205298],\n",
      "            ['2018-12-19', 123.0, 118.0, 169.0, 13.82113821]]}\n"
     ]
    }
   ],
   "source": [
    "# Для отправки листа data в Google Sheets его необходимо преобразовать в словарь:\n",
    "\n",
    "body = {'values': data}\n",
    "\n",
    "pprint(body)"
   ]
  },
  {
   "cell_type": "markdown",
   "metadata": {},
   "source": [
    "Наконец, отправляем эти данные в Google Sheets. Опция valueInputOption дает команду API на то, что значения надо вставить так как если бы пользователь ввел их вручную в веб-интерфейсе. Подробнее: https://developers.google.com/sheets/api/reference/rest/v4/ValueInputOption"
   ]
  },
  {
   "cell_type": "code",
   "execution_count": 23,
   "metadata": {},
   "outputs": [
    {
     "data": {
      "text/plain": [
       "{'metrika counter': 21075004,\n",
       " 'reports': {'dau': {'dimensions': 'ym:s:date',\n",
       "   'metrics': 'ym:s:visits,ym:s:users,ym:s:pageviews,ym:s:bounceRate',\n",
       "   'sort': 'ym:s:date',\n",
       "   'days_ago': 14,\n",
       "   'spreadsheet_id': '1XlUS0O1TILVXPfMPrWt4q36_32ofxAGyv-8aw9AvvGk',\n",
       "   'range_name': {'list': 'daily_metrics', 'start': 'A', 'end': 'E'}}}}"
      ]
     },
     "execution_count": 23,
     "metadata": {},
     "output_type": "execute_result"
    }
   ],
   "source": [
    "params"
   ]
  },
  {
   "cell_type": "code",
   "execution_count": 25,
   "metadata": {},
   "outputs": [
    {
     "data": {
      "text/plain": [
       "{'spreadsheetId': '1XlUS0O1TILVXPfMPrWt4q36_32ofxAGyv-8aw9AvvGk',\n",
       " 'updatedRange': 'daily_metrics!A2:E15',\n",
       " 'updatedRows': 14,\n",
       " 'updatedColumns': 5,\n",
       " 'updatedCells': 70}"
      ]
     },
     "execution_count": 25,
     "metadata": {},
     "output_type": "execute_result"
    }
   ],
   "source": [
    "(service.spreadsheets().values()\n",
    " .update(spreadsheetId=spreadsheet_id, \n",
    "         range=range_name, \n",
    "         valueInputOption='USER_ENTERED', \n",
    "         body=body)\n",
    " .execute())"
   ]
  },
  {
   "cell_type": "markdown",
   "metadata": {},
   "source": [
    "Теперь проверим книгу в Google Sheets. У вас должен получиться подобный результат:\n",
    "\n",
    "<img src='./module14_files/m9_b2_write_step5.png'>"
   ]
  },
  {
   "cell_type": "markdown",
   "metadata": {},
   "source": [
    "# Упражнение\n",
    "(1 возможный балл)\n",
    "Получите аналогичную таблицу в своей книге Google Sheets за фиксированные даты с 25 февраля по 10 марта 2018 года.\n",
    "\n",
    "Чему равна сумма визитов за этот период?"
   ]
  },
  {
   "cell_type": "code",
   "execution_count": 28,
   "metadata": {},
   "outputs": [],
   "source": [
    "yandex_api_params['date1'] = '2018-02-25'\n",
    "yandex_api_params['date2'] = '2018-03-10'"
   ]
  },
  {
   "cell_type": "code",
   "execution_count": 29,
   "metadata": {},
   "outputs": [],
   "source": [
    "response = make_request(API_URL, **yandex_api_params)\n",
    "data = json_handler(response)"
   ]
  },
  {
   "cell_type": "code",
   "execution_count": 33,
   "metadata": {},
   "outputs": [
    {
     "name": "stdout",
     "output_type": "stream",
     "text": [
      "daily_metrics!A2:E15\n",
      "{'values': [['2018-02-25', 202.0, 193.0, 386.0, 15.34653465],\n",
      "            ['2018-02-26', 279.0, 264.0, 440.0, 13.62007168],\n",
      "            ['2018-02-27', 280.0, 258.0, 481.0, 18.21428571],\n",
      "            ['2018-02-28', 294.0, 278.0, 399.0, 15.98639456],\n",
      "            ['2018-03-01', 293.0, 272.0, 430.0, 15.35836177],\n",
      "            ['2018-03-02', 317.0, 284.0, 441.0, 12.30283912],\n",
      "            ['2018-03-03', 342.0, 292.0, 551.0, 15.78947368],\n",
      "            ['2018-03-04', 265.0, 233.0, 429.0, 19.62264151],\n",
      "            ['2018-03-05', 282.0, 257.0, 427.0, 17.0212766],\n",
      "            ['2018-03-06', 258.0, 229.0, 389.0, 17.82945736],\n",
      "            ['2018-03-07', 203.0, 185.0, 318.0, 12.31527094],\n",
      "            ['2018-03-08', 198.0, 168.0, 382.0, 11.61616162],\n",
      "            ['2018-03-09', 258.0, 232.0, 514.0, 18.21705426],\n",
      "            ['2018-03-10', 221.0, 198.0, 429.0, 20.36199095]]}\n"
     ]
    }
   ],
   "source": [
    "range_data = params['reports']['dau']['range_name']\n",
    "spreadsheet_id = params['reports']['dau']['spreadsheet_id']\n",
    "\n",
    "range_name = '{}!{}{}:{}{}'.format(range_data['list'], range_data['start'], 2, range_data['end'], len(data) + 1)\n",
    "\n",
    "# Проверяем верен ли диапазон:\n",
    "print(range_name)\n",
    "\n",
    "# Для отправки листа data в Google Sheets его необходимо преобразовать в словарь:\n",
    "body = {'values': data}\n",
    "\n",
    "pprint(body)"
   ]
  },
  {
   "cell_type": "code",
   "execution_count": 34,
   "metadata": {},
   "outputs": [
    {
     "data": {
      "text/plain": [
       "{'spreadsheetId': '1XlUS0O1TILVXPfMPrWt4q36_32ofxAGyv-8aw9AvvGk',\n",
       " 'updatedRange': 'daily_metrics!A2:E15',\n",
       " 'updatedRows': 14,\n",
       " 'updatedColumns': 5,\n",
       " 'updatedCells': 70}"
      ]
     },
     "execution_count": 34,
     "metadata": {},
     "output_type": "execute_result"
    }
   ],
   "source": [
    "(service.spreadsheets().values()\n",
    " .update(spreadsheetId=spreadsheet_id, \n",
    "         range=range_name, \n",
    "         valueInputOption='USER_ENTERED', \n",
    "         body=body)\n",
    " .execute())"
   ]
  },
  {
   "cell_type": "code",
   "execution_count": null,
   "metadata": {},
   "outputs": [],
   "source": []
  }
 ],
 "metadata": {
  "kernelspec": {
   "display_name": "Python 3",
   "language": "python",
   "name": "python3"
  },
  "language_info": {
   "codemirror_mode": {
    "name": "ipython",
    "version": 3
   },
   "file_extension": ".py",
   "mimetype": "text/x-python",
   "name": "python",
   "nbconvert_exporter": "python",
   "pygments_lexer": "ipython3",
   "version": "3.6.5"
  }
 },
 "nbformat": 4,
 "nbformat_minor": 2
}
