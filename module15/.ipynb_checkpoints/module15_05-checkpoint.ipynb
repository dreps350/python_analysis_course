{
 "cells": [
  {
   "cell_type": "markdown",
   "metadata": {},
   "source": [
    "# Задача\n",
    "Итак, давайте сформулируем задачу: необходимо написать библиотеку для отправки сообщений с помощью в Телеграм, указывая в качестве адресата свой логин. Т. е. вместо импорта библиотек, токена бота, вспоминания своего chat_id и написания методов мы хотим прийти к следующим простым командам вида ('kbashevoy' - имя пользователя, которому отправляем сообщение 'Посчиталось ура'):\n",
    "```python\n",
    "mess = notifier('kbashevoy')\n",
    "\n",
    "mess.notification('Посчиталось ура')\n",
    "```\n",
    "И получить в своем Телеграме это сообщение."
   ]
  },
  {
   "cell_type": "markdown",
   "metadata": {},
   "source": [
    "# Основы объектно-ориентированного программирования\n",
    "Для начала откроем файл config.yaml с прошлого шага, в который добавим соответствие вашего chat_id (тоже с прошлого шага) и удобного вам логина. Т. к. пользователей нашей библиотеки может быть много, то давайте все пары chat_id и логинов запишем в ключ users. Итого, файл config.yaml будет иметь вид (для простоты обозначаем самого себя в списке пользователей как 'me'):"
   ]
  },
  {
   "cell_type": "code",
   "execution_count": 25,
   "metadata": {},
   "outputs": [],
   "source": [
    "import yaml\n",
    "import telegram\n",
    "import sys"
   ]
  },
  {
   "cell_type": "code",
   "execution_count": 21,
   "metadata": {},
   "outputs": [],
   "source": [
    "path_to_cfg = './module15_files/telegram_config_2.yaml'\n",
    "\n",
    "with open(path_to_cfg) as f:\n",
    "    config = yaml.load(f)"
   ]
  },
  {
   "cell_type": "code",
   "execution_count": 8,
   "metadata": {},
   "outputs": [],
   "source": [
    "class Notifier:\n",
    "    \n",
    "    def __init__(self, username):\n",
    "        self.username = username"
   ]
  },
  {
   "cell_type": "code",
   "execution_count": 9,
   "metadata": {},
   "outputs": [],
   "source": [
    "mess = Notifier('me')"
   ]
  },
  {
   "cell_type": "code",
   "execution_count": 10,
   "metadata": {},
   "outputs": [
    {
     "data": {
      "text/plain": [
       "'me'"
      ]
     },
     "execution_count": 10,
     "metadata": {},
     "output_type": "execute_result"
    }
   ],
   "source": [
    "mess.username"
   ]
  },
  {
   "cell_type": "markdown",
   "metadata": {},
   "source": [
    "Мы завели так называемый инстанс класса Notifier. Это очень удобно, т. к. если вам нужно завести \"рассыльщики\" сообщений для нескольких пользователей, то вы можете сделать это аналогичным образом:Мы завели так называемый инстанс класса Notifier. Это очень удобно, т. к. если вам нужно завести \"рассыльщики\" сообщений для нескольких пользователей, то вы можете сделать это аналогичным образом:"
   ]
  },
  {
   "cell_type": "code",
   "execution_count": 11,
   "metadata": {},
   "outputs": [],
   "source": [
    "second_mess = Notifier('my colleague')"
   ]
  },
  {
   "cell_type": "code",
   "execution_count": 12,
   "metadata": {},
   "outputs": [
    {
     "name": "stdout",
     "output_type": "stream",
     "text": [
      "my colleague\n"
     ]
    }
   ],
   "source": [
    "print(second_mess.username)"
   ]
  },
  {
   "cell_type": "markdown",
   "metadata": {},
   "source": [
    "Давайте в качестве иллюстрации этого свойства сделаем счетчик отправленных сообщений. Сначала объявим переменную messages_counter, которая будет считать количество отправленных сообщений (класс придется все время писать целиком и в одной ячейке):"
   ]
  },
  {
   "cell_type": "code",
   "execution_count": 13,
   "metadata": {},
   "outputs": [],
   "source": [
    "class Notifier:\n",
    "    \n",
    "    def __init__(self, username):\n",
    "        self.username = username\n",
    "        self.messages_counter = 0\n",
    "        \n",
    "    def counterUp(self):\n",
    "        self.messages_counter += 1"
   ]
  },
  {
   "cell_type": "code",
   "execution_count": 14,
   "metadata": {},
   "outputs": [
    {
     "name": "stdout",
     "output_type": "stream",
     "text": [
      "0\n",
      "1\n"
     ]
    }
   ],
   "source": [
    "mess = Notifier('me')\n",
    "print(mess.messages_counter)\n",
    "mess.counterUp()\n",
    "print(mess.messages_counter)"
   ]
  },
  {
   "cell_type": "markdown",
   "metadata": {},
   "source": [
    "Это гораздо проще, чем заводить очередную переменную в цикле. Если в счетчике у вас заложена более сложна логика работы (например, вместо увеличения на 1 у вас идет начисление премий по отделам), то в итоге в коде вместо описания правил вы будете просто вызывать этот метод.\n",
    "\n",
    "Наконец, добавляем необходимые переменные и команды для работы с ботом. Обратите внимание, что метод notification (он отправляет сообщение в Телеграм) содержит дополнительный аргумент message (текст сообщения). Этот аргумент будет доступен пока только методу notification. Также будем проверять наличие пользователя username в словаре config['users']"
   ]
  },
  {
   "cell_type": "code",
   "execution_count": 23,
   "metadata": {},
   "outputs": [],
   "source": [
    "class Notifier:\n",
    "\n",
    "    def __init__(self, username, path):\n",
    "        self.username = username        \n",
    "        self.messages_counter = 0\n",
    "        \n",
    "        with open(path) as f:\n",
    "            self.config = yaml.load(open(path, 'r'))\n",
    "        \n",
    "        self.bot = telegram.Bot(self.config['bot_token']) \n",
    "\n",
    "    def counterUp(self):\n",
    "        self.messages_counter += 1\n",
    "    \n",
    "    def notification(self, message):\n",
    "        if self.username in self.config['users']:\n",
    "            self.bot.sendMessage(chat_id = self.config['users'][self.username], text = message)\n",
    "        else:\n",
    "            print('Имя пользователя не найдено в файле config.yaml')"
   ]
  },
  {
   "cell_type": "code",
   "execution_count": 24,
   "metadata": {},
   "outputs": [
    {
     "name": "stdout",
     "output_type": "stream",
     "text": [
      "Имя пользователя не найдено в файле config.yaml\n"
     ]
    }
   ],
   "source": [
    "mess = Notifier('unknown_user', path_to_cfg)\n",
    "mess.notification('test')"
   ]
  },
  {
   "cell_type": "markdown",
   "metadata": {},
   "source": [
    "# Использование в других скриптах\n",
    "Чтобы ваша библиотека была доступна из других скриптов, давайте сохраним ее отдельный файл. Для \"чистоты эксперимента\" сохраните ее в отдельную папку 'notifier' в файл telegram_notifier.py. В эту же папку положите файл с токеном и логинами config.yaml. Тем самым мы проверим как вызывать нашу библиотеку из другой папки. Итоговый вид библиотеки в файле telegram_notifier.py:"
   ]
  },
  {
   "cell_type": "code",
   "execution_count": 26,
   "metadata": {},
   "outputs": [
    {
     "name": "stdout",
     "output_type": "stream",
     "text": [
      "F:\\My_projects\\Programming_courses\\jupyter\\Skill_factory\\module15\n"
     ]
    }
   ],
   "source": [
    "!cd"
   ]
  },
  {
   "cell_type": "code",
   "execution_count": null,
   "metadata": {},
   "outputs": [],
   "source": [
    "# указываем скрипту где искать нашу библиотеку\n",
    "\n",
    "import sys\n",
    "\n",
    "sys.path.append('notifier')\n",
    "\n",
    "# импортируем класс Notifier из файла telegram_notifier (без указания расширения py)\n",
    "\n",
    "from telegram_notifier import Notifier\n",
    "\n",
    "Все готово к использованию! Отправим себе служебное сообщение в 2 строчки кода:\n",
    "\n",
    "mess = Notifier('me')\n",
    "\n",
    "mess.notification('Расчет окончен')"
   ]
  },
  {
   "cell_type": "markdown",
   "metadata": {},
   "source": [
    "Теперь вы можете аналогичным образом вызывать эту библиотеку из любого скрипта. Не забывайте прописывать \"sys.path.append('notifier')\" с указанием полного адреса папки 'notifier'."
   ]
  }
 ],
 "metadata": {
  "kernelspec": {
   "display_name": "Python 3",
   "language": "python",
   "name": "python3"
  },
  "language_info": {
   "codemirror_mode": {
    "name": "ipython",
    "version": 3
   },
   "file_extension": ".py",
   "mimetype": "text/x-python",
   "name": "python",
   "nbconvert_exporter": "python",
   "pygments_lexer": "ipython3",
   "version": "3.6.5"
  }
 },
 "nbformat": 4,
 "nbformat_minor": 2
}
