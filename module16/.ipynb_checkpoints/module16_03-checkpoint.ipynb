{
 "cells": [
  {
   "cell_type": "markdown",
   "metadata": {},
   "source": [
    "# Получение номеров банковских карт\n",
    "Очень важным типом фильтров являются так называемые регулярные выражения. В этом модуле мы ненадолго отойдем от построения рекомендательной системы, чтобы разобраться в работе регулярных выражений на нескольких примерах. Такого рода задачи будут часто встречаться вам при работе с данными любого типа:\n",
    "\n",
    "Как найти номера банковских карт в списке транзакций\n",
    "Отфильтровать список URL страниц по шаблону '/ и восемь цифр подряд'\n",
    "Проверка корректности email-адресов\n",
    "Подсчет статистики почтовых систем и выделение логинов пользователей из email-адресов\n",
    "Фильтры, которые мы рассматривали в прошлых блоках, были относительно простыми: сравнения чисел, поиск подстроки. Более сложные условия и проверки задавали с помощью внешних функций. Однако, часто встречаются задачи, в которых необходимо внести дополнительные условия прямо в условие фильтра. Например, найти все слова, которые состоят из 16 цифр (т. е. нужно найти все номера банковских карт в тексте).\n",
    "\n",
    "Для решения таких задач предназначены регулярные выражения. Это правила, которые позволяют задавать шаблоны поиска по строке (например, 16 цифр подряд). Если этот шаблон найден в строке, то она удовлетворяет регулярному выражению.\n",
    "\n",
    "Многие системы аналитики и языки программирования имеют встроенные возможности по использованию регулярных выражений. Стоит помнить, что в каждой системе эти правила могут немного отличаться. Составлено большое число таблиц и сервисов, которые облегчают работу с регулярными выражениями. Например:\n",
    "\n",
    "- Проверка регулярных выражений в питоне онлайн pyregex.com\n",
    "- Короткая памятка по регулярным выражениям petefreitag.com/cheatsheets/regex/\n",
    "- Длинная памятка rexegg.com/regex-quickstart.html\n",
    "\n",
    "Допустим, нужно выделить из следующего текста номера карт из 16 цифр:\n",
    "\n",
    "card number #1 1234123412341234\n",
    "\n",
    "wrong number 9876\n",
    "\n",
    "card number #1 4321432143214321\n",
    "\n",
    "Согласно правилам регулярных выражений шаблон для 16 цифр будет выглядеть как \"любая цифра, повторенная 16 раз\". Что соответствует такой записи: \\d{16}. Убедимся, что онлайн-проверка дает верный результат, т. е. находит номера 1234123412341234 и 4321432143214321 и исключает все остальные варианты. Воспользуемся интерфейсом pyregex.com"
   ]
  },
  {
   "cell_type": "markdown",
   "metadata": {},
   "source": [
    "# Сложный фильтр для URL страниц\n",
    "Файл с URL страниц URL.txt\n",
    "\n",
    "Давайте рассмотрим как делать то же самое в своем коде на примере следующей задачи: имеется набор URL страниц проекта (файл URLs.txt). Нам необходимо выделить из этого списка страницы новостей, которые содержат восьмизначный номер новости. Т. е. нам нужны страницы вида '/world/36007585-tramp-pridumal-kak-reshit-ukrainskiy-vopros/?smi2=1', а другие страницы вроде '/politics/', '/latest/?page=1' и '/' нас не интересуют.\n",
    "\n",
    "Такие задачи часто встречаются, когда в системах аналитики (например, Google Analytics) вам нужно получить статистику определенного раздела. Например, сколько просмотров страниц было у новостных текстов за период? С помощью регулярных выражений можно решить подобную задачу с помощью фильтра в одну строку.\n",
    "\n",
    "Импортируем стандартную библиотеку для работы с регулярными выражениями:"
   ]
  },
  {
   "cell_type": "code",
   "execution_count": 1,
   "metadata": {},
   "outputs": [],
   "source": [
    "import re"
   ]
  },
  {
   "cell_type": "code",
   "execution_count": 2,
   "metadata": {},
   "outputs": [],
   "source": [
    "path_to_file = './module16_files/URLs.txt'"
   ]
  },
  {
   "cell_type": "markdown",
   "metadata": {},
   "source": [
    "Теперь необходимо задать шаблон (т. е. правило для фильтра) для страниц вида /world/36007585-tramp-pridumal-kak-reshit-ukrainskiy-vopros/?smi2=1. Сформулируем его так: \"любая последовательность символов, затем /, затем 8 цифр, затем тире и последовательность символов\". Распишем эту последовательность в терминах регулярных выражений:\n",
    "\n",
    "- .* - это любая последовательность символов (точка значит любой символ, * значит повторение прошлого символа любое количество раз). Итого .* - это последовательность любых символов (нулевой длины, кстати, тоже)\n",
    "- / прямой слэш\n",
    "- [0-9] любая цифра от 0 до 9 (кстати таким же способом можно задавать любую букву алфавита: [a-z])\n",
    "- {8} количество повторений прошлого символа, т. е. в нашем случае цифры\n",
    "- \\- тире\n",
    "- .* снова любое количество символов\n",
    "\n",
    "Запишем наше выражение в шаблон:"
   ]
  },
  {
   "cell_type": "code",
   "execution_count": 5,
   "metadata": {},
   "outputs": [
    {
     "name": "stdout",
     "output_type": "stream",
     "text": [
      "/politics/36188461-s-marta-zhizn-rossiyan-suschestvenno-izmenitsya-iz-za-novyh-zakonov/\n",
      "/world/36007585-tramp-pridumal-kak-reshit-ukrainskiy-vopros/\n",
      "/science/36157853-nasa-sobiraet-ekstrennuyu-press-konferentsiyu-na-temu-vnezemnoy-zhizni/\n",
      "/video/36001498-poyavilis-pervye-podrobnosti-gibeli-natali-melamed/\n",
      "/world/36007585-tramp-pridumal-kak-reshit-ukrainskiy-vopros/?smi2=1\n",
      "/middleeast/36131117-divizion-s-400-ne-zametil-ataki-f-35-pod-damaskom/\n",
      "/economics/36065674-rossiyane-vozmutilis-minimalnymi-zarplatami-v-stranah-es/\n",
      "/politics/36118047-otets-24-detey-potreboval-izvineniy-ot-soloveva/?smi2=1\n",
      "/travel/36194479-v-sheremetevo-passazhiry-ustroili-bunt/\n",
      "/politics/35638742-nesolidno-mariya-zaharova-sdelala-neozhidannoe-priznanie/\n",
      "/video/36012692-tramp-otkrestilsya-ot-rossii-i-putina/\n",
      "/starlife/36174817-guzeeva-rasstalas-s-muzhem/\n",
      "/health/36149308-predlozheno-prostoe-sredstvo-ot-insulta/\n",
      "/science/36139723-set-vzbudorazhila-novost-o-sensatsii-nasa/\n",
      "/cis/36229699-poroshenko-obyavil-vseukrainskiy-traur/\n",
      "/incidents/36225203-tonnel-obrushilsya-v-novoy-moskve-pod-zavalami-lyudi/\n",
      "/politics/36118047-otets-24-detey-potreboval-izvineniy-ot-soloveva/\n",
      "/world/36075956-na-granitse-s-krymom-zahvachena-baza-krymsko-tatarskogo-batalona/\n",
      "/politics/36115220-mid-vystupil-s-preduprezhdeniem-k-rossiyanam/\n",
      "/world/36018565-sbu-opublikovala-zapis-peregovorov-plotnitskogo-o-sbitom-il-76/\n",
      "/politics/36150505-stala-izvestna-prichina-smerti-churkina/\n",
      "/middleeast/36131117-divizion-s-400-ne-zametil-ataki-f-35-pod-damaskom/?smi2=1\n",
      "/sport/36055585-fiyon-maye-my-prouchili-russkih-moshennikov-na-trasse/\n",
      "/crazy-world/36193471-seks-bezhentsy-vernulis-v-germaniyu-iz-novosibirskoy-glubinki/\n",
      "/crazy-world/36087352-moskvicha-shokirovala-nahodka-v-steyke/\n",
      "/incidents/36096689-rossiyskih-turistov-dvazhdy-zakidali-kamnyami-v-abhazii/\n",
      "/video/36225009-otschet-poshel-zaharchenko-nazval-srok-likvidatsii-ukrainy/\n",
      "/health/36139780-opredelen-reshayuschiy-faktor-zdorovya-zubov/\n",
      "/business/36187789-v-rf-hotyat-povysit-nalogi-dlya-obychnyh-grazhdan/\n",
      "/video/35930625-dozvonivshiysya-v-efir-ukrainskogo-tv-rasskazal-o-zhizni-v-krymu/?smi2=1\n",
      "/head/36214416-u-zheny-karachentsova-nashli-alkogol-v-krovi/\n",
      "/head/36038043-foto-otdyhayuschiy-obama-vzbudorazhil-set/slides/\n",
      "/cis/36189830-kiev-arestoval-imuschestvo-v-krymu/\n",
      "/video/36006794-pogibshaya-melamed-ostavila-predsmertnuyu-zapisku/\n",
      "/video/36082961-nikol-kidman-prishla-na-britanskiy-oskar-v-neprilichnom-plate/\n",
      "/incidents/36173928-v-ekaterinburge-migranty-ustroili-bunt/\n",
      "/video/36151719-petrosyanu-grozit-sud/\n",
      "/business/36102731-rubl-rezko-otreagiroval-na-soobscheniya-o-vstreche-putina-s-oreshkinym/\n",
      "/articles/36193368-donbass-reshil-udarit-pervym/\n",
      "/science/36178249-rasshifrovano-predskazanie-nostradamusa-na-2017-god/\n",
      "/world/36206871-na-ukraine-nachalsya-shturm-uchastnikov-blokady-donbassa/\n",
      "/science/36233829-sozdano-lekarstvo-ot-vseh-vidov-raka/\n",
      "/politics/36093799-sbezhavshuyu-iz-rossii-maksakovu-uvolili-iz-gnesinki/\n",
      "/cis/36144647-v-tsentr-kieva-styagivayut-voennuyu-tehniku/\n",
      "/starlife/36140271-skandalnoe-foto-britni-spirs-vzorvalo-instagram/\n",
      "/finances/36043911-rublyu-predrekli-dvoynoy-udar/\n",
      "/starlife/36135554-doch-valerii-snyalas-v-otkrovennoy-fotosessii/\n",
      "/starlife/36005664-dzhennifer-lopes-vzorvala-internet-intimnym-foto/\n",
      "/starlife/36240935-dzhigurde-postavili-diagnoz/\n",
      "/politics/36233197-times-britaniya-peregnula-palku-s-krymom/\n",
      "/articles/36213214-vozmozhna-bolshaya-voyna/\n",
      "/articles/36142564-ukrainu-ureguliruyut-po-tihomu/\n",
      "/starlife/36044627-u-malyshevoy-sdali-nervy-na-peredache/\n",
      "/starlife/36053306-dzhigarhanyan-dal-shokiruyuschee-intervyu-o-byvshih-zhenah/\n",
      "/business/36184872-udar-po-schetchiku-rossiyane-stolknulis-s-dikim-skachkom-tarifov-zhkh/\n",
      "/world/36195262-deputat-savchenko-predlozhila-ukraintsam-posledovat-za-krymom/\n",
      "/starlife/36014715-evelina-bledans-vyshla-v-svet-bez-nizhnego-belya/\n",
      "/europe/36046038-v-parizhskom-metro-progremel-vzryv/\n",
      "/middleeast/36024757-v-sekretnoy-tyurme-v-sirii-povesheny-13-tysyach-chelovek/\n",
      "/video/36202662-nakazanie-dlya-lukashenko-rossiya-nashla-zhestkiy-rychag-protiv-belorussii/\n",
      "/articles/36170146-rossiya-reshila-postavlyat-ugol-napryamuyu-v-donbass/\n",
      "/business/36016781-sberbank-cib-nazval-sroki-devalvatsii-rublya/\n",
      "/politics/36229424-rossiya-vyrazila-protest-bolgarii/\n",
      "/kinomusic/36016432-igorya-krutogo-prooperirovali-v-amerike/\n",
      "/starlife/36008814-minus-odin-nyusha-otkazalas-ehat-v-kiev-na-evrovidenie/\n",
      "/lifestyle/36185060-uchenye-rasskazali-kak-v-buduschem-izmenitsya-seks/\n",
      "/articles/36082911-pribaltika-i-ukraina-v-panike-ili-igla-byvaet-ne-tolko-neftyanaya/\n",
      "/politics/36203629-v-gosdume-obyasnili-perenos-dnya-zaschitnika-otechestva/\n",
      "/economics/36097033-a-zhit-za-schet-rossii-vy-gotovy/?smi2=1\n",
      "/incidents/36003455-natalya-melamed-pered-gibelyu-prozhila-v-lesu-dva-dnya/\n",
      "/starlife/36131560-maksakova-shokirovala-otkrovennymi-fotografiyami/\n",
      "/sport/36235520-v-britanii-razgorelsya-krupneyshiy-doping-skandal-v-istorii/\n",
      "/articles/36093326-shturmovat-donetsk-i-lugansk-budut-pidzhaki/\n",
      "/video/36214784-panayotov-sdelal-shokiruyuschee-priznanie/\n",
      "/world/36215106-lider-ig-obratilsya-k-boevikam-s-proschalnoy-rechyu/\n",
      "/articles/36066499-iz-za-zvaniy-anny-netrebko-i-zary-razgorelis-skandaly/\n",
      "/starlife/36096316-u-lyudmily-maksakovoy-sdali-nervy-posle-pobega-docheri-na-ukrainu/?24smi=1\n",
      "/economics/36097033-a-zhit-za-schet-rossii-vy-gotovy/\n",
      "/starlife/36096182-vdova-valeriya-zolotuhina-vstretila-novuyu-lyubov/\n",
      "/cis/35984145-kreml-prokommentiroval-soobscheniya-smi-o-vozmozhnom-razvale-eaes-iz-za-belorussii/?24smi=1\n",
      "/video/36071019-olimpiyskie-obekty-rio-prevratilis-v-ruiny/\n",
      "/science/36151301-nazvano-posledstvie-zloupotrebleniya-alkogolem/\n",
      "/incidents/36027330-vospitatelnitsu-zatravili-za-erotichnoe-foto-s-vedrom/\n",
      "/world/36103095-dominikanskih-zhurnalistov-ubili-v-pryamom-efire/\n"
     ]
    }
   ],
   "source": [
    "pattern = re.compile('.*/\\d{8}-.*')\n",
    "\n",
    "with open(path_to_file) as f:\n",
    "    for line in f:\n",
    "        line = line.strip()\n",
    "        if pattern.match(line):\n",
    "            print(line)"
   ]
  },
  {
   "cell_type": "markdown",
   "metadata": {},
   "source": [
    "# Проверка корректности email-адреса\n",
    "Регулярные выражения позволяют не только фильтровать данные, но и извлекать полезные данные. В этом шаге мы извлечем название домена из списка email-адресов и построим распределение почтовых сервисов этой базы. Причем одновременно будем проверять корректность адреса.\n",
    "\n",
    "В этом шаге мы будем работать с файлом 'email_base.csv', в котором записаны 1000 email-адресов в зашифрованном виде. Причем часть строк имеют \"битые\" адреса без домена. Нам необходимо для каждого адреса определить является ли он валидным, и выделить имя пользователя и домен."
   ]
  },
  {
   "cell_type": "code",
   "execution_count": 42,
   "metadata": {},
   "outputs": [],
   "source": [
    "import pandas as pd\n",
    "\n",
    "%matplotlib inline"
   ]
  },
  {
   "cell_type": "code",
   "execution_count": 7,
   "metadata": {},
   "outputs": [],
   "source": [
    "path_to_emails = './module16_files/email_base.csv'\n",
    "\n",
    "emails = pd.read_csv(path_to_emails, sep='\\t', names=['email'])"
   ]
  },
  {
   "cell_type": "code",
   "execution_count": 8,
   "metadata": {},
   "outputs": [
    {
     "data": {
      "text/html": [
       "<div>\n",
       "<style scoped>\n",
       "    .dataframe tbody tr th:only-of-type {\n",
       "        vertical-align: middle;\n",
       "    }\n",
       "\n",
       "    .dataframe tbody tr th {\n",
       "        vertical-align: top;\n",
       "    }\n",
       "\n",
       "    .dataframe thead th {\n",
       "        text-align: right;\n",
       "    }\n",
       "</style>\n",
       "<table border=\"1\" class=\"dataframe\">\n",
       "  <thead>\n",
       "    <tr style=\"text-align: right;\">\n",
       "      <th></th>\n",
       "      <th>email</th>\n",
       "    </tr>\n",
       "  </thead>\n",
       "  <tbody>\n",
       "    <tr>\n",
       "      <th>0</th>\n",
       "      <td>e4534d1765b9868ee69560d22d4fbe</td>\n",
       "    </tr>\n",
       "    <tr>\n",
       "      <th>1</th>\n",
       "      <td>a6c00bcbc7@yandex.ru</td>\n",
       "    </tr>\n",
       "    <tr>\n",
       "      <th>2</th>\n",
       "      <td>a4cc52d0de@gmail.com</td>\n",
       "    </tr>\n",
       "    <tr>\n",
       "      <th>3</th>\n",
       "      <td>acbc8faa1c@gmail.com</td>\n",
       "    </tr>\n",
       "    <tr>\n",
       "      <th>4</th>\n",
       "      <td>70a1f9be47@yandex.ru</td>\n",
       "    </tr>\n",
       "  </tbody>\n",
       "</table>\n",
       "</div>"
      ],
      "text/plain": [
       "                            email\n",
       "0  e4534d1765b9868ee69560d22d4fbe\n",
       "1            a6c00bcbc7@yandex.ru\n",
       "2            a4cc52d0de@gmail.com\n",
       "3            acbc8faa1c@gmail.com\n",
       "4            70a1f9be47@yandex.ru"
      ]
     },
     "execution_count": 8,
     "metadata": {},
     "output_type": "execute_result"
    }
   ],
   "source": [
    "emails.head()"
   ]
  },
  {
   "cell_type": "markdown",
   "metadata": {},
   "source": [
    "Сформулируем правило корректного email-адреса в нашей задаче следующим образом: \"последовательность символов, точек или тире, затем @, затем последовательность символов и на конце '.ru' или '.com'\". Реальные проверки для валидации корректности адреса более сложные, но в данном случае мы можем ограничиться такой.\n",
    "\n",
    "Запишем сначала шаблон такой проверки только для адресов домена .ru:"
   ]
  },
  {
   "cell_type": "code",
   "execution_count": 23,
   "metadata": {},
   "outputs": [],
   "source": [
    "pattern = '[\\w\\.-]+@\\w+\\.(ru|com)$'"
   ]
  },
  {
   "cell_type": "code",
   "execution_count": 24,
   "metadata": {},
   "outputs": [
    {
     "name": "stdout",
     "output_type": "stream",
     "text": [
      "True\n"
     ]
    }
   ],
   "source": [
    "if re.match(pattern, 'username-1990@gmail.ru'):\n",
    "    print(True)"
   ]
  },
  {
   "cell_type": "markdown",
   "metadata": {},
   "source": [
    "# Упражнение\n",
    "(1 возможный балл)\n",
    "Сейчас наша проверка имеет недостаток: в ней идет проверка на наличие домена .ru и .com, однако, проверку пройдет и такой адрес:"
   ]
  },
  {
   "cell_type": "code",
   "execution_count": 25,
   "metadata": {},
   "outputs": [],
   "source": [
    "if re.match(pattern, 'username-1990@gmail.com123'):\n",
    "    print(True)"
   ]
  },
  {
   "cell_type": "markdown",
   "metadata": {},
   "source": [
    "Как следует изменить шаблон pattern, чтобы исключить такие случаи?"
   ]
  },
  {
   "cell_type": "markdown",
   "metadata": {},
   "source": [
    "# Статистика почтовых систем\n",
    "Итак, наш шаблон проверки работает. Давайте решим следующую задачу: необходимо посчитать количество адресов в файле email_base.csv в разбивке по почтовым доменам. Т. е. посчитать сколько адресов принадлежат yandex.ru, сколько - gmail.com итд. А если адрес не похож на email, то необходимо посчитать количество таких строк как 'wrong email'\n",
    "\n",
    "Для решения этой задачи сначала выделим имя пользователя и домен. Для этого укажем эти email-адреса части в скобках шаблона регулярного выражения:"
   ]
  },
  {
   "cell_type": "code",
   "execution_count": 26,
   "metadata": {},
   "outputs": [],
   "source": [
    "pattern = '([\\w\\.-]+)@([\\w]+\\.(ru|com))'"
   ]
  },
  {
   "cell_type": "code",
   "execution_count": 36,
   "metadata": {},
   "outputs": [
    {
     "data": {
      "text/plain": [
       "['username@yandex.ru', 'username', 'yandex.ru', 'ru']"
      ]
     },
     "execution_count": 36,
     "metadata": {},
     "output_type": "execute_result"
    }
   ],
   "source": [
    "[re.search(pattern, 'username@yandex.ru').group(i) for i in range(4)]"
   ]
  },
  {
   "cell_type": "code",
   "execution_count": 37,
   "metadata": {},
   "outputs": [],
   "source": [
    "def get_email_domain(row):\n",
    "    if re.match(pattern, row['email']):\n",
    "        return re.search(pattern, row['email']).group(2)\n",
    "    else:\n",
    "        return 'wrong email'"
   ]
  },
  {
   "cell_type": "code",
   "execution_count": 39,
   "metadata": {},
   "outputs": [],
   "source": [
    "emails['domain'] = emails.apply(get_email_domain, axis=1)"
   ]
  },
  {
   "cell_type": "code",
   "execution_count": 41,
   "metadata": {},
   "outputs": [
    {
     "data": {
      "text/html": [
       "<div>\n",
       "<style scoped>\n",
       "    .dataframe tbody tr th:only-of-type {\n",
       "        vertical-align: middle;\n",
       "    }\n",
       "\n",
       "    .dataframe tbody tr th {\n",
       "        vertical-align: top;\n",
       "    }\n",
       "\n",
       "    .dataframe thead th {\n",
       "        text-align: right;\n",
       "    }\n",
       "</style>\n",
       "<table border=\"1\" class=\"dataframe\">\n",
       "  <thead>\n",
       "    <tr style=\"text-align: right;\">\n",
       "      <th></th>\n",
       "      <th>email</th>\n",
       "      <th>domain</th>\n",
       "    </tr>\n",
       "  </thead>\n",
       "  <tbody>\n",
       "    <tr>\n",
       "      <th>0</th>\n",
       "      <td>e4534d1765b9868ee69560d22d4fbe</td>\n",
       "      <td>wrong email</td>\n",
       "    </tr>\n",
       "    <tr>\n",
       "      <th>1</th>\n",
       "      <td>a6c00bcbc7@yandex.ru</td>\n",
       "      <td>yandex.ru</td>\n",
       "    </tr>\n",
       "    <tr>\n",
       "      <th>2</th>\n",
       "      <td>a4cc52d0de@gmail.com</td>\n",
       "      <td>gmail.com</td>\n",
       "    </tr>\n",
       "    <tr>\n",
       "      <th>3</th>\n",
       "      <td>acbc8faa1c@gmail.com</td>\n",
       "      <td>gmail.com</td>\n",
       "    </tr>\n",
       "    <tr>\n",
       "      <th>4</th>\n",
       "      <td>70a1f9be47@yandex.ru</td>\n",
       "      <td>yandex.ru</td>\n",
       "    </tr>\n",
       "  </tbody>\n",
       "</table>\n",
       "</div>"
      ],
      "text/plain": [
       "                            email       domain\n",
       "0  e4534d1765b9868ee69560d22d4fbe  wrong email\n",
       "1            a6c00bcbc7@yandex.ru    yandex.ru\n",
       "2            a4cc52d0de@gmail.com    gmail.com\n",
       "3            acbc8faa1c@gmail.com    gmail.com\n",
       "4            70a1f9be47@yandex.ru    yandex.ru"
      ]
     },
     "execution_count": 41,
     "metadata": {},
     "output_type": "execute_result"
    }
   ],
   "source": [
    "emails.head()"
   ]
  },
  {
   "cell_type": "code",
   "execution_count": 45,
   "metadata": {},
   "outputs": [
    {
     "data": {
      "image/png": "[encoded data removed]",
      "text/plain": [
       "<Figure size 432x288 with 1 Axes>"
      ]
     },
     "metadata": {},
     "output_type": "display_data"
    }
   ],
   "source": [
    "emails['domain'].value_counts().plot(kind='bar');"
   ]
  },
  {
   "cell_type": "code",
   "execution_count": 46,
   "metadata": {},
   "outputs": [
    {
     "data": {
      "text/plain": [
       "yandex.ru      383\n",
       "gmail.com      307\n",
       "mail.ru        147\n",
       "wrong email     82\n",
       "rambler.ru      81\n",
       "Name: domain, dtype: int64"
      ]
     },
     "execution_count": 46,
     "metadata": {},
     "output_type": "execute_result"
    }
   ],
   "source": [
    "emails['domain'].value_counts()"
   ]
  },
  {
   "cell_type": "markdown",
   "metadata": {},
   "source": [
    "# Выделение email-адресов из текста\n",
    "Регулярные выражения дают еще одну крайне полезную возможность выделить все шаблоны в тексте. Давайте получим из следующего текста адреса электронной почты:"
   ]
  },
  {
   "cell_type": "code",
   "execution_count": 76,
   "metadata": {},
   "outputs": [],
   "source": [
    "path_to_file = './module16_files/emails_from_text.txt'\n",
    "\n",
    "pattern = '([\\w\\.-]+@([\\w]+)(\\.ru|\\.com))'"
   ]
  },
  {
   "cell_type": "code",
   "execution_count": 54,
   "metadata": {},
   "outputs": [],
   "source": [
    "with open(path_to_file, encoding='utf-8') as f:\n",
    "    text = f.read()"
   ]
  },
  {
   "cell_type": "code",
   "execution_count": 77,
   "metadata": {},
   "outputs": [
    {
     "name": "stdout",
     "output_type": "stream",
     "text": [
      "yandex\n",
      "gmail\n",
      "rambler\n"
     ]
    }
   ],
   "source": [
    "for address in re.findall(pattern, text):\n",
    "    print(address[1])"
   ]
  },
  {
   "cell_type": "code",
   "execution_count": null,
   "metadata": {},
   "outputs": [],
   "source": []
  }
 ],
 "metadata": {
  "kernelspec": {
   "display_name": "Python 3",
   "language": "python",
   "name": "python3"
  },
  "language_info": {
   "codemirror_mode": {
    "name": "ipython",
    "version": 3
   },
   "file_extension": ".py",
   "mimetype": "text/x-python",
   "name": "python",
   "nbconvert_exporter": "python",
   "pygments_lexer": "ipython3",
   "version": "3.6.5"
  }
 },
 "nbformat": 4,
 "nbformat_minor": 2
}
