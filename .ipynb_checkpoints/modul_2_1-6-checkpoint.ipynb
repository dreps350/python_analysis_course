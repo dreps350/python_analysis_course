{
 "cells": [
  {
   "cell_type": "code",
   "execution_count": 2,
   "metadata": {},
   "outputs": [],
   "source": [
    "user_ids = []\n",
    "with open('./module_2_files/user_ids.txt', 'r') as f:\n",
    "    for line in f:\n",
    "        user_ids.append(line.strip())"
   ]
  },
  {
   "cell_type": "code",
   "execution_count": 3,
   "metadata": {},
   "outputs": [
    {
     "data": {
      "text/plain": [
       "124"
      ]
     },
     "execution_count": 3,
     "metadata": {},
     "output_type": "execute_result"
    }
   ],
   "source": [
    "len(set(user_ids))"
   ]
  },
  {
   "cell_type": "code",
   "execution_count": 4,
   "metadata": {
    "collapsed": true
   },
   "outputs": [
    {
     "name": "stdout",
     "output_type": "stream",
     "text": [
      "1010\n",
      "1036\n",
      "1041\n",
      "1041\n",
      "1042\n",
      "1042\n",
      "1042\n",
      "1042\n",
      "1042\n",
      "1042\n",
      "1042\n",
      "1042\n",
      "1042\n",
      "1042\n",
      "1042\n",
      "1042\n",
      "1047\n",
      "1047\n",
      "1052\n",
      "1052\n",
      "1057\n",
      "1057\n",
      "1062\n",
      "1067\n",
      "1078\n",
      "1085\n",
      "1096\n",
      "1098\n",
      "1100\n",
      "1100\n",
      "1100\n",
      "1100\n",
      "1100\n",
      "1100\n",
      "1100\n",
      "1100\n",
      "1100\n",
      "1100\n",
      "1100\n",
      "1100\n",
      "1105\n",
      "1108\n",
      "1108\n",
      "1108\n",
      "1108\n",
      "1108\n",
      "1108\n",
      "1108\n",
      "1108\n",
      "1108\n",
      "1111\n",
      "1112\n",
      "1112\n",
      "1113\n",
      "1113\n",
      "1114\n",
      "1114\n",
      "1116\n",
      "1118\n",
      "1118\n",
      "1123\n",
      "1123\n",
      "1128\n",
      "1134\n",
      "1134\n",
      "1135\n",
      "1135\n",
      "1135\n",
      "1135\n",
      "1135\n",
      "1135\n",
      "1135\n",
      "1135\n",
      "1135\n",
      "1136\n",
      "1136\n",
      "1140\n",
      "1140\n",
      "1141\n",
      "1145\n",
      "1145\n",
      "1149\n",
      "1149\n",
      "1149\n",
      "1149\n",
      "1149\n",
      "1149\n",
      "1149\n",
      "1150\n",
      "1154\n",
      "1154\n",
      "1159\n",
      "1159\n",
      "1164\n",
      "1167\n",
      "1175\n",
      "1181\n",
      "1182\n",
      "1182\n",
      "1193\n",
      "1193\n",
      "1198\n",
      "1198\n",
      "1201\n",
      "1203\n",
      "1203\n",
      "1207\n",
      "1207\n",
      "1207\n",
      "1207\n",
      "1207\n",
      "1207\n",
      "1207\n",
      "1207\n",
      "1207\n",
      "1207\n",
      "1207\n",
      "1207\n",
      "1207\n",
      "1207\n",
      "1208\n",
      "1208\n",
      "1209\n",
      "1213\n",
      "1213\n",
      "1218\n",
      "1218\n",
      "1219\n",
      "1223\n",
      "1223\n",
      "1224\n",
      "1226\n",
      "1226\n",
      "1228\n",
      "1228\n",
      "1230\n",
      "1233\n",
      "1233\n",
      "1236\n",
      "1238\n",
      "1238\n",
      "1242\n",
      "1243\n",
      "1243\n",
      "1246\n",
      "1246\n",
      "1246\n",
      "1246\n",
      "1246\n",
      "1246\n",
      "1246\n",
      "1246\n",
      "1246\n",
      "1246\n",
      "1246\n",
      "1246\n",
      "1246\n",
      "1246\n",
      "1246\n",
      "1246\n",
      "1246\n",
      "1246\n",
      "1246\n",
      "1246\n",
      "1246\n",
      "1246\n",
      "1246\n",
      "1246\n",
      "1248\n",
      "1248\n",
      "1252\n",
      "1252\n",
      "1253\n",
      "1253\n",
      "1258\n",
      "1258\n",
      "1263\n",
      "1263\n",
      "1267\n",
      "1267\n",
      "1267\n",
      "1267\n",
      "1267\n",
      "1267\n",
      "1267\n",
      "1267\n",
      "1267\n",
      "1267\n",
      "1267\n",
      "1267\n",
      "1267\n",
      "1267\n",
      "1267\n",
      "1267\n",
      "1267\n",
      "1268\n",
      "1268\n",
      "1269\n",
      "1270\n",
      "1273\n",
      "1273\n",
      "1274\n",
      "1278\n",
      "1278\n",
      "1279\n",
      "1281\n",
      "1283\n",
      "1283\n",
      "1288\n",
      "1288\n",
      "1291\n",
      "1293\n",
      "1293\n",
      "1294\n",
      "1296\n",
      "1298\n",
      "1298\n",
      "1298\n",
      "1300\n",
      "1300\n",
      "1302\n",
      "1303\n",
      "1303\n",
      "1308\n",
      "1308\n",
      "1313\n",
      "1313\n",
      "1315\n",
      "1318\n",
      "1318\n",
      "1318\n",
      "1318\n",
      "1318\n",
      "1318\n",
      "1318\n",
      "1318\n",
      "1318\n",
      "1318\n",
      "1318\n",
      "1318\n",
      "1318\n",
      "1318\n",
      "1320\n",
      "1323\n",
      "1323\n",
      "1328\n",
      "1328\n",
      "1330\n",
      "1331\n",
      "1332\n",
      "1333\n",
      "1334\n",
      "1343\n",
      "1350\n",
      "1351\n",
      "1353\n",
      "1354\n",
      "1355\n",
      "1359\n",
      "1362\n",
      "1363\n",
      "1364\n",
      "1366\n",
      "1367\n",
      "1371\n",
      "1372\n",
      "1374\n",
      "1377\n",
      "1380\n",
      "1382\n",
      "1383\n",
      "1386\n",
      "1387\n",
      "1388\n",
      "1392\n",
      "1393\n",
      "1394\n",
      "1397\n",
      "1398\n",
      "1424\n",
      "1424\n",
      "1424\n",
      "1424\n",
      "1424\n",
      "1424\n",
      "1424\n",
      "1424\n",
      "1424\n",
      "1424\n",
      "1424\n",
      "1424\n",
      "1424\n",
      "1424\n",
      "1424\n"
     ]
    }
   ],
   "source": [
    "user_ids_headers = []\n",
    "started = True\n",
    "\n",
    "with open('./module_2_files/user_ids_headers.txt', 'r') as f:\n",
    "    for line in f:\n",
    "        if started:\n",
    "            started = False\n",
    "        else:\n",
    "            print(line.strip())"
   ]
  },
  {
   "cell_type": "code",
   "execution_count": 5,
   "metadata": {
    "collapsed": true
   },
   "outputs": [
    {
     "name": "stdout",
     "output_type": "stream",
     "text": [
      "Текущая сумма: 12.40 12.40\n",
      "Текущая сумма: 28.00 15.60\n",
      "Текущая сумма: 46.40 18.40\n",
      "Текущая сумма: 76.20 29.80\n",
      "Текущая сумма: 92.80 16.60\n",
      "Текущая сумма: 112.80 20.00\n",
      "Текущая сумма: 124.00 11.20\n",
      "Текущая сумма: 140.00 16.00\n",
      "Текущая сумма: 170.40 30.40\n",
      "Текущая сумма: 184.00 13.60\n",
      "Текущая сумма: 206.40 22.40\n",
      "Текущая сумма: 232.00 25.60\n",
      "Текущая сумма: 249.00 17.00\n",
      "Текущая сумма: 264.60 15.60\n",
      "Текущая сумма: 276.60 12.00\n",
      "Текущая сумма: 290.20 13.60\n",
      "Текущая сумма: 307.80 17.60\n",
      "Текущая сумма: 326.40 18.60\n",
      "Текущая сумма: 337.80 11.40\n",
      "Текущая сумма: 366.60 28.80\n",
      "Текущая сумма: 381.00 14.40\n",
      "Текущая сумма: 393.00 12.00\n",
      "Текущая сумма: 415.00 22.00\n",
      "Текущая сумма: 445.40 30.40\n",
      "Текущая сумма: 463.20 17.80\n",
      "Текущая сумма: 475.40 12.20\n",
      "Текущая сумма: 505.80 30.40\n",
      "Текущая сумма: 523.80 18.00\n",
      "Текущая сумма: 536.60 12.80\n",
      "Текущая сумма: 555.80 19.20\n"
     ]
    }
   ],
   "source": [
    "data_3_columns = []\n",
    "total_sum = 0\n",
    "\n",
    "with open('./module_2_files/data_3_columns.txt', 'r') as f:\n",
    "    for line in f:\n",
    "        line = line.strip().split('\\t')\n",
    "#         print(line)\n",
    "        medium, sourse, amount_paid = [i.replace(',', '.') for i in line]        \n",
    "#         print(sourse, medium, amount_paid)\n",
    "\n",
    "        if sourse == 'yandex' and medium == 'seo':\n",
    "            total_sum += float(amount_paid)\n",
    "            print('Текущая сумма: {:.2f}'.format(total_sum), amount_paid)"
   ]
  },
  {
   "cell_type": "code",
   "execution_count": 6,
   "metadata": {},
   "outputs": [],
   "source": [
    "import openpyxl"
   ]
  },
  {
   "cell_type": "code",
   "execution_count": 7,
   "metadata": {},
   "outputs": [],
   "source": [
    "workbook = './module_2_files/data.xlsx'\n",
    "sheetName = 'data'\n",
    "#Для работы с листом остается загрузить его в переменную sheet:\n",
    "sheet = openpyxl.load_workbook( workbook )[sheetName]"
   ]
  },
  {
   "cell_type": "code",
   "execution_count": 8,
   "metadata": {},
   "outputs": [
    {
     "name": "stdout",
     "output_type": "stream",
     "text": [
      "(<Cell 'data'.A1>, <Cell 'data'.B1>, <Cell 'data'.C1>, <Cell 'data'.D1>, <Cell 'data'.E1>, <Cell 'data'.F1>, <Cell 'data'.G1>, <Cell 'data'.H1>, <Cell 'data'.I1>)\n"
     ]
    }
   ],
   "source": [
    "for line in sheet['A1:I1']:\n",
    "    print(line)"
   ]
  },
  {
   "cell_type": "code",
   "execution_count": 9,
   "metadata": {},
   "outputs": [
    {
     "data": {
      "text/plain": [
       "'medium'"
      ]
     },
     "execution_count": 9,
     "metadata": {},
     "output_type": "execute_result"
    }
   ],
   "source": [
    "sheet['E1'].value"
   ]
  },
  {
   "cell_type": "code",
   "execution_count": 10,
   "metadata": {},
   "outputs": [
    {
     "name": "stdout",
     "output_type": "stream",
     "text": [
      "google seo 20.2 <class 'float'>\n",
      "yandex sem 15.6 <class 'float'>\n",
      "promo email 13.2 <class 'float'>\n",
      "yandex sem 9.8 <class 'float'>\n"
     ]
    }
   ],
   "source": [
    "for line in sheet['E2:I5']:\n",
    "    medium = line[0].value\n",
    "    source = line[1].value\n",
    "    amount_paid = line[4].value\n",
    "    print(source, medium, amount_paid, type(amount_paid))"
   ]
  },
  {
   "cell_type": "code",
   "execution_count": 21,
   "metadata": {},
   "outputs": [
    {
     "data": {
      "text/plain": [
       "5129.8"
      ]
     },
     "execution_count": 21,
     "metadata": {},
     "output_type": "execute_result"
    }
   ],
   "source": [
    "total_amount_paid = 0\n",
    "for line in sheet['I2:I295']: \n",
    "#     print(line, line[0])\n",
    "    amount_paid = line[0].value\n",
    "    total_amount_paid += amount_paid\n",
    "\n",
    "total_amount_paid"
   ]
  },
  {
   "cell_type": "markdown",
   "metadata": {},
   "source": [
    "# Словари и сложные метрики"
   ]
  },
  {
   "cell_type": "code",
   "execution_count": 22,
   "metadata": {},
   "outputs": [],
   "source": [
    "total_costs = {'google': 1319, 'yandex': 1818, 'promo': 1181}"
   ]
  },
  {
   "cell_type": "code",
   "execution_count": 23,
   "metadata": {},
   "outputs": [
    {
     "data": {
      "text/plain": [
       "2500"
      ]
     },
     "execution_count": 23,
     "metadata": {},
     "output_type": "execute_result"
    }
   ],
   "source": [
    "total_costs['google'] + total_costs['promo']"
   ]
  },
  {
   "cell_type": "code",
   "execution_count": 24,
   "metadata": {},
   "outputs": [],
   "source": [
    "campaign_stats = {\n",
    "    'google': { 'cost': 1000, 'clicks': 500 },\n",
    "    'yandex': { 'cost': 1500, 'clicks': 900 }\n",
    "}"
   ]
  },
  {
   "cell_type": "code",
   "execution_count": 25,
   "metadata": {},
   "outputs": [
    {
     "name": "stdout",
     "output_type": "stream",
     "text": [
      "Campaign google, click cost 2.00 USD\n",
      "Campaign yandex, click cost 1.67 USD\n"
     ]
    }
   ],
   "source": [
    "for campaign, stats in campaign_stats.items():\n",
    "    print('Campaign {}, click cost {:.2f} USD'\\\n",
    "          .format(campaign, stats['cost'] / stats['clicks']))"
   ]
  },
  {
   "cell_type": "code",
   "execution_count": 34,
   "metadata": {},
   "outputs": [],
   "source": [
    "users_stats_dict = {}\n",
    "i = 0\n",
    "\n",
    "with open('./module_2_files/data_no_header.txt', 'r') as f:\n",
    "    for line in f:\n",
    "#         print(line)\n",
    "        line = line.strip().split('\\t')\n",
    "        current_user_id = line[2]\n",
    "        \n",
    "        if current_user_id in users_stats_dict:\n",
    "            users_stats_dict[current_user_id] += 1\n",
    "        else:\n",
    "            users_stats_dict[current_user_id] = 1\n",
    "            \n",
    "#         print('Current id: {}'.format(current_user_id), end='-'*5 + '>')\n",
    "#         print(users_stats_dict, end='\\n'*2)\n",
    "        \n",
    "        #выход из цикла\n",
    "#         i += 1\n",
    "#         if i > 5:\n",
    "#             break"
   ]
  },
  {
   "cell_type": "code",
   "execution_count": 36,
   "metadata": {},
   "outputs": [
    {
     "data": {
      "text/plain": [
       "12"
      ]
     },
     "execution_count": 36,
     "metadata": {},
     "output_type": "execute_result"
    }
   ],
   "source": [
    "users_stats_dict['1042']"
   ]
  },
  {
   "cell_type": "markdown",
   "metadata": {},
   "source": [
    "# Функции"
   ]
  },
  {
   "cell_type": "markdown",
   "metadata": {},
   "source": [
    "Authors variant"
   ]
  },
  {
   "cell_type": "code",
   "execution_count": null,
   "metadata": {},
   "outputs": [],
   "source": [
    "with open( 'data_no_header.txt', 'r' ) as f:\n",
    "    for line in f:\n",
    "        line = line.strip().split('\\t')\n",
    "        source = line[5]\n",
    "        medium = line[4]\n",
    "\n",
    "        if source == 'google' or source == 'yandex':\n",
    "            if medium == 'seo' or medium == 'sem':\n",
    "                sourceType = 'search engines seo'\n",
    "            elif medium == 'brand':\n",
    "                sourceType = 'search engines brand'\n",
    "            else:\n",
    "                # если вдруг встретится другой вариант, то ставим \"undefined\"\n",
    "                sourceType = 'search engines undefined'\n",
    "        else:\n",
    "            sourceType = 'other'\n",
    "\n",
    "        # код с формированием словаря статистики"
   ]
  },
  {
   "cell_type": "markdown",
   "metadata": {},
   "source": [
    "My variant is better!"
   ]
  },
  {
   "cell_type": "code",
   "execution_count": 88,
   "metadata": {
    "collapsed": true
   },
   "outputs": [
    {
     "name": "stdout",
     "output_type": "stream",
     "text": [
      "search engines seo\n",
      "search engines seo\n",
      "other\n",
      "search engines seo\n",
      "search engines seo\n",
      "search engines seo\n",
      "search engines seo\n",
      "search engines brand\n",
      "search engines seo\n",
      "other\n",
      "other\n",
      "search engines seo\n",
      "search engines seo\n",
      "search engines seo\n",
      "search engines seo\n",
      "search engines seo\n",
      "search engines seo\n",
      "other\n",
      "other\n",
      "search engines seo\n",
      "other\n",
      "search engines seo\n",
      "search engines seo\n",
      "other\n",
      "search engines seo\n",
      "other\n",
      "search engines seo\n",
      "other\n",
      "other\n",
      "search engines seo\n",
      "other\n",
      "search engines seo\n",
      "search engines seo\n",
      "other\n",
      "search engines seo\n",
      "other\n",
      "search engines seo\n",
      "other\n",
      "search engines seo\n",
      "search engines brand\n",
      "search engines seo\n",
      "search engines seo\n",
      "other\n",
      "other\n",
      "search engines seo\n",
      "search engines seo\n",
      "other\n",
      "search engines seo\n",
      "other\n",
      "other\n",
      "search engines seo\n",
      "search engines seo\n",
      "other\n",
      "search engines seo\n",
      "search engines seo\n",
      "search engines seo\n",
      "search engines seo\n",
      "other\n",
      "search engines brand\n",
      "search engines seo\n",
      "search engines seo\n",
      "search engines seo\n",
      "search engines seo\n",
      "search engines seo\n",
      "search engines seo\n",
      "search engines seo\n",
      "other\n",
      "other\n",
      "other\n",
      "search engines seo\n",
      "other\n",
      "other\n",
      "search engines seo\n",
      "other\n",
      "search engines brand\n",
      "other\n",
      "search engines seo\n",
      "other\n",
      "other\n",
      "search engines seo\n",
      "search engines seo\n",
      "other\n",
      "search engines seo\n",
      "search engines seo\n",
      "other\n",
      "search engines seo\n",
      "other\n",
      "search engines seo\n",
      "search engines seo\n",
      "search engines seo\n",
      "search engines seo\n",
      "search engines seo\n",
      "search engines brand\n",
      "search engines seo\n",
      "search engines seo\n",
      "search engines seo\n",
      "search engines seo\n",
      "search engines seo\n",
      "other\n",
      "other\n",
      "search engines brand\n",
      "search engines seo\n",
      "search engines seo\n",
      "other\n",
      "search engines brand\n",
      "other\n",
      "other\n",
      "other\n",
      "search engines seo\n",
      "search engines seo\n",
      "search engines brand\n",
      "other\n",
      "other\n",
      "search engines seo\n",
      "other\n",
      "search engines seo\n",
      "search engines seo\n",
      "other\n",
      "search engines seo\n",
      "search engines seo\n",
      "search engines seo\n",
      "search engines seo\n",
      "search engines seo\n",
      "other\n",
      "search engines seo\n",
      "other\n",
      "other\n",
      "search engines seo\n",
      "other\n",
      "other\n",
      "other\n",
      "other\n",
      "other\n",
      "search engines brand\n",
      "search engines seo\n",
      "other\n",
      "other\n",
      "search engines seo\n",
      "other\n",
      "search engines seo\n",
      "search engines seo\n",
      "other\n",
      "other\n",
      "search engines seo\n",
      "search engines brand\n",
      "search engines seo\n",
      "other\n",
      "other\n",
      "search engines seo\n",
      "other\n",
      "search engines seo\n",
      "search engines seo\n",
      "search engines seo\n",
      "search engines seo\n",
      "other\n",
      "search engines seo\n",
      "other\n",
      "other\n",
      "search engines seo\n",
      "search engines seo\n",
      "other\n",
      "search engines seo\n",
      "other\n",
      "other\n",
      "other\n",
      "search engines seo\n",
      "search engines seo\n",
      "other\n",
      "search engines seo\n",
      "search engines seo\n",
      "search engines seo\n",
      "other\n",
      "search engines seo\n",
      "search engines seo\n",
      "search engines seo\n",
      "other\n",
      "search engines seo\n",
      "search engines seo\n",
      "other\n",
      "other\n",
      "search engines seo\n",
      "other\n",
      "search engines seo\n",
      "other\n",
      "search engines seo\n",
      "other\n",
      "search engines seo\n",
      "search engines seo\n",
      "other\n",
      "search engines seo\n",
      "search engines seo\n",
      "other\n",
      "search engines seo\n",
      "search engines seo\n",
      "other\n",
      "search engines seo\n",
      "search engines seo\n",
      "other\n",
      "search engines brand\n",
      "other\n",
      "search engines seo\n",
      "other\n",
      "search engines seo\n",
      "other\n",
      "search engines seo\n",
      "search engines seo\n",
      "search engines seo\n",
      "other\n",
      "search engines seo\n",
      "search engines seo\n",
      "search engines seo\n",
      "other\n",
      "other\n",
      "other\n",
      "search engines seo\n",
      "search engines seo\n",
      "other\n",
      "search engines seo\n",
      "search engines seo\n",
      "search engines seo\n",
      "other\n",
      "other\n",
      "search engines seo\n",
      "search engines seo\n",
      "search engines seo\n",
      "other\n",
      "search engines seo\n",
      "search engines seo\n",
      "search engines seo\n",
      "search engines brand\n",
      "search engines seo\n",
      "search engines seo\n",
      "other\n",
      "other\n",
      "other\n",
      "search engines seo\n",
      "other\n",
      "search engines seo\n",
      "other\n",
      "other\n",
      "search engines seo\n",
      "search engines seo\n",
      "other\n",
      "search engines brand\n",
      "other\n",
      "search engines seo\n",
      "other\n",
      "search engines seo\n",
      "search engines seo\n",
      "search engines seo\n",
      "search engines seo\n",
      "search engines seo\n",
      "search engines seo\n",
      "other\n",
      "other\n",
      "search engines seo\n",
      "other\n",
      "search engines seo\n",
      "search engines seo\n",
      "search engines seo\n",
      "search engines seo\n",
      "other\n",
      "other\n",
      "search engines seo\n",
      "search engines seo\n",
      "search engines seo\n",
      "search engines seo\n",
      "search engines seo\n",
      "search engines seo\n",
      "other\n",
      "search engines seo\n",
      "other\n",
      "search engines seo\n",
      "other\n",
      "other\n",
      "search engines seo\n",
      "other\n",
      "search engines seo\n",
      "search engines seo\n",
      "other\n",
      "search engines seo\n",
      "search engines seo\n",
      "search engines seo\n",
      "other\n",
      "search engines seo\n",
      "search engines seo\n",
      "other\n",
      "search engines seo\n",
      "search engines seo\n",
      "other\n",
      "search engines seo\n",
      "other\n",
      "search engines seo\n",
      "search engines seo\n"
     ]
    }
   ],
   "source": [
    "with open('./module_2_files/data_no_header.txt', 'r') as f:\n",
    "    for line in f:\n",
    "        line = line.strip().split('\\t')\n",
    "        medium, source = line[4], line[5]\n",
    "        \n",
    "        source_features = ['google', 'yandex']\n",
    "        search_features = {'seo': ['seo', 'sem'], 'brand': 'brand'}\n",
    "        prefix = 'search engines '\n",
    "        \n",
    "        if source in source_features:\n",
    "            for key, value in search_features.items():\n",
    "#                 print(medium, value, medium in value,  end='\\n'*2)\n",
    "                if medium in value:\n",
    "                    source_type = prefix + key\n",
    "                    break\n",
    "                else:\n",
    "                    source_type = 'undefined'\n",
    "        else:\n",
    "            source_type = 'other'\n",
    "        print(source_type)\n",
    "#         print('For this line:', medium, source, source_type, end='\\n'+'='*10+'\\n'*2)"
   ]
  },
  {
   "cell_type": "markdown",
   "metadata": {},
   "source": [
    "НАпишем функцию для классификации источника траффика"
   ]
  },
  {
   "cell_type": "code",
   "execution_count": 84,
   "metadata": {},
   "outputs": [],
   "source": [
    "def source_type_clf(**kwargs):\n",
    "    \"\"\"\n",
    "    Функция классифицирует источник трафика в зависимости от значения source и medium.\n",
    "    Возвращает название типа источника по правилам:\n",
    "        - если source равен 'google' или 'yandex', то проверяем medium:\n",
    "            - для medium 'seo' или 'sem' возвращаем 'search engines seo'\n",
    "            - для medium 'brand' - возвращаем 'search engines brand'\n",
    "            - для остальных случаев возвращаем 'search engines undefined'\n",
    "        - если условие не выполнено, то возвращаем 'other'\n",
    "    \"\"\"\n",
    "    res = ''\n",
    "    if source in source_features:            \n",
    "        for key, value in search_features.items():\n",
    "#             print(key, value)\n",
    "            if medium in value:\n",
    "                res =  prefix + key\n",
    "                break\n",
    "            else:\n",
    "                res =  prefix + 'undefined'\n",
    "    else:\n",
    "        res = 'other'\n",
    "    return res"
   ]
  },
  {
   "cell_type": "code",
   "execution_count": null,
   "metadata": {},
   "outputs": [],
   "source": [
    "source_type_clf('google', 'seo', \n",
    "                source_features=source_features,\n",
    "                search_features=search_features,\n",
    "                prefix=prefix)\n",
    "source_type_clf('yandex', 'seo', source_features, prefix)\n",
    "source_type_clf('google', '123', source_features, prefix)"
   ]
  },
  {
   "cell_type": "code",
   "execution_count": 97,
   "metadata": {},
   "outputs": [],
   "source": [
    "# source_features = ['google', 'yandex']\n",
    "# search_features = {'seo': ['seo', 'sem'], 'brand': 'brand'}\n",
    "# prefix = 'search engines '\n",
    "\n",
    "source_type_stats = {}\n",
    "\n",
    "with open('./module_2_files/data_no_header.txt', 'r') as f:\n",
    "    for line in f:\n",
    "        line = line.strip().split('\\t')\n",
    "        medium, sourse = line[4], line[5]\n",
    "        #Было бы неплохо запихнуть все параметры в словарь\n",
    "        source_type = source_type_clf(medium=medium,\n",
    "                                     source=source,\n",
    "                                     source_features=source_features,\n",
    "                                     search_features=search_features,\n",
    "                                     prefix=prefix)\n",
    "        if source_type in source_type_stats:\n",
    "            source_type_stats[source_type] += 1\n",
    "        else:\n",
    "            source_type_stats[source_type] = 1"
   ]
  },
  {
   "cell_type": "code",
   "execution_count": 98,
   "metadata": {},
   "outputs": [
    {
     "data": {
      "text/plain": [
       "168"
      ]
     },
     "execution_count": 98,
     "metadata": {},
     "output_type": "execute_result"
    }
   ],
   "source": [
    "source_type_stats['search engines seo']"
   ]
  },
  {
   "cell_type": "markdown",
   "metadata": {},
   "source": [
    "Сейчас мы передаем в функцию значения source и medium. Но может оказаться так, что новые требования потребуют учесть другие столбцы. Например, в зависимости от стоимости заказа надо будет различать тип заказа. Представим, что нам надо проанализировать откуда приходят дорогие заказы, а откуда низкий чек. \n",
    "\n",
    "Давайте начнем с того, что сделаем функцию более универсальной и передадим ей в качестве аргумента все данные по заказу (т. е. всю строку line):"
   ]
  },
  {
   "cell_type": "markdown",
   "metadata": {},
   "source": [
    "#### Далее использую вариант автора дабы не терять время на переписывание функции =)"
   ]
  },
  {
   "cell_type": "code",
   "execution_count": 99,
   "metadata": {},
   "outputs": [],
   "source": [
    "def source_type_clf2(line):\n",
    "    \"\"\"\n",
    "    Пример строки на входе функции:\n",
    "    ['40443', '05.10.2016 23:18', '1010', '0,000925926', 'seo', 'google', '0', '6243', '20,20']\n",
    "    Функция классифицирует источник трафика в зависимости от значения source и medium.\n",
    "    Возвращает название типа источника по правилам:\n",
    "        - если source равен 'google' или 'yandex', то проверяем medium:\n",
    "            - для medium 'seo' или 'sem' возвращаем 'search engines seo'\n",
    "            - для medium 'brand' - возвращаем 'search engines brand'\n",
    "            - для остальных случаев возвращаем 'search engines undefined'\n",
    "        - если условие не выполнено, то возвращаем 'other'\n",
    "    \"\"\"\n",
    "    source = line[5]\n",
    "    medium = line[4]\n",
    "\n",
    "    if source == 'google' or source == 'yandex':\n",
    "        if medium == 'seo' or medium == 'sem':\n",
    "            return 'search engines seo'\n",
    "        elif medium == 'brand':\n",
    "            return 'search engines brand'\n",
    "        else:\n",
    "            # если вдруг встретится другой вариант, то ставим \"undefined\"\n",
    "            return 'search engines undefined'\n",
    "    else:\n",
    "        return 'other'"
   ]
  },
  {
   "cell_type": "code",
   "execution_count": 100,
   "metadata": {},
   "outputs": [],
   "source": [
    "line = ['40443', '05.10.2016 23:18', '1010', '0,000925926', 'seo', 'google', '0', '6243', '20,20']"
   ]
  },
  {
   "cell_type": "code",
   "execution_count": 101,
   "metadata": {},
   "outputs": [
    {
     "data": {
      "text/plain": [
       "'search engines seo'"
      ]
     },
     "execution_count": 101,
     "metadata": {},
     "output_type": "execute_result"
    }
   ],
   "source": [
    "source_type_clf2(line)"
   ]
  },
  {
   "cell_type": "markdown",
   "metadata": {},
   "source": [
    "ДОБАВЛЕНИЕ ЦЕНЫ В КЛАССИФИКАЦИЮ\n",
    "Теперь в функцию можно добавить условие на стоимость заказа: \n",
    "\n",
    "    - если стоимость равна или больше 20 рублей, то это заказ типа 'expensive'\n",
    "\n",
    "    - если меньше - 'cheap'\n",
    "\n",
    "Нужно возвращать два значения - sourceType и orderType. Добавим это условие в функцию:\n",
    "\n",
    "```python\n",
    "if amount_paid >= 20:\n",
    "   orderType = 'expensive' \n",
    "else:\n",
    "   orderType = 'cheap'\n",
    "```\n",
    " \n",
    "\n",
    "И возвращать теперь будем пару значений:\n",
    "```python\n",
    "return sourceType, orderType\n",
    "```\n",
    "\n",
    "Итоговый код функции:"
   ]
  },
  {
   "cell_type": "code",
   "execution_count": 102,
   "metadata": {},
   "outputs": [],
   "source": [
    "def source_type_classification( line ):\n",
    "    source = line[5]\n",
    "    medium = line[4]\n",
    "    amount_paid = float(line[-1].replace(',', '.'))\n",
    "\n",
    "    if amount_paid >= 20:\n",
    "        orderType = 'expensive'\n",
    "    else:\n",
    "        orderType = 'cheap'\n",
    "\n",
    "    if source == 'google' or source == 'yandex':\n",
    "        if medium == 'seo' or medium == 'sem':\n",
    "            sourceType = 'search engines seo'\n",
    "        elif medium == 'brand':\n",
    "            sourceType = 'search engines brand'\n",
    "        else:\n",
    "            # если вдруг встретится другой вариант, то ставим \"undefined\"\n",
    "            sourceType = 'search engines undefined'\n",
    "    else:\n",
    "        sourceType = 'other'\n",
    "\n",
    "    return sourceType, orderType"
   ]
  },
  {
   "cell_type": "markdown",
   "metadata": {},
   "source": [
    "В итоге для подсчета количества заказов в разбивке по типам трафика и стоимости заказа нам потребуется следующий цикл:"
   ]
  },
  {
   "cell_type": "code",
   "execution_count": 104,
   "metadata": {},
   "outputs": [],
   "source": [
    "source_type_stats = {}\n",
    "\n",
    "with open('./module_2_files/data_no_header.txt', 'r') as f:\n",
    "    for line in f:\n",
    "\n",
    "        line = line.strip().split('\\t')\n",
    "        sourceType, orderType = source_type_classification(line)\n",
    "        source_order_type = sourceType + ' ' + orderType\n",
    "\n",
    "        if source_order_type in source_type_stats:\n",
    "            source_type_stats[ source_order_type ] += 1\n",
    "        else:\n",
    "            source_type_stats[ source_order_type ] = 1"
   ]
  },
  {
   "cell_type": "code",
   "execution_count": 105,
   "metadata": {},
   "outputs": [
    {
     "data": {
      "text/plain": [
       "{'search engines seo expensive': 47,\n",
       " 'search engines seo cheap': 121,\n",
       " 'other cheap': 74,\n",
       " 'search engines brand expensive': 4,\n",
       " 'other expensive': 39,\n",
       " 'search engines brand cheap': 9}"
      ]
     },
     "execution_count": 105,
     "metadata": {},
     "output_type": "execute_result"
    }
   ],
   "source": [
    "source_type_stats"
   ]
  },
  {
   "cell_type": "markdown",
   "metadata": {},
   "source": [
    "\n",
    "\n",
    "\n",
    "\n"
   ]
  }
 ],
 "metadata": {
  "kernelspec": {
   "display_name": "Python 3",
   "language": "python",
   "name": "python3"
  },
  "language_info": {
   "codemirror_mode": {
    "name": "ipython",
    "version": 3
   },
   "file_extension": ".py",
   "mimetype": "text/x-python",
   "name": "python",
   "nbconvert_exporter": "python",
   "pygments_lexer": "ipython3",
   "version": "3.6.5"
  }
 },
 "nbformat": 4,
 "nbformat_minor": 2
}
