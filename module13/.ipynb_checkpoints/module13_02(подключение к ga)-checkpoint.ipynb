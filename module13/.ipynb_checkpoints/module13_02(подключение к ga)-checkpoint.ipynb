{
 "cells": [
  {
   "cell_type": "markdown",
   "metadata": {},
   "source": [
    "http://study.skillfactory.ru/courses/Skillfactory/Python-11/24OCT2018/courseware/de790b20fba9478da7a3cd1a92da2daa/324a6d76fb73409a8dce3bfa6c8b9531/\n",
    "\n",
    "# Недостатки привычных способов защиты данных\n",
    "Работа с Google API происходит через так называемый протокол OAuth 2.0.\n",
    "\n",
    "Протокол OAuth 2.0 используется во многих системах и позволяет значительно повысить уровень безопасности доступа к вашим данным. Конечно, это усложняет настройку доступа к данным по API, но мы изучем самый простой из возможных вариантов. \n",
    "\n",
    "\n",
    "\n",
    "Помимо протокола ОAuth 2.0, есть другие способы защиты данных с точки зрения пользователя, но все они имеют существенные недостатки. \n",
    "\n",
    "## Использование логина и пароля\n",
    "\n",
    "Какие недостатки имеет этот способ:\n",
    "\n",
    "- потеря логина и пароля равносильна публикации данных на Facebook\n",
    "- при необходимости изменить пароль надо обходить все приложения и скрипты\n",
    "- хранить пароль в открытом виде (например, в тексте кода) вообще идея плохая\n",
    "\n",
    "Некоторые системы позволяют использовать вместо пароля специально сгенерированный токен (примерно как в API Яндекс.Метрики, только токен рассчитывается как хэш от вашего пароля) - этот способ немного лучше, но все равно ненадежен.\n",
    "\n",
    "## Постоянный токен\n",
    "\n",
    "(как отладочный токен у Яндекс.Метрики)\n",
    "\n",
    "- потеря токена в руках грамотного специалиста равносильна потере пароля\n",
    "\n",
    "## Использование протокола SSH с приватным и открытым ключом\n",
    "\n",
    "- сложно управлять и заменять\n",
    "- приватный ключ лучше никогда не передавать по сети, что накладывает массу ограничений\n",
    "- в случае потери замена займет относительно много времени\n",
    "\n",
    "# Протокол OAuth 2.0\n",
    "\n",
    "С недостатками разобрались. Сформулируем требования, которые позволили бы повысить безопасность данных:\n",
    "\n",
    "- токен может быть получен только доверенным пользователем\n",
    "- потеря токена не позволит кому-либо получить «много» данных, т. е. токен надо регулярно обновлять\n",
    "- каждое приложение имеет свои права и набор сертификатов\n",
    "- доступами приложений можно оперативно управлять\n",
    "\n",
    "Для всего этого был разработан протокол **OAuth 2.0**.\n",
    "\n",
    "Какие принципы работы позволяют ему обезопасить ваши данные? Доступ к данным контролируется двумя сторонами - интерфейсом Google Developers Console, в котором вы создаете приложения и назначаете им права. И скриптом на вашей стороне, который от имени приложения запрашивает разрешения и данные у нужной системы (в нашем случае это будет Google Analytics).\n",
    "\n",
    "Что делается на стороне Google Developers Console:\n",
    "\n",
    "- для доступа к данным создается приложение со своими правами на использование API систем Google\n",
    "- у каждого приложения создаются свои сертификаты (credentials)\n",
    "- сертификаты могут использоваться для генерации токена только с определенного набора хостов и скриптов\n",
    "\n",
    "На стороне вашего скрипта:\n",
    "\n",
    "- для генерации токена (хотя бы в первый раз) требуется разрешение пользователя под нужным логином\n",
    "- для каждого токена можно задавать свои разрешения на работу с системой\n",
    "- время работы токена ограничено (обычно 1 час), для дальнейшей выгрузки данных нужен новый токен\n",
    "\n",
    "В следующем шаге мы пройдемся по всей процедуре генерации токена для получения данных Google Analytics. Сейчас нам важно помнить **следующие особенности**:\n",
    "\n",
    "- **Токен для запросов к API (обозначается access_token) действует ограниченное время. Обычно 1 час**. Для его обновления используется refresh_token, который генерируется один раз (его можно обновлять, но не стоит делать это очень часто).\n",
    "- **Приложение**, от имени которого вы делаете запросы к Google Analytics, **должно предварительно получить права** на эти данные в интерфейсе Google Developers Console. Права назначаются на каждую систему API отдельно. Например, можно дать права на чтение последних видео Youtube-канала и редактирование прав пользователей вашего аккаунта в Google Analytics.\n",
    "- **При первом получении access_token и refresh_token вы должны быть залогинены в свой Google-аккаунт**, чтобы дать приложению разрешение на доступ к вашим данным."
   ]
  },
  {
   "cell_type": "markdown",
   "metadata": {},
   "source": [
    "# Создание проекта\n",
    "Для работы с API сервисов Google необходимо создать приложение и дать ему права на использование данных нужного сервиса Google (в текущем модуле это будет Google Analytics).\n",
    "\n",
    "Все примерно так, как мы делали для сервисов Яндекса. Заходим на https://console.developers.google.com под Google аккаунтом, который имеет доступ к данным Google Analytics нашего учебного сайта.\n",
    "\n",
    "Шаг 1. Создаем проект. В панели управления проектами нажимаем кнопку \"Создать проект\":\n",
    "\n",
    "<img src='./module13_files/m9_b2_gdc_create.png'>"
   ]
  },
  {
   "cell_type": "markdown",
   "metadata": {},
   "source": [
    "# Добавление разрешений\n",
    "Шаг 2. Добавляем разрешение. После создания проекта потребуется разрешить ему использование API нужных вам сервисов Google. По умолчанию проект не имеет никаких прав на получение таких данных. Переходим по кнопке \"Включить API и сервисы\" в верней части страницы:\n",
    "<img src='./module13_files/m9_b2_gdc_create_final.png'>\n",
    "В меню поиска наберите 'analytics'. Сейчас нам понадобится 'Google Analytics Reporting API' для получения отчетов. Нажимаем на этот результат поиска:\n",
    "<img src='./module13_files/m9_b2_gdc_api_step1.png'>"
   ]
  },
  {
   "cell_type": "markdown",
   "metadata": {},
   "source": [
    "# Сертификаты\n",
    "Шаг 3. Формируем сертификаты. Отлично, проект мы создали и дали ему права на получение отчетов. Теперь необходимо сформировать сертификаты, по которым мы будем от имени приложения делать запросы с компьютеров к API Google Analytics. Заходим в раздел \"Учетные данные\" в левой панели:\n",
    "\n",
    "# Дописать!"
   ]
  },
  {
   "cell_type": "code",
   "execution_count": 2,
   "metadata": {},
   "outputs": [],
   "source": [
    "import argparse\n",
    "from apiclient.discovery import build\n",
    "import httplib2\n",
    "from oauth2client import client\n",
    "from oauth2client import file\n",
    "from oauth2client import tools"
   ]
  },
  {
   "cell_type": "code",
   "execution_count": 3,
   "metadata": {},
   "outputs": [
    {
     "name": "stderr",
     "output_type": "stream",
     "text": [
      "F:\\Anaconda\\lib\\site-packages\\oauth2client\\_helpers.py:255: UserWarning: Cannot access analytics.dat: No such file or directory\n",
      "  warnings.warn(_MISSING_FILE_MESSAGE.format(filename))\n"
     ]
    },
    {
     "name": "stdout",
     "output_type": "stream",
     "text": [
      "\n",
      "Your browser has been opened to visit:\n",
      "\n",
      "    https://accounts.google.com/o/oauth2/auth?client_id=79153493567-rjgjcksnakjoemv2ksffrsp8vse2gijc.apps.googleusercontent.com&redirect_uri=http%3A%2F%2Flocalhost%3A8080%2F&scope=https%3A%2F%2Fwww.googleapis.com%2Fauth%2Fanalytics.readonly&access_type=offline&response_type=code\n",
      "\n",
      "If your browser is on a different machine then exit and re-run this\n",
      "application with the command-line parameter\n",
      "\n",
      "  --noauth_local_webserver\n",
      "\n",
      "Authentication successful.\n"
     ]
    }
   ],
   "source": [
    "scope = ['https://www.googleapis.com/auth/analytics.readonly']\n",
    "api_name = 'analytics'\n",
    "api_version = 'v3'\n",
    "client_secrets_path = './module13_files/client_secret.json'\n",
    "\n",
    "parser = argparse.ArgumentParser(formatter_class=argparse.RawDescriptionHelpFormatter, parents=[tools.argparser])\n",
    "\n",
    "flags = parser.parse_args([])\n",
    "\n",
    "flow = client.flow_from_clientsecrets(client_secrets_path, \n",
    "                                      scope=scope, \n",
    "                                      message=tools.message_if_missing(client_secrets_path))\n",
    "\n",
    "storage = file.Storage(api_name + '.dat')\n",
    "credentials = storage.get()\n",
    "credentials = tools.run_flow(flow, storage, flags)"
   ]
  },
  {
   "cell_type": "markdown",
   "metadata": {},
   "source": [
    "## Первый отчет\n",
    "Авторизация пройдена! Поздравляю!\n",
    "\n",
    "Наконец-то можно получить какой-нибудь отчет из Google Analytics. Сейчас для проверки выгрузим отчет по источникам трафика и браузерам с помощью библиотеки от Google.\n",
    "\n",
    "Инициализируем запрос к API Google Analytics:\n",
    "<img src='./module13_files/m9_b2_property_id_step3.png'>"
   ]
  },
  {
   "cell_type": "code",
   "execution_count": 4,
   "metadata": {},
   "outputs": [],
   "source": [
    "http = credentials.authorize(http=httplib2.Http())\n",
    "\n",
    "service = build(api_name, api_version, http=http)"
   ]
  },
  {
   "cell_type": "markdown",
   "metadata": {},
   "source": [
    "Записываем ID представления:"
   ]
  },
  {
   "cell_type": "code",
   "execution_count": 5,
   "metadata": {},
   "outputs": [],
   "source": [
    "profile_id = '71639180'"
   ]
  },
  {
   "cell_type": "markdown",
   "metadata": {},
   "source": [
    "Выбираем период, совместимые представления и метрики для отчета (более подробно параметры запроса разберем на следующем шаге).\n",
    "\n",
    "Список измерений и метрик для API Google Analytics тут https://developers.google.com/analytics/devguides/reporting/core/dimsmets\n",
    "\n",
    "Делаем запрос к API:"
   ]
  },
  {
   "cell_type": "code",
   "execution_count": 9,
   "metadata": {},
   "outputs": [
    {
     "data": {
      "text/plain": [
       "{'kind': 'analytics#gaData',\n",
       " 'id': 'https://www.googleapis.com/analytics/v3/data/ga?ids=ga:71639180&dimensions=ga:source,ga:browser&metrics=ga:visits&sort=-ga:visits&filters=ga:medium%3D%3Dorganic&start-date=2018-01-01&end-date=2018-01-15&start-index=1&max-results=25',\n",
       " 'query': {'start-date': '2018-01-01',\n",
       "  'end-date': '2018-01-15',\n",
       "  'ids': 'ga:71639180',\n",
       "  'dimensions': 'ga:source,ga:browser',\n",
       "  'metrics': ['ga:visits'],\n",
       "  'sort': ['-ga:visits'],\n",
       "  'filters': 'ga:medium==organic',\n",
       "  'start-index': 1,\n",
       "  'max-results': 25},\n",
       " 'itemsPerPage': 25,\n",
       " 'totalResults': 31,\n",
       " 'selfLink': 'https://www.googleapis.com/analytics/v3/data/ga?ids=ga:71639180&dimensions=ga:source,ga:browser&metrics=ga:visits&sort=-ga:visits&filters=ga:medium%3D%3Dorganic&start-date=2018-01-01&end-date=2018-01-15&start-index=1&max-results=25',\n",
       " 'nextLink': 'https://www.googleapis.com/analytics/v3/data/ga?ids=ga:71639180&dimensions=ga:source,ga:browser&metrics=ga:visits&sort=-ga:visits&filters=ga:medium%3D%3Dorganic&start-date=2018-01-01&end-date=2018-01-15&start-index=26&max-results=25',\n",
       " 'profileInfo': {'profileId': '71639180',\n",
       "  'accountId': '40356496',\n",
       "  'webPropertyId': 'UA-40356496-1',\n",
       "  'internalWebPropertyId': '69526380',\n",
       "  'profileName': 'Все данные по веб-сайту',\n",
       "  'tableId': 'ga:71639180'},\n",
       " 'containsSampledData': False,\n",
       " 'columnHeaders': [{'name': 'ga:source',\n",
       "   'columnType': 'DIMENSION',\n",
       "   'dataType': 'STRING'},\n",
       "  {'name': 'ga:browser', 'columnType': 'DIMENSION', 'dataType': 'STRING'},\n",
       "  {'name': 'ga:visits', 'columnType': 'METRIC', 'dataType': 'INTEGER'}],\n",
       " 'totalsForAllResults': {'ga:visits': '1660'},\n",
       " 'rows': [['google', 'Chrome', '782'],\n",
       "  ['google', 'Safari', '361'],\n",
       "  ['yandex', 'YaBrowser', '129'],\n",
       "  ['yandex', 'Chrome', '100'],\n",
       "  ['google', 'Opera', '49'],\n",
       "  ['yandex', 'Opera', '45'],\n",
       "  ['yandex', 'Firefox', '41'],\n",
       "  ['yandex', 'Android Webview', '28'],\n",
       "  ['yandex', 'Internet Explorer', '17'],\n",
       "  ['google', 'Android Webview', '15'],\n",
       "  ['google', 'Android Browser', '14'],\n",
       "  ['google', 'Firefox', '13'],\n",
       "  ['yandex', 'Safari', '13'],\n",
       "  ['google', 'YaBrowser', '10'],\n",
       "  ['google', 'Samsung Internet', '8'],\n",
       "  ['google', 'Internet Explorer', '7'],\n",
       "  ['google', 'Edge', '5'],\n",
       "  ['yandex', 'Samsung Internet', '5'],\n",
       "  ['yahoo', 'Safari', '3'],\n",
       "  ['yandex', 'Android Browser', '2'],\n",
       "  ['yandex', 'Edge', '2'],\n",
       "  ['yandex', 'MRCHROME', '2'],\n",
       "  ['bing', 'Chrome', '1'],\n",
       "  ['bing', 'Safari', '1'],\n",
       "  ['bing', 'YaBrowser', '1']]}"
      ]
     },
     "execution_count": 9,
     "metadata": {},
     "output_type": "execute_result"
    }
   ],
   "source": [
    "params = {\n",
    "    'ids': 'ga:'+profile_id,\n",
    "    'start_date': '2018-01-01',\n",
    "    'end_date': '2018-01-15',\n",
    "    'metrics': 'ga:visits',\n",
    "    'dimensions': 'ga:source,ga:browser',\n",
    "    'sort': '-ga:visits',\n",
    "    'filters': 'ga:medium==organic',\n",
    "    'start_index': '1',\n",
    "    'max_results': '25'\n",
    "}\n",
    "\n",
    "service.data().ga().get(**params).execute()"
   ]
  },
  {
   "cell_type": "code",
   "execution_count": null,
   "metadata": {},
   "outputs": [],
   "source": []
  }
 ],
 "metadata": {
  "kernelspec": {
   "display_name": "Python 3",
   "language": "python",
   "name": "python3"
  },
  "language_info": {
   "codemirror_mode": {
    "name": "ipython",
    "version": 3
   },
   "file_extension": ".py",
   "mimetype": "text/x-python",
   "name": "python",
   "nbconvert_exporter": "python",
   "pygments_lexer": "ipython3",
   "version": "3.6.5"
  }
 },
 "nbformat": 4,
 "nbformat_minor": 2
}
