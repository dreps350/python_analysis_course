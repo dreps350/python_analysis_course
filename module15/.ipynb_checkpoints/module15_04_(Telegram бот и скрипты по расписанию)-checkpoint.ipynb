{
 "cells": [
  {
   "cell_type": "code",
   "execution_count": 1,
   "metadata": {},
   "outputs": [],
   "source": [
    "import yaml\n",
    "import telegram"
   ]
  },
  {
   "cell_type": "code",
   "execution_count": 2,
   "metadata": {},
   "outputs": [],
   "source": [
    "with open('./module15_files/telegram_config.yaml', 'r') as f:\n",
    "    token = yaml.load(f)['bot_token']"
   ]
  },
  {
   "cell_type": "code",
   "execution_count": 3,
   "metadata": {},
   "outputs": [],
   "source": [
    "# Создаем объект для работы с нашим ботом:\n",
    "bot = telegram.Bot(token)"
   ]
  },
  {
   "cell_type": "markdown",
   "metadata": {},
   "source": [
    "Для полноценного использования библиотеки нам осталось узнать важный параметр - ID нашей \"беседы\" с ботом. Чтобы это сделать напишите в Телеграме боту сообщение /start. Т. е. инициируйте беседу с ним.\n",
    "\n",
    "Теперь мы можем получить список последних сообщений вашему боту и узнать ID беседы. Посмотрим список последних сообщений бота:"
   ]
  },
  {
   "cell_type": "code",
   "execution_count": 4,
   "metadata": {},
   "outputs": [
    {
     "name": "stdout",
     "output_type": "stream",
     "text": [
      "{'update_id': 266122575, 'message': {'message_id': 2, 'date': 1545427689, 'chat': {'id': 227689665, 'type': 'private', 'username': 'DS1011', 'first_name': 'dreps350'}, 'text': 'Privet', 'entities': [], 'caption_entities': [], 'photo': [], 'new_chat_members': [], 'new_chat_photo': [], 'delete_chat_photo': False, 'group_chat_created': False, 'supergroup_chat_created': False, 'channel_chat_created': False, 'from': {'id': 227689665, 'first_name': 'dreps350', 'is_bot': False, 'username': 'DS1011', 'language_code': 'ru'}}}\n"
     ]
    }
   ],
   "source": [
    "for last_update in bot.getUpdates():\n",
    "\n",
    "    print(last_update)"
   ]
  },
  {
   "cell_type": "markdown",
   "metadata": {},
   "source": [
    "Из этого ответа нам потребуется id беседы. Это значение мы будем использовать во всех сообщениях через бота:"
   ]
  },
  {
   "cell_type": "code",
   "execution_count": 5,
   "metadata": {},
   "outputs": [
    {
     "data": {
      "text/plain": [
       "<telegram.message.Message at 0x2928f7a2470>"
      ]
     },
     "execution_count": 5,
     "metadata": {},
     "output_type": "execute_result"
    }
   ],
   "source": [
    "chat_id = last_update.message.chat.id\n",
    "\n",
    "# Теперь мы можем отправлять сообщения боту:\n",
    "\n",
    "bot.sendMessage(chat_id = chat_id, text = 'Расчет успешно завершен')\n",
    "\n",
    "# В своем Телеграме вы увидите сообщение \"Расчет успешно завершен\"."
   ]
  },
  {
   "cell_type": "markdown",
   "metadata": {},
   "source": [
    "Отправка файлов\n",
    "Еще одним полезным приемом является отправка готовых отчетов в виде файлов. Например, если нужно получить подробный отчет о результатах вычислений. Или просто отправлять коллегам и партнерам ваши результаты ежедневно в автоматическом режиме.\n",
    "\n",
    "Для отправки файла с результатами data.txt (это должен быть результат работы скрипта report.ipynb) выполните одну команду:"
   ]
  },
  {
   "cell_type": "code",
   "execution_count": null,
   "metadata": {},
   "outputs": [],
   "source": [
    "bot.send_document(chat_id=chat_id, document=open('data.txt', 'rb'))"
   ]
  },
  {
   "cell_type": "markdown",
   "metadata": {},
   "source": [
    "В результате всех команд в этом шаге вы должны получить наше прошлое сообщение и файл с результатами:"
   ]
  }
 ],
 "metadata": {
  "kernelspec": {
   "display_name": "Python 3",
   "language": "python",
   "name": "python3"
  },
  "language_info": {
   "codemirror_mode": {
    "name": "ipython",
    "version": 3
   },
   "file_extension": ".py",
   "mimetype": "text/x-python",
   "name": "python",
   "nbconvert_exporter": "python",
   "pygments_lexer": "ipython3",
   "version": "3.6.5"
  }
 },
 "nbformat": 4,
 "nbformat_minor": 2
}
