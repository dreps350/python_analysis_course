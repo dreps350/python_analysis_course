{
 "cells": [
  {
   "cell_type": "markdown",
   "metadata": {},
   "source": [
    "## Постановка задачи\n",
    "\n",
    "Во четвертом модуле нас ждут две более сложные задачи: обработка списка поисковых запросов и статистики рекламных кампаний. \n",
    "\n",
    "Такие запросы можно использовать для настройки контекстной рекламы, и они в зависимости от сложности кампании могут быть весьма объемными. Представим, что вам в наследство от предыдущего работника достался файл с запросами и вам надо посчитать статистику в этом файле. \n",
    "\n",
    "Начнем с первой задачи: дана статистика поисковых запросов вашей потенциальной целевой аудитории за 11 дней. Необходимо посчитать распределение количества слов в поисковых запросах этого файла на тему недвижимости. Т. е. понять сколько запросов содержали 1 слово, 2 слова итд."
   ]
  },
  {
   "cell_type": "markdown",
   "metadata": {},
   "source": [
    "## Количество запросов в день\n",
    "В этом шаге мы сначала проделаем простую операцию – посчитаем среднее количество запросов за 1 день в нашем файле. Посмотрим что есть в наших данных."
   ]
  },
  {
   "cell_type": "code",
   "execution_count": 1,
   "metadata": {},
   "outputs": [],
   "source": [
    "import pandas as pd\n",
    "pd.set_option('display.max_rows', 10)"
   ]
  },
  {
   "cell_type": "code",
   "execution_count": 2,
   "metadata": {},
   "outputs": [
    {
     "data": {
      "text/html": [
       "<div>\n",
       "<style scoped>\n",
       "    .dataframe tbody tr th:only-of-type {\n",
       "        vertical-align: middle;\n",
       "    }\n",
       "\n",
       "    .dataframe tbody tr th {\n",
       "        vertical-align: top;\n",
       "    }\n",
       "\n",
       "    .dataframe thead th {\n",
       "        text-align: right;\n",
       "    }\n",
       "</style>\n",
       "<table border=\"1\" class=\"dataframe\">\n",
       "  <thead>\n",
       "    <tr style=\"text-align: right;\">\n",
       "      <th></th>\n",
       "      <th>keyword</th>\n",
       "      <th>shows</th>\n",
       "    </tr>\n",
       "  </thead>\n",
       "  <tbody>\n",
       "    <tr>\n",
       "      <th>0</th>\n",
       "      <td>вк</td>\n",
       "      <td>64292779</td>\n",
       "    </tr>\n",
       "    <tr>\n",
       "      <th>1</th>\n",
       "      <td>одноклассники</td>\n",
       "      <td>63810309</td>\n",
       "    </tr>\n",
       "    <tr>\n",
       "      <th>2</th>\n",
       "      <td>порно</td>\n",
       "      <td>41747114</td>\n",
       "    </tr>\n",
       "    <tr>\n",
       "      <th>3</th>\n",
       "      <td>ютуб</td>\n",
       "      <td>39995567</td>\n",
       "    </tr>\n",
       "    <tr>\n",
       "      <th>4</th>\n",
       "      <td>вконтакте</td>\n",
       "      <td>21014195</td>\n",
       "    </tr>\n",
       "  </tbody>\n",
       "</table>\n",
       "</div>"
      ],
      "text/plain": [
       "         keyword     shows\n",
       "0             вк  64292779\n",
       "1  одноклассники  63810309\n",
       "2          порно  41747114\n",
       "3           ютуб  39995567\n",
       "4      вконтакте  21014195"
      ]
     },
     "execution_count": 2,
     "metadata": {},
     "output_type": "execute_result"
    }
   ],
   "source": [
    "data = pd.read_csv('./module04_files/keywords.csv')\n",
    "\n",
    "data.head()"
   ]
  },
  {
   "cell_type": "markdown",
   "metadata": {},
   "source": [
    "Есть только общее число запросов за весь период. Однако, работать со статистикой за 11 дней не всегда удобно, хочется представлять, сколько запросов было за один день.\n",
    "\n",
    "Давайте заведем новый столбец daily_shows, в котором выведем примерное количество запросов за 1 день (то есть поделим количество запросов за временной период на количество дней). Синтаксис будет простым:"
   ]
  },
  {
   "cell_type": "code",
   "execution_count": 3,
   "metadata": {},
   "outputs": [
    {
     "data": {
      "text/html": [
       "<div>\n",
       "<style scoped>\n",
       "    .dataframe tbody tr th:only-of-type {\n",
       "        vertical-align: middle;\n",
       "    }\n",
       "\n",
       "    .dataframe tbody tr th {\n",
       "        vertical-align: top;\n",
       "    }\n",
       "\n",
       "    .dataframe thead th {\n",
       "        text-align: right;\n",
       "    }\n",
       "</style>\n",
       "<table border=\"1\" class=\"dataframe\">\n",
       "  <thead>\n",
       "    <tr style=\"text-align: right;\">\n",
       "      <th></th>\n",
       "      <th>keyword</th>\n",
       "      <th>shows</th>\n",
       "      <th>daily_shows</th>\n",
       "      <th>ratio</th>\n",
       "    </tr>\n",
       "  </thead>\n",
       "  <tbody>\n",
       "    <tr>\n",
       "      <th>0</th>\n",
       "      <td>вк</td>\n",
       "      <td>64292779</td>\n",
       "      <td>5.844798e+06</td>\n",
       "      <td>0.09</td>\n",
       "    </tr>\n",
       "    <tr>\n",
       "      <th>1</th>\n",
       "      <td>одноклассники</td>\n",
       "      <td>63810309</td>\n",
       "      <td>5.800937e+06</td>\n",
       "      <td>0.09</td>\n",
       "    </tr>\n",
       "    <tr>\n",
       "      <th>2</th>\n",
       "      <td>порно</td>\n",
       "      <td>41747114</td>\n",
       "      <td>3.795192e+06</td>\n",
       "      <td>0.09</td>\n",
       "    </tr>\n",
       "    <tr>\n",
       "      <th>3</th>\n",
       "      <td>ютуб</td>\n",
       "      <td>39995567</td>\n",
       "      <td>3.635961e+06</td>\n",
       "      <td>0.09</td>\n",
       "    </tr>\n",
       "    <tr>\n",
       "      <th>4</th>\n",
       "      <td>вконтакте</td>\n",
       "      <td>21014195</td>\n",
       "      <td>1.910381e+06</td>\n",
       "      <td>0.09</td>\n",
       "    </tr>\n",
       "  </tbody>\n",
       "</table>\n",
       "</div>"
      ],
      "text/plain": [
       "         keyword     shows   daily_shows  ratio\n",
       "0             вк  64292779  5.844798e+06   0.09\n",
       "1  одноклассники  63810309  5.800937e+06   0.09\n",
       "2          порно  41747114  3.795192e+06   0.09\n",
       "3           ютуб  39995567  3.635961e+06   0.09\n",
       "4      вконтакте  21014195  1.910381e+06   0.09"
      ]
     },
     "execution_count": 3,
     "metadata": {},
     "output_type": "execute_result"
    }
   ],
   "source": [
    "data['daily_shows'] = data['shows'] / 11\n",
    "data['ratio'] = round(data['daily_shows'] / data['shows'], 2)\n",
    "data.head()"
   ]
  },
  {
   "cell_type": "code",
   "execution_count": 4,
   "metadata": {},
   "outputs": [],
   "source": [
    "data.drop(['ratio'], axis=1, inplace=True)"
   ]
  },
  {
   "cell_type": "code",
   "execution_count": 5,
   "metadata": {},
   "outputs": [],
   "source": [
    "data = data[data['keyword'].str.contains('недвиж', case=False)]"
   ]
  },
  {
   "cell_type": "code",
   "execution_count": 6,
   "metadata": {},
   "outputs": [
    {
     "data": {
      "text/html": [
       "<div>\n",
       "<style scoped>\n",
       "    .dataframe tbody tr th:only-of-type {\n",
       "        vertical-align: middle;\n",
       "    }\n",
       "\n",
       "    .dataframe tbody tr th {\n",
       "        vertical-align: top;\n",
       "    }\n",
       "\n",
       "    .dataframe thead th {\n",
       "        text-align: right;\n",
       "    }\n",
       "</style>\n",
       "<table border=\"1\" class=\"dataframe\">\n",
       "  <thead>\n",
       "    <tr style=\"text-align: right;\">\n",
       "      <th></th>\n",
       "      <th>keyword</th>\n",
       "      <th>shows</th>\n",
       "      <th>daily_shows</th>\n",
       "    </tr>\n",
       "  </thead>\n",
       "  <tbody>\n",
       "    <tr>\n",
       "      <th>2806</th>\n",
       "      <td>циан недвижимость москва</td>\n",
       "      <td>78729</td>\n",
       "      <td>7157.181818</td>\n",
       "    </tr>\n",
       "    <tr>\n",
       "      <th>3054</th>\n",
       "      <td>авито недвижимость</td>\n",
       "      <td>74037</td>\n",
       "      <td>6730.636364</td>\n",
       "    </tr>\n",
       "    <tr>\n",
       "      <th>3066</th>\n",
       "      <td>недвижимость</td>\n",
       "      <td>72984</td>\n",
       "      <td>6634.909091</td>\n",
       "    </tr>\n",
       "    <tr>\n",
       "      <th>4273</th>\n",
       "      <td>е1 недвижимость</td>\n",
       "      <td>56277</td>\n",
       "      <td>5116.090909</td>\n",
       "    </tr>\n",
       "    <tr>\n",
       "      <th>4912</th>\n",
       "      <td>нгс недвижимость новосибирск</td>\n",
       "      <td>54149</td>\n",
       "      <td>4922.636364</td>\n",
       "    </tr>\n",
       "    <tr>\n",
       "      <th>...</th>\n",
       "      <td>...</td>\n",
       "      <td>...</td>\n",
       "      <td>...</td>\n",
       "    </tr>\n",
       "    <tr>\n",
       "      <th>97433</th>\n",
       "      <td>авито санкт петербурге недвижимость</td>\n",
       "      <td>3720</td>\n",
       "      <td>338.181818</td>\n",
       "    </tr>\n",
       "    <tr>\n",
       "      <th>97674</th>\n",
       "      <td>емлс недвижимость</td>\n",
       "      <td>3781</td>\n",
       "      <td>343.727273</td>\n",
       "    </tr>\n",
       "    <tr>\n",
       "      <th>98902</th>\n",
       "      <td>авито рязань недвижимость</td>\n",
       "      <td>9734</td>\n",
       "      <td>884.909091</td>\n",
       "    </tr>\n",
       "    <tr>\n",
       "      <th>99002</th>\n",
       "      <td>недвижимость сочи</td>\n",
       "      <td>5097</td>\n",
       "      <td>463.363636</td>\n",
       "    </tr>\n",
       "    <tr>\n",
       "      <th>99532</th>\n",
       "      <td>недвижимость в омске млсн</td>\n",
       "      <td>4575</td>\n",
       "      <td>415.909091</td>\n",
       "    </tr>\n",
       "  </tbody>\n",
       "</table>\n",
       "<p>142 rows × 3 columns</p>\n",
       "</div>"
      ],
      "text/plain": [
       "                                   keyword  shows  daily_shows\n",
       "2806              циан недвижимость москва  78729  7157.181818\n",
       "3054                    авито недвижимость  74037  6730.636364\n",
       "3066                          недвижимость  72984  6634.909091\n",
       "4273                       е1 недвижимость  56277  5116.090909\n",
       "4912          нгс недвижимость новосибирск  54149  4922.636364\n",
       "...                                    ...    ...          ...\n",
       "97433  авито санкт петербурге недвижимость   3720   338.181818\n",
       "97674                    емлс недвижимость   3781   343.727273\n",
       "98902            авито рязань недвижимость   9734   884.909091\n",
       "99002                    недвижимость сочи   5097   463.363636\n",
       "99532            недвижимость в омске млсн   4575   415.909091\n",
       "\n",
       "[142 rows x 3 columns]"
      ]
     },
     "execution_count": 6,
     "metadata": {},
     "output_type": "execute_result"
    }
   ],
   "source": [
    "data"
   ]
  },
  {
   "cell_type": "markdown",
   "metadata": {},
   "source": [
    "## ЗАМЕЧАНИЕ ПРИ РАСЧЕТАХ СТОЛБЦОВ\n",
    "Иногда при расчете новых столбцов вы будете видеть предупреждение: 'A value is trying to be set on a copy of a slice from a DataFrame'. Для того, чтобы его избежать, используйте метод loc. Метод loc позволяет явно указать каким ячейкам мы назначаем новые значения (т. е. берем все строки (знак двоеточия) и столбец 'split').\n",
    "\n",
    "Т. е. вместо \n",
    "```python\n",
    "data['split'] = data['keyword'].str.split(' ')\n",
    "```\n",
    "явно указывайте на какие строки и столбцы вы вычисляете новые значения:\n",
    "```python\n",
    "data.loc[:, 'split'] = data['keyword'].str.split(' ')\n",
    "```\n",
    "\n",
    "Далее считаем кол-во слов в запросе:"
   ]
  },
  {
   "cell_type": "code",
   "execution_count": 8,
   "metadata": {},
   "outputs": [
    {
     "data": {
      "text/html": [
       "<div>\n",
       "<style scoped>\n",
       "    .dataframe tbody tr th:only-of-type {\n",
       "        vertical-align: middle;\n",
       "    }\n",
       "\n",
       "    .dataframe tbody tr th {\n",
       "        vertical-align: top;\n",
       "    }\n",
       "\n",
       "    .dataframe thead th {\n",
       "        text-align: right;\n",
       "    }\n",
       "</style>\n",
       "<table border=\"1\" class=\"dataframe\">\n",
       "  <thead>\n",
       "    <tr style=\"text-align: right;\">\n",
       "      <th></th>\n",
       "      <th>keyword</th>\n",
       "      <th>shows</th>\n",
       "      <th>daily_shows</th>\n",
       "      <th>split</th>\n",
       "    </tr>\n",
       "  </thead>\n",
       "  <tbody>\n",
       "    <tr>\n",
       "      <th>2806</th>\n",
       "      <td>циан недвижимость москва</td>\n",
       "      <td>78729</td>\n",
       "      <td>7157.181818</td>\n",
       "      <td>[циан, недвижимость, москва]</td>\n",
       "    </tr>\n",
       "    <tr>\n",
       "      <th>3054</th>\n",
       "      <td>авито недвижимость</td>\n",
       "      <td>74037</td>\n",
       "      <td>6730.636364</td>\n",
       "      <td>[авито, недвижимость]</td>\n",
       "    </tr>\n",
       "    <tr>\n",
       "      <th>3066</th>\n",
       "      <td>недвижимость</td>\n",
       "      <td>72984</td>\n",
       "      <td>6634.909091</td>\n",
       "      <td>[недвижимость]</td>\n",
       "    </tr>\n",
       "    <tr>\n",
       "      <th>4273</th>\n",
       "      <td>е1 недвижимость</td>\n",
       "      <td>56277</td>\n",
       "      <td>5116.090909</td>\n",
       "      <td>[е1, недвижимость]</td>\n",
       "    </tr>\n",
       "    <tr>\n",
       "      <th>4912</th>\n",
       "      <td>нгс недвижимость новосибирск</td>\n",
       "      <td>54149</td>\n",
       "      <td>4922.636364</td>\n",
       "      <td>[нгс, недвижимость, новосибирск]</td>\n",
       "    </tr>\n",
       "  </tbody>\n",
       "</table>\n",
       "</div>"
      ],
      "text/plain": [
       "                           keyword  shows  daily_shows  \\\n",
       "2806      циан недвижимость москва  78729  7157.181818   \n",
       "3054            авито недвижимость  74037  6730.636364   \n",
       "3066                  недвижимость  72984  6634.909091   \n",
       "4273               е1 недвижимость  56277  5116.090909   \n",
       "4912  нгс недвижимость новосибирск  54149  4922.636364   \n",
       "\n",
       "                                 split  \n",
       "2806      [циан, недвижимость, москва]  \n",
       "3054             [авито, недвижимость]  \n",
       "3066                    [недвижимость]  \n",
       "4273                [е1, недвижимость]  \n",
       "4912  [нгс, недвижимость, новосибирск]  "
      ]
     },
     "execution_count": 8,
     "metadata": {},
     "output_type": "execute_result"
    }
   ],
   "source": [
    "data.loc[:, 'split'] = data['keyword'].str.split(' ')\n",
    "data.head()"
   ]
  },
  {
   "cell_type": "code",
   "execution_count": 10,
   "metadata": {},
   "outputs": [
    {
     "data": {
      "text/plain": [
       "2806     3\n",
       "3054     2\n",
       "3066     1\n",
       "4273     2\n",
       "4912     3\n",
       "        ..\n",
       "97433    4\n",
       "97674    2\n",
       "98902    3\n",
       "99002    2\n",
       "99532    4\n",
       "Length: 142, dtype: int64"
      ]
     },
     "execution_count": 10,
     "metadata": {},
     "output_type": "execute_result"
    }
   ],
   "source": [
    "data.apply(lambda x: len(x['split']), axis=1)"
   ]
  },
  {
   "cell_type": "markdown",
   "metadata": {},
   "source": [
    "## Упражнение\n",
    "(1 возможный балл)\n",
    "Представим, что вам надо посчитать показатель дневных просмотров в целых числах.\n",
    "\n",
    "Примените функцию int к столбцу daily_shows. Можно не заводить новый столбец, а перезаписать существующий.\n",
    "\n",
    "Какое значение daily_shows получится у поискового запроса 'недвижимость'? (В нашей версии датафрейма это третья сверху строка с индексом 3066)"
   ]
  },
  {
   "cell_type": "code",
   "execution_count": 23,
   "metadata": {},
   "outputs": [],
   "source": [
    "#data.apply(lambda row: int(row['daily_shows']), axis=1)\n",
    "#плохо"
   ]
  },
  {
   "cell_type": "code",
   "execution_count": 25,
   "metadata": {},
   "outputs": [
    {
     "data": {
      "text/html": [
       "<div>\n",
       "<style scoped>\n",
       "    .dataframe tbody tr th:only-of-type {\n",
       "        vertical-align: middle;\n",
       "    }\n",
       "\n",
       "    .dataframe tbody tr th {\n",
       "        vertical-align: top;\n",
       "    }\n",
       "\n",
       "    .dataframe thead th {\n",
       "        text-align: right;\n",
       "    }\n",
       "</style>\n",
       "<table border=\"1\" class=\"dataframe\">\n",
       "  <thead>\n",
       "    <tr style=\"text-align: right;\">\n",
       "      <th></th>\n",
       "      <th>keyword</th>\n",
       "      <th>shows</th>\n",
       "      <th>daily_shows</th>\n",
       "      <th>split</th>\n",
       "      <th>word_count</th>\n",
       "    </tr>\n",
       "  </thead>\n",
       "  <tbody>\n",
       "    <tr>\n",
       "      <th>2806</th>\n",
       "      <td>циан недвижимость москва</td>\n",
       "      <td>78729</td>\n",
       "      <td>7157</td>\n",
       "      <td>[циан, недвижимость, москва]</td>\n",
       "      <td>3</td>\n",
       "    </tr>\n",
       "    <tr>\n",
       "      <th>3054</th>\n",
       "      <td>авито недвижимость</td>\n",
       "      <td>74037</td>\n",
       "      <td>6730</td>\n",
       "      <td>[авито, недвижимость]</td>\n",
       "      <td>2</td>\n",
       "    </tr>\n",
       "    <tr>\n",
       "      <th>3066</th>\n",
       "      <td>недвижимость</td>\n",
       "      <td>72984</td>\n",
       "      <td>6634</td>\n",
       "      <td>[недвижимость]</td>\n",
       "      <td>1</td>\n",
       "    </tr>\n",
       "    <tr>\n",
       "      <th>4273</th>\n",
       "      <td>е1 недвижимость</td>\n",
       "      <td>56277</td>\n",
       "      <td>5116</td>\n",
       "      <td>[е1, недвижимость]</td>\n",
       "      <td>2</td>\n",
       "    </tr>\n",
       "    <tr>\n",
       "      <th>4912</th>\n",
       "      <td>нгс недвижимость новосибирск</td>\n",
       "      <td>54149</td>\n",
       "      <td>4922</td>\n",
       "      <td>[нгс, недвижимость, новосибирск]</td>\n",
       "      <td>3</td>\n",
       "    </tr>\n",
       "  </tbody>\n",
       "</table>\n",
       "</div>"
      ],
      "text/plain": [
       "                           keyword  shows  daily_shows  \\\n",
       "2806      циан недвижимость москва  78729         7157   \n",
       "3054            авито недвижимость  74037         6730   \n",
       "3066                  недвижимость  72984         6634   \n",
       "4273               е1 недвижимость  56277         5116   \n",
       "4912  нгс недвижимость новосибирск  54149         4922   \n",
       "\n",
       "                                 split  word_count  \n",
       "2806      [циан, недвижимость, москва]           3  \n",
       "3054             [авито, недвижимость]           2  \n",
       "3066                    [недвижимость]           1  \n",
       "4273                [е1, недвижимость]           2  \n",
       "4912  [нгс, недвижимость, новосибирск]           3  "
      ]
     },
     "execution_count": 25,
     "metadata": {},
     "output_type": "execute_result"
    }
   ],
   "source": [
    "data['daily_shows'] = data['daily_shows'].astype('int64')\n",
    "data['word_count'] = data['split'].apply(lambda x: len(x))\n",
    "data.head()"
   ]
  },
  {
   "cell_type": "code",
   "execution_count": 26,
   "metadata": {},
   "outputs": [
    {
     "data": {
      "text/plain": [
       "3    72\n",
       "2    25\n",
       "4    20\n",
       "5    12\n",
       "6     7\n",
       "8     3\n",
       "9     1\n",
       "7     1\n",
       "1     1\n",
       "Name: word_count, dtype: int64"
      ]
     },
     "execution_count": 26,
     "metadata": {},
     "output_type": "execute_result"
    }
   ],
   "source": [
    "data['word_count'].value_counts()"
   ]
  }
 ],
 "metadata": {
  "kernelspec": {
   "display_name": "Python 3",
   "language": "python",
   "name": "python3"
  },
  "language_info": {
   "codemirror_mode": {
    "name": "ipython",
    "version": 3
   },
   "file_extension": ".py",
   "mimetype": "text/x-python",
   "name": "python",
   "nbconvert_exporter": "python",
   "pygments_lexer": "ipython3",
   "version": "3.6.5"
  }
 },
 "nbformat": 4,
 "nbformat_minor": 2
}
