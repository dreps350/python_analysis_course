{
 "cells": [
  {
   "cell_type": "markdown",
   "metadata": {},
   "source": [
    "# Большие таблицы в Метрике\n",
    "В этом блоке мы научимся решать очень распространенную проблему выгрузки больших таблиц.\n",
    "\n",
    "Это связано с тем, что в любой системе есть ограничения по количеству строк в отчете. API Метрики за один запрос может вернуть максимум 100 тысяч строк. Для больших сайтов есть множество отчетов, которые многократно превосходят этот лимит.\n",
    "\n",
    "Например, для одного нашего проекта выгрузка отчета по поисковым запросам, страницам входа и дате визита за полгода заняла на диске более 6 гигабайт.\n",
    "\n",
    "Однако, и для небольших сайтов существуют отчеты, когда приходится выгружать частями. Например, когда вам необходимо детально проанализировать посещения сайта по минутам или секундам и разбивке по дополнительной метрике (например, источникам трафика). Такие задачи часто встречаются при анализе оффлайновых рекламных кампаний.\n",
    "\n",
    "В текущем блоке мы научимся выгружать отчет любого размера, используя параметры limit (необходимое количество строк в ответе, максимум 100 тысяч) и offset (номер первой строки выборки). Этот метод полностью аналогичен тому как мы выгружали список пользователей ВКонтакте.\n",
    "\n",
    "Будем выгружать отчет по точному времени визита:\n",
    "\n",
    "<img src='./module12_files/m8_b5_report.jpg'>\n",
    "\n",
    "Как обычно задаем параметры выгрузки. В качестве измерения (строк отчета) будет выступать время визита ym:s:dateTime. Из метрик для простоты оставим только визиты:"
   ]
  },
  {
   "cell_type": "code",
   "execution_count": 1,
   "metadata": {},
   "outputs": [],
   "source": [
    "import requests\n",
    "from yaml import load\n",
    "from pprint import pprint"
   ]
  },
  {
   "cell_type": "code",
   "execution_count": 6,
   "metadata": {},
   "outputs": [],
   "source": [
    "with open('./module12_files/yandex_config.yaml', 'r') as f:\n",
    "    config = load(f)\n",
    "    token = config['access_token']\n",
    "\n",
    "API_URL = 'https://api-metrika.yandex.ru/stat/v1/data'\n",
    "startDate = '2018-02-12'\n",
    "endDate = '2018-02-18'\n",
    "counter = '21075004'\n",
    "metrics = ['ym:s:visits']\n",
    "dimensions = ['ym:s:dateTime']\n",
    "\n",
    "# Стандартные преобразования:\n",
    "\n",
    "metrics_string = ','.join(metrics)\n",
    "dimensions_string = ','.join(dimensions)\n",
    "\n",
    "params = {\n",
    "    'date1': startDate,\n",
    "    'date2': endDate,\n",
    "    'id': counter,\n",
    "    'dimensions': dimensions_string,\n",
    "    'metrics': metrics_string,\n",
    "    'oauth_token': token\n",
    "}\n",
    "\n",
    "r = requests.get(API_URL, params = params)\n",
    "data = r.json()"
   ]
  },
  {
   "cell_type": "code",
   "execution_count": 8,
   "metadata": {},
   "outputs": [
    {
     "name": "stdout",
     "output_type": "stream",
     "text": [
      "{'data': [{'dimensions': [{'name': '2018-02-13 23:25:33'}], 'metrics': [2.0]},\n",
      "          {'dimensions': [{'name': '2018-02-14 18:52:15'}], 'metrics': [2.0]},\n",
      "          {'dimensions': [{'name': '2018-02-15 09:35:29'}], 'metrics': [2.0]},\n",
      "          {'dimensions': [{'name': '2018-02-15 11:57:33'}], 'metrics': [2.0]},\n",
      "          {'dimensions': [{'name': '2018-02-16 09:45:21'}], 'metrics': [2.0]},\n",
      "          {'dimensions': [{'name': '2018-02-16 18:14:22'}], 'metrics': [2.0]},\n",
      "          {'dimensions': [{'name': '2018-02-17 18:16:37'}], 'metrics': [2.0]},\n",
      "          {'dimensions': [{'name': '2018-02-17 22:22:21'}], 'metrics': [2.0]},\n",
      "          {'dimensions': [{'name': '2018-02-18 09:19:28'}], 'metrics': [2.0]},\n",
      "          {'dimensions': [{'name': '2018-02-12 00:03:14'}], 'metrics': [1.0]},\n",
      "          {'dimensions': [{'name': '2018-02-12 00:12:21'}], 'metrics': [1.0]},\n",
      "          {'dimensions': [{'name': '2018-02-12 00:24:00'}], 'metrics': [1.0]},\n",
      "          {'dimensions': [{'name': '2018-02-12 00:35:34'}], 'metrics': [1.0]},\n",
      "          {'dimensions': [{'name': '2018-02-12 01:01:35'}], 'metrics': [1.0]},\n",
      "          {'dimensions': [{'name': '2018-02-12 01:16:37'}], 'metrics': [1.0]},\n",
      "          {'dimensions': [{'name': '2018-02-12 01:37:38'}], 'metrics': [1.0]},\n",
      "          {'dimensions': [{'name': '2018-02-12 01:52:11'}], 'metrics': [1.0]},\n",
      "          {'dimensions': [{'name': '2018-02-12 02:00:59'}], 'metrics': [1.0]},\n",
      "          {'dimensions': [{'name': '2018-02-12 02:13:42'}], 'metrics': [1.0]},\n",
      "          {'dimensions': [{'name': '2018-02-12 03:33:57'}], 'metrics': [1.0]},\n",
      "          {'dimensions': [{'name': '2018-02-12 03:37:01'}], 'metrics': [1.0]},\n",
      "          {'dimensions': [{'name': '2018-02-12 04:27:36'}], 'metrics': [1.0]},\n",
      "          {'dimensions': [{'name': '2018-02-12 04:32:43'}], 'metrics': [1.0]},\n",
      "          {'dimensions': [{'name': '2018-02-12 04:51:30'}], 'metrics': [1.0]},\n",
      "          {'dimensions': [{'name': '2018-02-12 04:55:40'}], 'metrics': [1.0]},\n",
      "          {'dimensions': [{'name': '2018-02-12 04:57:57'}], 'metrics': [1.0]},\n",
      "          {'dimensions': [{'name': '2018-02-12 04:59:10'}], 'metrics': [1.0]},\n",
      "          {'dimensions': [{'name': '2018-02-12 05:16:33'}], 'metrics': [1.0]},\n",
      "          {'dimensions': [{'name': '2018-02-12 05:18:20'}], 'metrics': [1.0]},\n",
      "          {'dimensions': [{'name': '2018-02-12 05:33:54'}], 'metrics': [1.0]},\n",
      "          {'dimensions': [{'name': '2018-02-12 06:05:08'}], 'metrics': [1.0]},\n",
      "          {'dimensions': [{'name': '2018-02-12 06:19:04'}], 'metrics': [1.0]},\n",
      "          {'dimensions': [{'name': '2018-02-12 06:37:31'}], 'metrics': [1.0]},\n",
      "          {'dimensions': [{'name': '2018-02-12 06:47:55'}], 'metrics': [1.0]},\n",
      "          {'dimensions': [{'name': '2018-02-12 07:19:55'}], 'metrics': [1.0]},\n",
      "          {'dimensions': [{'name': '2018-02-12 07:22:38'}], 'metrics': [1.0]},\n",
      "          {'dimensions': [{'name': '2018-02-12 07:25:24'}], 'metrics': [1.0]},\n",
      "          {'dimensions': [{'name': '2018-02-12 07:27:51'}], 'metrics': [1.0]},\n",
      "          {'dimensions': [{'name': '2018-02-12 07:34:05'}], 'metrics': [1.0]},\n",
      "          {'dimensions': [{'name': '2018-02-12 07:50:06'}], 'metrics': [1.0]},\n",
      "          {'dimensions': [{'name': '2018-02-12 07:52:37'}], 'metrics': [1.0]},\n",
      "          {'dimensions': [{'name': '2018-02-12 07:56:15'}], 'metrics': [1.0]},\n",
      "          {'dimensions': [{'name': '2018-02-12 08:00:22'}], 'metrics': [1.0]},\n",
      "          {'dimensions': [{'name': '2018-02-12 08:01:52'}], 'metrics': [1.0]},\n",
      "          {'dimensions': [{'name': '2018-02-12 08:02:32'}], 'metrics': [1.0]},\n",
      "          {'dimensions': [{'name': '2018-02-12 08:07:33'}], 'metrics': [1.0]},\n",
      "          {'dimensions': [{'name': '2018-02-12 08:12:36'}], 'metrics': [1.0]},\n",
      "          {'dimensions': [{'name': '2018-02-12 08:21:13'}], 'metrics': [1.0]},\n",
      "          {'dimensions': [{'name': '2018-02-12 08:22:58'}], 'metrics': [1.0]},\n",
      "          {'dimensions': [{'name': '2018-02-12 08:23:00'}], 'metrics': [1.0]},\n",
      "          {'dimensions': [{'name': '2018-02-12 08:23:05'}], 'metrics': [1.0]},\n",
      "          {'dimensions': [{'name': '2018-02-12 08:26:06'}], 'metrics': [1.0]},\n",
      "          {'dimensions': [{'name': '2018-02-12 08:27:49'}], 'metrics': [1.0]},\n",
      "          {'dimensions': [{'name': '2018-02-12 08:27:57'}], 'metrics': [1.0]},\n",
      "          {'dimensions': [{'name': '2018-02-12 08:30:58'}], 'metrics': [1.0]},\n",
      "          {'dimensions': [{'name': '2018-02-12 08:33:17'}], 'metrics': [1.0]},\n",
      "          {'dimensions': [{'name': '2018-02-12 08:47:30'}], 'metrics': [1.0]},\n",
      "          {'dimensions': [{'name': '2018-02-12 08:51:49'}], 'metrics': [1.0]},\n",
      "          {'dimensions': [{'name': '2018-02-12 08:53:12'}], 'metrics': [1.0]},\n",
      "          {'dimensions': [{'name': '2018-02-12 09:08:45'}], 'metrics': [1.0]},\n",
      "          {'dimensions': [{'name': '2018-02-12 09:19:17'}], 'metrics': [1.0]},\n",
      "          {'dimensions': [{'name': '2018-02-12 09:22:22'}], 'metrics': [1.0]},\n",
      "          {'dimensions': [{'name': '2018-02-12 09:24:01'}], 'metrics': [1.0]},\n",
      "          {'dimensions': [{'name': '2018-02-12 09:34:54'}], 'metrics': [1.0]},\n",
      "          {'dimensions': [{'name': '2018-02-12 09:38:44'}], 'metrics': [1.0]},\n",
      "          {'dimensions': [{'name': '2018-02-12 09:44:13'}], 'metrics': [1.0]},\n",
      "          {'dimensions': [{'name': '2018-02-12 09:45:54'}], 'metrics': [1.0]},\n",
      "          {'dimensions': [{'name': '2018-02-12 09:47:21'}], 'metrics': [1.0]},\n",
      "          {'dimensions': [{'name': '2018-02-12 09:53:10'}], 'metrics': [1.0]},\n",
      "          {'dimensions': [{'name': '2018-02-12 10:02:40'}], 'metrics': [1.0]},\n",
      "          {'dimensions': [{'name': '2018-02-12 10:05:20'}], 'metrics': [1.0]},\n",
      "          {'dimensions': [{'name': '2018-02-12 10:09:43'}], 'metrics': [1.0]},\n",
      "          {'dimensions': [{'name': '2018-02-12 10:14:14'}], 'metrics': [1.0]},\n",
      "          {'dimensions': [{'name': '2018-02-12 10:15:15'}], 'metrics': [1.0]},\n",
      "          {'dimensions': [{'name': '2018-02-12 10:20:48'}], 'metrics': [1.0]},\n",
      "          {'dimensions': [{'name': '2018-02-12 10:27:34'}], 'metrics': [1.0]},\n",
      "          {'dimensions': [{'name': '2018-02-12 10:28:55'}], 'metrics': [1.0]},\n",
      "          {'dimensions': [{'name': '2018-02-12 10:29:52'}], 'metrics': [1.0]},\n",
      "          {'dimensions': [{'name': '2018-02-12 10:29:53'}], 'metrics': [1.0]},\n",
      "          {'dimensions': [{'name': '2018-02-12 10:30:49'}], 'metrics': [1.0]},\n",
      "          {'dimensions': [{'name': '2018-02-12 10:33:56'}], 'metrics': [1.0]},\n",
      "          {'dimensions': [{'name': '2018-02-12 10:35:09'}], 'metrics': [1.0]},\n",
      "          {'dimensions': [{'name': '2018-02-12 10:37:01'}], 'metrics': [1.0]},\n",
      "          {'dimensions': [{'name': '2018-02-12 10:39:28'}], 'metrics': [1.0]},\n",
      "          {'dimensions': [{'name': '2018-02-12 10:39:48'}], 'metrics': [1.0]},\n",
      "          {'dimensions': [{'name': '2018-02-12 10:43:04'}], 'metrics': [1.0]},\n",
      "          {'dimensions': [{'name': '2018-02-12 10:45:56'}], 'metrics': [1.0]},\n",
      "          {'dimensions': [{'name': '2018-02-12 10:48:30'}], 'metrics': [1.0]},\n",
      "          {'dimensions': [{'name': '2018-02-12 10:52:54'}], 'metrics': [1.0]},\n",
      "          {'dimensions': [{'name': '2018-02-12 10:58:39'}], 'metrics': [1.0]},\n",
      "          {'dimensions': [{'name': '2018-02-12 11:03:07'}], 'metrics': [1.0]},\n",
      "          {'dimensions': [{'name': '2018-02-12 11:06:18'}], 'metrics': [1.0]},\n",
      "          {'dimensions': [{'name': '2018-02-12 11:06:57'}], 'metrics': [1.0]},\n",
      "          {'dimensions': [{'name': '2018-02-12 11:10:22'}], 'metrics': [1.0]},\n",
      "          {'dimensions': [{'name': '2018-02-12 11:14:44'}], 'metrics': [1.0]},\n",
      "          {'dimensions': [{'name': '2018-02-12 11:15:08'}], 'metrics': [1.0]},\n",
      "          {'dimensions': [{'name': '2018-02-12 11:16:13'}], 'metrics': [1.0]},\n",
      "          {'dimensions': [{'name': '2018-02-12 11:19:59'}], 'metrics': [1.0]},\n",
      "          {'dimensions': [{'name': '2018-02-12 11:20:23'}], 'metrics': [1.0]},\n",
      "          {'dimensions': [{'name': '2018-02-12 11:29:49'}], 'metrics': [1.0]}],\n",
      " 'data_lag': 63,\n",
      " 'max': [2.0],\n",
      " 'min': [1.0],\n",
      " 'query': {'attribution': 'Last',\n",
      "           'auto_group_size': '1',\n",
      "           'currency': 'RUB',\n",
      "           'date1': '2018-02-12',\n",
      "           'date2': '2018-02-18',\n",
      "           'dimensions': ['ym:s:dateTime'],\n",
      "           'group': 'Week',\n",
      "           'ids': [21075004],\n",
      "           'limit': 100,\n",
      "           'metrics': ['ym:s:visits'],\n",
      "           'offline_window': '21',\n",
      "           'offset': 1,\n",
      "           'quantile': '50',\n",
      "           'sort': ['-ym:s:visits']},\n",
      " 'sample_share': 1.0,\n",
      " 'sample_size': 2458,\n",
      " 'sample_space': 2458,\n",
      " 'sampled': False,\n",
      " 'total_rows': 2449,\n",
      " 'total_rows_rounded': False,\n",
      " 'totals': [2458.0]}\n"
     ]
    }
   ],
   "source": [
    "pprint(data)"
   ]
  },
  {
   "cell_type": "markdown",
   "metadata": {},
   "source": [
    "По умолчанию Метрика возвращает первые 100 строк. Добавим параметры limit и offset к запросу.\n",
    "\n",
    "Для наглядности выведем первые 5 строк и обернем процесс выгрузки в отдельную функцию:"
   ]
  },
  {
   "cell_type": "code",
   "execution_count": 9,
   "metadata": {},
   "outputs": [],
   "source": [
    "def report_for_offset_value(offset, n_rows):\n",
    "\n",
    "    \"\"\"Выгрузка n_rows строк отчета Метрики для заданного значения offset\"\"\"   \n",
    "\n",
    "    params = {\n",
    "        'date1': startDate,\n",
    "        'date2': endDate,\n",
    "        'id': counter,\n",
    "        'dimensions': dimensions_string,\n",
    "        'metrics': metrics_string,\n",
    "        'oauth_token': token,\n",
    "        'offset': offset,\n",
    "        'limit': n_rows\n",
    "    }\n",
    "    \n",
    "    r = requests.get(API_URL, params = params)\n",
    "   \n",
    "    return r.json()"
   ]
  },
  {
   "cell_type": "code",
   "execution_count": 13,
   "metadata": {},
   "outputs": [
    {
     "name": "stdout",
     "output_type": "stream",
     "text": [
      "{'data': [{'dimensions': [{'name': '2018-02-13 23:25:33'}], 'metrics': [2.0]},\n",
      "          {'dimensions': [{'name': '2018-02-14 18:52:15'}], 'metrics': [2.0]},\n",
      "          {'dimensions': [{'name': '2018-02-15 09:35:29'}], 'metrics': [2.0]},\n",
      "          {'dimensions': [{'name': '2018-02-15 11:57:33'}], 'metrics': [2.0]},\n",
      "          {'dimensions': [{'name': '2018-02-16 09:45:21'}], 'metrics': [2.0]}],\n",
      " 'data_lag': 71,\n",
      " 'max': [2.0],\n",
      " 'min': [2.0],\n",
      " 'query': {'attribution': 'Last',\n",
      "           'auto_group_size': '1',\n",
      "           'currency': 'RUB',\n",
      "           'date1': '2018-02-12',\n",
      "           'date2': '2018-02-18',\n",
      "           'dimensions': ['ym:s:dateTime'],\n",
      "           'group': 'Week',\n",
      "           'ids': [21075004],\n",
      "           'limit': 5,\n",
      "           'metrics': ['ym:s:visits'],\n",
      "           'offline_window': '21',\n",
      "           'offset': 1,\n",
      "           'quantile': '50',\n",
      "           'sort': ['-ym:s:visits']},\n",
      " 'sample_share': 1.0,\n",
      " 'sample_size': 2458,\n",
      " 'sample_space': 2458,\n",
      " 'sampled': False,\n",
      " 'total_rows': 2449,\n",
      " 'total_rows_rounded': False,\n",
      " 'totals': [2458.0]}\n"
     ]
    }
   ],
   "source": [
    "n_rows, offset = 5, 1 #offset должен быть >= 1\n",
    "\n",
    "data = report_for_offset_value(offset, n_rows)\n",
    "pprint(data)"
   ]
  },
  {
   "cell_type": "code",
   "execution_count": 14,
   "metadata": {},
   "outputs": [
    {
     "name": "stdout",
     "output_type": "stream",
     "text": [
      "2018-02-13 23:25:33 2.0\n",
      "2018-02-14 18:52:15 2.0\n",
      "2018-02-15 09:35:29 2.0\n",
      "2018-02-15 11:57:33 2.0\n",
      "2018-02-16 09:45:21 2.0\n"
     ]
    }
   ],
   "source": [
    "for line in data['data']:\n",
    "    time_of_visit = line['dimensions'][0]['name']\n",
    "    visits = line['metrics'][0]   \n",
    "\n",
    "    print(time_of_visit, visits)"
   ]
  },
  {
   "cell_type": "markdown",
   "metadata": {},
   "source": [
    "# Замечание по лимитам выгрузки\n",
    "Первые 5 строк мы получили. Как определить сколько раз придется выгружать отчет? Посмотрим какой ответ отдает Метрика при очень большом параметре offset. Судя по веб-интерфейсу в нашем отчете 2 449 строк, поэтому посмотрим ответ при offset = 2 500:"
   ]
  },
  {
   "cell_type": "code",
   "execution_count": 15,
   "metadata": {},
   "outputs": [
    {
     "name": "stdout",
     "output_type": "stream",
     "text": [
      "{'data': [],\n",
      " 'data_lag': 104,\n",
      " 'max': [2.0],\n",
      " 'min': [1.0],\n",
      " 'query': {'attribution': 'Last',\n",
      "           'auto_group_size': '1',\n",
      "           'currency': 'RUB',\n",
      "           'date1': '2018-02-12',\n",
      "           'date2': '2018-02-18',\n",
      "           'dimensions': ['ym:s:dateTime'],\n",
      "           'group': 'Week',\n",
      "           'ids': [21075004],\n",
      "           'limit': 5,\n",
      "           'metrics': ['ym:s:visits'],\n",
      "           'offline_window': '21',\n",
      "           'offset': 2500,\n",
      "           'quantile': '50',\n",
      "           'sort': ['-ym:s:visits']},\n",
      " 'sample_share': 1.0,\n",
      " 'sample_size': 2458,\n",
      " 'sample_space': 2458,\n",
      " 'sampled': False,\n",
      " 'total_rows': 2449,\n",
      " 'total_rows_rounded': False,\n",
      " 'totals': [2458.0]}\n"
     ]
    }
   ],
   "source": [
    "pprint(report_for_offset_value(2500, 5))"
   ]
  },
  {
   "cell_type": "code",
   "execution_count": 22,
   "metadata": {},
   "outputs": [
    {
     "name": "stdout",
     "output_type": "stream",
     "text": [
      "{'data': [{'dimensions': [{'name': '2018-02-13 23:25:33'}], 'metrics': [2.0]},\n",
      "          {'dimensions': [{'name': '2018-02-14 18:52:15'}], 'metrics': [2.0]},\n",
      "          {'dimensions': [{'name': '2018-02-15 09:35:29'}], 'metrics': [2.0]},\n",
      "          {'dimensions': [{'name': '2018-02-15 11:57:33'}], 'metrics': [2.0]},\n",
      "          {'dimensions': [{'name': '2018-02-16 09:45:21'}], 'metrics': [2.0]},\n",
      "          {'dimensions': [{'name': '2018-02-16 18:14:22'}], 'metrics': [2.0]},\n",
      "          {'dimensions': [{'name': '2018-02-17 18:16:37'}], 'metrics': [2.0]},\n",
      "          {'dimensions': [{'name': '2018-02-17 22:22:21'}], 'metrics': [2.0]},\n",
      "          {'dimensions': [{'name': '2018-02-18 09:19:28'}], 'metrics': [2.0]},\n",
      "          {'dimensions': [{'name': '2018-02-12 00:03:14'}], 'metrics': [1.0]}],\n",
      " 'data_lag': 79,\n",
      " 'max': [2.0],\n",
      " 'min': [1.0],\n",
      " 'query': {'attribution': 'Last',\n",
      "           'auto_group_size': '1',\n",
      "           'currency': 'RUB',\n",
      "           'date1': '2018-02-12',\n",
      "           'date2': '2018-02-18',\n",
      "           'dimensions': ['ym:s:dateTime'],\n",
      "           'group': 'Week',\n",
      "           'ids': [21075004],\n",
      "           'limit': 10,\n",
      "           'metrics': ['ym:s:visits'],\n",
      "           'offline_window': '21',\n",
      "           'offset': 1,\n",
      "           'quantile': '50',\n",
      "           'sort': ['-ym:s:visits']},\n",
      " 'sample_share': 1.0,\n",
      " 'sample_size': 2458,\n",
      " 'sample_space': 2458,\n",
      " 'sampled': False,\n",
      " 'total_rows': 2449,\n",
      " 'total_rows_rounded': False,\n",
      " 'totals': [2458.0]}\n"
     ]
    }
   ],
   "source": [
    "pprint(report_for_offset_value(1, 10))"
   ]
  },
  {
   "cell_type": "markdown",
   "metadata": {},
   "source": [
    "Лист 'data' оказался пустым, это и есть наше условие выхода из цикла выгрузки."
   ]
  },
  {
   "cell_type": "code",
   "execution_count": 32,
   "metadata": {},
   "outputs": [
    {
     "name": "stdout",
     "output_type": "stream",
     "text": [
      "Wall time: 1.09 s\n"
     ]
    }
   ],
   "source": [
    "%%time\n",
    "\n",
    "condition = True\n",
    "n_rows = 1000\n",
    "sum_visits = 0\n",
    "offset = 1\n",
    "\n",
    "while True:\n",
    "#     print(offset)\n",
    "    data = report_for_offset_value(offset, n_rows)['data']\n",
    "    if data:\n",
    "        for line in data:\n",
    "            sum_visits += line['metrics'][0]\n",
    "#             print(sum_visits)\n",
    "        offset += n_rows\n",
    "    else:\n",
    "        break"
   ]
  },
  {
   "cell_type": "code",
   "execution_count": 31,
   "metadata": {},
   "outputs": [
    {
     "data": {
      "text/plain": [
       "2458.0"
      ]
     },
     "execution_count": 31,
     "metadata": {},
     "output_type": "execute_result"
    }
   ],
   "source": [
    "sum_visits"
   ]
  }
 ],
 "metadata": {
  "kernelspec": {
   "display_name": "Python 3",
   "language": "python",
   "name": "python3"
  },
  "language_info": {
   "codemirror_mode": {
    "name": "ipython",
    "version": 3
   },
   "file_extension": ".py",
   "mimetype": "text/x-python",
   "name": "python",
   "nbconvert_exporter": "python",
   "pygments_lexer": "ipython3",
   "version": "3.6.5"
  }
 },
 "nbformat": 4,
 "nbformat_minor": 2
}
