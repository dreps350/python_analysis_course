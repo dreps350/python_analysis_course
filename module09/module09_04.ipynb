{
 "cells": [
  {
   "cell_type": "markdown",
   "metadata": {},
   "source": [
    "# ДАННЫЕ\n",
    "Мы будем использовать набор признаков из файла correlation.tsv. Это статистика потребления видео-контента по 10 различным характеристикам для набора групп пользователей - время просмотра по категориям, соцдем характеристики, просмотр рекомендованных видео итд. Довольно часто такая информация шифруется в набор признаков p1, p2, ..., p10. Если признаки хорошо коррелируют между собой, то, возможно, эти пары не следует использовать в одной линейной модели. "
   ]
  },
  {
   "cell_type": "code",
   "execution_count": 15,
   "metadata": {},
   "outputs": [],
   "source": [
    "import pandas as pd\n",
    "import matplotlib.pyplot as plt\n",
    "import seaborn as sns\n",
    "import plotly"
   ]
  },
  {
   "cell_type": "code",
   "execution_count": 3,
   "metadata": {},
   "outputs": [
    {
     "data": {
      "text/html": [
       "<div>\n",
       "<style scoped>\n",
       "    .dataframe tbody tr th:only-of-type {\n",
       "        vertical-align: middle;\n",
       "    }\n",
       "\n",
       "    .dataframe tbody tr th {\n",
       "        vertical-align: top;\n",
       "    }\n",
       "\n",
       "    .dataframe thead th {\n",
       "        text-align: right;\n",
       "    }\n",
       "</style>\n",
       "<table border=\"1\" class=\"dataframe\">\n",
       "  <thead>\n",
       "    <tr style=\"text-align: right;\">\n",
       "      <th></th>\n",
       "      <th>month</th>\n",
       "      <th>p1</th>\n",
       "      <th>p2</th>\n",
       "      <th>p3</th>\n",
       "      <th>p4</th>\n",
       "      <th>p5</th>\n",
       "      <th>p6</th>\n",
       "      <th>p7</th>\n",
       "      <th>p8</th>\n",
       "      <th>p9</th>\n",
       "      <th>p10</th>\n",
       "    </tr>\n",
       "  </thead>\n",
       "  <tbody>\n",
       "    <tr>\n",
       "      <th>0</th>\n",
       "      <td>2018-01-01</td>\n",
       "      <td>7</td>\n",
       "      <td>185</td>\n",
       "      <td>385</td>\n",
       "      <td>-129</td>\n",
       "      <td>2260</td>\n",
       "      <td>98</td>\n",
       "      <td>245</td>\n",
       "      <td>1250</td>\n",
       "      <td>214</td>\n",
       "      <td>415</td>\n",
       "    </tr>\n",
       "    <tr>\n",
       "      <th>1</th>\n",
       "      <td>2018-01-02</td>\n",
       "      <td>7</td>\n",
       "      <td>108</td>\n",
       "      <td>79</td>\n",
       "      <td>-142</td>\n",
       "      <td>3280</td>\n",
       "      <td>113</td>\n",
       "      <td>149</td>\n",
       "      <td>1161</td>\n",
       "      <td>123</td>\n",
       "      <td>376</td>\n",
       "    </tr>\n",
       "    <tr>\n",
       "      <th>2</th>\n",
       "      <td>2018-01-03</td>\n",
       "      <td>8</td>\n",
       "      <td>214</td>\n",
       "      <td>80</td>\n",
       "      <td>-151</td>\n",
       "      <td>410</td>\n",
       "      <td>141</td>\n",
       "      <td>297</td>\n",
       "      <td>1315</td>\n",
       "      <td>146</td>\n",
       "      <td>397</td>\n",
       "    </tr>\n",
       "    <tr>\n",
       "      <th>3</th>\n",
       "      <td>2018-01-04</td>\n",
       "      <td>8</td>\n",
       "      <td>81</td>\n",
       "      <td>372</td>\n",
       "      <td>-160</td>\n",
       "      <td>1289</td>\n",
       "      <td>46</td>\n",
       "      <td>447</td>\n",
       "      <td>1389</td>\n",
       "      <td>200</td>\n",
       "      <td>253</td>\n",
       "    </tr>\n",
       "    <tr>\n",
       "      <th>4</th>\n",
       "      <td>2018-01-05</td>\n",
       "      <td>9</td>\n",
       "      <td>113</td>\n",
       "      <td>144</td>\n",
       "      <td>-173</td>\n",
       "      <td>1297</td>\n",
       "      <td>67</td>\n",
       "      <td>413</td>\n",
       "      <td>938</td>\n",
       "      <td>129</td>\n",
       "      <td>489</td>\n",
       "    </tr>\n",
       "  </tbody>\n",
       "</table>\n",
       "</div>"
      ],
      "text/plain": [
       "        month  p1   p2   p3   p4    p5   p6   p7    p8   p9  p10\n",
       "0  2018-01-01   7  185  385 -129  2260   98  245  1250  214  415\n",
       "1  2018-01-02   7  108   79 -142  3280  113  149  1161  123  376\n",
       "2  2018-01-03   8  214   80 -151   410  141  297  1315  146  397\n",
       "3  2018-01-04   8   81  372 -160  1289   46  447  1389  200  253\n",
       "4  2018-01-05   9  113  144 -173  1297   67  413   938  129  489"
      ]
     },
     "execution_count": 3,
     "metadata": {},
     "output_type": "execute_result"
    }
   ],
   "source": [
    "features = pd.read_csv('./module09_files/correlation.tsv', sep='\\t')\n",
    "features.head()"
   ]
  },
  {
   "cell_type": "code",
   "execution_count": 11,
   "metadata": {},
   "outputs": [
    {
     "data": {
      "text/plain": [
       "<matplotlib.axes._subplots.AxesSubplot at 0x1a5cd599828>"
      ]
     },
     "execution_count": 11,
     "metadata": {},
     "output_type": "execute_result"
    },
    {
     "data": {
      "image/png": "[encoded data removed]",
      "text/plain": [
       "<Figure size 648x432 with 2 Axes>"
      ]
     },
     "metadata": {},
     "output_type": "display_data"
    }
   ],
   "source": [
    "f, ax = plt.subplots(figsize=(9, 6))\n",
    "sns.heatmap(features.corr())"
   ]
  },
  {
   "cell_type": "markdown",
   "metadata": {},
   "source": [
    "# ДОБАВЛЯЕМ ФОРМАТ HEATMAP\n",
    "Укажем детали нашей визуализации, чтобы она стала более наглядной:\n",
    "\n",
    "1. Добавим подписи данных с помощью параметра annot=True\n",
    "\n",
    "2. Уточним формат подписи fmt='.1f'\n",
    "\n",
    "3. Выберем другую цветовую палитру с помощью параметра cmap. Палитры можно выбрать здесь."
   ]
  },
  {
   "cell_type": "code",
   "execution_count": 13,
   "metadata": {},
   "outputs": [
    {
     "data": {
      "image/png": "[encoded data removed]",
      "text/plain": [
       "<Figure size 648x432 with 2 Axes>"
      ]
     },
     "metadata": {},
     "output_type": "display_data"
    }
   ],
   "source": [
    "f, ax = plt.subplots(figsize=(9, 6))\n",
    "\n",
    "sns.heatmap(features.corr(), \n",
    "            annot=True, \n",
    "            fmt='.1f', \n",
    "            ax=ax, \n",
    "            cmap=sns.color_palette('coolwarm', 16));"
   ]
  },
  {
   "cell_type": "code",
   "execution_count": 17,
   "metadata": {},
   "outputs": [],
   "source": [
    "plotly.tools.set_credentials_file(username='dreps350', api_key='tNwgoGNod3cD1L3xkD4h')"
   ]
  },
  {
   "cell_type": "code",
   "execution_count": 16,
   "metadata": {},
   "outputs": [
    {
     "data": {
      "text/html": [
       "<div>\n",
       "<style scoped>\n",
       "    .dataframe tbody tr th:only-of-type {\n",
       "        vertical-align: middle;\n",
       "    }\n",
       "\n",
       "    .dataframe tbody tr th {\n",
       "        vertical-align: top;\n",
       "    }\n",
       "\n",
       "    .dataframe thead th {\n",
       "        text-align: right;\n",
       "    }\n",
       "</style>\n",
       "<table border=\"1\" class=\"dataframe\">\n",
       "  <thead>\n",
       "    <tr style=\"text-align: right;\">\n",
       "      <th></th>\n",
       "      <th>month</th>\n",
       "      <th>2016</th>\n",
       "      <th>2017</th>\n",
       "      <th>2018</th>\n",
       "    </tr>\n",
       "  </thead>\n",
       "  <tbody>\n",
       "    <tr>\n",
       "      <th>0</th>\n",
       "      <td>1</td>\n",
       "      <td>513</td>\n",
       "      <td>465</td>\n",
       "      <td>500</td>\n",
       "    </tr>\n",
       "    <tr>\n",
       "      <th>1</th>\n",
       "      <td>2</td>\n",
       "      <td>534</td>\n",
       "      <td>481</td>\n",
       "      <td>523</td>\n",
       "    </tr>\n",
       "    <tr>\n",
       "      <th>2</th>\n",
       "      <td>3</td>\n",
       "      <td>608</td>\n",
       "      <td>553</td>\n",
       "      <td>580</td>\n",
       "    </tr>\n",
       "    <tr>\n",
       "      <th>3</th>\n",
       "      <td>4</td>\n",
       "      <td>620</td>\n",
       "      <td>561</td>\n",
       "      <td>593</td>\n",
       "    </tr>\n",
       "    <tr>\n",
       "      <th>4</th>\n",
       "      <td>5</td>\n",
       "      <td>577</td>\n",
       "      <td>563</td>\n",
       "      <td>600</td>\n",
       "    </tr>\n",
       "  </tbody>\n",
       "</table>\n",
       "</div>"
      ],
      "text/plain": [
       "   month  2016  2017  2018\n",
       "0      1   513   465   500\n",
       "1      2   534   481   523\n",
       "2      3   608   553   580\n",
       "3      4   620   561   593\n",
       "4      5   577   563   600"
      ]
     },
     "execution_count": 16,
     "metadata": {},
     "output_type": "execute_result"
    }
   ],
   "source": [
    "data = pd.read_csv('./module09_files/sales_data.csv', sep=';')\n",
    "\n",
    "data.head()"
   ]
  },
  {
   "cell_type": "code",
   "execution_count": 18,
   "metadata": {},
   "outputs": [
    {
     "name": "stdout",
     "output_type": "stream",
     "text": [
      "High five! You successfully sent some data to your account on plotly. View your plot in your browser at https://plot.ly/~dreps350/0 or inside your plot.ly account where it is named 'pandas_table'\n"
     ]
    },
    {
     "data": {
      "text/html": [
       "<iframe id=\"igraph\" scrolling=\"no\" style=\"border:none;\" seamless=\"seamless\" src=\"https://plot.ly/~dreps350/0.embed\" height=\"525px\" width=\"100%\"></iframe>"
      ],
      "text/plain": [
       "<plotly.tools.PlotlyDisplay object>"
      ]
     },
     "execution_count": 18,
     "metadata": {},
     "output_type": "execute_result"
    }
   ],
   "source": [
    "import plotly.plotly as py\n",
    "import plotly.graph_objs as go\n",
    "\n",
    "trace = go.Table(\n",
    "    header=dict(values=list(data.columns),\n",
    "                fill = dict(color='#C2D4FF'),\n",
    "                align = ['left', 'right', 'right', 'right']),\n",
    "    cells=dict(values=[data['month'], data['2016'], data['2017'], data['2018']],\n",
    "               fill = dict(color='#F5F8FF'),\n",
    "               align = ['left'] + ['right']*3))\n",
    "\n",
    "py.iplot([trace], filename = 'pandas_table')"
   ]
  },
  {
   "cell_type": "code",
   "execution_count": null,
   "metadata": {},
   "outputs": [],
   "source": []
  }
 ],
 "metadata": {
  "kernelspec": {
   "display_name": "Python 3",
   "language": "python",
   "name": "python3"
  },
  "language_info": {
   "codemirror_mode": {
    "name": "ipython",
    "version": 3
   },
   "file_extension": ".py",
   "mimetype": "text/x-python",
   "name": "python",
   "nbconvert_exporter": "python",
   "pygments_lexer": "ipython3",
   "version": "3.6.5"
  }
 },
 "nbformat": 4,
 "nbformat_minor": 2
}
