{
 "cells": [
  {
   "cell_type": "markdown",
   "metadata": {},
   "source": [
    "# СМОТРИМ СОДЕРЖИМОЕ АРХИВА\n",
    "В папке data содержится набор из 10 файлов. В текущем примере это знакомый нам ratings.csv, разбитый на 10 частей.\n",
    "\n",
    "В теории мы можем создать 10 датафреймов с 10 именами, загрузить в каждый по файлу и далее заняться их объединением. Но такой подход крайне непрактичен: что, если в следующий раз выгрузка будет состоять из 100 файлов? А может из сотен тысяч?\n",
    "\n",
    "Давайте автоматизируем этот процесс. Импортируем библиотеку os:"
   ]
  },
  {
   "cell_type": "code",
   "execution_count": 2,
   "metadata": {},
   "outputs": [],
   "source": [
    "import os"
   ]
  },
  {
   "cell_type": "markdown",
   "metadata": {},
   "source": [
    "Для получения списка файлов воспользуемся методом listdir. В качестве аргумента указываем папку 'data', результат работы метода запишем в переменную files:"
   ]
  },
  {
   "cell_type": "code",
   "execution_count": 5,
   "metadata": {},
   "outputs": [],
   "source": [
    "files = os.listdir('./module07_files/data')"
   ]
  },
  {
   "cell_type": "code",
   "execution_count": 6,
   "metadata": {},
   "outputs": [
    {
     "data": {
      "text/plain": [
       "['ratings_1.txt',\n",
       " 'ratings_10.txt',\n",
       " 'ratings_2.txt',\n",
       " 'ratings_3.txt',\n",
       " 'ratings_4.txt',\n",
       " 'ratings_5.txt',\n",
       " 'ratings_6.txt',\n",
       " 'ratings_7.txt',\n",
       " 'ratings_8.txt',\n",
       " 'ratings_9.txt']"
      ]
     },
     "execution_count": 6,
     "metadata": {},
     "output_type": "execute_result"
    }
   ],
   "source": [
    "files"
   ]
  },
  {
   "cell_type": "code",
   "execution_count": 23,
   "metadata": {},
   "outputs": [
    {
     "name": "stdout",
     "output_type": "stream",
     "text": [
      " Том в устройстве F не имеет метки.\n",
      " Серийный номер тома: 7AD8-F05F\n",
      "\n",
      " Содержимое папки F:\\My_projects\\Programming_courses\\jupyter\\Skill_factory\\module07\\module07_files\\data\n",
      "\n",
      "04.12.2018  13:42    <DIR>          .\n",
      "04.12.2018  13:42    <DIR>          ..\n",
      "04.12.2018  13:42           234 472 ratings_1.txt\n",
      "04.12.2018  13:42           246 642 ratings_10.txt\n",
      "04.12.2018  13:42           240 333 ratings_2.txt\n",
      "04.12.2018  13:42           246 483 ratings_3.txt\n",
      "04.12.2018  13:42           244 903 ratings_4.txt\n",
      "04.12.2018  13:42           244 788 ratings_5.txt\n",
      "04.12.2018  13:42           245 601 ratings_6.txt\n",
      "04.12.2018  13:42           247 384 ratings_7.txt\n",
      "04.12.2018  13:42           242 449 ratings_8.txt\n",
      "04.12.2018  13:42           245 178 ratings_9.txt\n",
      "              10 файлов      2 438 233 байт\n",
      "               2 папок  102 326 804 480 байт свободно\n"
     ]
    }
   ],
   "source": [
    "!dir module07_files\\data\\"
   ]
  },
  {
   "cell_type": "markdown",
   "metadata": {},
   "source": [
    "# Упражнение\n",
    "(1 возможный балл)\n",
    "В одной из выгрузок оказалось, что в папке data лежат и другие файлы:"
   ]
  },
  {
   "cell_type": "code",
   "execution_count": 24,
   "metadata": {},
   "outputs": [],
   "source": [
    "mixed_files = [\n",
    "'movies.csv',\n",
    "'notes.txt',\n",
    "'ratings.zip',\n",
    "'ratings_1.txt',\n",
    "'ratings_10.txt',\n",
    "'ratings_2.txt',\n",
    "'ratings_3.txt',\n",
    "'ratings_6.txt',\n",
    "'ratings_7.txt',\n",
    "'ratings_8.txt',\n",
    "'ratings_9.txt',\n",
    "'subfolder'\n",
    "]"
   ]
  },
  {
   "cell_type": "markdown",
   "metadata": {},
   "source": [
    "Напишите алгоритм, который оставляет в списке mixed_files только файлы, содержащие 'ratings_' и 'txt'.\n",
    "\n",
    "Сколько файлов, удовлетворяющих перечисленным условиям, содержится в списке mixed_files?"
   ]
  },
  {
   "cell_type": "code",
   "execution_count": 26,
   "metadata": {},
   "outputs": [
    {
     "data": {
      "text/plain": [
       "8"
      ]
     },
     "execution_count": 26,
     "metadata": {},
     "output_type": "execute_result"
    }
   ],
   "source": [
    "len([file for file in mixed_files if ('ratings_' in file) and ('txt' in file)])"
   ]
  },
  {
   "cell_type": "markdown",
   "metadata": {},
   "source": [
    "# ЧТЕНИЕ ВЛОЖЕННЫХ ПАПОК\n",
    "Иногда приходится учитывать наличие вложенных папок с нужными файлами. Допустим, в папке data окажется вложенная папка subfolder с еще тремя файлами:\n",
    "\n",
    "Для получения файлов в таких случаях нам пригодится метод os.walk. Для удобства используем следующий синтаксис:"
   ]
  },
  {
   "cell_type": "code",
   "execution_count": 27,
   "metadata": {},
   "outputs": [
    {
     "name": "stdout",
     "output_type": "stream",
     "text": [
      "Прохожу файлы папки ./module07_files/data\n",
      "Файлы в папке: ['ratings_1.txt', 'ratings_10.txt', 'ratings_2.txt', 'ratings_3.txt', 'ratings_4.txt', 'ratings_5.txt', 'ratings_6.txt', 'ratings_7.txt', 'ratings_8.txt', 'ratings_9.txt']\n",
      "Список внутренних папок: []\n",
      "\n"
     ]
    }
   ],
   "source": [
    "for root, dirs, files in os.walk('./module07_files/data'):\n",
    "    print('Прохожу файлы папки {}'.format(root))\n",
    "    print('Файлы в папке: {}'.format(files))\n",
    "    print('Список внутренних папок: {}\\n'.format(dirs))"
   ]
  },
  {
   "cell_type": "markdown",
   "metadata": {},
   "source": [
    "# Упражнение\n",
    "(1 возможный балл)\n",
    "В результат выгрузки файлов из вложенных папок были получены списки файлов:"
   ]
  },
  {
   "cell_type": "code",
   "execution_count": 28,
   "metadata": {},
   "outputs": [],
   "source": [
    "level_0 = ['ratings_1.txt', 'ratings_10.txt', 'ratings_2.txt']\n",
    "\n",
    "level_1 = ['ratings_1_subfolder.txt', 'ratings_2_subfolder.txt', 'ratings_3_subfolder.txt']\n",
    "\n",
    "level_2 = ['ratings_logs_001.txt', 'ratings_logs_002.txt', 'ratings_logs_003.txt']"
   ]
  },
  {
   "cell_type": "markdown",
   "metadata": {},
   "source": [
    "Напишите кода для подсчета суммарного количества файлов в этих списках.\n",
    "\n",
    "Сколько файлов будет в этих трех списках?"
   ]
  },
  {
   "cell_type": "code",
   "execution_count": 30,
   "metadata": {},
   "outputs": [
    {
     "data": {
      "text/plain": [
       "9"
      ]
     },
     "execution_count": 30,
     "metadata": {},
     "output_type": "execute_result"
    }
   ],
   "source": [
    "len(level_0+level_1+level_2)"
   ]
  },
  {
   "cell_type": "markdown",
   "metadata": {},
   "source": [
    "# ЧТЕНИЕ ФАЙЛОВ ИЗ ПАПКИ В ДАТАФРЕЙМ\n",
    "Обратите внимание, что мы ни разу не задавали имя файла, т. к. получали его автоматически. Это очень удобный прием, когда вам заранее неизвестны названия файлов с данными. В следующем шаге мы объединим все файлы из папки в один датафрейм. Давайте сначала запишем первый файл из папки в датафрейм.\n",
    "\n",
    "Поскольку мы получили только имена файлов, то нам теперь надо указывать методу pd.read_csv не только на имя файла, но и папку 'data', в которой лежит файл. Для того, чтобы объединять названия папок и имена файлов, можно воспользоваться удобным методом os.path.join (в нашем простом случае можно было объединить их через слэш, но в случае длинных адресов этот метод сэкономит вам много времени):"
   ]
  },
  {
   "cell_type": "code",
   "execution_count": 32,
   "metadata": {},
   "outputs": [
    {
     "name": "stdout",
     "output_type": "stream",
     "text": [
      "./module07_files/data/ratings_1.txt\n"
     ]
    }
   ],
   "source": [
    "print(os.path.join('./module07_files/data/', 'ratings_1.txt'))"
   ]
  },
  {
   "cell_type": "markdown",
   "metadata": {},
   "source": [
    "Проверим такой алгоритм на первом файле (обратите внимание, что мы ставим первый элемент листа с названиями файлов files[0]):"
   ]
  },
  {
   "cell_type": "code",
   "execution_count": 33,
   "metadata": {},
   "outputs": [],
   "source": [
    "import pandas as pd"
   ]
  },
  {
   "cell_type": "code",
   "execution_count": 35,
   "metadata": {},
   "outputs": [
    {
     "data": {
      "text/html": [
       "<div>\n",
       "<style scoped>\n",
       "    .dataframe tbody tr th:only-of-type {\n",
       "        vertical-align: middle;\n",
       "    }\n",
       "\n",
       "    .dataframe tbody tr th {\n",
       "        vertical-align: top;\n",
       "    }\n",
       "\n",
       "    .dataframe thead th {\n",
       "        text-align: right;\n",
       "    }\n",
       "</style>\n",
       "<table border=\"1\" class=\"dataframe\">\n",
       "  <thead>\n",
       "    <tr style=\"text-align: right;\">\n",
       "      <th></th>\n",
       "      <th>1</th>\n",
       "      <th>31</th>\n",
       "      <th>2.5</th>\n",
       "      <th>1260759144</th>\n",
       "    </tr>\n",
       "  </thead>\n",
       "  <tbody>\n",
       "    <tr>\n",
       "      <th>0</th>\n",
       "      <td>1</td>\n",
       "      <td>1029</td>\n",
       "      <td>3.0</td>\n",
       "      <td>1260759179</td>\n",
       "    </tr>\n",
       "    <tr>\n",
       "      <th>1</th>\n",
       "      <td>1</td>\n",
       "      <td>1061</td>\n",
       "      <td>3.0</td>\n",
       "      <td>1260759182</td>\n",
       "    </tr>\n",
       "    <tr>\n",
       "      <th>2</th>\n",
       "      <td>1</td>\n",
       "      <td>1129</td>\n",
       "      <td>2.0</td>\n",
       "      <td>1260759185</td>\n",
       "    </tr>\n",
       "    <tr>\n",
       "      <th>3</th>\n",
       "      <td>1</td>\n",
       "      <td>1172</td>\n",
       "      <td>4.0</td>\n",
       "      <td>1260759205</td>\n",
       "    </tr>\n",
       "    <tr>\n",
       "      <th>4</th>\n",
       "      <td>1</td>\n",
       "      <td>1263</td>\n",
       "      <td>2.0</td>\n",
       "      <td>1260759151</td>\n",
       "    </tr>\n",
       "  </tbody>\n",
       "</table>\n",
       "</div>"
      ],
      "text/plain": [
       "   1    31  2.5  1260759144\n",
       "0  1  1029  3.0  1260759179\n",
       "1  1  1061  3.0  1260759182\n",
       "2  1  1129  2.0  1260759185\n",
       "3  1  1172  4.0  1260759205\n",
       "4  1  1263  2.0  1260759151"
      ]
     },
     "execution_count": 35,
     "metadata": {},
     "output_type": "execute_result"
    }
   ],
   "source": [
    "files = os.listdir('./module07_files/data')\n",
    "\n",
    "data = pd.read_csv( os.path.join('./module07_files/data', files[0]) )\n",
    "\n",
    "data.head()"
   ]
  },
  {
   "cell_type": "markdown",
   "metadata": {},
   "source": [
    "# Упражнение\n",
    "(1 возможный балл)\n",
    "Сейчас в нашем датафрейме data нет названий столбцов, что неудобно.\n",
    "\n",
    "С помощью какого параметра метода read_csv их можно добавить, вручную указав имена?"
   ]
  },
  {
   "cell_type": "code",
   "execution_count": 40,
   "metadata": {},
   "outputs": [
    {
     "data": {
      "text/html": [
       "<div>\n",
       "<style scoped>\n",
       "    .dataframe tbody tr th:only-of-type {\n",
       "        vertical-align: middle;\n",
       "    }\n",
       "\n",
       "    .dataframe tbody tr th {\n",
       "        vertical-align: top;\n",
       "    }\n",
       "\n",
       "    .dataframe thead th {\n",
       "        text-align: right;\n",
       "    }\n",
       "</style>\n",
       "<table border=\"1\" class=\"dataframe\">\n",
       "  <thead>\n",
       "    <tr style=\"text-align: right;\">\n",
       "      <th></th>\n",
       "      <th>1</th>\n",
       "      <th>2</th>\n",
       "      <th>3</th>\n",
       "      <th>4</th>\n",
       "    </tr>\n",
       "  </thead>\n",
       "  <tbody>\n",
       "    <tr>\n",
       "      <th>0</th>\n",
       "      <td>1</td>\n",
       "      <td>31</td>\n",
       "      <td>2.5</td>\n",
       "      <td>1260759144</td>\n",
       "    </tr>\n",
       "    <tr>\n",
       "      <th>1</th>\n",
       "      <td>1</td>\n",
       "      <td>1029</td>\n",
       "      <td>3.0</td>\n",
       "      <td>1260759179</td>\n",
       "    </tr>\n",
       "    <tr>\n",
       "      <th>2</th>\n",
       "      <td>1</td>\n",
       "      <td>1061</td>\n",
       "      <td>3.0</td>\n",
       "      <td>1260759182</td>\n",
       "    </tr>\n",
       "    <tr>\n",
       "      <th>3</th>\n",
       "      <td>1</td>\n",
       "      <td>1129</td>\n",
       "      <td>2.0</td>\n",
       "      <td>1260759185</td>\n",
       "    </tr>\n",
       "    <tr>\n",
       "      <th>4</th>\n",
       "      <td>1</td>\n",
       "      <td>1172</td>\n",
       "      <td>4.0</td>\n",
       "      <td>1260759205</td>\n",
       "    </tr>\n",
       "  </tbody>\n",
       "</table>\n",
       "</div>"
      ],
      "text/plain": [
       "   1     2    3           4\n",
       "0  1    31  2.5  1260759144\n",
       "1  1  1029  3.0  1260759179\n",
       "2  1  1061  3.0  1260759182\n",
       "3  1  1129  2.0  1260759185\n",
       "4  1  1172  4.0  1260759205"
      ]
     },
     "execution_count": 40,
     "metadata": {},
     "output_type": "execute_result"
    }
   ],
   "source": [
    "data = pd.read_csv(os.path.join('./module07_files/data', files[0]), names=['1', '2', '3', '4'])\n",
    "\n",
    "data.head()"
   ]
  },
  {
   "cell_type": "markdown",
   "metadata": {},
   "source": [
    "# РАЗМЕР ФАЙЛОВ В ПАПКЕ\n",
    "С помощью библиотеки os можно автоматизировать огромное количество операций с файлами. Например, можно быстро оценить размер папки, из которой мы собираемся брать данные. В случае больших файлов это очень важно, т. к. при чтении файла в датафрейм (без опции построчного чтения) весь объем файла пишется в оперативную память компьютера. С помощью метода getsize можно получить размер файлов в байтах:"
   ]
  },
  {
   "cell_type": "code",
   "execution_count": 42,
   "metadata": {},
   "outputs": [
    {
     "name": "stdout",
     "output_type": "stream",
     "text": [
      "2438233\n"
     ]
    }
   ],
   "source": [
    "from os.path import join, getsize\n",
    "\n",
    "for root, dirs, files in os.walk('./module07_files/data'):\n",
    "\n",
    "    print(sum(getsize(join(root, name)) for name in files))"
   ]
  },
  {
   "cell_type": "markdown",
   "metadata": {},
   "source": [
    "# Упражнение\n",
    "(1 возможный балл)\n",
    "Если вы выделите все 10 файлов с рейтингами в файловом менеджере Explorer в Windows, то их размер в мегабайтах будет равен 2.32. А в нашем расчете получилось 2 438 233 байт. Какой вариант верный?"
   ]
  },
  {
   "cell_type": "code",
   "execution_count": null,
   "metadata": {},
   "outputs": [],
   "source": []
  }
 ],
 "metadata": {
  "kernelspec": {
   "display_name": "Python 3",
   "language": "python",
   "name": "python3"
  },
  "language_info": {
   "codemirror_mode": {
    "name": "ipython",
    "version": 3
   },
   "file_extension": ".py",
   "mimetype": "text/x-python",
   "name": "python",
   "nbconvert_exporter": "python",
   "pygments_lexer": "ipython3",
   "version": "3.6.5"
  }
 },
 "nbformat": 4,
 "nbformat_minor": 2
}
