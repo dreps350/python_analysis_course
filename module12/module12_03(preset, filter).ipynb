{
 "cells": [
  {
   "cell_type": "markdown",
   "metadata": {},
   "source": [
    "# Данные для отчетов и цели занятия\n",
    "Данные счетчиков сайтов по умолчанию закрыты. Крайне редко кто-то делает их общедоступными. Для целей нашего курса используются данные моего сайта, посвященного спортивной тематике. Чтобы в материалах и упражнениях мы получали одинаковые ответы. Те же самые функции и приемы будут работать на данных Яндекс.Метрики ваших рабочих и личных сайтов.\n",
    "\n",
    "Мы научимся выгружать отчеты из Яндекс.Метрики на примере нескольких различных отчетов. Это позволит вам при работе со своими сайтами оперативно создавать отчеты нужных конфигураций, отвечающие задачам бизнеса. Сейчас мы будем использовать различные комбинации измерений и метрик, чтобы понять принципы работы с API.\n",
    "\n",
    "# Как устроен запрос отчета\n",
    "Итак, давайте посмотрим как получать отчеты Яндекс.Метрики по API. В этом блоке мы изучим как запрашивать и обрабатывать основные типы отчетов: по основным метрикам, работа с шаблонами отчетов и применение фильтров.\n",
    "\n",
    "Для получения отчета Метрики необходимо указать нужные параметры в запросе. Перечислим основные из них:\n",
    "\n",
    "URL запроса https://api-metrika.yandex.ru/stat/v1/data\n",
    "date1 и date2 - начальная и конечная дата выгрузки\n",
    "id - номер счетчика, данные которого мы запрашиваем\n",
    "metrics - список метрик отчета (что будет в столбцах отчета)\n",
    "dimensions - список измерений отчета (что будет в строках)\n",
    "oauth_token - авторизационный токен (в текущем модуле мы используем счетчик с открытой статистикой, поэтому ваши запросы будут работать и без токена)\n",
    "Номер счетчика используемого для тренировки сайта 21075004.\n",
    "\n",
    "Получим статистику по основным метрикам проекта за неделю 12-18 февраля 2018. Т. е. получим данные как в отчете Посещаемость веб-интерфейса Метрики:"
   ]
  },
  {
   "cell_type": "code",
   "execution_count": 1,
   "metadata": {},
   "outputs": [],
   "source": [
    "import requests\n",
    "from yaml import load\n",
    "from pprint import pprint"
   ]
  },
  {
   "cell_type": "code",
   "execution_count": 2,
   "metadata": {},
   "outputs": [],
   "source": [
    "with open('./module12_files/yandex_config.yaml', 'r') as f:\n",
    "    token = load(f)['access_token']"
   ]
  },
  {
   "cell_type": "markdown",
   "metadata": {},
   "source": [
    "В качестве строк (измерений) отчета берем дату визита, метрик - визиты (ym:s:visits), посетители (ym:s:users), просмотры (ym:s:pageviews) и доля новых пользователей (ym:s:percentNewVisitors):"
   ]
  },
  {
   "cell_type": "code",
   "execution_count": 3,
   "metadata": {},
   "outputs": [],
   "source": [
    "api_url = 'https://api-metrika.yandex.ru/stat/v1/data'\n",
    "# Задаем даты выгрузки и номер счетчика:\n",
    "startDate = '2018-02-12'\n",
    "endDate = '2018-02-18'\n",
    "counter = '21075004'\n",
    "\n",
    "dimensions = ['ym:s:date']\n",
    "metrics = ['ym:s:visits', \n",
    "           'ym:s:users', \n",
    "           'ym:s:pageviews', \n",
    "           'ym:s:percentNewVisitors']"
   ]
  },
  {
   "cell_type": "markdown",
   "metadata": {},
   "source": [
    "Измерения и метрики для запроса к API нужно передавать как строку. Преобразуем наш лист метрик и измерений в строку:"
   ]
  },
  {
   "cell_type": "code",
   "execution_count": 4,
   "metadata": {},
   "outputs": [
    {
     "name": "stdout",
     "output_type": "stream",
     "text": [
      "ym:s:visits,ym:s:users,ym:s:pageviews,ym:s:percentNewVisitors\n",
      "ym:s:date\n"
     ]
    }
   ],
   "source": [
    "metrics_string = ','.join(metrics)\n",
    "dimensions_string = ','.join(dimensions) #для одного измерения не имеет смысла =)\n",
    "print(metrics_string, dimensions_string, sep='\\n')"
   ]
  },
  {
   "cell_type": "markdown",
   "metadata": {},
   "source": [
    "Остается свести все переменные в параметры запроса:"
   ]
  },
  {
   "cell_type": "code",
   "execution_count": 5,
   "metadata": {},
   "outputs": [],
   "source": [
    "params = {\n",
    "    'date1': startDate,\n",
    "    'date2': endDate,\n",
    "    'id': counter, #счетчик\n",
    "    'dimensions': dimensions_string,\n",
    "    'metrics': metrics_string,\n",
    "    'oauth_token': token\n",
    "}"
   ]
  },
  {
   "cell_type": "markdown",
   "metadata": {},
   "source": [
    "# Отправляем запрос к API\n",
    "Теперь мы посмотрим, как отправлять запрос к API и обрабатывать ответы.\n",
    "\n",
    "Отправляем запрос и смотрим ответ:"
   ]
  },
  {
   "cell_type": "code",
   "execution_count": 6,
   "metadata": {},
   "outputs": [],
   "source": [
    "r = requests.get(url=api_url, params=params)\n",
    "data = r.json()"
   ]
  },
  {
   "cell_type": "code",
   "execution_count": 7,
   "metadata": {},
   "outputs": [
    {
     "name": "stdout",
     "output_type": "stream",
     "text": [
      "{'data': [{'dimensions': [{'name': '2018-02-17'}],\n",
      "           'metrics': [480.0, 375.0, 921.0, 72.8]},\n",
      "          {'dimensions': [{'name': '2018-02-16'}],\n",
      "           'metrics': [403.0, 358.0, 668.0, 73.46368715]},\n",
      "          {'dimensions': [{'name': '2018-02-18'}],\n",
      "           'metrics': [329.0, 263.0, 696.0, 64.25855513]},\n",
      "          {'dimensions': [{'name': '2018-02-13'}],\n",
      "           'metrics': [320.0, 297.0, 471.0, 80.80808081]},\n",
      "          {'dimensions': [{'name': '2018-02-12'}],\n",
      "           'metrics': [310.0, 271.0, 487.0, 78.59778598]},\n",
      "          {'dimensions': [{'name': '2018-02-14'}],\n",
      "           'metrics': [308.0, 281.0, 508.0, 79.71530249]},\n",
      "          {'dimensions': [{'name': '2018-02-15'}],\n",
      "           'metrics': [308.0, 278.0, 482.0, 75.53956835]}],\n",
      " 'data_lag': 110,\n",
      " 'max': [480.0, 375.0, 921.0, 80.80808081],\n",
      " 'min': [308.0, 263.0, 471.0, 64.25855513],\n",
      " 'query': {'attribution': 'Last',\n",
      "           'auto_group_size': '1',\n",
      "           'currency': 'RUB',\n",
      "           'date1': '2018-02-12',\n",
      "           'date2': '2018-02-18',\n",
      "           'dimensions': ['ym:s:date'],\n",
      "           'group': 'Week',\n",
      "           'ids': [21075004],\n",
      "           'limit': 100,\n",
      "           'metrics': ['ym:s:visits',\n",
      "                       'ym:s:users',\n",
      "                       'ym:s:pageviews',\n",
      "                       'ym:s:percentNewVisitors'],\n",
      "           'offline_window': '21',\n",
      "           'offset': 1,\n",
      "           'quantile': '50',\n",
      "           'sort': ['-ym:s:visits']},\n",
      " 'sample_share': 1.0,\n",
      " 'sample_size': 2458,\n",
      " 'sample_space': 2458,\n",
      " 'sampled': False,\n",
      " 'total_rows': 7,\n",
      " 'total_rows_rounded': False,\n",
      " 'totals': [2458.0, 1853.0, 4233.0, 85.91473287]}\n"
     ]
    }
   ],
   "source": [
    "pprint(data)"
   ]
  },
  {
   "cell_type": "markdown",
   "metadata": {},
   "source": [
    "В ответе Метрики есть много вспомогательной информации для отчета. Сейчас нас интересует таблица по ключу 'data'. Пройдемся по всем этапам получения дат и метрик в этом ответе. Таким образом можно постепенно понять структуру любого JSON-ответа:"
   ]
  },
  {
   "cell_type": "code",
   "execution_count": 8,
   "metadata": {},
   "outputs": [
    {
     "name": "stdout",
     "output_type": "stream",
     "text": [
      "[{'dimensions': [{'name': '2018-02-17'}],\n",
      "  'metrics': [480.0, 375.0, 921.0, 72.8]},\n",
      " {'dimensions': [{'name': '2018-02-16'}],\n",
      "  'metrics': [403.0, 358.0, 668.0, 73.46368715]},\n",
      " {'dimensions': [{'name': '2018-02-18'}],\n",
      "  'metrics': [329.0, 263.0, 696.0, 64.25855513]},\n",
      " {'dimensions': [{'name': '2018-02-13'}],\n",
      "  'metrics': [320.0, 297.0, 471.0, 80.80808081]},\n",
      " {'dimensions': [{'name': '2018-02-12'}],\n",
      "  'metrics': [310.0, 271.0, 487.0, 78.59778598]},\n",
      " {'dimensions': [{'name': '2018-02-14'}],\n",
      "  'metrics': [308.0, 281.0, 508.0, 79.71530249]},\n",
      " {'dimensions': [{'name': '2018-02-15'}],\n",
      "  'metrics': [308.0, 278.0, 482.0, 75.53956835]}]\n"
     ]
    }
   ],
   "source": [
    "pprint(data['data'])"
   ]
  },
  {
   "cell_type": "markdown",
   "metadata": {},
   "source": [
    "Теперь уже видно, что дата лежит во вложенном словаре, а значения метрик заключены в листе под ключом 'metrics' (порядок метрик такой же как мы указывали в переменной metrics_string). Выведем значения метрик:"
   ]
  },
  {
   "cell_type": "code",
   "execution_count": 9,
   "metadata": {},
   "outputs": [
    {
     "name": "stdout",
     "output_type": "stream",
     "text": [
      "2018-02-17 480.0 375.0 921.0 72.8\n",
      "2018-02-16 403.0 358.0 668.0 73.46368715\n",
      "2018-02-18 329.0 263.0 696.0 64.25855513\n",
      "2018-02-13 320.0 297.0 471.0 80.80808081\n",
      "2018-02-12 310.0 271.0 487.0 78.59778598\n",
      "2018-02-14 308.0 281.0 508.0 79.71530249\n",
      "2018-02-15 308.0 278.0 482.0 75.53956835\n"
     ]
    }
   ],
   "source": [
    "for line in data['data']:\n",
    "    visit_date = line['dimensions'][0]['name']\n",
    "#     visits, users, pageviews, percent_new_visitors = line['metrics']\n",
    "#     print(visit_date, visits, users, pageviews, percent_new_visitors)\n",
    "    print(visit_date, *line['metrics'])"
   ]
  },
  {
   "cell_type": "markdown",
   "metadata": {},
   "source": [
    "# Упражнение\n",
    "(1 балл из 1)\n",
    "Посчитайте среднее значение доли новых посетителей в этом ответе по дням. Т. е. посчитайте отношение суммы новых пользователей за каждый день к сумме всех пользователей за каждый день. Ответ округлите до второго знака после запятой. Формат ответа: 0.79"
   ]
  },
  {
   "cell_type": "code",
   "execution_count": 10,
   "metadata": {},
   "outputs": [
    {
     "name": "stdout",
     "output_type": "stream",
     "text": [
      "Mean new users percentage 0.74988\n",
      "Mean new users percentage 0.75026\n"
     ]
    }
   ],
   "source": [
    "sum_new_users = 0\n",
    "sum_all_users = 0\n",
    "sum_perc = 0\n",
    "\n",
    "for line in data['data']:\n",
    "    visit_date = line['dimensions'][0]['name']\n",
    "    visits, users, pageviews, percent_new_visitors = line['metrics']\n",
    "    sum_new_users += users * percent_new_visitors\n",
    "    sum_all_users += users\n",
    "    sum_perc += percent_new_visitors\n",
    "print('Mean new users percentage {:.5f}'.format(sum_new_users / sum_all_users * 0.01))\n",
    "print('Mean new users percentage {:.5f}'.format(sum_perc / len(data['data']) * 0.01))\n",
    "\n",
    "#Первое и второе предложение условия не совсем согласованы, \n",
    "# цифры получаются разные, хотя при округлении - результат 0,75"
   ]
  },
  {
   "cell_type": "markdown",
   "metadata": {},
   "source": [
    "# Подсчет уникальных пользователей\n",
    "Доля новых пользователей в веб-интерфейсе за всю неделю оказалась заметно выше (значение 85.9% в строке \"Итого и средние\"), чем за каждый день в отдельности (за 18.02 - 64,3%, за 17.02 - 72,8% итд). Какой результат верен - итоговый или по дням? Ведь не может среднее за неделю быть больше, чем значение за каждый день в отдельности. Выберите вариант ответа внизу страницы.\n",
    "\n",
    "<img src='./module12_files/m8_b4_new_share.JPG'>"
   ]
  },
  {
   "cell_type": "markdown",
   "metadata": {},
   "source": [
    " Оба результата верны, т. к. сумма посетителей за 7 дней не равна недельной аудитории. А для новых посетителей сумма за 7 дней равна недельной сумме "
   ]
  },
  {
   "cell_type": "markdown",
   "metadata": {},
   "source": [
    "# Шаблоны отчетов\n",
    "В API Яндекс.Метрики предусмотрен вариант получения преднастроенных отчетов с помощью шаблонов. Это может существенно сократить время написания запроса, т. к. не требует перечисления названий всех необходимых нам метрик. \n",
    "\n",
    "Например, отчет по основным метрикам можно получить, используя параметр preset.\n",
    "\n",
    "Подробное описание отчета: https://tech.yandex.ru/metrika/doc/api2/api_v1/presets/preset_traffic-docpage/\n",
    "\n",
    "Там же приведены примеры других вариантов шаблонов. В этом шаге будем использовать шаблон 'traffic'.\n",
    "\n",
    "Настройки запроса остаются с прошлого шага:"
   ]
  },
  {
   "cell_type": "markdown",
   "metadata": {},
   "source": [
    "# Упражнение\n",
    "(1 возможный балл)\n",
    "Сколько различных метрик мы получили в этом отчете?"
   ]
  },
  {
   "cell_type": "code",
   "execution_count": 11,
   "metadata": {},
   "outputs": [],
   "source": [
    "preset = 'traffic'\n",
    "params = {\n",
    "    'date1': startDate,\n",
    "    'date2': endDate,\n",
    "    'id': counter, #счетчик\n",
    "    'preset': preset,\n",
    "    'oauth_token': token\n",
    "}\n",
    "data = requests.get(url=api_url, params=params).json()"
   ]
  },
  {
   "cell_type": "code",
   "execution_count": 12,
   "metadata": {},
   "outputs": [
    {
     "data": {
      "text/plain": [
       "7"
      ]
     },
     "execution_count": 12,
     "metadata": {},
     "output_type": "execute_result"
    }
   ],
   "source": [
    "len(data['data'][0]['metrics'])"
   ]
  },
  {
   "cell_type": "markdown",
   "metadata": {},
   "source": [
    "# Фильтры в отчетах\n",
    "На данные отчета можно накладывать условия. Это очень удобно, когда вам необходимо выгрузить набор отчетов с определенным параметром, например узнать метрики по дням только для России. Не всегда эту задачу могут решить готовые шаблоны. \n",
    "\n",
    "**Сложное решение** . Можно сделать новую конфигурацию отчета, добавив в список измерений разбивку на страны. И уже после выгрузки данных мы можем отфильтровать таблицу по названию страны.\n",
    "\n",
    "Очевидно, это не всегда удобно, т. к. вся таблица может не поместиться в один запрос (о том как выгружать многостраничные отчеты мы поговорим в следующих блоках).\n",
    "\n",
    "**Простое решение**. Можно просто наложить к отчету из прошлого шага фильтр на страну.\n",
    "\n",
    "Пример фильтра посещений из России:"
   ]
  },
  {
   "cell_type": "code",
   "execution_count": 13,
   "metadata": {},
   "outputs": [],
   "source": [
    "filters = \"ym:s:regionCountryName=='Россия'\"\n",
    "params = {\n",
    "    'date1': startDate,\n",
    "    'date2': endDate,\n",
    "    'id': counter,\n",
    "    'preset': preset,\n",
    "    'oauth_token': token,\n",
    "    'filters': filters\n",
    "}\n",
    "data_rus = requests.get(url=api_url, params=params).json()"
   ]
  },
  {
   "cell_type": "code",
   "execution_count": 14,
   "metadata": {},
   "outputs": [],
   "source": [
    "# data_rus"
   ]
  },
  {
   "cell_type": "code",
   "execution_count": 15,
   "metadata": {},
   "outputs": [
    {
     "name": "stdout",
     "output_type": "stream",
     "text": [
      "['ym:s:visits',\n",
      " 'ym:s:users',\n",
      " 'ym:s:pageviews',\n",
      " 'ym:s:percentNewVisitors',\n",
      " 'ym:s:bounceRate',\n",
      " 'ym:s:pageDepth',\n",
      " 'ym:s:avgVisitDurationSeconds']\n",
      "[2458.0, 1853.0, 4233.0, 85.91473287, 14.15785191, 1.72213181, 129.22375915]\n",
      "[2282.0, 1695.0, 3994.0, 84.95575221, 14.24189308, 1.75021911, 133.27388256]\n"
     ]
    }
   ],
   "source": [
    "pprint(data['query']['metrics'])\n",
    "pprint(data['data'][0]['metrics'])\n",
    "pprint(data_rus['data'][0]['metrics'])"
   ]
  },
  {
   "cell_type": "code",
   "execution_count": 16,
   "metadata": {},
   "outputs": [],
   "source": [
    "metric_names = list(map(lambda s: s.strip('ym:s:'), data['query']['metrics']))\n",
    "metric_raw = data['data'][0]['metrics']\n",
    "metric_rus = data_rus['data'][0]['metrics']\n",
    "metrics_dict = {}\n",
    "\n",
    "for n, mraw, mrus in zip(metric_names, metric_raw, metric_rus):\n",
    "#     print(n, mraw, mrus)\n",
    "    metrics_dict[n] = {'metrics_raw': mraw, 'metrics_rus': mrus}"
   ]
  },
  {
   "cell_type": "code",
   "execution_count": 17,
   "metadata": {},
   "outputs": [
    {
     "data": {
      "text/plain": [
       "0.9283970707892596"
      ]
     },
     "execution_count": 17,
     "metadata": {},
     "output_type": "execute_result"
    }
   ],
   "source": [
    "metrics_dict['visit']['metrics_rus'] / metrics_dict['visit']['metrics_raw']"
   ]
  }
 ],
 "metadata": {
  "kernelspec": {
   "display_name": "Python 3",
   "language": "python",
   "name": "python3"
  },
  "language_info": {
   "codemirror_mode": {
    "name": "ipython",
    "version": 3
   },
   "file_extension": ".py",
   "mimetype": "text/x-python",
   "name": "python",
   "nbconvert_exporter": "python",
   "pygments_lexer": "ipython3",
   "version": "3.6.5"
  }
 },
 "nbformat": 4,
 "nbformat_minor": 2
}
