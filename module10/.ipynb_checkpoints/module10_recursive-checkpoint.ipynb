{
 "cells": [
  {
   "cell_type": "code",
   "execution_count": 1,
   "metadata": {},
   "outputs": [],
   "source": [
    "line = ['2016-10-01', 'burgerclub', 'cpa-partners', 1]"
   ]
  },
  {
   "cell_type": "code",
   "execution_count": 2,
   "metadata": {},
   "outputs": [],
   "source": [
    "def fillLevels(lineRemainder):\n",
    "    \"\"\"\n",
    "    На вход функция принимает часть листа line. \n",
    "    Берет его первый элемент lineRemainder[0] и вызывает себя с остатком листа line. Т. е. с элементами lineRemainder[1:].\n",
    "    Так продолжаем до тех пор, пока в lineRemainder не останется один элемент\n",
    "    \n",
    "    Пример\n",
    "    fillLevels( ['2016-10-01', 'burgerclub', 'cpa-partners', 1] )  \n",
    "    {'2016-10-01': {'burgerclub': {'cpa-partners': 1}}}\n",
    "    \"\"\"\n",
    "    \n",
    "    # словарь, который будем пошагово заполнять\n",
    "\n",
    "    dict2fill = {}\n",
    "\n",
    "    if len( lineRemainder ) > 1:\n",
    "        dict2fill[ lineRemainder[0] ] = fillLevels( lineRemainder[1:] )\n",
    "    else:\n",
    "        return lineRemainder[0]\n",
    "\n",
    "    return dict2fill"
   ]
  },
  {
   "cell_type": "code",
   "execution_count": 4,
   "metadata": {},
   "outputs": [
    {
     "data": {
      "text/plain": [
       "{0: {1: {2: {3: {4: {5: {6: {7: {8: {9: {10: {11: {12: {13: {14: {15: {16: {17: {18: {19: {20: {21: {22: {23: {24: {25: {26: {27: {28: {29: {30: {31: {32: {33: {34: {35: {36: {37: {38: {39: {40: {41: {42: {43: {44: {45: {46: {47: {48: {49: {50: {51: {52: {53: {54: {55: {56: {57: {58: {59: {60: {61: {62: {63: {64: {65: {66: {67: {68: {69: {70: {71: {72: {73: {74: {75: {76: {77: {78: {79: {80: {81: {82: {83: {84: {85: {86: {87: {88: {89: {90: {91: {92: {93: {94: {95: {96: {97: {98: 99}}}}}}}}}}}}}}}}}}}}}}}}}}}}}}}}}}}}}}}}}}}}}}}}}}}}}}}}}}}}}}}}}}}}}}}}}}}}}}}}}}}}}}}}}}}}}}}}}}}"
      ]
     },
     "execution_count": 4,
     "metadata": {},
     "output_type": "execute_result"
    }
   ],
   "source": [
    "fillLevels(range(100))"
   ]
  },
  {
   "cell_type": "markdown",
   "metadata": {},
   "source": [
    "# Построение алгоритма поиска по нескольким столбцам\n",
    "Теперь, используя перевод листа в словарь через функцию fillLevels, мы можем дополнять получившийся словарь другими строками. Т. е. мы хотим из списка листов"
   ]
  },
  {
   "cell_type": "code",
   "execution_count": 5,
   "metadata": {},
   "outputs": [],
   "source": [
    "data = [\n",
    "\n",
    "    ['2016-10-01', 'google', 'sem', 5],\n",
    "\n",
    "    ['2016-10-01', 'google', 'seo', 1],\n",
    "\n",
    "    ['2016-10-01', 'newsletter', 'email', 1]\n",
    "\n",
    "]"
   ]
  },
  {
   "cell_type": "markdown",
   "metadata": {},
   "source": [
    "получить словарь\n",
    "```python\n",
    "data_dict = \n",
    "\n",
    "    { '2016-10-01': \n",
    "\n",
    "        { 'google': \n",
    "\n",
    "            { 'sem': 5, \n",
    "\n",
    "              'seo': 1 },      \n",
    "\n",
    "          'newsletter': \n",
    "\n",
    "            { 'email': 1 }\n",
    "\n",
    "        }\n",
    "\n",
    "    }\n",
    "```"
   ]
  },
  {
   "cell_type": "markdown",
   "metadata": {},
   "source": [
    "# Функция перевода таблицы в словарь\n",
    "Здесь нам на помощь опять придет рекурсия:\n",
    "\n",
    "1. На первом шаге словарь data_dict пуст. Поэтому с помощью функции fillLevels просто записываем в него первую строку ['2016-10-01', 'google', 'sem', 5] в виде словаря.\n",
    "\n",
    "2. При обработке второй строки line = ['2016-10-01', 'google', 'seo', 1] нужно проверить нет ли в словаре data_dict уже существующих ключей. Такую проверку можно сделать рекурсивно, последовательно сравнивая ключи словаря data_dict и элементы листа line. Как только мы найдем несовпадение, то дополним словарь data_dict остатком листа line с помощью функции fillLevels"
   ]
  },
  {
   "cell_type": "code",
   "execution_count": 6,
   "metadata": {},
   "outputs": [],
   "source": [
    "def checkLevels( levelDict, level, line ):\n",
    "\n",
    "    if line[level] in levelDict:\n",
    "        checkLevels(levelDict[line[level]], level+1, line)\n",
    "        return levelDict\n",
    "    else:\n",
    "        levelDict[line[level]] =  fillLevels(line[level+1:])\n",
    "        return levelDict"
   ]
  },
  {
   "cell_type": "code",
   "execution_count": 7,
   "metadata": {},
   "outputs": [
    {
     "name": "stdout",
     "output_type": "stream",
     "text": [
      "{'2016-10-01': {'google': {'sem': 5, 'seo': 1}, 'newsletter': {'email': 1}}}\n"
     ]
    },
    {
     "data": {
      "text/plain": [
       "{'2016-10-01': {'google': {'sem': 5, 'seo': 1}, 'newsletter': {'email': 1}}}"
      ]
     },
     "execution_count": 7,
     "metadata": {},
     "output_type": "execute_result"
    }
   ],
   "source": [
    "data_dict = {}\n",
    "\n",
    "for line in data:\n",
    "\n",
    "    data_dict = checkLevels(data_dict, 0, line)\n",
    "\n",
    "print(data_dict)"
   ]
  },
  {
   "cell_type": "code",
   "execution_count": 14,
   "metadata": {},
   "outputs": [],
   "source": [
    "data = [\n",
    "\n",
    "['2018-01-01', 'google', 'cpc', 'ДФО', 'кампания_1', 'Хабаровск', 114],\n",
    "\n",
    "['2018-01-01', 'google', 'cpc', 'ДФО', 'кампания_2', 'Владивосток', 536],\n",
    "\n",
    "['2018-01-01', 'google', 'cpc', 'ДФО', 'кампания_1', 'Магадан', 436]\n",
    "\n",
    "]"
   ]
  },
  {
   "cell_type": "code",
   "execution_count": 15,
   "metadata": {},
   "outputs": [
    {
     "name": "stdout",
     "output_type": "stream",
     "text": [
      "{'2018-01-01': {'google': {'cpc': {'ДФО': {'кампания_1': {'Хабаровск': 114, 'Магадан': 436}, 'кампания_2': {'Владивосток': 536}}}}}}\n"
     ]
    }
   ],
   "source": [
    "data_dict = {}\n",
    "\n",
    "for line in data:\n",
    "\n",
    "    data_dict = checkLevels(data_dict, 0, line)\n",
    "\n",
    "print(data_dict)"
   ]
  },
  {
   "cell_type": "markdown",
   "metadata": {},
   "source": [
    "# Поиск покупок в таблице\n",
    "Словарь готов, а это значит основная часть задачи выполнена. Осталось написать функцию поиска количества покупок по трем значениям: даты покупки, источника и канала.\n",
    "\n",
    "Реализуем следующий алгорим: будем последовательно проверять наличие ключа с данной датой, источником или каналом в словаре data_dict. Если хотя бы одного ключа не окажется, то можем сразу возвращать 0 покупок. Это существенно ускорит наш поиск в случае больших таблиц."
   ]
  },
  {
   "cell_type": "code",
   "execution_count": 11,
   "metadata": {},
   "outputs": [],
   "source": [
    "def findLineValue(finalDict, line):\n",
    "\n",
    "    if len( line ) > 1:\n",
    "        if line[ 0 ] in finalDict:\n",
    "            return findLineValue( finalDict[ line[ 0 ] ], line[1:] )\n",
    "        else:\n",
    "            return 0\n",
    "\n",
    "    else:\n",
    "        if line[0] in finalDict:\n",
    "            return finalDict[ line[0] ]\n",
    "        else:\n",
    "            return 0"
   ]
  },
  {
   "cell_type": "code",
   "execution_count": 12,
   "metadata": {},
   "outputs": [
    {
     "data": {
      "text/plain": [
       "0"
      ]
     },
     "execution_count": 12,
     "metadata": {},
     "output_type": "execute_result"
    }
   ],
   "source": [
    "findLineValue( data_dict, ['2016-10-01', 'google', 'sem'] )"
   ]
  },
  {
   "cell_type": "code",
   "execution_count": 16,
   "metadata": {},
   "outputs": [
    {
     "data": {
      "text/plain": [
       "0"
      ]
     },
     "execution_count": 16,
     "metadata": {},
     "output_type": "execute_result"
    }
   ],
   "source": [
    "findLineValue( data_dict, ['2018-01-01', 'google', 'sem'] )"
   ]
  },
  {
   "cell_type": "code",
   "execution_count": 28,
   "metadata": {},
   "outputs": [
    {
     "data": {
      "text/plain": [
       "0.02"
      ]
     },
     "execution_count": 28,
     "metadata": {},
     "output_type": "execute_result"
    }
   ],
   "source": [
    "q = ['2018-01-01', 'google', 'cpc', 'ДФО', 'кампания_2', 'Владивосток']\n",
    "findLineValue(data_dict, q) / 26800"
   ]
  },
  {
   "cell_type": "code",
   "execution_count": 27,
   "metadata": {},
   "outputs": [
    {
     "data": {
      "text/plain": [
       "{'cpc': {'ДФО': {'кампания_1': {'Хабаровск': 114, 'Магадан': 436},\n",
       "   'кампания_2': {'Владивосток': 536}}}}"
      ]
     },
     "execution_count": 27,
     "metadata": {},
     "output_type": "execute_result"
    }
   ],
   "source": [
    "findLineValue(data_dict, q[:-3])"
   ]
  },
  {
   "cell_type": "code",
   "execution_count": null,
   "metadata": {},
   "outputs": [],
   "source": []
  }
 ],
 "metadata": {
  "kernelspec": {
   "display_name": "Python 3",
   "language": "python",
   "name": "python3"
  },
  "language_info": {
   "codemirror_mode": {
    "name": "ipython",
    "version": 3
   },
   "file_extension": ".py",
   "mimetype": "text/x-python",
   "name": "python",
   "nbconvert_exporter": "python",
   "pygments_lexer": "ipython3",
   "version": "3.6.5"
  }
 },
 "nbformat": 4,
 "nbformat_minor": 2
}
