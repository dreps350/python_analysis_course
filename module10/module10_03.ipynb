{
 "cells": [
  {
   "cell_type": "markdown",
   "metadata": {},
   "source": [
    "# Построение вложенного словаря\n",
    "В этом блоке нам понадобятся данные о визитах и покупках, сгруппированные по источнику и каналу.\n",
    "\n",
    "Данные по визитам (visits_by_source_and_medium.txt)\n",
    "\n",
    "Данные по покупкам (orders_by_source_and_medium.txt)\n",
    "\n",
    "Поиск по одному столбцу - ситуация не самая часто встречающаяся. Обычно столбцов гораздо больше. Да и файлы, с которыми приходится работать на практике гораздо сложнее. Как \"масштабировать\" наше решение, чтобы оно могло учитывать любое количество столбцов и при этом не теряло в скорости?\n",
    "\n",
    "Для удобства представим более реальную таблицу с покупками. Например, на 4 миллиона строк и 500 Мб на диске. Если необходимо найти в этой таблице нужную комбинацию source и medium, то надо учитывать, что эта пара может встретиться в любой из 4 миллионов строк. Также может быть ситуация, что для этой комбинации source и medium не было ни одной покупки.\n",
    "\n",
    "Для ускорения нашего поиска давайте заменим таблицу из столбцов source, medium и количества покупок вложенным словарем. Пример такого преобразования:\n",
    "\n",
    "Соответствующий словарь"
   ]
  },
  {
   "cell_type": "code",
   "execution_count": 2,
   "metadata": {},
   "outputs": [],
   "source": [
    "orders_dict = {\n",
    "    'google': {\n",
    "        'sem': 56,\n",
    "        'seo': 15\n",
    "    },\n",
    "  \n",
    "    'newsletter': {\n",
    "        'email': 5\n",
    "    }\n",
    "}"
   ]
  },
  {
   "cell_type": "markdown",
   "metadata": {},
   "source": [
    "Т. е. первичными ключами словаря будут все значения переменной source. Для каждого ключа словаря в качестве значений создаем еще один словарь. Ключами которого уже будут значения столбца medium. И в качестве значений ставим количество покупок orders."
   ]
  },
  {
   "cell_type": "markdown",
   "metadata": {},
   "source": [
    "# Что дает такая структура?\n",
    "Теперь, чтобы найти нужную комбинацию значений source и medium нужно сделать два простых шага:\n",
    "\n",
    "1. Из 2000 значений source определить есть ли среди них нужный нам. Если его не оказалось, то сразу возвращаем 0 покупок.\n",
    "\n",
    "2. Если значение source есть в первичных ключах, то ищем значение medium в списке из вторичных ключей, которые оказались у источника source (кстати их может быть всего несколько). Логика такая же - если ключ найден, то возвращаем значение покупок для первичного ключа source и вторичного medium. Если не найден, то возвращаем 0\n",
    "\n",
    "Итого для поиска среди 4 000 000 строк нам нужно сначала проверить наличие очередного значения в списке ключей из  source, а затем - в списке из medium. Это намного быстрее, чем любой последовательный мониторинг этих 4 миллионов строк.\n",
    "\n",
    "Давайте реализуем этот алгоритм в коде. Сначала преобразуем знакомый нам словарь orders_dict, чтобы из таблицы со столбцами source и medium получать словарь с двумя уровнями ключей."
   ]
  },
  {
   "cell_type": "markdown",
   "metadata": {},
   "source": [
    "# Метод setdefault\n",
    "Для более наглядной записи используем метод setdefault, который позволяет не проводить проверку наличия ключа в словаре. Чтобы прибавить к значению словаря число мы использовали следующую проверку:"
   ]
  },
  {
   "cell_type": "code",
   "execution_count": 3,
   "metadata": {},
   "outputs": [
    {
     "name": "stdout",
     "output_type": "stream",
     "text": [
      "{'google': 1}\n"
     ]
    }
   ],
   "source": [
    "orders_dict = {}\n",
    "\n",
    "if 'google' in orders_dict:\n",
    "\n",
    "    orders_dict['google'] += 1\n",
    "\n",
    "else:\n",
    "\n",
    "    orders_dict['google'] = 1\n",
    "\n",
    "print(orders_dict)"
   ]
  },
  {
   "cell_type": "markdown",
   "metadata": {},
   "source": [
    "Можно переписать этот код с помощью метода setdefault. Этот метод проверяет есть ли в словаре указанный ключ 'google'. Если есть, то оставляет соответствующее значение ключа прежним. Если ключа не оказалось, то подставляет указанное нами значение (в примере это значение 0). Тем самым после применения метода setdefault можно смело использовать прибавление 1 к ключу 'google'. Независимо от того был ли этот ключ в словаре раньше:"
   ]
  },
  {
   "cell_type": "code",
   "execution_count": 4,
   "metadata": {},
   "outputs": [],
   "source": [
    "orders_dict = {}\n",
    "\n",
    "orders_dict.setdefault('google', 0)\n",
    "\n",
    "orders_dict['google'] += 1"
   ]
  },
  {
   "cell_type": "code",
   "execution_count": 5,
   "metadata": {},
   "outputs": [],
   "source": [
    "orders_dict = {}\n",
    "\n",
    "with open('./module10_files/orders_by_source_and_medium.txt', 'r') as f:\n",
    "    for line in f:\n",
    "        line = line.strip().split('\\t')\n",
    "        source = line[0]\n",
    "        medium = line[1]\n",
    "        \n",
    "        orders_count = int(line[2])\n",
    "        orders_dict.setdefault(source, {})\n",
    "        orders_dict[source].setdefault(medium, 0)\n",
    "        orders_dict[source][medium] = orders_count"
   ]
  },
  {
   "cell_type": "code",
   "execution_count": 12,
   "metadata": {},
   "outputs": [
    {
     "ename": "KeyError",
     "evalue": "'google1'",
     "output_type": "error",
     "traceback": [
      "\u001b[1;31m---------------------------------------------------------------------------\u001b[0m",
      "\u001b[1;31mKeyError\u001b[0m                                  Traceback (most recent call last)",
      "\u001b[1;32m<ipython-input-12-f11b1ba66754>\u001b[0m in \u001b[0;36m<module>\u001b[1;34m()\u001b[0m\n\u001b[1;32m----> 1\u001b[1;33m \u001b[0morders_dict\u001b[0m\u001b[1;33m[\u001b[0m\u001b[1;34m'google1'\u001b[0m\u001b[1;33m]\u001b[0m\u001b[1;33m\u001b[0m\u001b[0m\n\u001b[0m",
      "\u001b[1;31mKeyError\u001b[0m: 'google1'"
     ]
    }
   ],
   "source": [
    "orders_dict['google']"
   ]
  },
  {
   "cell_type": "markdown",
   "metadata": {},
   "source": [
    "# Домашнее задание\n",
    "(1 возможный балл)\n",
    "Измените код функции searchForLine из прошлого блока, чтобы по названию источника source и канала medium получать соответствующее количество покупок из файла orders_by_source_and_medium.txt. Соответственно, функция должна \"пройти\" следующие тесты:"
   ]
  },
  {
   "cell_type": "code",
   "execution_count": 19,
   "metadata": {},
   "outputs": [],
   "source": [
    "def searchForLine(source, medium, orders_dict):\n",
    "    \"\"\"\n",
    "    Функция по названию источника source ищет соответствующую строку в файле orders_by_source.txt.\n",
    "    Возвращает количество покупок, соответствующее источнику source. Если источник не найден, то возвращает 0   \n",
    "\n",
    "    Пример\n",
    "\n",
    "    searchForLine('burgerclub')\n",
    "    1197\n",
    "   \n",
    "    searchForLine('source_123')\n",
    "    0\n",
    "    \"\"\"\n",
    "    if source in orders_dict:\n",
    "        if medium in orders_dict[source]:\n",
    "            return int(orders_dict[source][medium])\n",
    "    return 0"
   ]
  },
  {
   "cell_type": "code",
   "execution_count": 20,
   "metadata": {},
   "outputs": [],
   "source": [
    "assert searchForLine('google', 'seo', orders_dict) == 15\n",
    "assert searchForLine('google_123', 'seo', orders_dict) == 0\n",
    "assert searchForLine('google', 'seo_123', orders_dict) == 0"
   ]
  },
  {
   "cell_type": "code",
   "execution_count": 21,
   "metadata": {},
   "outputs": [
    {
     "data": {
      "text/plain": [
       "56"
      ]
     },
     "execution_count": 21,
     "metadata": {},
     "output_type": "execute_result"
    }
   ],
   "source": [
    "searchForLine('google', 'sem', orders_dict)"
   ]
  },
  {
   "cell_type": "code",
   "execution_count": null,
   "metadata": {},
   "outputs": [],
   "source": []
  }
 ],
 "metadata": {
  "kernelspec": {
   "display_name": "Python 3",
   "language": "python",
   "name": "python3"
  },
  "language_info": {
   "codemirror_mode": {
    "name": "ipython",
    "version": 3
   },
   "file_extension": ".py",
   "mimetype": "text/x-python",
   "name": "python",
   "nbconvert_exporter": "python",
   "pygments_lexer": "ipython3",
   "version": "3.6.5"
  }
 },
 "nbformat": 4,
 "nbformat_minor": 2
}
