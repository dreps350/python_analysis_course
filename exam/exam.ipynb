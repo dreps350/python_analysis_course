{
 "cells": [
  {
   "cell_type": "markdown",
   "metadata": {},
   "source": [
    "# Постановка задачи\n",
    "В качестве экзамена вам необходимо решить реальный аналитический кейс, который переложен на данные нашего учебного сайта. \n",
    "\n",
    "Вам необходимо выяснить, **пользователи с какими устройствами приносят наибольший доход**. Под доходом мы подразумеваем ARPU (Average Revenue Per User), то есть отношение выручки к размеру аудитории. Таким образом, результатом решения кейса будет конкретная модель устройства.\n",
    "Какие данные у нас есть\n",
    "1. Выгрузка  с доходом от рекламы сайта в разбивке по моделям устройств \n",
    "Данные по рекламным доходам arpu_revenue_data.csv\n",
    "\n",
    "В этой выгрузке уже просуммирован общий доход (revenue) по каждому устройству за март 2018 года.\n",
    "\n",
    "Каждое устройство идентифицируется с помощью трех колонок: mobilePhone, mobilePhoneModel и deviceCategory.\n",
    "\n",
    "2. Данные Яндекс.Метрики по суточной аудитории сайта в разбивке по устройствам\n",
    "\n",
    "Эти данные вам необходимо получить по API. Номер счетчика учебного сайта для выгрузки данных из Яндекс.Метрики: 21075004\n",
    "\n",
    "Набор измерений и метрик для получения отчета Яндекс.Метрики \n",
    "'ym:s:date', 'ym:s:deviceCategory', 'ym:s:mobilePhone', 'ym:s:mobilePhoneModel', 'ym:s:users'\n",
    "\n",
    "Ваша задача\n",
    "1. Собрать данные о доходах и данные об аудитории в единый отчет\n",
    "\n",
    "2. Посчитать метрику ARPU по каждому устройству \n",
    "\n",
    "ARPU =  revenue/ суммарное количество пользователей\n",
    "\n",
    "3. Найти модель устройства с наибольшим ARPU\n",
    "\n",
    "В качестве ответа онлайн-проверка ожидает получить название модели телефона, которой соответствует максимальное значение ARPU. Т. е. если вы получили, например, максимальное значение ARPU для такого устройства:\n",
    "\n",
    "deviceCategory: Смартфоны\n",
    "\n",
    "mobilePhone: Sony\n",
    "\n",
    "mobilePhoneModel: Xperia Z\n",
    "\n",
    "то в онлайн-проверку надо вставить Xperia Z\n",
    "\n",
    "Несколько важных замечаний\n",
    "- При расчете суточной аудитории необходимо учитывать только те устройства, которыми за март пользовались не менее 3 пользователей (т. е. сумма суточной аудитории составила 3 и более пользователей)\n",
    "- Чтобы получить общую аудиторию за месяц по конкретному устройству, необходимо суммировать количество пользователей за каждый день этому устройству\n",
    "- Поскольку задание максимально приближено к \"боевым\" условиям учитывайте тот факт, что у Метрики есть ограничение по количеству запросов -  и если ваши коллеги его исчерпают, то вы можете не получить выгрузку. В этом случае, попробуйте повторить обращение через некоторое время!\n",
    "\n",
    "Мы создали специальный канал в Slack для ваших вопросов. #exam\n",
    "Мы уверены, что вы успешно справитесь с этой задачей!"
   ]
  },
  {
   "cell_type": "code",
   "execution_count": 1,
   "metadata": {},
   "outputs": [],
   "source": [
    "import os\n",
    "import re\n",
    "import requests\n",
    "\n",
    "import yaml\n",
    "import pandas as pd\n",
    "import numpy as np\n",
    "\n",
    "%matplotlib inline"
   ]
  },
  {
   "cell_type": "markdown",
   "metadata": {},
   "source": [
    "## ARPU dataset"
   ]
  },
  {
   "cell_type": "code",
   "execution_count": 2,
   "metadata": {},
   "outputs": [],
   "source": [
    "path_arpu = './exam_files/arpu_revenue_data.csv'\n",
    "\n",
    "arpu_data = pd.read_csv(path_arpu, '\\t')"
   ]
  },
  {
   "cell_type": "code",
   "execution_count": 3,
   "metadata": {},
   "outputs": [
    {
     "data": {
      "text/html": [
       "<div>\n",
       "<style scoped>\n",
       "    .dataframe tbody tr th:only-of-type {\n",
       "        vertical-align: middle;\n",
       "    }\n",
       "\n",
       "    .dataframe tbody tr th {\n",
       "        vertical-align: top;\n",
       "    }\n",
       "\n",
       "    .dataframe thead th {\n",
       "        text-align: right;\n",
       "    }\n",
       "</style>\n",
       "<table border=\"1\" class=\"dataframe\">\n",
       "  <thead>\n",
       "    <tr style=\"text-align: right;\">\n",
       "      <th></th>\n",
       "      <th>mobilePhone</th>\n",
       "      <th>mobilePhoneModel</th>\n",
       "      <th>deviceCategory</th>\n",
       "      <th>revenue</th>\n",
       "    </tr>\n",
       "  </thead>\n",
       "  <tbody>\n",
       "    <tr>\n",
       "      <th>0</th>\n",
       "      <td>4Good</td>\n",
       "      <td>Light A104</td>\n",
       "      <td>Смартфоны</td>\n",
       "      <td>0,987567486</td>\n",
       "    </tr>\n",
       "    <tr>\n",
       "      <th>1</th>\n",
       "      <td>Acer</td>\n",
       "      <td>B1-750</td>\n",
       "      <td>Планшеты</td>\n",
       "      <td>0,952423812</td>\n",
       "    </tr>\n",
       "    <tr>\n",
       "      <th>2</th>\n",
       "      <td>Acer</td>\n",
       "      <td>E39</td>\n",
       "      <td>Смартфоны</td>\n",
       "      <td>5,240945719</td>\n",
       "    </tr>\n",
       "    <tr>\n",
       "      <th>3</th>\n",
       "      <td>Acer</td>\n",
       "      <td>T02</td>\n",
       "      <td>Смартфоны</td>\n",
       "      <td>2,637776834</td>\n",
       "    </tr>\n",
       "    <tr>\n",
       "      <th>4</th>\n",
       "      <td>Acer</td>\n",
       "      <td>T03</td>\n",
       "      <td>Смартфоны</td>\n",
       "      <td>1,020764495</td>\n",
       "    </tr>\n",
       "  </tbody>\n",
       "</table>\n",
       "</div>"
      ],
      "text/plain": [
       "  mobilePhone mobilePhoneModel deviceCategory      revenue\n",
       "0       4Good       Light A104      Смартфоны  0,987567486\n",
       "1        Acer           B1-750       Планшеты  0,952423812\n",
       "2        Acer              E39      Смартфоны  5,240945719\n",
       "3        Acer              T02      Смартфоны  2,637776834\n",
       "4        Acer              T03      Смартфоны  1,020764495"
      ]
     },
     "execution_count": 3,
     "metadata": {},
     "output_type": "execute_result"
    }
   ],
   "source": [
    "arpu_data.head()"
   ]
  },
  {
   "cell_type": "code",
   "execution_count": 4,
   "metadata": {},
   "outputs": [
    {
     "name": "stdout",
     "output_type": "stream",
     "text": [
      "<class 'pandas.core.frame.DataFrame'>\n",
      "RangeIndex: 738 entries, 0 to 737\n",
      "Data columns (total 4 columns):\n",
      "mobilePhone         738 non-null object\n",
      "mobilePhoneModel    738 non-null object\n",
      "deviceCategory      738 non-null object\n",
      "revenue             738 non-null object\n",
      "dtypes: object(4)\n",
      "memory usage: 23.1+ KB\n"
     ]
    }
   ],
   "source": [
    "arpu_data.info()"
   ]
  },
  {
   "cell_type": "code",
   "execution_count": 5,
   "metadata": {},
   "outputs": [
    {
     "data": {
      "text/plain": [
       "(738, 4)"
      ]
     },
     "execution_count": 5,
     "metadata": {},
     "output_type": "execute_result"
    }
   ],
   "source": [
    "arpu_data.shape"
   ]
  },
  {
   "cell_type": "markdown",
   "metadata": {},
   "source": [
    "Как видно, тип данных столбца revenue - object, приведем к float:"
   ]
  },
  {
   "cell_type": "code",
   "execution_count": 6,
   "metadata": {},
   "outputs": [],
   "source": [
    "arpu_data['revenue'] = arpu_data['revenue'].str.replace(',', '.').astype(float)"
   ]
  },
  {
   "cell_type": "code",
   "execution_count": 7,
   "metadata": {},
   "outputs": [
    {
     "data": {
      "text/plain": [
       "None                7\n",
       "BND-L21             2\n",
       "Tab_2               2\n",
       "Lumia 640           2\n",
       "Galaxy S8           2\n",
       "Lumia 630           2\n",
       "Lumia 530           1\n",
       "X5max_PRO           1\n",
       "CRO-L22             1\n",
       "Ixion X LTE 4.5\"    1\n",
       "Name: mobilePhoneModel, dtype: int64"
      ]
     },
     "execution_count": 7,
     "metadata": {},
     "output_type": "execute_result"
    }
   ],
   "source": [
    "arpu_data['mobilePhoneModel'].value_counts().head(10)"
   ]
  },
  {
   "cell_type": "markdown",
   "metadata": {},
   "source": [
    "В данных есть пропуски и повторы моделей телефонов"
   ]
  },
  {
   "cell_type": "code",
   "execution_count": 8,
   "metadata": {},
   "outputs": [],
   "source": [
    "arpu_data.iloc[:, :-1] = arpu_data.iloc[:, :-1].applymap(lambda x: 'undefined' if ('None' in x) or x==None else x)"
   ]
  },
  {
   "cell_type": "code",
   "execution_count": 9,
   "metadata": {},
   "outputs": [
    {
     "data": {
      "text/plain": [
       "(738, 4)"
      ]
     },
     "execution_count": 9,
     "metadata": {},
     "output_type": "execute_result"
    }
   ],
   "source": [
    "arpu_data.shape"
   ]
  },
  {
   "cell_type": "code",
   "execution_count": 10,
   "metadata": {},
   "outputs": [
    {
     "data": {
      "image/png": "[encoded data removed]",
      "text/plain": [
       "<Figure size 432x288 with 1 Axes>"
      ]
     },
     "metadata": {},
     "output_type": "display_data"
    }
   ],
   "source": [
    "arpu_data.sort_values(by='revenue', ascending=False).head(10).plot(x='mobilePhoneModel', y='revenue', kind='bar');"
   ]
  },
  {
   "cell_type": "markdown",
   "metadata": {},
   "source": [
    "Большая часть выручки в выборке приходится на модели с неопределенным наименованием"
   ]
  },
  {
   "cell_type": "code",
   "execution_count": 11,
   "metadata": {},
   "outputs": [
    {
     "data": {
      "text/plain": [
       "mobilePhone         False\n",
       "mobilePhoneModel    False\n",
       "deviceCategory      False\n",
       "revenue             False\n",
       "dtype: bool"
      ]
     },
     "execution_count": 11,
     "metadata": {},
     "output_type": "execute_result"
    }
   ],
   "source": [
    "arpu_data.isna().any()"
   ]
  },
  {
   "cell_type": "markdown",
   "metadata": {},
   "source": [
    "## Yandex API"
   ]
  },
  {
   "cell_type": "code",
   "execution_count": 12,
   "metadata": {},
   "outputs": [],
   "source": [
    "dimensions = ['ym:s:date', \n",
    "              'ym:s:deviceCategory', \n",
    "              'ym:s:mobilePhone', \n",
    "              'ym:s:mobilePhoneModel']\n",
    "metrics = ['ym:s:users']\n",
    "\n",
    "with open('../module12/module12_files/yandex_config.yaml') as f:\n",
    "    yandex_token = yaml.load(f)['access_token']\n",
    "\n",
    "api_url = 'https://api-metrika.yandex.ru/stat/v1/data'\n",
    "startDate, endDate = '2018-03-01', '2018-03-31'\n",
    "counter = '21075004'\n",
    "\n",
    "params = {\n",
    "    'date1': startDate,\n",
    "    'date2': endDate,\n",
    "    'dimensions': ','.join(dimensions),\n",
    "    'metrics': ','.join(metrics),\n",
    "    'id': counter,\n",
    "    'oauth_token': yandex_token,\n",
    "    'limit': 3000,\n",
    "    'accuracy': 1\n",
    "}"
   ]
  },
  {
   "cell_type": "code",
   "execution_count": 13,
   "metadata": {},
   "outputs": [],
   "source": [
    "def make_request(**kwargs):\n",
    "    return requests.get(api_url, params=kwargs).json()\n",
    "\n",
    "def json_handler(data):\n",
    "    \"\"\"Преобразование ответа из JSON в список\"\"\"\n",
    "    report = []\n",
    "    for line in data['data']:\n",
    "        line_metrics = line['metrics']\n",
    "        line_dimensions = [value['name'] for value in line['dimensions']]\n",
    "        report.append(line_dimensions + line_metrics)\n",
    "        \n",
    "    return report"
   ]
  },
  {
   "cell_type": "code",
   "execution_count": 14,
   "metadata": {},
   "outputs": [],
   "source": [
    "yandex_raw_data = make_request(**params)"
   ]
  },
  {
   "cell_type": "code",
   "execution_count": 15,
   "metadata": {},
   "outputs": [],
   "source": [
    "columns = [i[5:] for i in dimensions + metrics]\n",
    "# columns = dimensions + metrics\n",
    "yandex_data = pd.DataFrame(json_handler(yandex_raw_data), columns=columns)"
   ]
  },
  {
   "cell_type": "code",
   "execution_count": 16,
   "metadata": {},
   "outputs": [
    {
     "data": {
      "image/png": "[encoded data removed]",
      "text/plain": [
       "<Figure size 432x288 with 1 Axes>"
      ]
     },
     "metadata": {},
     "output_type": "display_data"
    }
   ],
   "source": [
    "yandex_data['deviceCategory'].value_counts().plot(kind='bar');"
   ]
  },
  {
   "cell_type": "markdown",
   "metadata": {},
   "source": [
    "## Промежуточная проверка"
   ]
  },
  {
   "cell_type": "markdown",
   "metadata": {},
   "source": [
    "#### Проверка 1\n",
    "(1 балл из 1)\n",
    "После выгрузки отчета из Яндекс.Метрики вы получили статистику суточной аудитории в разбивке по типу, модели и производителям устройств.\n",
    "\n",
    "Чему равна сумма пользователей во всех строчках отчета из Яндекс.Метрики?"
   ]
  },
  {
   "cell_type": "code",
   "execution_count": 17,
   "metadata": {},
   "outputs": [
    {
     "data": {
      "text/plain": [
       "7167.0"
      ]
     },
     "execution_count": 17,
     "metadata": {},
     "output_type": "execute_result"
    }
   ],
   "source": [
    "yandex_data['users'].sum()"
   ]
  },
  {
   "cell_type": "markdown",
   "metadata": {},
   "source": [
    "#### Проверка 2\n",
    "(1 балл из 1)\n",
    "После импорта данных по выручке из файла arpu_revenue_data.csv столбец с выручкой revenue необходимо перевести в тип float.\n",
    "\n",
    "Какова сумма значений этого столбца? Ответ округлите до ближайшего целого числа."
   ]
  },
  {
   "cell_type": "code",
   "execution_count": 18,
   "metadata": {},
   "outputs": [
    {
     "data": {
      "text/plain": [
       "5801.0"
      ]
     },
     "execution_count": 18,
     "metadata": {},
     "output_type": "execute_result"
    }
   ],
   "source": [
    "round(arpu_data['revenue'].sum(), 0)"
   ]
  },
  {
   "cell_type": "markdown",
   "metadata": {},
   "source": [
    "#### Проверка 3\n",
    "(1 балл из 1)\n",
    "Перед тем как совместить выгрузку Яндекс.Метрики и данные по выручке необходимо сделать 2 операции:\n",
    "\n",
    "1. Сгруппировать выгрузку Яндекс.Метрики по 'deviceCategory', 'mobilePhone', 'mobilePhoneModel', чтобы просуммировать значения по дням (т. к. значения по выручке известны только в сумме за март).\n",
    "\n",
    "2. После группировки оставить только те строки получившейся таблицы, в которых оказалось 3 и более пользователей.\n",
    "\n",
    "Сколько строк останется в выгрузке Яндекс.Метрики после этих действий?"
   ]
  },
  {
   "cell_type": "markdown",
   "metadata": {},
   "source": [
    "### >>>>>>>>>Groupby пропускает тип NaN!<<<<<<"
   ]
  },
  {
   "cell_type": "code",
   "execution_count": 19,
   "metadata": {},
   "outputs": [
    {
     "data": {
      "text/plain": [
       "(242, 4)"
      ]
     },
     "execution_count": 19,
     "metadata": {},
     "output_type": "execute_result"
    }
   ],
   "source": [
    "yandex_data.fillna('undefined', inplace=True)\n",
    "\n",
    "categorical = ['deviceCategory', \n",
    "               'mobilePhone', \n",
    "               'mobilePhoneModel']\n",
    "ya_users_sum = (yandex_data.groupby(categorical)['users']\n",
    "                 .sum()\n",
    "                 .reset_index())\n",
    "\n",
    "ya_users_sum = ya_users_sum[ya_users_sum['users'] >= 3]\n",
    "ya_users_sum.shape"
   ]
  },
  {
   "cell_type": "markdown",
   "metadata": {},
   "source": [
    "#### Проверка 4\n",
    "(1 возможный балл)\n",
    "После совмещения выгрузок Яндекс.Метрики и файла с выручкой надо посчитать значение ARPU для каждой строки получившегося датафрейма. Можно использовать метод apply + отдельную функцию. Или использовать метод apply с lambda-функцией. Обратите внимание, что столбец 'revenue' не всегда автоматически распознается как тип float.\n",
    "\n",
    "Какое значение ARPU получится у строки с категорией устройства 'ПК' (модель и тип устройства при этом будут не определены)? Ответ округлите до двух знаков после запятой. Формат ответа: 0.84"
   ]
  },
  {
   "cell_type": "code",
   "execution_count": 20,
   "metadata": {},
   "outputs": [
    {
     "data": {
      "text/html": [
       "<div>\n",
       "<style scoped>\n",
       "    .dataframe tbody tr th:only-of-type {\n",
       "        vertical-align: middle;\n",
       "    }\n",
       "\n",
       "    .dataframe tbody tr th {\n",
       "        vertical-align: top;\n",
       "    }\n",
       "\n",
       "    .dataframe thead th {\n",
       "        text-align: right;\n",
       "    }\n",
       "</style>\n",
       "<table border=\"1\" class=\"dataframe\">\n",
       "  <thead>\n",
       "    <tr style=\"text-align: right;\">\n",
       "      <th></th>\n",
       "      <th>deviceCategory</th>\n",
       "      <th>mobilePhone</th>\n",
       "      <th>mobilePhoneModel</th>\n",
       "      <th>users</th>\n",
       "    </tr>\n",
       "  </thead>\n",
       "  <tbody>\n",
       "    <tr>\n",
       "      <th>0</th>\n",
       "      <td>ПК</td>\n",
       "      <td>undefined</td>\n",
       "      <td>undefined</td>\n",
       "      <td>2715.0</td>\n",
       "    </tr>\n",
       "    <tr>\n",
       "      <th>7</th>\n",
       "      <td>Планшеты</td>\n",
       "      <td>Apple</td>\n",
       "      <td>iPad</td>\n",
       "      <td>96.0</td>\n",
       "    </tr>\n",
       "    <tr>\n",
       "      <th>17</th>\n",
       "      <td>Планшеты</td>\n",
       "      <td>Explay</td>\n",
       "      <td>sQuad 7.82 3G</td>\n",
       "      <td>5.0</td>\n",
       "    </tr>\n",
       "    <tr>\n",
       "      <th>18</th>\n",
       "      <td>Планшеты</td>\n",
       "      <td>Google</td>\n",
       "      <td>Nexus 7</td>\n",
       "      <td>3.0</td>\n",
       "    </tr>\n",
       "    <tr>\n",
       "      <th>19</th>\n",
       "      <td>Планшеты</td>\n",
       "      <td>Huawei</td>\n",
       "      <td>AGS-L09</td>\n",
       "      <td>7.0</td>\n",
       "    </tr>\n",
       "  </tbody>\n",
       "</table>\n",
       "</div>"
      ],
      "text/plain": [
       "   deviceCategory mobilePhone mobilePhoneModel   users\n",
       "0              ПК   undefined        undefined  2715.0\n",
       "7        Планшеты       Apple             iPad    96.0\n",
       "17       Планшеты      Explay    sQuad 7.82 3G     5.0\n",
       "18       Планшеты      Google          Nexus 7     3.0\n",
       "19       Планшеты      Huawei          AGS-L09     7.0"
      ]
     },
     "execution_count": 20,
     "metadata": {},
     "output_type": "execute_result"
    }
   ],
   "source": [
    "ya_users_sum.head()"
   ]
  },
  {
   "cell_type": "code",
   "execution_count": 21,
   "metadata": {},
   "outputs": [
    {
     "data": {
      "text/html": [
       "<div>\n",
       "<style scoped>\n",
       "    .dataframe tbody tr th:only-of-type {\n",
       "        vertical-align: middle;\n",
       "    }\n",
       "\n",
       "    .dataframe tbody tr th {\n",
       "        vertical-align: top;\n",
       "    }\n",
       "\n",
       "    .dataframe thead th {\n",
       "        text-align: right;\n",
       "    }\n",
       "</style>\n",
       "<table border=\"1\" class=\"dataframe\">\n",
       "  <thead>\n",
       "    <tr style=\"text-align: right;\">\n",
       "      <th></th>\n",
       "      <th>mobilePhone</th>\n",
       "      <th>mobilePhoneModel</th>\n",
       "      <th>deviceCategory</th>\n",
       "      <th>revenue</th>\n",
       "    </tr>\n",
       "  </thead>\n",
       "  <tbody>\n",
       "    <tr>\n",
       "      <th>0</th>\n",
       "      <td>4Good</td>\n",
       "      <td>Light A104</td>\n",
       "      <td>Смартфоны</td>\n",
       "      <td>0.987567</td>\n",
       "    </tr>\n",
       "    <tr>\n",
       "      <th>1</th>\n",
       "      <td>Acer</td>\n",
       "      <td>B1-750</td>\n",
       "      <td>Планшеты</td>\n",
       "      <td>0.952424</td>\n",
       "    </tr>\n",
       "    <tr>\n",
       "      <th>2</th>\n",
       "      <td>Acer</td>\n",
       "      <td>E39</td>\n",
       "      <td>Смартфоны</td>\n",
       "      <td>5.240946</td>\n",
       "    </tr>\n",
       "    <tr>\n",
       "      <th>3</th>\n",
       "      <td>Acer</td>\n",
       "      <td>T02</td>\n",
       "      <td>Смартфоны</td>\n",
       "      <td>2.637777</td>\n",
       "    </tr>\n",
       "    <tr>\n",
       "      <th>4</th>\n",
       "      <td>Acer</td>\n",
       "      <td>T03</td>\n",
       "      <td>Смартфоны</td>\n",
       "      <td>1.020764</td>\n",
       "    </tr>\n",
       "  </tbody>\n",
       "</table>\n",
       "</div>"
      ],
      "text/plain": [
       "  mobilePhone mobilePhoneModel deviceCategory   revenue\n",
       "0       4Good       Light A104      Смартфоны  0.987567\n",
       "1        Acer           B1-750       Планшеты  0.952424\n",
       "2        Acer              E39      Смартфоны  5.240946\n",
       "3        Acer              T02      Смартфоны  2.637777\n",
       "4        Acer              T03      Смартфоны  1.020764"
      ]
     },
     "execution_count": 21,
     "metadata": {},
     "output_type": "execute_result"
    }
   ],
   "source": [
    "arpu_data.head()"
   ]
  },
  {
   "cell_type": "code",
   "execution_count": 22,
   "metadata": {},
   "outputs": [
    {
     "data": {
      "text/plain": [
       "((242, 4), (738, 4))"
      ]
     },
     "execution_count": 22,
     "metadata": {},
     "output_type": "execute_result"
    }
   ],
   "source": [
    "ya_users_sum.shape, arpu_data.shape"
   ]
  },
  {
   "cell_type": "code",
   "execution_count": 23,
   "metadata": {},
   "outputs": [],
   "source": [
    "merged_data = arpu_data.merge(ya_users_sum, how='left', on=categorical)\n",
    "merged_data['ARPU'] = merged_data.apply(lambda x: x['revenue'] / x['users'], axis=1)"
   ]
  },
  {
   "cell_type": "code",
   "execution_count": 24,
   "metadata": {},
   "outputs": [
    {
     "data": {
      "text/html": [
       "<div>\n",
       "<style scoped>\n",
       "    .dataframe tbody tr th:only-of-type {\n",
       "        vertical-align: middle;\n",
       "    }\n",
       "\n",
       "    .dataframe tbody tr th {\n",
       "        vertical-align: top;\n",
       "    }\n",
       "\n",
       "    .dataframe thead th {\n",
       "        text-align: right;\n",
       "    }\n",
       "</style>\n",
       "<table border=\"1\" class=\"dataframe\">\n",
       "  <thead>\n",
       "    <tr style=\"text-align: right;\">\n",
       "      <th></th>\n",
       "      <th>mobilePhone</th>\n",
       "      <th>mobilePhoneModel</th>\n",
       "      <th>deviceCategory</th>\n",
       "      <th>revenue</th>\n",
       "      <th>users</th>\n",
       "      <th>ARPU</th>\n",
       "    </tr>\n",
       "  </thead>\n",
       "  <tbody>\n",
       "    <tr>\n",
       "      <th>465</th>\n",
       "      <td>undefined</td>\n",
       "      <td>undefined</td>\n",
       "      <td>ПК</td>\n",
       "      <td>2667.568827</td>\n",
       "      <td>2715.0</td>\n",
       "      <td>0.98253</td>\n",
       "    </tr>\n",
       "  </tbody>\n",
       "</table>\n",
       "</div>"
      ],
      "text/plain": [
       "    mobilePhone mobilePhoneModel deviceCategory      revenue   users     ARPU\n",
       "465   undefined        undefined             ПК  2667.568827  2715.0  0.98253"
      ]
     },
     "execution_count": 24,
     "metadata": {},
     "output_type": "execute_result"
    }
   ],
   "source": [
    "merged_data[merged_data.deviceCategory=='ПК']"
   ]
  },
  {
   "cell_type": "markdown",
   "metadata": {},
   "source": [
    "# Итоговый результат экзамена\n",
    "(1 балл из 1)\n",
    "Наконец, сортируем получившийся датафрейм по убыванию столбца с вычисленным значением ARPU. И проверяем какая модель устройства mobilePhoneModel имеет максимальный ARPU:"
   ]
  },
  {
   "cell_type": "code",
   "execution_count": 33,
   "metadata": {},
   "outputs": [
    {
     "data": {
      "text/plain": [
       "'AGS-L09'"
      ]
     },
     "execution_count": 33,
     "metadata": {},
     "output_type": "execute_result"
    }
   ],
   "source": [
    "merged_data.sort_values(by='ARPU', ascending=False)['mobilePhoneModel'].iloc[0]"
   ]
  },
  {
   "cell_type": "code",
   "execution_count": null,
   "metadata": {},
   "outputs": [],
   "source": []
  }
 ],
 "metadata": {
  "kernelspec": {
   "display_name": "Python 3",
   "language": "python",
   "name": "python3"
  },
  "language_info": {
   "codemirror_mode": {
    "name": "ipython",
    "version": 3
   },
   "file_extension": ".py",
   "mimetype": "text/x-python",
   "name": "python",
   "nbconvert_exporter": "python",
   "pygments_lexer": "ipython3",
   "version": "3.6.5"
  }
 },
 "nbformat": 4,
 "nbformat_minor": 2
}
