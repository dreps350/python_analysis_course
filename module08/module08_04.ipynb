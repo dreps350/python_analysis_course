{
 "cells": [
  {
   "cell_type": "markdown",
   "metadata": {},
   "source": [
    "# ПОСТАНОВКА ЗАДАЧИ\n",
    "После того, как мы освоили работу с отдельными датами, давайте посмотрим, как работать с большим количеством дат. \n",
    "\n",
    "Для этого мы реализуем алгоритм, который по дате начала и конца выгрузки будет \"пробегать\" все значения по дням. Этот метод часто необходим при получении данных от внешних систем, а также обработки больших выгрузок частями. Например, по дням или по часам. Типичный пример - выгрузка сложных отчетов из Google Analytics по дням, чтобы уменьшить сэмплирование данных.\n",
    "\n",
    "В дальнейшем, такой навык нам понадобится для определения покупательской активности по часам и дням или любой другой аналитики в больших файлах."
   ]
  },
  {
   "cell_type": "markdown",
   "metadata": {},
   "source": [
    "# ПОДГОТОВКА ПЕРЕМЕННЫХ\n",
    "Потренируемся на простом примере. Представим, что нам необходимо из огромной таблицы с данными за год выяснить показатели за новогодние праздники с 1 по 7 января и научимся в этом шаге перебирать необходимые даты. \n",
    "\n",
    "Начальную и конечную дату будем задавать в удобном человеку строковом виде:"
   ]
  },
  {
   "cell_type": "code",
   "execution_count": 7,
   "metadata": {},
   "outputs": [],
   "source": [
    "from datetime import datetime, timedelta"
   ]
  },
  {
   "cell_type": "code",
   "execution_count": 1,
   "metadata": {},
   "outputs": [],
   "source": [
    "startDate = '2017-01-01'\n",
    "\n",
    "endDate = '2017-01-07'"
   ]
  },
  {
   "cell_type": "markdown",
   "metadata": {},
   "source": [
    "Поскольку нам надо в цикле работать с датами, то переведем строковые переменные в формат datetime:"
   ]
  },
  {
   "cell_type": "code",
   "execution_count": 3,
   "metadata": {},
   "outputs": [],
   "source": [
    "startDate_datetime = datetime.strptime(startDate, '%Y-%m-%d')\n",
    "endDate_datetime = datetime.strptime(endDate, '%Y-%m-%d')"
   ]
  },
  {
   "cell_type": "code",
   "execution_count": 4,
   "metadata": {},
   "outputs": [
    {
     "name": "stdout",
     "output_type": "stream",
     "text": [
      "2017-01-01 00:00:00 2017-01-07 00:00:00\n"
     ]
    }
   ],
   "source": [
    "print(startDate_datetime, endDate_datetime)"
   ]
  },
  {
   "cell_type": "markdown",
   "metadata": {},
   "source": [
    "# СОЗДАЕМ ЦИКЛ\n",
    "Заведем переменную current_day, которая в цикле будет изменяться от 1 до 7 января и будет иметь тип datetime. В первом шаге цикла эта переменная будет равна 1 января"
   ]
  },
  {
   "cell_type": "code",
   "execution_count": 11,
   "metadata": {},
   "outputs": [
    {
     "name": "stdout",
     "output_type": "stream",
     "text": [
      "2017-01-01\n",
      "2017-01-02\n",
      "2017-01-03\n",
      "2017-01-04\n",
      "2017-01-05\n",
      "2017-01-06\n",
      "2017-01-07\n"
     ]
    }
   ],
   "source": [
    "current_day = startDate_datetime\n",
    "\n",
    "while current_day <= endDate_datetime:\n",
    "    print(current_day.strftime('%Y-%m-%d'))    \n",
    "    current_day += timedelta(days=1)"
   ]
  },
  {
   "cell_type": "markdown",
   "metadata": {},
   "source": [
    "# Упражнение\n",
    "(1 возможный балл)\n",
    "Напишите алгоритм, который \"пробегает\" период 1 до 3 января включительно по часам. Формат вывода '%Y-%m-%d %H:%M:%S'.\n",
    "\n",
    "Какое значение будет последним для 2 января (т. е. 23 часа 2 января)? Результат должен иметь формат %Y-%m-%d %H:%M:%S"
   ]
  },
  {
   "cell_type": "code",
   "execution_count": 22,
   "metadata": {},
   "outputs": [],
   "source": [
    "startDate = datetime.strptime('01 01 2018', '%d %m %Y')\n",
    "endDate = datetime.strptime('03 01 2018', '%d %m %Y')"
   ]
  },
  {
   "cell_type": "code",
   "execution_count": 23,
   "metadata": {},
   "outputs": [
    {
     "name": "stdout",
     "output_type": "stream",
     "text": [
      "2018-01-01 00:00:00\n",
      "2018-01-01 01:00:00\n",
      "2018-01-01 02:00:00\n",
      "2018-01-01 03:00:00\n",
      "2018-01-01 04:00:00\n",
      "2018-01-01 05:00:00\n",
      "2018-01-01 06:00:00\n",
      "2018-01-01 07:00:00\n",
      "2018-01-01 08:00:00\n",
      "2018-01-01 09:00:00\n",
      "2018-01-01 10:00:00\n",
      "2018-01-01 11:00:00\n",
      "2018-01-01 12:00:00\n",
      "2018-01-01 13:00:00\n",
      "2018-01-01 14:00:00\n",
      "2018-01-01 15:00:00\n",
      "2018-01-01 16:00:00\n",
      "2018-01-01 17:00:00\n",
      "2018-01-01 18:00:00\n",
      "2018-01-01 19:00:00\n",
      "2018-01-01 20:00:00\n",
      "2018-01-01 21:00:00\n",
      "2018-01-01 22:00:00\n",
      "2018-01-01 23:00:00\n",
      "2018-01-02 00:00:00\n",
      "2018-01-02 01:00:00\n",
      "2018-01-02 02:00:00\n",
      "2018-01-02 03:00:00\n",
      "2018-01-02 04:00:00\n",
      "2018-01-02 05:00:00\n",
      "2018-01-02 06:00:00\n",
      "2018-01-02 07:00:00\n",
      "2018-01-02 08:00:00\n",
      "2018-01-02 09:00:00\n",
      "2018-01-02 10:00:00\n",
      "2018-01-02 11:00:00\n",
      "2018-01-02 12:00:00\n",
      "2018-01-02 13:00:00\n",
      "2018-01-02 14:00:00\n",
      "2018-01-02 15:00:00\n",
      "2018-01-02 16:00:00\n",
      "2018-01-02 17:00:00\n",
      "2018-01-02 18:00:00\n",
      "2018-01-02 19:00:00\n",
      "2018-01-02 20:00:00\n",
      "2018-01-02 21:00:00\n",
      "2018-01-02 22:00:00\n",
      "2018-01-02 23:00:00\n",
      "2018-01-03 00:00:00\n"
     ]
    }
   ],
   "source": [
    "current_time = startDate\n",
    "while current_time <= endDate:\n",
    "    print(current_time.strftime('%Y-%m-%d %H:%M:%S'))\n",
    "    current_time += timedelta(hours=1)"
   ]
  },
  {
   "cell_type": "markdown",
   "metadata": {},
   "source": [
    "# ФУНКЦИЯ ДЛЯ РАБОТЫ\n",
    "Чтобы каждый раз не повторять алгоритм перебора дат мы подготовили для вас функцию, которая сразу формирует список с датами в заданном диапазоне. Мы можете скопировать ее и использовать в работе. Пример работы функции приведен в ее описании: "
   ]
  },
  {
   "cell_type": "code",
   "execution_count": 18,
   "metadata": {},
   "outputs": [],
   "source": [
    "def date_range(start_date, end_date):\n",
    "    \"\"\"\n",
    "    Возвращает список дат между start_date и end_date с шагом в день.\n",
    "    Если start_date > end_date, то возвращает пустой список. \n",
    "\n",
    "    Пример\n",
    "\n",
    "    date_range('2018-01-01', '2018-01-07')\n",
    "    [\n",
    "        '2018-01-01',\n",
    "        '2018-01-02',\n",
    "        '2018-01-03',\n",
    "        '2018-01-04',\n",
    "        '2018-01-05',\n",
    "        '2018-01-06',\n",
    "        '2018-01-07'\n",
    "    ]\n",
    "\n",
    "    \"\"\"  \n",
    "\n",
    "    date_range_list = []\n",
    "    current_date = start_date  \n",
    "\n",
    "    current_date_dt = datetime.strptime(start_date, '%Y-%m-%d')\n",
    "    end_date_dt = datetime.strptime(end_date, '%Y-%m-%d')\n",
    " \n",
    "    while current_date_dt <= end_date_dt:\n",
    "        date_range_list.append(current_date)       \n",
    "        current_date_dt += timedelta(days=1)\n",
    "        current_date = current_date_dt.strftime('%Y-%m-%d')   \n",
    "\n",
    "    return date_range_list"
   ]
  },
  {
   "cell_type": "code",
   "execution_count": null,
   "metadata": {},
   "outputs": [],
   "source": [
    "date_range(startDate, end)"
   ]
  }
 ],
 "metadata": {
  "kernelspec": {
   "display_name": "Python 3",
   "language": "python",
   "name": "python3"
  },
  "language_info": {
   "codemirror_mode": {
    "name": "ipython",
    "version": 3
   },
   "file_extension": ".py",
   "mimetype": "text/x-python",
   "name": "python",
   "nbconvert_exporter": "python",
   "pygments_lexer": "ipython3",
   "version": "3.6.5"
  }
 },
 "nbformat": 4,
 "nbformat_minor": 2
}
