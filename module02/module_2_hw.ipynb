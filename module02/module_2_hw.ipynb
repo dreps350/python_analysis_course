{
 "cells": [
  {
   "cell_type": "code",
   "execution_count": 8,
   "metadata": {},
   "outputs": [],
   "source": [
    "import pandas as pd"
   ]
  },
  {
   "cell_type": "code",
   "execution_count": 10,
   "metadata": {},
   "outputs": [],
   "source": [
    "df = pd.read_excel('./module_2_files/data.xlsx')"
   ]
  },
  {
   "cell_type": "code",
   "execution_count": 24,
   "metadata": {},
   "outputs": [
    {
     "data": {
      "text/html": [
       "<div>\n",
       "<style scoped>\n",
       "    .dataframe tbody tr th:only-of-type {\n",
       "        vertical-align: middle;\n",
       "    }\n",
       "\n",
       "    .dataframe tbody tr th {\n",
       "        vertical-align: top;\n",
       "    }\n",
       "\n",
       "    .dataframe thead th {\n",
       "        text-align: right;\n",
       "    }\n",
       "</style>\n",
       "<table border=\"1\" class=\"dataframe\">\n",
       "  <thead>\n",
       "    <tr style=\"text-align: right;\">\n",
       "      <th></th>\n",
       "      <th>id</th>\n",
       "      <th>date</th>\n",
       "      <th>user_id</th>\n",
       "      <th>duration</th>\n",
       "      <th>medium</th>\n",
       "      <th>source</th>\n",
       "      <th>cost</th>\n",
       "      <th>order_id</th>\n",
       "      <th>amount_paid</th>\n",
       "    </tr>\n",
       "  </thead>\n",
       "  <tbody>\n",
       "    <tr>\n",
       "      <th>0</th>\n",
       "      <td>40443</td>\n",
       "      <td>2016-10-05 23:18:00</td>\n",
       "      <td>1010</td>\n",
       "      <td>0.000926</td>\n",
       "      <td>seo</td>\n",
       "      <td>google</td>\n",
       "      <td>0.00</td>\n",
       "      <td>6243</td>\n",
       "      <td>20.2</td>\n",
       "    </tr>\n",
       "    <tr>\n",
       "      <th>1</th>\n",
       "      <td>35044</td>\n",
       "      <td>2016-10-09 21:40:00</td>\n",
       "      <td>1036</td>\n",
       "      <td>0.006493</td>\n",
       "      <td>sem</td>\n",
       "      <td>yandex</td>\n",
       "      <td>0.07</td>\n",
       "      <td>6145</td>\n",
       "      <td>15.6</td>\n",
       "    </tr>\n",
       "    <tr>\n",
       "      <th>2</th>\n",
       "      <td>40177</td>\n",
       "      <td>2016-10-05 03:23:00</td>\n",
       "      <td>1041</td>\n",
       "      <td>0.003380</td>\n",
       "      <td>email</td>\n",
       "      <td>promo</td>\n",
       "      <td>0.00</td>\n",
       "      <td>6128</td>\n",
       "      <td>13.2</td>\n",
       "    </tr>\n",
       "    <tr>\n",
       "      <th>3</th>\n",
       "      <td>39401</td>\n",
       "      <td>2016-10-05 23:19:00</td>\n",
       "      <td>1041</td>\n",
       "      <td>0.000463</td>\n",
       "      <td>sem</td>\n",
       "      <td>yandex</td>\n",
       "      <td>0.03</td>\n",
       "      <td>6697</td>\n",
       "      <td>9.8</td>\n",
       "    </tr>\n",
       "    <tr>\n",
       "      <th>4</th>\n",
       "      <td>41545</td>\n",
       "      <td>2016-10-01 04:57:00</td>\n",
       "      <td>1042</td>\n",
       "      <td>0.006493</td>\n",
       "      <td>sem</td>\n",
       "      <td>google</td>\n",
       "      <td>0.06</td>\n",
       "      <td>4510</td>\n",
       "      <td>14.8</td>\n",
       "    </tr>\n",
       "  </tbody>\n",
       "</table>\n",
       "</div>"
      ],
      "text/plain": [
       "      id                date  user_id  duration medium  source  cost  \\\n",
       "0  40443 2016-10-05 23:18:00     1010  0.000926    seo  google  0.00   \n",
       "1  35044 2016-10-09 21:40:00     1036  0.006493    sem  yandex  0.07   \n",
       "2  40177 2016-10-05 03:23:00     1041  0.003380  email   promo  0.00   \n",
       "3  39401 2016-10-05 23:19:00     1041  0.000463    sem  yandex  0.03   \n",
       "4  41545 2016-10-01 04:57:00     1042  0.006493    sem  google  0.06   \n",
       "\n",
       "   order_id  amount_paid  \n",
       "0      6243         20.2  \n",
       "1      6145         15.6  \n",
       "2      6128         13.2  \n",
       "3      6697          9.8  \n",
       "4      4510         14.8  "
      ]
     },
     "execution_count": 24,
     "metadata": {},
     "output_type": "execute_result"
    }
   ],
   "source": [
    "df.head()"
   ]
  },
  {
   "cell_type": "markdown",
   "metadata": {},
   "source": [
    "# ДОМАШНЕЕ ЗАДАНИЕ\n",
    "Файл data_no_header.txt\n",
    "\n",
    "**ROI = отношение прибыли (amount_paid - cost) к расходам cost**\n",
    "\n",
    "Вам необходимо посчитать ROI в разрезе типов источников трафика. Т. е. получить значения ROI не по источника трафика как в прошлом блоке, а по типам. Типы определяются следующим образом:\n",
    "\n",
    "    - если source равен 'google' или 'yandex', то проверяем medium:\n",
    "        - для medium 'seo' или 'sem' тип источника равен 'search engines seo'\n",
    "        - для medium 'brand' - тип источника равен 'search engines brand'\n",
    "        - для остальных случаев тип источника равен 'search engines undefined'\n",
    "    - если условие не выполнено, то тип источника равен 'other'\n",
    "\n",
    "Пожалуйста, учитывайте, что все условия на партнерские комиссии сохраняются на домашнее задание."
   ]
  },
  {
   "cell_type": "code",
   "execution_count": 1,
   "metadata": {},
   "outputs": [],
   "source": [
    "cpa_commission = {\n",
    "    'burgerclub': 0.3,\n",
    "    'food-delivery': 0.25\n",
    "}\n",
    "\n",
    "cpc_commission = {\n",
    "    'city-magazine': 7,\n",
    "    'foody': 9\n",
    "}\n",
    "\n",
    "fixed_commission = 4"
   ]
  },
  {
   "cell_type": "code",
   "execution_count": 25,
   "metadata": {},
   "outputs": [],
   "source": [
    "def source_type_clf2(line):\n",
    "    \"\"\"\n",
    "    Пример строки на входе функции:\n",
    "    ['40443', '05.10.2016 23:18', '1010', '0,000925926', 'seo', 'google', '0', '6243', '20,20']\n",
    "    Функция классифицирует источник трафика в зависимости от значения source и medium.\n",
    "    Возвращает название типа источника по правилам:\n",
    "        - если source равен 'google' или 'yandex', то проверяем medium:\n",
    "            - для medium 'seo' или 'sem' возвращаем 'search engines seo'\n",
    "            - для medium 'brand' - возвращаем 'search engines brand'\n",
    "            - для остальных случаев возвращаем 'search engines undefined'\n",
    "        - если условие не выполнено, то возвращаем 'other'\n",
    "    \"\"\"\n",
    "    source = line[5]\n",
    "    medium = line[4]\n",
    "\n",
    "    if source == 'google' or source == 'yandex':\n",
    "        if medium == 'seo' or medium == 'sem':\n",
    "            return 'search engines seo'\n",
    "        elif medium == 'brand':\n",
    "            return 'search engines brand'\n",
    "        else:\n",
    "            # если вдруг встретится другой вариант, то ставим \"undefined\"\n",
    "            return 'search engines undefined'\n",
    "    else:\n",
    "        return 'other'"
   ]
  },
  {
   "cell_type": "code",
   "execution_count": 28,
   "metadata": {},
   "outputs": [],
   "source": [
    "def costs_classification( amount_paid, source ):\n",
    "    \"\"\"\n",
    "    Функция по названию канала source возвращает размер комиссии.\n",
    "    Размеры комиссий берутся из словарей cpa_commission, cpc_commission и значения fixed_commission\n",
    "    \"\"\"\n",
    "    # если источник source входит в словарь cpa_commission, то возвращаем долю от выручки\n",
    "    if source in cpa_commission:\n",
    "        return amount_paid * cpa_commission[ source ]\n",
    "    # в случае партнеров CPC стоимость расходов постоянная\n",
    "    if source in cpc_commission:\n",
    "        return cpc_commission[ source ]\n",
    "    # если ни один случай не подходит, то возвращаем фиксированную стоимость fixed_commission\n",
    "    return fixed_commission"
   ]
  },
  {
   "cell_type": "code",
   "execution_count": 40,
   "metadata": {},
   "outputs": [],
   "source": [
    "def expense_and_income( line ):\n",
    "    \"\"\"\n",
    "    Функция для строки line возвращает итоговый расход и доход\n",
    "    \"\"\"\n",
    "    source = line[5]\n",
    "    source_type = source_type_clf2(line)\n",
    "    amount_paid = float( line[-1].replace( ',', '.' ) )\n",
    "    cost = float( line[6].replace( ',', '.' ) )\n",
    "    partner_comission = costs_classification( amount_paid, source )\n",
    "    return source_type, cost + partner_comission, amount_paid"
   ]
  },
  {
   "cell_type": "code",
   "execution_count": 43,
   "metadata": {},
   "outputs": [],
   "source": [
    "roi_stats = {}\n",
    "\n",
    "with open('./module_2_files/data_no_header.txt', 'r') as f:\n",
    "    for line in f:\n",
    "        line = line.strip().split('\\t')\n",
    "#         print(expense_and_income(line))\n",
    "        source_type, cost, income = expense_and_income(line)\n",
    "        if source_type in roi_stats:\n",
    "            roi_stats[source_type]['cost'] += cost\n",
    "            roi_stats[source_type]['income'] += income\n",
    "        else:\n",
    "            roi_stats[source_type] = {}\n",
    "            roi_stats[source_type]['cost'] = cost\n",
    "            roi_stats[source_type]['income'] = income"
   ]
  },
  {
   "cell_type": "code",
   "execution_count": 44,
   "metadata": {},
   "outputs": [
    {
     "data": {
      "text/plain": [
       "{'search engines seo': {'cost': 686.2699999999992, 'income': 2902.4},\n",
       " 'other': {'cost': 541.1059999999999, 'income': 1992.7999999999997},\n",
       " 'search engines brand': {'cost': 52.0, 'income': 234.60000000000005}}"
      ]
     },
     "execution_count": 44,
     "metadata": {},
     "output_type": "execute_result"
    }
   ],
   "source": [
    "roi_stats"
   ]
  },
  {
   "cell_type": "code",
   "execution_count": 47,
   "metadata": {},
   "outputs": [
    {
     "name": "stdout",
     "output_type": "stream",
     "text": [
      "Source search engines seo ROI 3.23\n",
      "Source other ROI 2.68\n",
      "Source search engines brand ROI 3.51\n"
     ]
    }
   ],
   "source": [
    "for source, data in roi_stats.items():\n",
    "    data['roi'] = (data['income'] - data['cost']) / data['cost']\n",
    "    print('Source {} ROI {:.2f}'.format(source, data['roi']))"
   ]
  },
  {
   "cell_type": "code",
   "execution_count": null,
   "metadata": {},
   "outputs": [],
   "source": []
  }
 ],
 "metadata": {
  "kernelspec": {
   "display_name": "Python 3",
   "language": "python",
   "name": "python3"
  },
  "language_info": {
   "codemirror_mode": {
    "name": "ipython",
    "version": 3
   },
   "file_extension": ".py",
   "mimetype": "text/x-python",
   "name": "python",
   "nbconvert_exporter": "python",
   "pygments_lexer": "ipython3",
   "version": "3.6.5"
  }
 },
 "nbformat": 4,
 "nbformat_minor": 2
}
